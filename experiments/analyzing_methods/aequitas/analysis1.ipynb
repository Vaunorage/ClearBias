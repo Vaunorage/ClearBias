{
 "cells": [
  {
   "cell_type": "code",
   "execution_count": null,
   "id": "initial_id",
   "metadata": {
    "collapsed": true
   },
   "outputs": [],
   "source": [
    ""
   ]
  },
  {
   "metadata": {},
   "cell_type": "markdown",
   "source": [
    "### How Aequitas works ?\n",
    "\n",
    "Phase 1 Global Search:\n",
    " \n",
    "The algorithm starts by randomly sampling inputs from the input space to identify initial discriminatory inputs. A discriminatory input is one where changing only a sensitive attribute (like gender) causes the model to produce significantly different outputs.\n",
    "\n",
    "Phase 2 Local Search: \n",
    "\n",
    "Once discriminatory inputs are found, AEQUITAS uses three different strategies to search the neighborhood of these inputs to find more discriminatory examples:\n",
    "Random: Randomly perturbs non-sensitive attributes of known discriminatory inputs\n",
    "Semi-directed: Uses probability-based guidance to choose which direction to perturb values\n",
    "Fully-directed: Builds on semi-directed by also updating probabilities for which parameters to perturb\n",
    "\n",
    "Fairness Estimation: AEQUITAS can estimate the percentage of discriminatory inputs in the entire input space using statistical sampling"
   ],
   "id": "4f78381e2033af65"
  },
  {
   "metadata": {},
   "cell_type": "markdown",
   "source": [
    "### Known problems with Aequitas :\n",
    "\n",
    "1. AEQUITAS uses a global probability distribution to guide its local search, which is less effective than ADF's instance-specific approach. The same probability distribution is used for all instances, while ADF tailors its approach to each specific instance using gradients.\n",
    "\n",
    "2. AEQUITAS often generates duplicate instances during testing, which reduces its effectiveness in exploring the input space. As noted in the paper, \"One of the reasons why AEQUITAS explores a much smaller space is that it often generates duplicate instances.\"\n",
    "\n",
    "3. The success of the approach depends heavily on proper tuning of parameters like Δv and Δpr. Poor parameter selection can lead to either missing discriminatory regions or getting stuck exploring non-productive areas.\n",
    "\n",
    "4. limited diversity in datasets\n",
    "\n"
   ],
   "id": "280f40480d8d4e62"
  },
  {
   "metadata": {},
   "cell_type": "markdown",
   "source": "",
   "id": "b287a7684268e880"
  },
  {
   "metadata": {},
   "cell_type": "code",
   "outputs": [],
   "execution_count": null,
   "source": "",
   "id": "69329e39e75aaa77"
  }
 ],
 "metadata": {
  "kernelspec": {
   "display_name": "Python 3",
   "language": "python",
   "name": "python3"
  },
  "language_info": {
   "codemirror_mode": {
    "name": "ipython",
    "version": 2
   },
   "file_extension": ".py",
   "mimetype": "text/x-python",
   "name": "python",
   "nbconvert_exporter": "python",
   "pygments_lexer": "ipython2",
   "version": "2.7.6"
  }
 },
 "nbformat": 4,
 "nbformat_minor": 5
}
