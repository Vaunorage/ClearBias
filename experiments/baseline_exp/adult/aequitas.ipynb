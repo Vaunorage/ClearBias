{
 "cells": [
  {
   "cell_type": "code",
   "execution_count": null,
   "id": "initial_id",
   "metadata": {
    "collapsed": true
   },
   "outputs": [],
   "source": [
    "from matplotlib import pyplot as plt\n",
    "\n",
    "from data_generator.main import get_real_data, generate_from_real_data\n",
    "from data_generator.utils import plot_distribution_comparison\n",
    "from methods.adf.main1 import adf_fairness_testing\n",
    "from methods.utils import reformat_discrimination_results, convert_to_non_float_rows, compare_discriminatory_groups"
   ]
  },
  {
   "metadata": {},
   "cell_type": "code",
   "outputs": [],
   "execution_count": null,
   "source": [
    "data_obj, schema = get_real_data('adult')\n",
    "\n",
    "results_df_origin, metrics_origin = adf_fairness_testing(data_obj, max_global=5000, max_local=2000, max_iter=10,\n",
    "                                                         cluster_num=50, random_seed=42)"
   ],
   "id": "f99c3a9af6ff2bb5"
  }
 ],
 "metadata": {
  "kernelspec": {
   "display_name": "Python 3",
   "language": "python",
   "name": "python3"
  },
  "language_info": {
   "codemirror_mode": {
    "name": "ipython",
    "version": 2
   },
   "file_extension": ".py",
   "mimetype": "text/x-python",
   "name": "python",
   "nbconvert_exporter": "python",
   "pygments_lexer": "ipython2",
   "version": "2.7.6"
  }
 },
 "nbformat": 4,
 "nbformat_minor": 5
}
