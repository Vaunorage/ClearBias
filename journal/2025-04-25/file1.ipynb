{
 "cells": [
  {
   "metadata": {},
   "cell_type": "markdown",
   "source": [
    "I need to demonstrate the limitations of the algorithms on synthetic data : \n",
    "\n",
    "1 - present the algorithms performance on real datasets\n",
    "\n",
    "2 - present the algorithms analysed\n",
    "\n",
    "3 - present the limitations of these analysis from the point of view of the data and the algorithms\n",
    "\n",
    "4 - present what should be done\n",
    "\n",
    "5 - present the synthetic data\n",
    "\n",
    "6 - present that the synthetic data and the algorithms work\n",
    "\n",
    "7 - present that the tests that are conducted\n",
    "\n",
    "8 - present the results of the tests \n",
    "\n",
    "9 - conclusion"
   ],
   "id": "60ff50e509d3ca07"
  },
  {
   "cell_type": "code",
   "id": "initial_id",
   "metadata": {
    "collapsed": true,
    "ExecuteTime": {
     "end_time": "2025-04-05T22:23:18.104188Z",
     "start_time": "2025-04-05T22:23:18.087098Z"
    }
   },
   "source": [
    "import pandas as pd\n",
    "import sqlite3\n",
    "from path import HERE\n",
    "conn = sqlite3.connect(HERE.joinpath('experiments/baseline_exp/exp.db'))\n",
    "quer = \"\"\"\n",
    "SELECT\n",
    "    method, AVG(coverage_ratio) avg_coverage_ratio\n",
    "FROM experiment_results\n",
    "GROUP BY method\n",
    "\"\"\"\n",
    "df = pd.read_sql_query(quer, conn)\n",
    "df"
   ],
   "outputs": [
    {
     "data": {
      "text/plain": [
       "     method  avg_coverage_ratio\n",
       "0       adf            0.986320\n",
       "1  aequitas            0.990619\n",
       "2     expga            0.884019\n",
       "3        sg            0.636253"
      ],
      "text/html": [
       "<div>\n",
       "<style scoped>\n",
       "    .dataframe tbody tr th:only-of-type {\n",
       "        vertical-align: middle;\n",
       "    }\n",
       "\n",
       "    .dataframe tbody tr th {\n",
       "        vertical-align: top;\n",
       "    }\n",
       "\n",
       "    .dataframe thead th {\n",
       "        text-align: right;\n",
       "    }\n",
       "</style>\n",
       "<table border=\"1\" class=\"dataframe\">\n",
       "  <thead>\n",
       "    <tr style=\"text-align: right;\">\n",
       "      <th></th>\n",
       "      <th>method</th>\n",
       "      <th>avg_coverage_ratio</th>\n",
       "    </tr>\n",
       "  </thead>\n",
       "  <tbody>\n",
       "    <tr>\n",
       "      <th>0</th>\n",
       "      <td>adf</td>\n",
       "      <td>0.986320</td>\n",
       "    </tr>\n",
       "    <tr>\n",
       "      <th>1</th>\n",
       "      <td>aequitas</td>\n",
       "      <td>0.990619</td>\n",
       "    </tr>\n",
       "    <tr>\n",
       "      <th>2</th>\n",
       "      <td>expga</td>\n",
       "      <td>0.884019</td>\n",
       "    </tr>\n",
       "    <tr>\n",
       "      <th>3</th>\n",
       "      <td>sg</td>\n",
       "      <td>0.636253</td>\n",
       "    </tr>\n",
       "  </tbody>\n",
       "</table>\n",
       "</div>"
      ]
     },
     "execution_count": 2,
     "metadata": {},
     "output_type": "execute_result"
    }
   ],
   "execution_count": 2
  },
  {
   "metadata": {},
   "cell_type": "code",
   "outputs": [],
   "execution_count": null,
   "source": "",
   "id": "c4e60c342499793a"
  }
 ],
 "metadata": {
  "kernelspec": {
   "display_name": "Python 3",
   "language": "python",
   "name": "python3"
  },
  "language_info": {
   "codemirror_mode": {
    "name": "ipython",
    "version": 2
   },
   "file_extension": ".py",
   "mimetype": "text/x-python",
   "name": "python",
   "nbconvert_exporter": "python",
   "pygments_lexer": "ipython2",
   "version": "2.7.6"
  }
 },
 "nbformat": 4,
 "nbformat_minor": 5
}
