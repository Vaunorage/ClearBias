version https://git-lfs.github.com/spec/v1
oid sha256:6eabadeb1c88fb54ea40aa6d10e6ff28170235d506bdfa7879b959662f4186ad
size 14525
