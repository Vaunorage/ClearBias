{
 "cells": [
  {
   "metadata": {},
   "cell_type": "code",
   "outputs": [],
   "execution_count": null,
   "source": [
    "from methods.aequitas.algo import run_aequitas\n",
    "from matplotlib import pyplot as plt\n",
    "\n",
    "from data_generator.main import get_real_data, generate_from_real_data\n",
    "from data_generator.utils import plot_distribution_comparison\n",
    "from methods.utils import reformat_discrimination_results, convert_to_non_float_rows, compare_discriminatory_groups"
   ],
   "id": "ebfe3a1d04ccf5a5"
  },
  {
   "metadata": {},
   "cell_type": "code",
   "outputs": [],
   "execution_count": null,
   "source": [
    "# %%\n",
    "data_obj, schema = get_real_data('adult')\n",
    "\n",
    "results_df_origin, metrics = run_aequitas(discrimination_data=data_obj,\n",
    "                                          model_type='rf', max_global=100,\n",
    "                                          max_local=1000, step_size=1.0, random_seed=42,\n",
    "                                          max_total_iterations=1000)"
   ],
   "id": "65e3e5ba0e2dbc63"
  },
  {
   "metadata": {},
   "cell_type": "code",
   "outputs": [],
   "execution_count": null,
   "source": [
    "# %%\n",
    "non_float_df = convert_to_non_float_rows(results_df_origin, schema)\n",
    "predefined_groups_origin = reformat_discrimination_results(non_float_df, data_obj.dataframe)\n",
    "nb_elements = sum([el.group_size for el in predefined_groups_origin])"
   ],
   "id": "a4fc51c46cbf3ff9"
  },
  {
   "metadata": {},
   "cell_type": "code",
   "outputs": [],
   "execution_count": null,
   "source": [
    "# %%\n",
    "data_obj_synth, schema = generate_from_real_data('adult',\n",
    "                                                 predefined_groups=predefined_groups_origin,\n",
    "                                                 extra_rows=1000)\n"
   ],
   "id": "4b3a3eb6a7e46d28"
  },
  {
   "metadata": {},
   "cell_type": "code",
   "outputs": [],
   "execution_count": null,
   "source": [
    "# %%\n",
    "fig = plot_distribution_comparison(schema, data_obj_synth)\n",
    "plt.show()"
   ],
   "id": "a6daa530b9a59589"
  },
  {
   "metadata": {},
   "cell_type": "code",
   "outputs": [],
   "execution_count": null,
   "source": [
    "\n",
    "# %% Run fairness testing\n",
    "results_df_synth, metrics_synth = run_aequitas(discrimination_data=data_obj_synth,\n",
    "                                               model_type='rf', max_global=100,\n",
    "                                               max_local=1000, step_size=1.0, random_seed=42,\n",
    "                                               max_total_iterations=1000)\n"
   ],
   "id": "e1a6a42def726f75"
  },
  {
   "metadata": {},
   "cell_type": "code",
   "outputs": [],
   "execution_count": null,
   "source": [
    "# %%\n",
    "predefined_groups_synth = reformat_discrimination_results(convert_to_non_float_rows(results_df_synth, schema),\n",
    "                                                          data_obj.dataframe)"
   ],
   "id": "93bebe7c12f8d029"
  },
  {
   "metadata": {},
   "cell_type": "code",
   "outputs": [],
   "execution_count": null,
   "source": [
    "# %%\n",
    "comparison_results = compare_discriminatory_groups(predefined_groups_origin, predefined_groups_synth)\n",
    "\n",
    "# %%"
   ],
   "id": "89cf832a6357730a"
  }
 ],
 "metadata": {
  "kernelspec": {
   "display_name": "Python 3",
   "language": "python",
   "name": "python3"
  },
  "language_info": {
   "codemirror_mode": {
    "name": "ipython",
    "version": 2
   },
   "file_extension": ".py",
   "mimetype": "text/x-python",
   "name": "python",
   "nbconvert_exporter": "python",
   "pygments_lexer": "ipython2",
   "version": "2.7.6"
  }
 },
 "nbformat": 4,
 "nbformat_minor": 5
}
