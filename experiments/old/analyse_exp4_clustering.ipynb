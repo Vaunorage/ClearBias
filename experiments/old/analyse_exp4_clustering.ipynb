{
 "cells": [
  {
   "metadata": {
    "ExecuteTime": {
     "end_time": "2024-11-21T02:20:24.896156Z",
     "start_time": "2024-11-21T02:20:17.880451Z"
    }
   },
   "cell_type": "code",
   "source": [
    "from sqlalchemy import create_engine\n",
    "import pandas as pd\n",
    "\n",
    "from data_generator.main import DiscriminationData\n",
    "from path import HERE\n",
    "\n",
    "DB_PATH = HERE.joinpath('experiments/discrimination_detection_results5.db')\n",
    "conn = create_engine(f'sqlite:///{DB_PATH}')"
   ],
   "id": "a11898d6d8e84ca7",
   "outputs": [],
   "execution_count": 1
  },
  {
   "metadata": {
    "ExecuteTime": {
     "end_time": "2024-11-21T02:20:25.019794Z",
     "start_time": "2024-11-21T02:20:24.921947Z"
    }
   },
   "cell_type": "code",
   "source": [
    "import json\n",
    "\n",
    "random_experiment_id = 'bff3c337-f2f1-4e05-bcdd-75bb09a874a4'\n",
    "df_synth = pd.read_sql_query(\n",
    "    f\"SELECT experiment_id, full_data FROM synthetic_data where experiment_id='{random_experiment_id}'\", conn)\n",
    "df_synth = pd.DataFrame(json.loads(df_synth['full_data'].iloc[0]))\n",
    "df_synth['experiment_id'] = random_experiment_id\n",
    "df_synth.head()"
   ],
   "id": "2ccc311c6c1bce89",
   "outputs": [
    {
     "data": {
      "text/plain": [
       "     Attr1_X  Attr2_X  Attr3_X  Attr4_X  Attr5_X  Attr1_T  Attr2_T  Attr3_T  \\\n",
       "106        0        0        0        0        0        0        0        0   \n",
       "107        0        0        0        0        0        0        0        0   \n",
       "108        0        0        0        0        0        0        0        0   \n",
       "109        0        0        0        0        0        0        0        0   \n",
       "110        0        0        0        0        0        0        0        0   \n",
       "\n",
       "     Attr4_T  Attr5_T  ...  actual_mean_diff_outcome  relevance  \\\n",
       "106        1        0  ...                       0.5   0.567423   \n",
       "107        1        0  ...                       0.5   0.567423   \n",
       "108        1        0  ...                       0.5   0.567423   \n",
       "109        1        0  ...                       0.5   0.567423   \n",
       "110        1        0  ...                       0.5   0.567423   \n",
       "\n",
       "     calculated_magnitude calculated_group_size calculated_granularity  \\\n",
       "106                   0.5              0.049351                    0.2   \n",
       "107                   0.5              0.049351                    0.2   \n",
       "108                   0.5              0.049351                    0.2   \n",
       "109                   0.5              0.049351                    0.2   \n",
       "110                   0.5              0.049351                    0.2   \n",
       "\n",
       "    calculated_intersectionality  calculated_uncertainty  \\\n",
       "106                          0.2                0.002579   \n",
       "107                          0.2                0.002579   \n",
       "108                          0.2                0.002579   \n",
       "109                          0.2                0.002579   \n",
       "110                          0.2                0.002579   \n",
       "\n",
       "     calculated_similarity  calculated_subgroup_ratio  \\\n",
       "106                    0.0                        2.8   \n",
       "107                    0.0                        2.8   \n",
       "108                    0.0                        2.8   \n",
       "109                    0.0                        2.8   \n",
       "110                    0.0                        2.8   \n",
       "\n",
       "                            experiment_id  \n",
       "106  bff3c337-f2f1-4e05-bcdd-75bb09a874a4  \n",
       "107  bff3c337-f2f1-4e05-bcdd-75bb09a874a4  \n",
       "108  bff3c337-f2f1-4e05-bcdd-75bb09a874a4  \n",
       "109  bff3c337-f2f1-4e05-bcdd-75bb09a874a4  \n",
       "110  bff3c337-f2f1-4e05-bcdd-75bb09a874a4  \n",
       "\n",
       "[5 rows x 40 columns]"
      ],
      "text/html": [
       "<div>\n",
       "<style scoped>\n",
       "    .dataframe tbody tr th:only-of-type {\n",
       "        vertical-align: middle;\n",
       "    }\n",
       "\n",
       "    .dataframe tbody tr th {\n",
       "        vertical-align: top;\n",
       "    }\n",
       "\n",
       "    .dataframe thead th {\n",
       "        text-align: right;\n",
       "    }\n",
       "</style>\n",
       "<table border=\"1\" class=\"dataframe\">\n",
       "  <thead>\n",
       "    <tr style=\"text-align: right;\">\n",
       "      <th></th>\n",
       "      <th>Attr1_X</th>\n",
       "      <th>Attr2_X</th>\n",
       "      <th>Attr3_X</th>\n",
       "      <th>Attr4_X</th>\n",
       "      <th>Attr5_X</th>\n",
       "      <th>Attr1_T</th>\n",
       "      <th>Attr2_T</th>\n",
       "      <th>Attr3_T</th>\n",
       "      <th>Attr4_T</th>\n",
       "      <th>Attr5_T</th>\n",
       "      <th>...</th>\n",
       "      <th>actual_mean_diff_outcome</th>\n",
       "      <th>relevance</th>\n",
       "      <th>calculated_magnitude</th>\n",
       "      <th>calculated_group_size</th>\n",
       "      <th>calculated_granularity</th>\n",
       "      <th>calculated_intersectionality</th>\n",
       "      <th>calculated_uncertainty</th>\n",
       "      <th>calculated_similarity</th>\n",
       "      <th>calculated_subgroup_ratio</th>\n",
       "      <th>experiment_id</th>\n",
       "    </tr>\n",
       "  </thead>\n",
       "  <tbody>\n",
       "    <tr>\n",
       "      <th>106</th>\n",
       "      <td>0</td>\n",
       "      <td>0</td>\n",
       "      <td>0</td>\n",
       "      <td>0</td>\n",
       "      <td>0</td>\n",
       "      <td>0</td>\n",
       "      <td>0</td>\n",
       "      <td>0</td>\n",
       "      <td>1</td>\n",
       "      <td>0</td>\n",
       "      <td>...</td>\n",
       "      <td>0.5</td>\n",
       "      <td>0.567423</td>\n",
       "      <td>0.5</td>\n",
       "      <td>0.049351</td>\n",
       "      <td>0.2</td>\n",
       "      <td>0.2</td>\n",
       "      <td>0.002579</td>\n",
       "      <td>0.0</td>\n",
       "      <td>2.8</td>\n",
       "      <td>bff3c337-f2f1-4e05-bcdd-75bb09a874a4</td>\n",
       "    </tr>\n",
       "    <tr>\n",
       "      <th>107</th>\n",
       "      <td>0</td>\n",
       "      <td>0</td>\n",
       "      <td>0</td>\n",
       "      <td>0</td>\n",
       "      <td>0</td>\n",
       "      <td>0</td>\n",
       "      <td>0</td>\n",
       "      <td>0</td>\n",
       "      <td>1</td>\n",
       "      <td>0</td>\n",
       "      <td>...</td>\n",
       "      <td>0.5</td>\n",
       "      <td>0.567423</td>\n",
       "      <td>0.5</td>\n",
       "      <td>0.049351</td>\n",
       "      <td>0.2</td>\n",
       "      <td>0.2</td>\n",
       "      <td>0.002579</td>\n",
       "      <td>0.0</td>\n",
       "      <td>2.8</td>\n",
       "      <td>bff3c337-f2f1-4e05-bcdd-75bb09a874a4</td>\n",
       "    </tr>\n",
       "    <tr>\n",
       "      <th>108</th>\n",
       "      <td>0</td>\n",
       "      <td>0</td>\n",
       "      <td>0</td>\n",
       "      <td>0</td>\n",
       "      <td>0</td>\n",
       "      <td>0</td>\n",
       "      <td>0</td>\n",
       "      <td>0</td>\n",
       "      <td>1</td>\n",
       "      <td>0</td>\n",
       "      <td>...</td>\n",
       "      <td>0.5</td>\n",
       "      <td>0.567423</td>\n",
       "      <td>0.5</td>\n",
       "      <td>0.049351</td>\n",
       "      <td>0.2</td>\n",
       "      <td>0.2</td>\n",
       "      <td>0.002579</td>\n",
       "      <td>0.0</td>\n",
       "      <td>2.8</td>\n",
       "      <td>bff3c337-f2f1-4e05-bcdd-75bb09a874a4</td>\n",
       "    </tr>\n",
       "    <tr>\n",
       "      <th>109</th>\n",
       "      <td>0</td>\n",
       "      <td>0</td>\n",
       "      <td>0</td>\n",
       "      <td>0</td>\n",
       "      <td>0</td>\n",
       "      <td>0</td>\n",
       "      <td>0</td>\n",
       "      <td>0</td>\n",
       "      <td>1</td>\n",
       "      <td>0</td>\n",
       "      <td>...</td>\n",
       "      <td>0.5</td>\n",
       "      <td>0.567423</td>\n",
       "      <td>0.5</td>\n",
       "      <td>0.049351</td>\n",
       "      <td>0.2</td>\n",
       "      <td>0.2</td>\n",
       "      <td>0.002579</td>\n",
       "      <td>0.0</td>\n",
       "      <td>2.8</td>\n",
       "      <td>bff3c337-f2f1-4e05-bcdd-75bb09a874a4</td>\n",
       "    </tr>\n",
       "    <tr>\n",
       "      <th>110</th>\n",
       "      <td>0</td>\n",
       "      <td>0</td>\n",
       "      <td>0</td>\n",
       "      <td>0</td>\n",
       "      <td>0</td>\n",
       "      <td>0</td>\n",
       "      <td>0</td>\n",
       "      <td>0</td>\n",
       "      <td>1</td>\n",
       "      <td>0</td>\n",
       "      <td>...</td>\n",
       "      <td>0.5</td>\n",
       "      <td>0.567423</td>\n",
       "      <td>0.5</td>\n",
       "      <td>0.049351</td>\n",
       "      <td>0.2</td>\n",
       "      <td>0.2</td>\n",
       "      <td>0.002579</td>\n",
       "      <td>0.0</td>\n",
       "      <td>2.8</td>\n",
       "      <td>bff3c337-f2f1-4e05-bcdd-75bb09a874a4</td>\n",
       "    </tr>\n",
       "  </tbody>\n",
       "</table>\n",
       "<p>5 rows × 40 columns</p>\n",
       "</div>"
      ]
     },
     "execution_count": 2,
     "metadata": {},
     "output_type": "execute_result"
    }
   ],
   "execution_count": 2
  },
  {
   "metadata": {
    "ExecuteTime": {
     "end_time": "2024-11-21T02:20:26.227322Z",
     "start_time": "2024-11-21T02:20:26.079501Z"
    }
   },
   "cell_type": "code",
   "source": [
    "random_experiment_id = 'bff3c337-f2f1-4e05-bcdd-75bb09a874a4'\n",
    "df_result = pd.read_sql_query(\n",
    "    f\"SELECT * FROM augmented_results ar left join main.analysis_metadata am on am.analysis_id=ar.analysis_id where experiment_id='{random_experiment_id}'\",\n",
    "    conn)\n",
    "df_result_data = pd.DataFrame(list(df_result['data'].apply(json.loads)))\n",
    "df_result = pd.concat([df_result.reset_index(drop=True), df_result_data.reset_index(drop=True)], axis=1)\n",
    "df_result.head()"
   ],
   "id": "99b79f91ae530bb4",
   "outputs": [
    {
     "data": {
      "text/plain": [
       "                            analysis_id             indv_key  \\\n",
       "0  e8fa4983-30ed-4e09-a286-427e84c323f8  2|4|0|4|4|1|0|2|0|5   \n",
       "1  e8fa4983-30ed-4e09-a286-427e84c323f8  2|0|0|4|4|1|0|2|0|5   \n",
       "2  e8fa4983-30ed-4e09-a286-427e84c323f8  2|0|0|4|3|0|3|2|4|2   \n",
       "3  e8fa4983-30ed-4e09-a286-427e84c323f8  2|3|0|4|3|0|3|2|4|2   \n",
       "4  e8fa4983-30ed-4e09-a286-427e84c323f8  0|2|3|3|2|1|3|1|2|2   \n",
       "\n",
       "                                couple_key is_original_data  \\\n",
       "0  2|4|0|4|4|1|0|2|0|5-2|0|0|4|4|1|0|2|0|5                0   \n",
       "1  2|0|0|4|4|1|0|2|0|5-2|4|0|4|4|1|0|2|0|5                0   \n",
       "2  2|0|0|4|3|0|3|2|4|2-2|3|0|4|3|0|3|2|4|2                0   \n",
       "3  2|3|0|4|3|0|3|2|4|2-2|0|0|4|3|0|3|2|4|2                0   \n",
       "4  0|2|3|3|2|1|3|1|2|2-0|0|3|3|2|1|3|1|2|2                0   \n",
       "\n",
       "  is_individual_part_of_a_group is_couple_part_of_a_group matching_groups  \\\n",
       "0                             0                         0              []   \n",
       "1                             0                         0              []   \n",
       "2                             0                         0              []   \n",
       "3                             0                         0              []   \n",
       "4                             0                         0              []   \n",
       "\n",
       "                                                data  \\\n",
       "0  {\"Attr1_X\": 2, \"Attr1_T\": 4, \"Attr2_T\": 0, \"At...   \n",
       "1  {\"Attr1_X\": 2, \"Attr1_T\": 0, \"Attr2_T\": 0, \"At...   \n",
       "2  {\"Attr1_X\": 2, \"Attr1_T\": 0, \"Attr2_T\": 0, \"At...   \n",
       "3  {\"Attr1_X\": 2, \"Attr1_T\": 3, \"Attr2_T\": 0, \"At...   \n",
       "4  {\"Attr1_X\": 0, \"Attr1_T\": 2, \"Attr2_T\": 3, \"At...   \n",
       "\n",
       "                            analysis_id                         experiment_id  \\\n",
       "0  e8fa4983-30ed-4e09-a286-427e84c323f8  bff3c337-f2f1-4e05-bcdd-75bb09a874a4   \n",
       "1  e8fa4983-30ed-4e09-a286-427e84c323f8  bff3c337-f2f1-4e05-bcdd-75bb09a874a4   \n",
       "2  e8fa4983-30ed-4e09-a286-427e84c323f8  bff3c337-f2f1-4e05-bcdd-75bb09a874a4   \n",
       "3  e8fa4983-30ed-4e09-a286-427e84c323f8  bff3c337-f2f1-4e05-bcdd-75bb09a874a4   \n",
       "4  e8fa4983-30ed-4e09-a286-427e84c323f8  bff3c337-f2f1-4e05-bcdd-75bb09a874a4   \n",
       "\n",
       "   ... Attr1_T Attr2_T  Attr2_X  Attr3_T  Attr3_X  Attr4_X  Attr5_X  Attr4_T  \\\n",
       "0  ...       4       0        4        4        1        0        2        0   \n",
       "1  ...       0       0        4        4        1        0        2        0   \n",
       "2  ...       0       0        4        3        0        3        2        4   \n",
       "3  ...       3       0        4        3        0        3        2        4   \n",
       "4  ...       2       3        3        2        1        3        1        2   \n",
       "\n",
       "   Attr5_T  outcome  \n",
       "0        5        0  \n",
       "1        5        3  \n",
       "2        2        1  \n",
       "3        2        3  \n",
       "4        2        1  \n",
       "\n",
       "[5 rows x 23 columns]"
      ],
      "text/html": [
       "<div>\n",
       "<style scoped>\n",
       "    .dataframe tbody tr th:only-of-type {\n",
       "        vertical-align: middle;\n",
       "    }\n",
       "\n",
       "    .dataframe tbody tr th {\n",
       "        vertical-align: top;\n",
       "    }\n",
       "\n",
       "    .dataframe thead th {\n",
       "        text-align: right;\n",
       "    }\n",
       "</style>\n",
       "<table border=\"1\" class=\"dataframe\">\n",
       "  <thead>\n",
       "    <tr style=\"text-align: right;\">\n",
       "      <th></th>\n",
       "      <th>analysis_id</th>\n",
       "      <th>indv_key</th>\n",
       "      <th>couple_key</th>\n",
       "      <th>is_original_data</th>\n",
       "      <th>is_individual_part_of_a_group</th>\n",
       "      <th>is_couple_part_of_a_group</th>\n",
       "      <th>matching_groups</th>\n",
       "      <th>data</th>\n",
       "      <th>analysis_id</th>\n",
       "      <th>experiment_id</th>\n",
       "      <th>...</th>\n",
       "      <th>Attr1_T</th>\n",
       "      <th>Attr2_T</th>\n",
       "      <th>Attr2_X</th>\n",
       "      <th>Attr3_T</th>\n",
       "      <th>Attr3_X</th>\n",
       "      <th>Attr4_X</th>\n",
       "      <th>Attr5_X</th>\n",
       "      <th>Attr4_T</th>\n",
       "      <th>Attr5_T</th>\n",
       "      <th>outcome</th>\n",
       "    </tr>\n",
       "  </thead>\n",
       "  <tbody>\n",
       "    <tr>\n",
       "      <th>0</th>\n",
       "      <td>e8fa4983-30ed-4e09-a286-427e84c323f8</td>\n",
       "      <td>2|4|0|4|4|1|0|2|0|5</td>\n",
       "      <td>2|4|0|4|4|1|0|2|0|5-2|0|0|4|4|1|0|2|0|5</td>\n",
       "      <td>0</td>\n",
       "      <td>0</td>\n",
       "      <td>0</td>\n",
       "      <td>[]</td>\n",
       "      <td>{\"Attr1_X\": 2, \"Attr1_T\": 4, \"Attr2_T\": 0, \"At...</td>\n",
       "      <td>e8fa4983-30ed-4e09-a286-427e84c323f8</td>\n",
       "      <td>bff3c337-f2f1-4e05-bcdd-75bb09a874a4</td>\n",
       "      <td>...</td>\n",
       "      <td>4</td>\n",
       "      <td>0</td>\n",
       "      <td>4</td>\n",
       "      <td>4</td>\n",
       "      <td>1</td>\n",
       "      <td>0</td>\n",
       "      <td>2</td>\n",
       "      <td>0</td>\n",
       "      <td>5</td>\n",
       "      <td>0</td>\n",
       "    </tr>\n",
       "    <tr>\n",
       "      <th>1</th>\n",
       "      <td>e8fa4983-30ed-4e09-a286-427e84c323f8</td>\n",
       "      <td>2|0|0|4|4|1|0|2|0|5</td>\n",
       "      <td>2|0|0|4|4|1|0|2|0|5-2|4|0|4|4|1|0|2|0|5</td>\n",
       "      <td>0</td>\n",
       "      <td>0</td>\n",
       "      <td>0</td>\n",
       "      <td>[]</td>\n",
       "      <td>{\"Attr1_X\": 2, \"Attr1_T\": 0, \"Attr2_T\": 0, \"At...</td>\n",
       "      <td>e8fa4983-30ed-4e09-a286-427e84c323f8</td>\n",
       "      <td>bff3c337-f2f1-4e05-bcdd-75bb09a874a4</td>\n",
       "      <td>...</td>\n",
       "      <td>0</td>\n",
       "      <td>0</td>\n",
       "      <td>4</td>\n",
       "      <td>4</td>\n",
       "      <td>1</td>\n",
       "      <td>0</td>\n",
       "      <td>2</td>\n",
       "      <td>0</td>\n",
       "      <td>5</td>\n",
       "      <td>3</td>\n",
       "    </tr>\n",
       "    <tr>\n",
       "      <th>2</th>\n",
       "      <td>e8fa4983-30ed-4e09-a286-427e84c323f8</td>\n",
       "      <td>2|0|0|4|3|0|3|2|4|2</td>\n",
       "      <td>2|0|0|4|3|0|3|2|4|2-2|3|0|4|3|0|3|2|4|2</td>\n",
       "      <td>0</td>\n",
       "      <td>0</td>\n",
       "      <td>0</td>\n",
       "      <td>[]</td>\n",
       "      <td>{\"Attr1_X\": 2, \"Attr1_T\": 0, \"Attr2_T\": 0, \"At...</td>\n",
       "      <td>e8fa4983-30ed-4e09-a286-427e84c323f8</td>\n",
       "      <td>bff3c337-f2f1-4e05-bcdd-75bb09a874a4</td>\n",
       "      <td>...</td>\n",
       "      <td>0</td>\n",
       "      <td>0</td>\n",
       "      <td>4</td>\n",
       "      <td>3</td>\n",
       "      <td>0</td>\n",
       "      <td>3</td>\n",
       "      <td>2</td>\n",
       "      <td>4</td>\n",
       "      <td>2</td>\n",
       "      <td>1</td>\n",
       "    </tr>\n",
       "    <tr>\n",
       "      <th>3</th>\n",
       "      <td>e8fa4983-30ed-4e09-a286-427e84c323f8</td>\n",
       "      <td>2|3|0|4|3|0|3|2|4|2</td>\n",
       "      <td>2|3|0|4|3|0|3|2|4|2-2|0|0|4|3|0|3|2|4|2</td>\n",
       "      <td>0</td>\n",
       "      <td>0</td>\n",
       "      <td>0</td>\n",
       "      <td>[]</td>\n",
       "      <td>{\"Attr1_X\": 2, \"Attr1_T\": 3, \"Attr2_T\": 0, \"At...</td>\n",
       "      <td>e8fa4983-30ed-4e09-a286-427e84c323f8</td>\n",
       "      <td>bff3c337-f2f1-4e05-bcdd-75bb09a874a4</td>\n",
       "      <td>...</td>\n",
       "      <td>3</td>\n",
       "      <td>0</td>\n",
       "      <td>4</td>\n",
       "      <td>3</td>\n",
       "      <td>0</td>\n",
       "      <td>3</td>\n",
       "      <td>2</td>\n",
       "      <td>4</td>\n",
       "      <td>2</td>\n",
       "      <td>3</td>\n",
       "    </tr>\n",
       "    <tr>\n",
       "      <th>4</th>\n",
       "      <td>e8fa4983-30ed-4e09-a286-427e84c323f8</td>\n",
       "      <td>0|2|3|3|2|1|3|1|2|2</td>\n",
       "      <td>0|2|3|3|2|1|3|1|2|2-0|0|3|3|2|1|3|1|2|2</td>\n",
       "      <td>0</td>\n",
       "      <td>0</td>\n",
       "      <td>0</td>\n",
       "      <td>[]</td>\n",
       "      <td>{\"Attr1_X\": 0, \"Attr1_T\": 2, \"Attr2_T\": 3, \"At...</td>\n",
       "      <td>e8fa4983-30ed-4e09-a286-427e84c323f8</td>\n",
       "      <td>bff3c337-f2f1-4e05-bcdd-75bb09a874a4</td>\n",
       "      <td>...</td>\n",
       "      <td>2</td>\n",
       "      <td>3</td>\n",
       "      <td>3</td>\n",
       "      <td>2</td>\n",
       "      <td>1</td>\n",
       "      <td>3</td>\n",
       "      <td>1</td>\n",
       "      <td>2</td>\n",
       "      <td>2</td>\n",
       "      <td>1</td>\n",
       "    </tr>\n",
       "  </tbody>\n",
       "</table>\n",
       "<p>5 rows × 23 columns</p>\n",
       "</div>"
      ]
     },
     "execution_count": 3,
     "metadata": {},
     "output_type": "execute_result"
    }
   ],
   "execution_count": 3
  },
  {
   "metadata": {
    "ExecuteTime": {
     "end_time": "2024-11-21T02:20:26.278484Z",
     "start_time": "2024-11-21T02:20:26.271214Z"
    }
   },
   "cell_type": "code",
   "source": "feature_cols = list(filter(lambda x: 'Attr' in x, df_synth.columns))",
   "id": "c427d026f6b4858e",
   "outputs": [],
   "execution_count": 4
  },
  {
   "metadata": {
    "ExecuteTime": {
     "end_time": "2024-11-21T02:20:26.710463Z",
     "start_time": "2024-11-21T02:20:26.701917Z"
    }
   },
   "cell_type": "code",
   "source": [
    "from itertools import combinations\n",
    "import numpy as np\n",
    "import matplotlib.pyplot as plt\n",
    "import pandas as pd\n",
    "from typing import List, Dict, Any\n",
    "\n",
    "\n",
    "def generate_distinct_colors(n: int) -> List[str]:\n",
    "    colors = []\n",
    "    for i in range(n):\n",
    "        hue = i * 0.618033988749895 % 1\n",
    "        saturation = 0.7 + np.random.random() * 0.3\n",
    "        value = 0.8 + np.random.random() * 0.2\n",
    "        rgb = plt.cm.hsv(hue)[:3]  # Convert to RGB\n",
    "        hex_color = '#{:02x}{:02x}{:02x}'.format(\n",
    "            int(rgb[0] * 255),\n",
    "            int(rgb[1] * 255),\n",
    "            int(rgb[2] * 255)\n",
    "        )\n",
    "        colors.append(hex_color)\n",
    "    return colors\n",
    "\n",
    "\n",
    "def sort_two_strings(str1: str, str2: str) -> tuple[str, str]:\n",
    "    if str1 <= str2:\n",
    "        return (str1, str2)\n",
    "    return (str2, str1)\n",
    "\n",
    "\n",
    "def prepare_result_combinations(df: pd.DataFrame, feature_cols: List[str]) -> pd.DataFrame:\n",
    "    all_combinations = []\n",
    "\n",
    "    for couple_key in df['couple_key'].unique():\n",
    "        # Sort the individual keys from the couple_key\n",
    "        indivs = couple_key.split('-')\n",
    "        sorted_indivs = sort_two_strings(indivs[0], indivs[1])\n",
    "\n",
    "        # Create a new sorted couple_key\n",
    "        sorted_couple_key = f\"{sorted_indivs[0]}-{sorted_indivs[1]}\"\n",
    "\n",
    "        # Fetch data for each individual separately in sorted order\n",
    "        indiv1_data = df[df['indv_key'] == sorted_indivs[0]]\n",
    "        indiv2_data = df[df['indv_key'] == sorted_indivs[1]]\n",
    "\n",
    "        # Combine the data in sorted order\n",
    "        couple_data = pd.concat([indiv1_data, indiv2_data])\n",
    "\n",
    "        if couple_data.shape[0] == 2:\n",
    "            continue\n",
    "\n",
    "        is_part_of_group = couple_data['is_couple_part_of_a_group'].iloc[0] != '0'\n",
    "        unique_individuals = couple_data[feature_cols].drop_duplicates().values\n",
    "        pairs = list(combinations(range(len(unique_individuals)), 2))\n",
    "\n",
    "        for i, j in pairs:\n",
    "            combination = {\n",
    "                'couple_key': sorted_couple_key,  # Use the sorted couple_key\n",
    "                'is_part_of_group': is_part_of_group\n",
    "            }\n",
    "\n",
    "            # Store individual feature values\n",
    "            indiv1_features = unique_individuals[i]\n",
    "            indiv2_features = unique_individuals[j]\n",
    "\n",
    "            # Add the features in sorted order\n",
    "            for idx, feat in enumerate(feature_cols):\n",
    "                combination[f'{feat}_1'] = indiv1_features[idx]\n",
    "                combination[f'{feat}_2'] = indiv2_features[idx]\n",
    "\n",
    "            all_combinations.append(combination)\n",
    "\n",
    "    return pd.DataFrame(all_combinations)\n",
    "\n",
    "# Create combinations"
   ],
   "id": "511b6bb808814178",
   "outputs": [],
   "execution_count": 5
  },
  {
   "metadata": {
    "ExecuteTime": {
     "end_time": "2024-11-21T02:20:47.542578Z",
     "start_time": "2024-11-21T02:20:26.848305Z"
    }
   },
   "cell_type": "code",
   "source": [
    "synth_combinations_df = DiscriminationData.generate_individual_synth_combinations(df_synth)\n",
    "result_combinations_df = prepare_result_combinations(df_result, feature_cols)"
   ],
   "id": "11cf9278a12f03ff",
   "outputs": [],
   "execution_count": 6
  },
  {
   "metadata": {
    "ExecuteTime": {
     "end_time": "2024-11-21T02:20:47.565943Z",
     "start_time": "2024-11-21T02:20:47.542578Z"
    }
   },
   "cell_type": "code",
   "source": "synth_combinations_df.head()",
   "id": "5b46f6e2dc114516",
   "outputs": [
    {
     "data": {
      "text/plain": [
       "                                 group_key        subgroup1_key  \\\n",
       "0  *|*|*|0|*|*|*|*|1|*-*|*|*|1|*|*|*|*|2|*  *|*|*|0|*|*|*|*|1|*   \n",
       "1  *|*|*|0|*|*|*|*|1|*-*|*|*|1|*|*|*|*|2|*  *|*|*|0|*|*|*|*|1|*   \n",
       "2  *|*|*|0|*|*|*|*|1|*-*|*|*|1|*|*|*|*|2|*  *|*|*|0|*|*|*|*|1|*   \n",
       "3  *|*|*|0|*|*|*|*|1|*-*|*|*|1|*|*|*|*|2|*  *|*|*|0|*|*|*|*|1|*   \n",
       "4  *|*|*|0|*|*|*|*|1|*-*|*|*|1|*|*|*|*|2|*  *|*|*|0|*|*|*|*|1|*   \n",
       "\n",
       "         subgroup2_key           indv_key_1           indv_key_2  \\\n",
       "0  *|*|*|1|*|*|*|*|2|*  0|0|0|0|0|0|0|0|1|0  0|0|0|1|0|0|0|0|2|0   \n",
       "1  *|*|*|1|*|*|*|*|2|*  0|0|0|0|0|0|0|0|1|0  0|0|0|1|0|0|0|0|2|0   \n",
       "2  *|*|*|1|*|*|*|*|2|*  0|0|0|0|0|0|0|0|1|0  0|0|0|1|0|0|0|0|2|0   \n",
       "3  *|*|*|1|*|*|*|*|2|*  0|0|0|0|0|0|0|0|1|0  0|0|0|1|0|0|0|0|2|0   \n",
       "4  *|*|*|1|*|*|*|*|2|*  0|0|0|0|0|0|0|0|1|0  0|0|0|1|0|0|0|0|2|0   \n",
       "\n",
       "                                couple_key  Attr1_X_1  Attr1_X_2  Attr2_X_1  \\\n",
       "0  0|0|0|0|0|0|0|0|1|0-0|0|0|1|0|0|0|0|2|0          0          0          0   \n",
       "1  0|0|0|0|0|0|0|0|1|0-0|0|0|1|0|0|0|0|2|0          0          0          0   \n",
       "2  0|0|0|0|0|0|0|0|1|0-0|0|0|1|0|0|0|0|2|0          0          0          0   \n",
       "3  0|0|0|0|0|0|0|0|1|0-0|0|0|1|0|0|0|0|2|0          0          0          0   \n",
       "4  0|0|0|0|0|0|0|0|1|0-0|0|0|1|0|0|0|0|2|0          0          0          0   \n",
       "\n",
       "   Attr2_X_2  ...  Attr1_T_1  Attr1_T_2  Attr2_T_1  Attr2_T_2  Attr3_T_1  \\\n",
       "0          0  ...          0          0          0          0          0   \n",
       "1          0  ...          0          0          0          0          0   \n",
       "2          0  ...          0          0          0          0          0   \n",
       "3          0  ...          0          0          0          0          0   \n",
       "4          0  ...          0          0          0          0          0   \n",
       "\n",
       "   Attr3_T_2  Attr4_T_1  Attr4_T_2  Attr5_T_1  Attr5_T_2  \n",
       "0          0          1          2          0          0  \n",
       "1          0          1          2          0          0  \n",
       "2          0          1          2          0          0  \n",
       "3          0          1          2          0          0  \n",
       "4          0          1          2          0          0  \n",
       "\n",
       "[5 rows x 26 columns]"
      ],
      "text/html": [
       "<div>\n",
       "<style scoped>\n",
       "    .dataframe tbody tr th:only-of-type {\n",
       "        vertical-align: middle;\n",
       "    }\n",
       "\n",
       "    .dataframe tbody tr th {\n",
       "        vertical-align: top;\n",
       "    }\n",
       "\n",
       "    .dataframe thead th {\n",
       "        text-align: right;\n",
       "    }\n",
       "</style>\n",
       "<table border=\"1\" class=\"dataframe\">\n",
       "  <thead>\n",
       "    <tr style=\"text-align: right;\">\n",
       "      <th></th>\n",
       "      <th>group_key</th>\n",
       "      <th>subgroup1_key</th>\n",
       "      <th>subgroup2_key</th>\n",
       "      <th>indv_key_1</th>\n",
       "      <th>indv_key_2</th>\n",
       "      <th>couple_key</th>\n",
       "      <th>Attr1_X_1</th>\n",
       "      <th>Attr1_X_2</th>\n",
       "      <th>Attr2_X_1</th>\n",
       "      <th>Attr2_X_2</th>\n",
       "      <th>...</th>\n",
       "      <th>Attr1_T_1</th>\n",
       "      <th>Attr1_T_2</th>\n",
       "      <th>Attr2_T_1</th>\n",
       "      <th>Attr2_T_2</th>\n",
       "      <th>Attr3_T_1</th>\n",
       "      <th>Attr3_T_2</th>\n",
       "      <th>Attr4_T_1</th>\n",
       "      <th>Attr4_T_2</th>\n",
       "      <th>Attr5_T_1</th>\n",
       "      <th>Attr5_T_2</th>\n",
       "    </tr>\n",
       "  </thead>\n",
       "  <tbody>\n",
       "    <tr>\n",
       "      <th>0</th>\n",
       "      <td>*|*|*|0|*|*|*|*|1|*-*|*|*|1|*|*|*|*|2|*</td>\n",
       "      <td>*|*|*|0|*|*|*|*|1|*</td>\n",
       "      <td>*|*|*|1|*|*|*|*|2|*</td>\n",
       "      <td>0|0|0|0|0|0|0|0|1|0</td>\n",
       "      <td>0|0|0|1|0|0|0|0|2|0</td>\n",
       "      <td>0|0|0|0|0|0|0|0|1|0-0|0|0|1|0|0|0|0|2|0</td>\n",
       "      <td>0</td>\n",
       "      <td>0</td>\n",
       "      <td>0</td>\n",
       "      <td>0</td>\n",
       "      <td>...</td>\n",
       "      <td>0</td>\n",
       "      <td>0</td>\n",
       "      <td>0</td>\n",
       "      <td>0</td>\n",
       "      <td>0</td>\n",
       "      <td>0</td>\n",
       "      <td>1</td>\n",
       "      <td>2</td>\n",
       "      <td>0</td>\n",
       "      <td>0</td>\n",
       "    </tr>\n",
       "    <tr>\n",
       "      <th>1</th>\n",
       "      <td>*|*|*|0|*|*|*|*|1|*-*|*|*|1|*|*|*|*|2|*</td>\n",
       "      <td>*|*|*|0|*|*|*|*|1|*</td>\n",
       "      <td>*|*|*|1|*|*|*|*|2|*</td>\n",
       "      <td>0|0|0|0|0|0|0|0|1|0</td>\n",
       "      <td>0|0|0|1|0|0|0|0|2|0</td>\n",
       "      <td>0|0|0|0|0|0|0|0|1|0-0|0|0|1|0|0|0|0|2|0</td>\n",
       "      <td>0</td>\n",
       "      <td>0</td>\n",
       "      <td>0</td>\n",
       "      <td>0</td>\n",
       "      <td>...</td>\n",
       "      <td>0</td>\n",
       "      <td>0</td>\n",
       "      <td>0</td>\n",
       "      <td>0</td>\n",
       "      <td>0</td>\n",
       "      <td>0</td>\n",
       "      <td>1</td>\n",
       "      <td>2</td>\n",
       "      <td>0</td>\n",
       "      <td>0</td>\n",
       "    </tr>\n",
       "    <tr>\n",
       "      <th>2</th>\n",
       "      <td>*|*|*|0|*|*|*|*|1|*-*|*|*|1|*|*|*|*|2|*</td>\n",
       "      <td>*|*|*|0|*|*|*|*|1|*</td>\n",
       "      <td>*|*|*|1|*|*|*|*|2|*</td>\n",
       "      <td>0|0|0|0|0|0|0|0|1|0</td>\n",
       "      <td>0|0|0|1|0|0|0|0|2|0</td>\n",
       "      <td>0|0|0|0|0|0|0|0|1|0-0|0|0|1|0|0|0|0|2|0</td>\n",
       "      <td>0</td>\n",
       "      <td>0</td>\n",
       "      <td>0</td>\n",
       "      <td>0</td>\n",
       "      <td>...</td>\n",
       "      <td>0</td>\n",
       "      <td>0</td>\n",
       "      <td>0</td>\n",
       "      <td>0</td>\n",
       "      <td>0</td>\n",
       "      <td>0</td>\n",
       "      <td>1</td>\n",
       "      <td>2</td>\n",
       "      <td>0</td>\n",
       "      <td>0</td>\n",
       "    </tr>\n",
       "    <tr>\n",
       "      <th>3</th>\n",
       "      <td>*|*|*|0|*|*|*|*|1|*-*|*|*|1|*|*|*|*|2|*</td>\n",
       "      <td>*|*|*|0|*|*|*|*|1|*</td>\n",
       "      <td>*|*|*|1|*|*|*|*|2|*</td>\n",
       "      <td>0|0|0|0|0|0|0|0|1|0</td>\n",
       "      <td>0|0|0|1|0|0|0|0|2|0</td>\n",
       "      <td>0|0|0|0|0|0|0|0|1|0-0|0|0|1|0|0|0|0|2|0</td>\n",
       "      <td>0</td>\n",
       "      <td>0</td>\n",
       "      <td>0</td>\n",
       "      <td>0</td>\n",
       "      <td>...</td>\n",
       "      <td>0</td>\n",
       "      <td>0</td>\n",
       "      <td>0</td>\n",
       "      <td>0</td>\n",
       "      <td>0</td>\n",
       "      <td>0</td>\n",
       "      <td>1</td>\n",
       "      <td>2</td>\n",
       "      <td>0</td>\n",
       "      <td>0</td>\n",
       "    </tr>\n",
       "    <tr>\n",
       "      <th>4</th>\n",
       "      <td>*|*|*|0|*|*|*|*|1|*-*|*|*|1|*|*|*|*|2|*</td>\n",
       "      <td>*|*|*|0|*|*|*|*|1|*</td>\n",
       "      <td>*|*|*|1|*|*|*|*|2|*</td>\n",
       "      <td>0|0|0|0|0|0|0|0|1|0</td>\n",
       "      <td>0|0|0|1|0|0|0|0|2|0</td>\n",
       "      <td>0|0|0|0|0|0|0|0|1|0-0|0|0|1|0|0|0|0|2|0</td>\n",
       "      <td>0</td>\n",
       "      <td>0</td>\n",
       "      <td>0</td>\n",
       "      <td>0</td>\n",
       "      <td>...</td>\n",
       "      <td>0</td>\n",
       "      <td>0</td>\n",
       "      <td>0</td>\n",
       "      <td>0</td>\n",
       "      <td>0</td>\n",
       "      <td>0</td>\n",
       "      <td>1</td>\n",
       "      <td>2</td>\n",
       "      <td>0</td>\n",
       "      <td>0</td>\n",
       "    </tr>\n",
       "  </tbody>\n",
       "</table>\n",
       "<p>5 rows × 26 columns</p>\n",
       "</div>"
      ]
     },
     "execution_count": 7,
     "metadata": {},
     "output_type": "execute_result"
    }
   ],
   "execution_count": 7
  },
  {
   "cell_type": "code",
   "id": "initial_id",
   "metadata": {
    "collapsed": true,
    "ExecuteTime": {
     "end_time": "2024-11-21T02:20:47.646716Z",
     "start_time": "2024-11-21T02:20:47.628916Z"
    }
   },
   "source": "result_combinations_df.head()",
   "outputs": [
    {
     "data": {
      "text/plain": [
       "                                couple_key  is_part_of_group  Attr1_X_1  \\\n",
       "0  2|0|0|4|3|0|3|2|4|2-2|3|0|4|3|0|3|2|4|2             False          2   \n",
       "1  2|0|0|4|3|0|3|2|4|2-2|3|0|4|3|0|3|2|4|2             False          2   \n",
       "2  0|0|3|3|2|1|3|1|2|2-0|2|3|3|2|1|3|1|2|2             False          0   \n",
       "3  0|0|3|3|2|1|3|1|2|2-0|2|3|3|2|1|3|1|2|2             False          0   \n",
       "4  0|0|3|1|5|0|1|2|3|2-0|5|3|1|5|0|1|2|3|2             False          0   \n",
       "\n",
       "   Attr1_X_2  Attr2_X_1  Attr2_X_2  Attr3_X_1  Attr3_X_2  Attr4_X_1  \\\n",
       "0          2          4          4          0          0          3   \n",
       "1          2          4          4          0          0          3   \n",
       "2          0          3          3          1          1          3   \n",
       "3          0          3          3          1          1          3   \n",
       "4          0          1          1          0          0          1   \n",
       "\n",
       "   Attr4_X_2  ...  Attr1_T_1  Attr1_T_2  Attr2_T_1  Attr2_T_2  Attr3_T_1  \\\n",
       "0          3  ...          0          3          0          0          3   \n",
       "1          3  ...          0          3          0          0          3   \n",
       "2          3  ...          0          2          3          3          2   \n",
       "3          3  ...          0          2          3          3          2   \n",
       "4          1  ...          0          5          3          3          5   \n",
       "\n",
       "   Attr3_T_2  Attr4_T_1  Attr4_T_2  Attr5_T_1  Attr5_T_2  \n",
       "0          3          4          4          2          2  \n",
       "1          3          4          4          2          2  \n",
       "2          2          2          2          2          2  \n",
       "3          2          2          2          2          2  \n",
       "4          5          3          3          2          2  \n",
       "\n",
       "[5 rows x 22 columns]"
      ],
      "text/html": [
       "<div>\n",
       "<style scoped>\n",
       "    .dataframe tbody tr th:only-of-type {\n",
       "        vertical-align: middle;\n",
       "    }\n",
       "\n",
       "    .dataframe tbody tr th {\n",
       "        vertical-align: top;\n",
       "    }\n",
       "\n",
       "    .dataframe thead th {\n",
       "        text-align: right;\n",
       "    }\n",
       "</style>\n",
       "<table border=\"1\" class=\"dataframe\">\n",
       "  <thead>\n",
       "    <tr style=\"text-align: right;\">\n",
       "      <th></th>\n",
       "      <th>couple_key</th>\n",
       "      <th>is_part_of_group</th>\n",
       "      <th>Attr1_X_1</th>\n",
       "      <th>Attr1_X_2</th>\n",
       "      <th>Attr2_X_1</th>\n",
       "      <th>Attr2_X_2</th>\n",
       "      <th>Attr3_X_1</th>\n",
       "      <th>Attr3_X_2</th>\n",
       "      <th>Attr4_X_1</th>\n",
       "      <th>Attr4_X_2</th>\n",
       "      <th>...</th>\n",
       "      <th>Attr1_T_1</th>\n",
       "      <th>Attr1_T_2</th>\n",
       "      <th>Attr2_T_1</th>\n",
       "      <th>Attr2_T_2</th>\n",
       "      <th>Attr3_T_1</th>\n",
       "      <th>Attr3_T_2</th>\n",
       "      <th>Attr4_T_1</th>\n",
       "      <th>Attr4_T_2</th>\n",
       "      <th>Attr5_T_1</th>\n",
       "      <th>Attr5_T_2</th>\n",
       "    </tr>\n",
       "  </thead>\n",
       "  <tbody>\n",
       "    <tr>\n",
       "      <th>0</th>\n",
       "      <td>2|0|0|4|3|0|3|2|4|2-2|3|0|4|3|0|3|2|4|2</td>\n",
       "      <td>False</td>\n",
       "      <td>2</td>\n",
       "      <td>2</td>\n",
       "      <td>4</td>\n",
       "      <td>4</td>\n",
       "      <td>0</td>\n",
       "      <td>0</td>\n",
       "      <td>3</td>\n",
       "      <td>3</td>\n",
       "      <td>...</td>\n",
       "      <td>0</td>\n",
       "      <td>3</td>\n",
       "      <td>0</td>\n",
       "      <td>0</td>\n",
       "      <td>3</td>\n",
       "      <td>3</td>\n",
       "      <td>4</td>\n",
       "      <td>4</td>\n",
       "      <td>2</td>\n",
       "      <td>2</td>\n",
       "    </tr>\n",
       "    <tr>\n",
       "      <th>1</th>\n",
       "      <td>2|0|0|4|3|0|3|2|4|2-2|3|0|4|3|0|3|2|4|2</td>\n",
       "      <td>False</td>\n",
       "      <td>2</td>\n",
       "      <td>2</td>\n",
       "      <td>4</td>\n",
       "      <td>4</td>\n",
       "      <td>0</td>\n",
       "      <td>0</td>\n",
       "      <td>3</td>\n",
       "      <td>3</td>\n",
       "      <td>...</td>\n",
       "      <td>0</td>\n",
       "      <td>3</td>\n",
       "      <td>0</td>\n",
       "      <td>0</td>\n",
       "      <td>3</td>\n",
       "      <td>3</td>\n",
       "      <td>4</td>\n",
       "      <td>4</td>\n",
       "      <td>2</td>\n",
       "      <td>2</td>\n",
       "    </tr>\n",
       "    <tr>\n",
       "      <th>2</th>\n",
       "      <td>0|0|3|3|2|1|3|1|2|2-0|2|3|3|2|1|3|1|2|2</td>\n",
       "      <td>False</td>\n",
       "      <td>0</td>\n",
       "      <td>0</td>\n",
       "      <td>3</td>\n",
       "      <td>3</td>\n",
       "      <td>1</td>\n",
       "      <td>1</td>\n",
       "      <td>3</td>\n",
       "      <td>3</td>\n",
       "      <td>...</td>\n",
       "      <td>0</td>\n",
       "      <td>2</td>\n",
       "      <td>3</td>\n",
       "      <td>3</td>\n",
       "      <td>2</td>\n",
       "      <td>2</td>\n",
       "      <td>2</td>\n",
       "      <td>2</td>\n",
       "      <td>2</td>\n",
       "      <td>2</td>\n",
       "    </tr>\n",
       "    <tr>\n",
       "      <th>3</th>\n",
       "      <td>0|0|3|3|2|1|3|1|2|2-0|2|3|3|2|1|3|1|2|2</td>\n",
       "      <td>False</td>\n",
       "      <td>0</td>\n",
       "      <td>0</td>\n",
       "      <td>3</td>\n",
       "      <td>3</td>\n",
       "      <td>1</td>\n",
       "      <td>1</td>\n",
       "      <td>3</td>\n",
       "      <td>3</td>\n",
       "      <td>...</td>\n",
       "      <td>0</td>\n",
       "      <td>2</td>\n",
       "      <td>3</td>\n",
       "      <td>3</td>\n",
       "      <td>2</td>\n",
       "      <td>2</td>\n",
       "      <td>2</td>\n",
       "      <td>2</td>\n",
       "      <td>2</td>\n",
       "      <td>2</td>\n",
       "    </tr>\n",
       "    <tr>\n",
       "      <th>4</th>\n",
       "      <td>0|0|3|1|5|0|1|2|3|2-0|5|3|1|5|0|1|2|3|2</td>\n",
       "      <td>False</td>\n",
       "      <td>0</td>\n",
       "      <td>0</td>\n",
       "      <td>1</td>\n",
       "      <td>1</td>\n",
       "      <td>0</td>\n",
       "      <td>0</td>\n",
       "      <td>1</td>\n",
       "      <td>1</td>\n",
       "      <td>...</td>\n",
       "      <td>0</td>\n",
       "      <td>5</td>\n",
       "      <td>3</td>\n",
       "      <td>3</td>\n",
       "      <td>5</td>\n",
       "      <td>5</td>\n",
       "      <td>3</td>\n",
       "      <td>3</td>\n",
       "      <td>2</td>\n",
       "      <td>2</td>\n",
       "    </tr>\n",
       "  </tbody>\n",
       "</table>\n",
       "<p>5 rows × 22 columns</p>\n",
       "</div>"
      ]
     },
     "execution_count": 8,
     "metadata": {},
     "output_type": "execute_result"
    }
   ],
   "execution_count": 8
  },
  {
   "metadata": {
    "ExecuteTime": {
     "end_time": "2024-11-21T02:20:47.692406Z",
     "start_time": "2024-11-21T02:20:47.684271Z"
    }
   },
   "cell_type": "code",
   "source": [
    "# import matplotlib.pyplot as plt\n",
    "# import numpy as np\n",
    "# from itertools import product\n",
    "# import pandas as pd\n",
    "# \n",
    "# \n",
    "# # Generate all possible combinations\n",
    "# def get_column_categories(df):\n",
    "#     categories = {}\n",
    "#     for column in df.columns:\n",
    "#         categories[column] = sorted(df[column].unique().tolist())\n",
    "#     return categories\n",
    "# \n",
    "# \n",
    "# categories = get_column_categories(df_synth[list(filter(lambda x: 'Attr' in x, df_synth.columns))])\n",
    "# combinations = list(product(*categories))\n",
    "# \n",
    "# # Convert to numpy array and create a DataFrame\n",
    "# data = np.array(combinations)\n",
    "# df = pd.DataFrame(data, columns=[f'Category_{i + 1}' for i in range(len(categories))])\n",
    "# df.head()"
   ],
   "id": "dbedcbeece677c95",
   "outputs": [],
   "execution_count": 9
  },
  {
   "metadata": {
    "ExecuteTime": {
     "end_time": "2024-11-21T02:20:47.863459Z",
     "start_time": "2024-11-21T02:20:47.856862Z"
    }
   },
   "cell_type": "code",
   "source": [
    "import pandas as pd\n",
    "import itertools\n",
    "import random\n",
    "\n",
    "\n",
    "def generate_all_combinations(df, sample_percentage=1):\n",
    "    if not 0 < sample_percentage <= 1:\n",
    "        raise ValueError(\"sample_percentage must be between 0 and 100\")\n",
    "    unique_values = {col: df[col].unique() for col in df.columns}\n",
    "    combinations = list(itertools.product(*unique_values.values()))\n",
    "    total_combinations = len(combinations)\n",
    "    sample_size = int(round(total_combinations * sample_percentage))\n",
    "    if sample_percentage < 1:\n",
    "        combinations = random.sample(combinations, sample_size)\n",
    "    result = pd.DataFrame(combinations, columns=unique_values.keys())\n",
    "    return result\n"
   ],
   "id": "4c10dd1ac90ad547",
   "outputs": [],
   "execution_count": 10
  },
  {
   "metadata": {
    "ExecuteTime": {
     "end_time": "2024-11-21T02:20:50.551789Z",
     "start_time": "2024-11-21T02:20:47.925458Z"
    }
   },
   "cell_type": "code",
   "source": [
    "df_synth_cols = df_synth[feature_cols + ['group_key']]\n",
    "df_synth_cols.rename(columns={'group_key': 'label'}, inplace=True)\n",
    "df_synth_new = generate_all_combinations(df_synth_cols[feature_cols], 0.0005)\n",
    "df_synth_new.shape, df_synth_cols.shape"
   ],
   "id": "f22f6a4eec0af2c5",
   "outputs": [
    {
     "data": {
      "text/plain": [
       "((6221, 10), (385, 11))"
      ]
     },
     "execution_count": 11,
     "metadata": {},
     "output_type": "execute_result"
    }
   ],
   "execution_count": 11
  },
  {
   "metadata": {
    "ExecuteTime": {
     "end_time": "2024-11-21T02:20:50.574224Z",
     "start_time": "2024-11-21T02:20:50.551789Z"
    }
   },
   "cell_type": "code",
   "source": [
    "df_synth_new['label'] = None\n",
    "df_synth_res = pd.concat([df_synth_cols, df_synth_new], ignore_index=True)"
   ],
   "id": "4e6b00bc75c9a21a",
   "outputs": [],
   "execution_count": 12
  },
  {
   "metadata": {
    "ExecuteTime": {
     "end_time": "2024-11-21T02:20:50.623867Z",
     "start_time": "2024-11-21T02:20:50.612043Z"
    }
   },
   "cell_type": "code",
   "source": [
    "df_result_res = df_result[feature_cols + ['is_couple_part_of_a_group']]\n",
    "df_result_res.rename(columns={'is_couple_part_of_a_group': 'label'}, inplace=True)\n",
    "df_result_res_label = df_result_res['label'].replace({'0': 'not_part_of_a_group', '1': 'part_of_a_group'}).tolist()"
   ],
   "id": "410afec93696134a",
   "outputs": [],
   "execution_count": 13
  },
  {
   "metadata": {
    "ExecuteTime": {
     "end_time": "2024-11-21T02:22:03.504974Z",
     "start_time": "2024-11-21T02:20:50.694259Z"
    }
   },
   "cell_type": "code",
   "source": [
    "from sklearn.preprocessing import LabelEncoder, StandardScaler\n",
    "from umap.umap_ import UMAP\n",
    "\n",
    "\n",
    "def preprocess(df):\n",
    "    if \"\" in df.columns:\n",
    "        df = df.drop(\"\", axis=1)\n",
    "\n",
    "    X_columns = [col for col in df.columns if col != 'label']\n",
    "    X = df[X_columns].values\n",
    "    y = df['label'].values\n",
    "\n",
    "    # Handle string labels with LabelEncoder\n",
    "    le = LabelEncoder()\n",
    "    mask = ~pd.isna(y)\n",
    "    y_encoded = np.full(len(y), -1)  # Initialize all with -1\n",
    "    if mask.any():\n",
    "        y_encoded[mask] = le.fit_transform(y[mask])\n",
    "\n",
    "    scaler = StandardScaler()\n",
    "    X_scaled = scaler.fit_transform(X)\n",
    "\n",
    "    df[X_columns] = X_scaled\n",
    "    df['label'] = y_encoded\n",
    "\n",
    "    return df\n",
    "\n",
    "\n",
    "df_synth_res_processed = preprocess(df_synth_res)\n",
    "df_synth_res_processed1 = preprocess(df_synth_cols)\n",
    "df_synth_res_processed2 = preprocess(df_synth_new)\n",
    "\n",
    "umap_reducer = UMAP(\n",
    "    min_dist=0.001,\n",
    "    n_neighbors=10,\n",
    "    n_components=2,\n",
    "    init='pca',\n",
    "    metric='euclidean',\n",
    "    target_metric='categorical',\n",
    "    target_weight=0.7,\n",
    "    random_state=42,\n",
    "    n_epochs=1000,\n",
    "    verbose=True\n",
    ")\n",
    "\n",
    "embedding1 = umap_reducer.fit_transform(df_synth_res_processed1[feature_cols],\n",
    "                                        df_synth_res_processed1['label'].tolist())\n",
    "embedding2 = umap_reducer.transform(df_synth_res_processed2[feature_cols])\n",
    "embedding3 = umap_reducer.transform(preprocess(df_result_res)[feature_cols])\n",
    "embedding = np.concatenate((embedding1, embedding2, embedding3), axis=0)"
   ],
   "id": "d8a1f5c0751e7b41",
   "outputs": [
    {
     "name": "stdout",
     "output_type": "stream",
     "text": [
      "UMAP(init='pca', min_dist=0.001, n_epochs=1000, n_jobs=1, n_neighbors=10, random_state=42, target_weight=0.7, verbose=True)\n",
      "Wed Nov 20 21:21:09 2024 Construct fuzzy simplicial set\n",
      "Wed Nov 20 21:21:10 2024 Finding Nearest Neighbors\n",
      "Wed Nov 20 21:21:15 2024 Finished Nearest Neighbor Search\n",
      "Wed Nov 20 21:21:21 2024 Construct embedding\n"
     ]
    },
    {
     "name": "stderr",
     "output_type": "stream",
     "text": [
      "Epochs completed:   2%| ▏          24/1000 [00:02]"
     ]
    },
    {
     "name": "stdout",
     "output_type": "stream",
     "text": [
      "\tcompleted  0  /  1000 epochs\n"
     ]
    },
    {
     "name": "stderr",
     "output_type": "stream",
     "text": [
      "Epochs completed:  13%| █▎         131/1000 [00:02]"
     ]
    },
    {
     "name": "stdout",
     "output_type": "stream",
     "text": [
      "\tcompleted  100  /  1000 epochs\n"
     ]
    },
    {
     "name": "stderr",
     "output_type": "stream",
     "text": [
      "Epochs completed:  22%| ██▏        220/1000 [00:03]"
     ]
    },
    {
     "name": "stdout",
     "output_type": "stream",
     "text": [
      "\tcompleted  200  /  1000 epochs\n"
     ]
    },
    {
     "name": "stderr",
     "output_type": "stream",
     "text": [
      "Epochs completed:  33%| ███▎       328/1000 [00:03]"
     ]
    },
    {
     "name": "stdout",
     "output_type": "stream",
     "text": [
      "\tcompleted  300  /  1000 epochs\n"
     ]
    },
    {
     "name": "stderr",
     "output_type": "stream",
     "text": [
      "Epochs completed:  44%| ████▍      438/1000 [00:04]"
     ]
    },
    {
     "name": "stdout",
     "output_type": "stream",
     "text": [
      "\tcompleted  400  /  1000 epochs\n"
     ]
    },
    {
     "name": "stderr",
     "output_type": "stream",
     "text": [
      "Epochs completed:  53%| █████▎     527/1000 [00:04]"
     ]
    },
    {
     "name": "stdout",
     "output_type": "stream",
     "text": [
      "\tcompleted  500  /  1000 epochs\n"
     ]
    },
    {
     "name": "stderr",
     "output_type": "stream",
     "text": [
      "Epochs completed:  63%| ██████▎    634/1000 [00:05]"
     ]
    },
    {
     "name": "stdout",
     "output_type": "stream",
     "text": [
      "\tcompleted  600  /  1000 epochs\n"
     ]
    },
    {
     "name": "stderr",
     "output_type": "stream",
     "text": [
      "Epochs completed:  72%| ███████▏   722/1000 [00:05]"
     ]
    },
    {
     "name": "stdout",
     "output_type": "stream",
     "text": [
      "\tcompleted  700  /  1000 epochs\n"
     ]
    },
    {
     "name": "stderr",
     "output_type": "stream",
     "text": [
      "Epochs completed:  83%| ████████▎  832/1000 [00:06]"
     ]
    },
    {
     "name": "stdout",
     "output_type": "stream",
     "text": [
      "\tcompleted  800  /  1000 epochs\n"
     ]
    },
    {
     "name": "stderr",
     "output_type": "stream",
     "text": [
      "Epochs completed:  92%| █████████▏ 921/1000 [00:06]"
     ]
    },
    {
     "name": "stdout",
     "output_type": "stream",
     "text": [
      "\tcompleted  900  /  1000 epochs\n"
     ]
    },
    {
     "name": "stderr",
     "output_type": "stream",
     "text": [
      "Epochs completed: 100%| ██████████ 1000/1000 [00:06]\n"
     ]
    },
    {
     "name": "stdout",
     "output_type": "stream",
     "text": [
      "Wed Nov 20 21:21:28 2024 Finished embedding\n"
     ]
    },
    {
     "name": "stderr",
     "output_type": "stream",
     "text": [
      "Epochs completed:   2%| ▏          7/333 [00:00]"
     ]
    },
    {
     "name": "stdout",
     "output_type": "stream",
     "text": [
      "\tcompleted  0  /  333 epochs\n"
     ]
    },
    {
     "name": "stderr",
     "output_type": "stream",
     "text": [
      "Epochs completed:  13%| █▎         42/333 [00:00]"
     ]
    },
    {
     "name": "stdout",
     "output_type": "stream",
     "text": [
      "\tcompleted  33  /  333 epochs\n"
     ]
    },
    {
     "name": "stderr",
     "output_type": "stream",
     "text": [
      "Epochs completed:  23%| ██▎        76/333 [00:01]"
     ]
    },
    {
     "name": "stdout",
     "output_type": "stream",
     "text": [
      "\tcompleted  66  /  333 epochs\n"
     ]
    },
    {
     "name": "stderr",
     "output_type": "stream",
     "text": [
      "Epochs completed:  32%| ███▏       106/333 [00:02]"
     ]
    },
    {
     "name": "stdout",
     "output_type": "stream",
     "text": [
      "\tcompleted  99  /  333 epochs\n"
     ]
    },
    {
     "name": "stderr",
     "output_type": "stream",
     "text": [
      "Epochs completed:  43%| ████▎      142/333 [00:02]"
     ]
    },
    {
     "name": "stdout",
     "output_type": "stream",
     "text": [
      "\tcompleted  132  /  333 epochs\n"
     ]
    },
    {
     "name": "stderr",
     "output_type": "stream",
     "text": [
      "Epochs completed:  51%| █████      169/333 [00:03]"
     ]
    },
    {
     "name": "stdout",
     "output_type": "stream",
     "text": [
      "\tcompleted  165  /  333 epochs\n"
     ]
    },
    {
     "name": "stderr",
     "output_type": "stream",
     "text": [
      "Epochs completed:  62%| ██████▏    208/333 [00:04]"
     ]
    },
    {
     "name": "stdout",
     "output_type": "stream",
     "text": [
      "\tcompleted  198  /  333 epochs\n"
     ]
    },
    {
     "name": "stderr",
     "output_type": "stream",
     "text": [
      "Epochs completed:  72%| ███████▏   241/333 [00:04]"
     ]
    },
    {
     "name": "stdout",
     "output_type": "stream",
     "text": [
      "\tcompleted  231  /  333 epochs\n"
     ]
    },
    {
     "name": "stderr",
     "output_type": "stream",
     "text": [
      "Epochs completed:  82%| ████████▏  273/333 [00:05]"
     ]
    },
    {
     "name": "stdout",
     "output_type": "stream",
     "text": [
      "\tcompleted  264  /  333 epochs\n"
     ]
    },
    {
     "name": "stderr",
     "output_type": "stream",
     "text": [
      "Epochs completed:  92%| █████████▏ 306/333 [00:06]"
     ]
    },
    {
     "name": "stdout",
     "output_type": "stream",
     "text": [
      "\tcompleted  297  /  333 epochs\n"
     ]
    },
    {
     "name": "stderr",
     "output_type": "stream",
     "text": [
      "Epochs completed: 100%| ██████████ 333/333 [00:06]\n"
     ]
    },
    {
     "name": "stdout",
     "output_type": "stream",
     "text": [
      "\tcompleted  330  /  333 epochs\n"
     ]
    },
    {
     "name": "stderr",
     "output_type": "stream",
     "text": [
      "Epochs completed:   2%| ▏          6/333 [00:00]"
     ]
    },
    {
     "name": "stdout",
     "output_type": "stream",
     "text": [
      "\tcompleted  0  /  333 epochs\n"
     ]
    },
    {
     "name": "stderr",
     "output_type": "stream",
     "text": [
      "Epochs completed:  11%| █          37/333 [00:01]"
     ]
    },
    {
     "name": "stdout",
     "output_type": "stream",
     "text": [
      "\tcompleted  33  /  333 epochs\n"
     ]
    },
    {
     "name": "stderr",
     "output_type": "stream",
     "text": [
      "Epochs completed:  21%| ██         69/333 [00:02]"
     ]
    },
    {
     "name": "stdout",
     "output_type": "stream",
     "text": [
      "\tcompleted  66  /  333 epochs\n"
     ]
    },
    {
     "name": "stderr",
     "output_type": "stream",
     "text": [
      "Epochs completed:  32%| ███▏       105/333 [00:03]"
     ]
    },
    {
     "name": "stdout",
     "output_type": "stream",
     "text": [
      "\tcompleted  99  /  333 epochs\n"
     ]
    },
    {
     "name": "stderr",
     "output_type": "stream",
     "text": [
      "Epochs completed:  41%| ████       137/333 [00:04]"
     ]
    },
    {
     "name": "stdout",
     "output_type": "stream",
     "text": [
      "\tcompleted  132  /  333 epochs\n"
     ]
    },
    {
     "name": "stderr",
     "output_type": "stream",
     "text": [
      "Epochs completed:  51%| █████      169/333 [00:05]"
     ]
    },
    {
     "name": "stdout",
     "output_type": "stream",
     "text": [
      "\tcompleted  165  /  333 epochs\n"
     ]
    },
    {
     "name": "stderr",
     "output_type": "stream",
     "text": [
      "Epochs completed:  62%| ██████▏    205/333 [00:06]"
     ]
    },
    {
     "name": "stdout",
     "output_type": "stream",
     "text": [
      "\tcompleted  198  /  333 epochs\n"
     ]
    },
    {
     "name": "stderr",
     "output_type": "stream",
     "text": [
      "Epochs completed:  72%| ███████▏   241/333 [00:07]"
     ]
    },
    {
     "name": "stdout",
     "output_type": "stream",
     "text": [
      "\tcompleted  231  /  333 epochs\n"
     ]
    },
    {
     "name": "stderr",
     "output_type": "stream",
     "text": [
      "Epochs completed:  81%| ████████   269/333 [00:08]"
     ]
    },
    {
     "name": "stdout",
     "output_type": "stream",
     "text": [
      "\tcompleted  264  /  333 epochs\n"
     ]
    },
    {
     "name": "stderr",
     "output_type": "stream",
     "text": [
      "Epochs completed:  92%| █████████▏ 305/333 [00:09]"
     ]
    },
    {
     "name": "stdout",
     "output_type": "stream",
     "text": [
      "\tcompleted  297  /  333 epochs\n"
     ]
    },
    {
     "name": "stderr",
     "output_type": "stream",
     "text": [
      "Epochs completed: 100%| ██████████ 333/333 [00:10]"
     ]
    },
    {
     "name": "stdout",
     "output_type": "stream",
     "text": [
      "\tcompleted  330  /  333 epochs\n"
     ]
    },
    {
     "name": "stderr",
     "output_type": "stream",
     "text": [
      "\n"
     ]
    }
   ],
   "execution_count": 14
  },
  {
   "metadata": {
    "ExecuteTime": {
     "end_time": "2024-11-21T02:51:21.601827Z",
     "start_time": "2024-11-21T02:51:12.393465Z"
    }
   },
   "cell_type": "code",
   "source": [
    "import matplotlib.pyplot as plt\n",
    "import numpy as np\n",
    "from scipy.spatial.distance import pdist, squareform\n",
    "\n",
    "\n",
    "def plot_umap(embedding, labels, title=\"UMAP Visualization\", min_distance=None):\n",
    "    # plt.clf()\n",
    "    plt.figure(figsize=(10, 8))\n",
    "\n",
    "    unique_labels = np.unique(labels)\n",
    "\n",
    "    # New brighter and more distinctive color palette\n",
    "    distinctive_colors = [\n",
    "        '#FF0000',  # Bright Red\n",
    "        '#00FF00',  # Bright Green\n",
    "        '#0000FF',  # Bright Blue\n",
    "        '#FF00FF',  # Magenta\n",
    "        '#FFD700',  # Gold\n",
    "        '#00FFFF',  # Cyan\n",
    "        '#FF8C00',  # Dark Orange\n",
    "        '#FF1493',  # Deep Pink\n",
    "        '#32CD32',  # Lime Green\n",
    "        '#8A2BE2',  # Blue Violet\n",
    "        '#00FF7F',  # Spring Green\n",
    "        '#FF4500',  # Orange Red\n",
    "        '#1E90FF',  # Dodger Blue\n",
    "        '#FFFF00',  # Yellow\n",
    "        '#FF69B4'  # Hot Pink\n",
    "    ]\n",
    "\n",
    "    # Ensure we have enough colors\n",
    "    if len(unique_labels) > len(distinctive_colors):\n",
    "        distinctive_colors = distinctive_colors * (len(unique_labels) // len(distinctive_colors) + 1)\n",
    "\n",
    "    label_to_color = dict(zip(unique_labels, distinctive_colors[:len(unique_labels)]))\n",
    "\n",
    "    plt.style.use('dark_background')\n",
    "\n",
    "    distances = squareform(pdist(embedding))\n",
    "\n",
    "    if min_distance is None:\n",
    "        min_distance = np.percentile(distances, 20)\n",
    "\n",
    "    for label in unique_labels:\n",
    "        if label in ['0', '-1', 'not_part_of_a_group', 'part_of_a_group']:  # Skip unlabeled points\n",
    "            continue\n",
    "\n",
    "        mask = labels == label\n",
    "        points = embedding[mask]\n",
    "        color = label_to_color[label]\n",
    "\n",
    "        if len(points) > 1:  # Only connect if there are at least 2 points\n",
    "            # Get distances between points in this group\n",
    "            group_distances = distances[mask][:, mask]\n",
    "\n",
    "            # Connect points that are far apart\n",
    "            for i in range(len(points)):\n",
    "                for j in range(i + 1, len(points)):\n",
    "                    if group_distances[i, j] > min_distance:\n",
    "                        plt.plot([points[i, 0], points[j, 0]],\n",
    "                                 [points[i, 1], points[j, 1]],\n",
    "                                 color=color, alpha=0.2, linestyle='--', zorder=1, linewidth=0.8)\n",
    "\n",
    "    # Plot points on top of connections\n",
    "    for label in unique_labels:\n",
    "        mask = np.array(labels) == label\n",
    "        if label in ['0', '-1']:\n",
    "            plt.scatter(embedding[mask, 0], embedding[mask, 1],\n",
    "                        label='Unlabeled', alpha=0.5, marker='x',\n",
    "                        color='white', zorder=1)\n",
    "\n",
    "        elif label == 'not_part_of_a_group':\n",
    "            plt.scatter(embedding[mask, 0], embedding[mask, 1],\n",
    "                        label='Not in Group', alpha=0.5, marker='x',\n",
    "                        color='red', zorder=3)\n",
    "        \n",
    "        elif label == 'part_of_a_group':\n",
    "            plt.scatter(embedding[mask, 0], embedding[mask, 1],\n",
    "                        label='In Group', alpha=0.5, marker='x',\n",
    "                        color='green', zorder=3)\n",
    "\n",
    "        else:\n",
    "            plt.scatter(embedding[mask, 0], embedding[mask, 1],\n",
    "                        label=f'Class {label}', alpha=1.0,  # Full opacity for maximum visibility\n",
    "                        marker='o', color=label_to_color[label], zorder=2, s=100)  # Increased marker size\n",
    "\n",
    "    plt.title(title, color='white', pad=20)\n",
    "    plt.xlabel(\"UMAP 1\", color='white')\n",
    "    plt.ylabel(\"UMAP 2\", color='white')\n",
    "    plt.legend(bbox_to_anchor=(1.05, 1), loc='upper left', facecolor='black', edgecolor='white')\n",
    "    plt.grid(True, alpha=0.2, color='gray')\n",
    "    plt.tight_layout()\n",
    "\n",
    "    # Style the plot\n",
    "    ax = plt.gca()\n",
    "    ax.set_facecolor('black')  # Set plot background to black\n",
    "    ax.spines['bottom'].set_color('white')\n",
    "    ax.spines['top'].set_color('white')\n",
    "    ax.spines['left'].set_color('white')\n",
    "    ax.spines['right'].set_color('white')\n",
    "    ax.tick_params(colors='white')\n",
    "\n",
    "    plt.show()\n",
    "\n",
    "\n",
    "labels = df_synth_res_processed1['label'].tolist() + df_synth_res_processed2['label'].tolist() + df_result_res_label\n",
    "labels = list(map(lambda x: str(x), labels))\n",
    "\n",
    "plot_umap(embedding, labels)"
   ],
   "id": "27cc71ce8b17d954",
   "outputs": [
    {
     "data": {
      "text/plain": [
       "<Figure size 1000x800 with 1 Axes>"
      ],
      "image/png": "[encoded data removed]"
     },
     "metadata": {},
     "output_type": "display_data"
    }
   ],
   "execution_count": 46
  },
  {
   "metadata": {},
   "cell_type": "code",
   "outputs": [],
   "execution_count": null,
   "source": "",
   "id": "1de6fbd58f730644"
  }
 ],
 "metadata": {
  "kernelspec": {
   "display_name": "Python 3",
   "language": "python",
   "name": "python3"
  },
  "language_info": {
   "codemirror_mode": {
    "name": "ipython",
    "version": 2
   },
   "file_extension": ".py",
   "mimetype": "text/x-python",
   "name": "python",
   "nbconvert_exporter": "python",
   "pygments_lexer": "ipython2",
   "version": "2.7.6"
  }
 },
 "nbformat": 4,
 "nbformat_minor": 5
}
