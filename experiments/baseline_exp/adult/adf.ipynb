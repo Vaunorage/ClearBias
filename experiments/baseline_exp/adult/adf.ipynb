{
 "cells": [
  {
   "metadata": {
    "ExecuteTime": {
     "end_time": "2025-02-21T20:49:43.503759Z",
     "start_time": "2025-02-21T20:49:43.475826Z"
    }
   },
   "cell_type": "code",
   "source": [
    "from matplotlib import pyplot as plt\n",
    "\n",
    "from data_generator.main import get_real_data, generate_from_real_data\n",
    "from data_generator.utils import plot_distribution_comparison\n",
    "from methods.adf.main1 import adf_fairness_testing\n",
    "from methods.utils import reformat_discrimination_results, convert_to_non_float_rows, compare_discriminatory_groups"
   ],
   "id": "c4136ab9bbd80024",
   "outputs": [],
   "execution_count": 17
  },
  {
   "metadata": {
    "ExecuteTime": {
     "end_time": "2025-02-21T20:51:05.371234Z",
     "start_time": "2025-02-21T20:49:44.378926Z"
    }
   },
   "cell_type": "code",
   "source": [
    "# %%\n",
    "data_obj, schema = get_real_data('adult')\n",
    "\n",
    "results_df_origin, metrics_origin = adf_fairness_testing(data_obj, max_global=5000, max_local=2000, max_iter=10,\n",
    "                                                         cluster_num=50, random_seed=42)"
   ],
   "id": "942fd3751c1b5c07",
   "outputs": [
    {
     "name": "stderr",
     "output_type": "stream",
     "text": [
      "2025-02-21 15:50:19 - ADF - INFO - Dataset shape: (48842, 14)\n",
      "2025-02-21 15:50:19 - ADF - INFO - Protected attributes: ['Attr7_T', 'Attr8_T']\n",
      "2025-02-21 15:50:24 - ADF - INFO - Model training score: 0.9737\n",
      "2025-02-21 15:50:24 - ADF - INFO - Model test score: 0.8408\n",
      "2025-02-21 15:50:24 - ADF - INFO - Testing data shape: (48842, 13)\n",
      "2025-02-21 15:50:29 - ADF - INFO - Created 50 clusters with sizes: [2816, 2386, 2275, 1880, 1822, 1642, 1548, 1479, 1402, 1399, 1374, 1363, 1358, 1295, 1291, 1264, 1241, 1177, 1094, 1021, 973, 968, 916, 908, 895, 874, 871, 811, 795, 763, 654, 652, 641, 638, 561, 533, 481, 476, 472, 454, 444, 431, 422, 420, 417, 396, 291, 224, 206, 128]\n",
      "2025-02-21 15:50:29 - ADF - INFO - Current Metrics - TSN: 1, DSN: 0, DSR: 0.0000\n",
      "2025-02-21 15:50:31 - ADF - INFO - Current Metrics - TSN: 833, DSN: 83, DSR: 9.9640\n",
      "2025-02-21 15:50:32 - ADF - INFO - Current Metrics - TSN: 1695, DSN: 169, DSR: 9.9705\n",
      "2025-02-21 15:50:34 - ADF - INFO - Current Metrics - TSN: 2641, DSN: 255, DSR: 9.6554\n",
      "2025-02-21 15:50:36 - ADF - INFO - Current Metrics - TSN: 3587, DSN: 341, DSR: 9.5066\n",
      "2025-02-21 15:50:37 - ADF - INFO - Current Metrics - TSN: 4253, DSN: 407, DSR: 9.5697\n",
      "2025-02-21 15:50:37 - ADF - INFO - Current Metrics - TSN: 4253, DSN: 407, DSR: 9.5697\n",
      "2025-02-21 15:50:37 - ADF - INFO - Current Metrics - TSN: 4253, DSN: 407, DSR: 9.5697\n",
      "2025-02-21 15:50:38 - ADF - INFO - Current Metrics - TSN: 4253, DSN: 407, DSR: 9.5697\n",
      "2025-02-21 15:50:40 - ADF - INFO - Current Metrics - TSN: 4253, DSN: 407, DSR: 9.5697\n",
      "2025-02-21 15:50:41 - ADF - INFO - Current Metrics - TSN: 4571, DSN: 469, DSR: 10.2603\n",
      "2025-02-21 15:50:43 - ADF - INFO - Current Metrics - TSN: 5421, DSN: 639, DSR: 11.7875\n",
      "2025-02-21 15:50:44 - ADF - INFO - Current Metrics - TSN: 6316, DSN: 811, DSR: 12.8404\n",
      "2025-02-21 15:50:46 - ADF - INFO - Current Metrics - TSN: 7262, DSN: 983, DSR: 13.5362\n",
      "2025-02-21 15:50:48 - ADF - INFO - Current Metrics - TSN: 8181, DSN: 1155, DSR: 14.1181\n",
      "2025-02-21 15:50:48 - ADF - INFO - Current Metrics - TSN: 8511, DSN: 1221, DSR: 14.3461\n",
      "2025-02-21 15:50:48 - ADF - INFO - Current Metrics - TSN: 8511, DSN: 1221, DSR: 14.3461\n",
      "2025-02-21 15:50:48 - ADF - INFO - Current Metrics - TSN: 8511, DSN: 1221, DSR: 14.3461\n",
      "2025-02-21 15:50:49 - ADF - INFO - Current Metrics - TSN: 8631, DSN: 1245, DSR: 14.4247\n",
      "2025-02-21 15:50:49 - ADF - INFO - Current Metrics - TSN: 8631, DSN: 1245, DSR: 14.4247\n",
      "2025-02-21 15:50:49 - ADF - INFO - Current Metrics - TSN: 8631, DSN: 1245, DSR: 14.4247\n",
      "2025-02-21 15:50:50 - ADF - INFO - Current Metrics - TSN: 8751, DSN: 1269, DSR: 14.5012\n",
      "2025-02-21 15:50:50 - ADF - INFO - Current Metrics - TSN: 8751, DSN: 1269, DSR: 14.5012\n",
      "2025-02-21 15:50:50 - ADF - INFO - Current Metrics - TSN: 8751, DSN: 1269, DSR: 14.5012\n",
      "2025-02-21 15:50:50 - ADF - INFO - Current Metrics - TSN: 8871, DSN: 1293, DSR: 14.5756\n",
      "2025-02-21 15:50:50 - ADF - INFO - Current Metrics - TSN: 8871, DSN: 1293, DSR: 14.5756\n",
      "2025-02-21 15:50:50 - ADF - INFO - Current Metrics - TSN: 8871, DSN: 1293, DSR: 14.5756\n",
      "2025-02-21 15:50:50 - ADF - INFO - Current Metrics - TSN: 8991, DSN: 1317, DSR: 14.6480\n",
      "2025-02-21 15:50:51 - ADF - INFO - Current Metrics - TSN: 8991, DSN: 1317, DSR: 14.6480\n",
      "2025-02-21 15:50:51 - ADF - INFO - Current Metrics - TSN: 8991, DSN: 1317, DSR: 14.6480\n",
      "2025-02-21 15:50:51 - ADF - INFO - Current Metrics - TSN: 9111, DSN: 1341, DSR: 14.7185\n",
      "2025-02-21 15:50:51 - ADF - INFO - Current Metrics - TSN: 9111, DSN: 1341, DSR: 14.7185\n",
      "2025-02-21 15:50:51 - ADF - INFO - Current Metrics - TSN: 9111, DSN: 1341, DSR: 14.7185\n",
      "2025-02-21 15:50:54 - ADF - INFO - Current Metrics - TSN: 9182, DSN: 1341, DSR: 14.6047\n",
      "2025-02-21 15:50:56 - ADF - INFO - Current Metrics - TSN: 9303, DSN: 1365, DSR: 14.6727\n",
      "2025-02-21 15:50:56 - ADF - INFO - Current Metrics - TSN: 9303, DSN: 1365, DSR: 14.6727\n",
      "2025-02-21 15:50:56 - ADF - INFO - Current Metrics - TSN: 9303, DSN: 1365, DSR: 14.6727\n",
      "2025-02-21 15:50:56 - ADF - INFO - Current Metrics - TSN: 9423, DSN: 1377, DSR: 14.6132\n",
      "2025-02-21 15:50:56 - ADF - INFO - Current Metrics - TSN: 9423, DSN: 1377, DSR: 14.6132\n",
      "2025-02-21 15:50:56 - ADF - INFO - Current Metrics - TSN: 9423, DSN: 1377, DSR: 14.6132\n",
      "2025-02-21 15:50:57 - ADF - INFO - Current Metrics - TSN: 9523, DSN: 1397, DSR: 14.6697\n",
      "2025-02-21 15:50:57 - ADF - INFO - Current Metrics - TSN: 9543, DSN: 1401, DSR: 14.6809\n",
      "2025-02-21 15:50:57 - ADF - INFO - Current Metrics - TSN: 9543, DSN: 1401, DSR: 14.6809\n",
      "2025-02-21 15:50:57 - ADF - INFO - Current Metrics - TSN: 9543, DSN: 1401, DSR: 14.6809\n",
      "2025-02-21 15:50:58 - ADF - INFO - Current Metrics - TSN: 9663, DSN: 1425, DSR: 14.7470\n",
      "2025-02-21 15:50:58 - ADF - INFO - Current Metrics - TSN: 9663, DSN: 1425, DSR: 14.7470\n",
      "2025-02-21 15:50:58 - ADF - INFO - Current Metrics - TSN: 9663, DSN: 1425, DSR: 14.7470\n",
      "2025-02-21 15:51:01 - ADF - INFO - Final Results:\n",
      "2025-02-21 15:51:01 - ADF - INFO - Total Time: 41.34s\n",
      "2025-02-21 15:51:01 - ADF - INFO - Final Metrics - TSN: 9735, DSN: 1425, DSR: 0.1464\n",
      "2025-02-21 15:51:01 - ADF - INFO - Success Rate: 0.1464\n",
      "2025-02-21 15:51:01 - ADF - INFO - Search Time per Discriminatory Sample: 0.03s\n"
     ]
    }
   ],
   "execution_count": 18
  },
  {
   "metadata": {
    "ExecuteTime": {
     "end_time": "2025-02-21T20:51:06.628584Z",
     "start_time": "2025-02-21T20:51:05.378247Z"
    }
   },
   "cell_type": "code",
   "source": [
    "# %%\n",
    "non_float_df = convert_to_non_float_rows(results_df_origin, schema)\n",
    "predefined_groups_origin = reformat_discrimination_results(non_float_df, data_obj.dataframe)\n",
    "nb_elements = sum([el.group_size for el in predefined_groups_origin])\n"
   ],
   "id": "1168e8e21ab47315",
   "outputs": [],
   "execution_count": 19
  },
  {
   "metadata": {
    "ExecuteTime": {
     "end_time": "2025-02-21T20:51:35.017798Z",
     "start_time": "2025-02-21T20:51:06.682130Z"
    }
   },
   "cell_type": "code",
   "source": [
    "# %%\n",
    "data_obj_synth, schema = generate_from_real_data('adult', predefined_groups=predefined_groups_origin, extra_rows=1000)"
   ],
   "id": "9d1d1d6177b618a7",
   "outputs": [
    {
     "ename": "TypeError",
     "evalue": "generate_data() got an unexpected keyword argument 'extra_rows'",
     "output_type": "error",
     "traceback": [
      "\u001B[1;31m---------------------------------------------------------------------------\u001B[0m",
      "\u001B[1;31mTypeError\u001B[0m                                 Traceback (most recent call last)",
      "Cell \u001B[1;32mIn[20], line 2\u001B[0m\n\u001B[0;32m      1\u001B[0m \u001B[38;5;66;03m# %%\u001B[39;00m\n\u001B[1;32m----> 2\u001B[0m data_obj_synth, schema \u001B[38;5;241m=\u001B[39m \u001B[43mgenerate_from_real_data\u001B[49m\u001B[43m(\u001B[49m\u001B[38;5;124;43m'\u001B[39;49m\u001B[38;5;124;43madult\u001B[39;49m\u001B[38;5;124;43m'\u001B[39;49m\u001B[43m,\u001B[49m\u001B[43m \u001B[49m\u001B[43mpredefined_groups\u001B[49m\u001B[38;5;241;43m=\u001B[39;49m\u001B[43mpredefined_groups_origin\u001B[49m\u001B[43m,\u001B[49m\u001B[43m \u001B[49m\u001B[43mextra_rows\u001B[49m\u001B[38;5;241;43m=\u001B[39;49m\u001B[38;5;241;43m1000\u001B[39;49m\u001B[43m)\u001B[49m\n",
      "File \u001B[1;32m~\\PycharmProjects\\ClearBias\\data_generator\\main.py:1735\u001B[0m, in \u001B[0;36mgenerate_from_real_data\u001B[1;34m(dataset_name, use_cache, *args, **kwargs)\u001B[0m\n\u001B[0;32m   1726\u001B[0m     df \u001B[38;5;241m=\u001B[39m df\u001B[38;5;241m.\u001B[39mdrop(columns\u001B[38;5;241m=\u001B[39mconfig[\u001B[38;5;124m'\u001B[39m\u001B[38;5;124mdrop_columns\u001B[39m\u001B[38;5;124m'\u001B[39m])\n\u001B[0;32m   1728\u001B[0m \u001B[38;5;66;03m# Generate schema from the dataframe\u001B[39;00m\n\u001B[0;32m   1729\u001B[0m schema, correlation_matrix, column_mapping, enc_df \u001B[38;5;241m=\u001B[39m generate_schema_from_dataframe(\n\u001B[0;32m   1730\u001B[0m     df,\n\u001B[0;32m   1731\u001B[0m     protected_columns\u001B[38;5;241m=\u001B[39mconfig[\u001B[38;5;124m'\u001B[39m\u001B[38;5;124mprotected_columns\u001B[39m\u001B[38;5;124m'\u001B[39m],\n\u001B[0;32m   1732\u001B[0m     outcome_column\u001B[38;5;241m=\u001B[39mconfig[\u001B[38;5;124m'\u001B[39m\u001B[38;5;124moutcome_column\u001B[39m\u001B[38;5;124m'\u001B[39m],\n\u001B[0;32m   1733\u001B[0m     use_attr_naming_pattern\u001B[38;5;241m=\u001B[39m\u001B[38;5;28;01mTrue\u001B[39;00m,\n\u001B[0;32m   1734\u001B[0m     ensure_positive_definite\u001B[38;5;241m=\u001B[39m\u001B[38;5;28;01mTrue\u001B[39;00m\n\u001B[1;32m-> 1735\u001B[0m )\n\u001B[0;32m   1737\u001B[0m data \u001B[38;5;241m=\u001B[39m DiscriminationData(\n\u001B[0;32m   1738\u001B[0m     dataframe\u001B[38;5;241m=\u001B[39menc_df,\n\u001B[0;32m   1739\u001B[0m     categorical_columns\u001B[38;5;241m=\u001B[39m\u001B[38;5;28mlist\u001B[39m(schema\u001B[38;5;241m.\u001B[39mattr_names) \u001B[38;5;241m+\u001B[39m [\u001B[38;5;124m'\u001B[39m\u001B[38;5;124moutcome\u001B[39m\u001B[38;5;124m'\u001B[39m],\n\u001B[1;32m   (...)\u001B[0m\n\u001B[0;32m   1746\u001B[0m     attr_possible_values\u001B[38;5;241m=\u001B[39m{}\n\u001B[0;32m   1747\u001B[0m )\n\u001B[0;32m   1749\u001B[0m \u001B[38;5;28;01mreturn\u001B[39;00m data, schema\n",
      "\u001B[1;31mTypeError\u001B[0m: generate_data() got an unexpected keyword argument 'extra_rows'"
     ]
    }
   ],
   "execution_count": 20
  },
  {
   "metadata": {},
   "cell_type": "code",
   "outputs": [],
   "execution_count": null,
   "source": [
    "fig = plot_distribution_comparison(schema, data_obj_synth)\n",
    "plt.show()"
   ],
   "id": "db8886b04f279677"
  },
  {
   "metadata": {},
   "cell_type": "code",
   "outputs": [],
   "execution_count": null,
   "source": [
    "results_df_synth, metrics_synth = adf_fairness_testing(data_obj_synth, max_global=7000, max_local=2000, max_iter=30,\n",
    "                                                       cluster_num=50, random_seed=42)"
   ],
   "id": "796e3cc0155df4e1"
  },
  {
   "metadata": {},
   "cell_type": "code",
   "outputs": [],
   "execution_count": null,
   "source": [
    "# %%\n",
    "predefined_groups_synth = reformat_discrimination_results(convert_to_non_float_rows(results_df_synth, schema),\n",
    "                                                          data_obj.dataframe)\n",
    "\n",
    "comparison_results = compare_discriminatory_groups(predefined_groups_origin, predefined_groups_synth)\n",
    "\n",
    "print(\"Dddd\")"
   ],
   "id": "8624c06cf9ea7b02"
  },
  {
   "metadata": {},
   "cell_type": "code",
   "outputs": [],
   "execution_count": null,
   "source": "",
   "id": "d17abc04c2d9f4ff"
  }
 ],
 "metadata": {
  "kernelspec": {
   "display_name": "Python 3",
   "language": "python",
   "name": "python3"
  },
  "language_info": {
   "codemirror_mode": {
    "name": "ipython",
    "version": 2
   },
   "file_extension": ".py",
   "mimetype": "text/x-python",
   "name": "python",
   "nbconvert_exporter": "python",
   "pygments_lexer": "ipython2",
   "version": "2.7.6"
  }
 },
 "nbformat": 4,
 "nbformat_minor": 5
}
