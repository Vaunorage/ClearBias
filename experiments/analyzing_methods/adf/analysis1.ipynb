{
 "cells": [
  {
   "metadata": {},
   "cell_type": "markdown",
   "source": [
    "### How ADF works ?\n",
    "\n",
    "The algorithm operates in two phases :\n",
    "\n",
    "Phase 1: Global Generation\n",
    "\n",
    "It starts by clustering the original dataset and selecting diverse seed instances\n",
    "For each seed, it calculates gradients to understand how the model's output would change with input modifications\n",
    "It uses this gradient information to strategically perturb non-protected attributes in directions that are most likely to reveal discriminatory behavior\n",
    "The goal is to find pairs of instances that differ only in protected attributes (like gender or race) but receive different model predictions\n",
    "\n",
    "Phase 2: Local Generation\n",
    "\n",
    "Once discriminatory instances are found in the global phase, the algorithm explores their neighborhoods\n",
    "It uses the absolute values of gradients to identify which attributes have minimal impact on the model's output\n",
    "It then makes small perturbations to these less-influential attributes while maintaining the discriminatory behavior\n",
    "This generates more discriminatory examples that can be used for model retraining\n",
    "\n",
    "The key innovation is using gradient information as a guide rather than random sampling, which makes the search much more efficient."
   ],
   "id": "72323b1e533025df"
  },
  {
   "metadata": {},
   "cell_type": "markdown",
   "source": [
    "### Failure points of the testing :\n",
    "\n",
    "1. Limited dataset selection - The study only uses three datasets (Census Income, German Credit, and Bank Marketing), which are relatively small and simple compared to modern large-scale datasets. This narrow selection raises questions about how well the approach would generalize to more complex, high-dimensional data.\n",
    "2. Hyperparameter sensitivity - The paper acknowledges that the step-size parameters in their ADF approach are dataset-dependent, and for datasets with non-categorical attributes, \"further research may be necessary to identify an effective step-size.\" This suggests the approach might not be robust across different types of data without careful tuning.\n",
    "3. Gradient dependency - The approach relies heavily on gradient computation, which might not be effective for non-differentiable or discretized features or models.\n",
    "\n"
   ],
   "id": "e1ee59c0a3f8734e"
  },
  {
   "metadata": {},
   "cell_type": "markdown",
   "source": [
    "### Analysis\n",
    "\n",
    "#### Custom Analysis\n",
    "\n",
    "We would like to see analysis to demonstrate the problems with this method. We would like to see how the model behaves in these conditions :\n",
    "\n",
    "1. Discrete attribute challenges: Generate datasets with mostly categorical attributes (categorical_columns) with many possible values. Since ADF uses gradients which work best with continuous data, the step-size parameter might struggle with meaningful perturbations on these discrete spaces.\n",
    "2. Gradient masking effects: Design datasets where small changes in non-protected attributes cause significant output changes in some regions but minimal changes in others. This would create areas where gradient information is misleading.\n",
    "3. Uncertainty regions: Use the min_alea_uncertainty and min_epis_uncertainty parameters to create regions of high uncertainty where the model's predictions are less stable, challenging the consistency of gradient-based guidance."
   ],
   "id": "c624a4fd4ea44cf1"
  },
  {
   "cell_type": "code",
   "id": "initial_id",
   "metadata": {
    "collapsed": true,
    "ExecuteTime": {
     "end_time": "2025-04-05T23:45:48.030376Z",
     "start_time": "2025-04-05T23:45:48.027262Z"
    }
   },
   "source": [
    ""
   ],
   "outputs": [],
   "execution_count": null
  },
  {
   "metadata": {},
   "cell_type": "code",
   "outputs": [],
   "execution_count": null,
   "source": "",
   "id": "ed87d073d41f7572"
  }
 ],
 "metadata": {
  "kernelspec": {
   "display_name": "Python 3",
   "language": "python",
   "name": "python3"
  },
  "language_info": {
   "codemirror_mode": {
    "name": "ipython",
    "version": 2
   },
   "file_extension": ".py",
   "mimetype": "text/x-python",
   "name": "python",
   "nbconvert_exporter": "python",
   "pygments_lexer": "ipython2",
   "version": "2.7.6"
  }
 },
 "nbformat": 4,
 "nbformat_minor": 5
}
