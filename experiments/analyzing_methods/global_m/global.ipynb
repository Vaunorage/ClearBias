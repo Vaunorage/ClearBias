{
 "cells": [
  {
   "metadata": {},
   "cell_type": "markdown",
   "source": [
    "### Global analysis\n",
    "\n",
    "- Discriminations found in data vs found in trained model : We must distinguish between the discriminations that are in the model and not in the data. Someone who runs an analysis might be more interested in a model that performs better in finding discrimination in data. Using an intermediary model like many of them do might yield results that are not real.\n",
    "\n",
    "- The impact of uncertainty : We must check the impact of uncertainty, in case there is an attribute we are not certain about it like a proxy for example (we must use uncertainty quantification methods). How each method handles this case.\n",
    "\n",
    "- The impact of the other parameters : intersectionality, granularity, magnitude, group size\n",
    "\n",
    "- Exploration efficiency : Number of new instances explored (Must create a different TSN for that) and their proximity to the real discrimination. Does the algorithm wonders off too much ?\n",
    "\n",
    "- Robustness Assumption to model: Most of these methods fundamentally rely on the assumption that machine learning models exhibit robustness. If models don't behave consistently in nearby input regions (which is common with complex models), the approach's effectiveness significantly diminishes.\n",
    "\n",
    "- Hyperparamters dependencies : We check how the method performs in case of the datasets used normally for discrimination discovery analysis vs the same datasets but synthetically generated vs new synthetic datasets. We can search the space for each new synthetic dataset in order to see which hyperparameter leads to the best results. Then we can prove it often needs to be an extensive try and error in order to get the best hyperparameters to find the discriminations. "
   ],
   "id": "229cc29b81737d04"
  },
  {
   "metadata": {},
   "cell_type": "code",
   "outputs": [],
   "execution_count": null,
   "source": [
    "Pour réaliser ces expérimentaitons, il faudra enregistrer :\n",
    "- les données de test\n",
    "- les données de recherche de discrimination "
   ],
   "id": "5cc71c61b0c7d60d"
  }
 ],
 "metadata": {
  "kernelspec": {
   "display_name": "Python 3",
   "language": "python",
   "name": "python3"
  },
  "language_info": {
   "codemirror_mode": {
    "name": "ipython",
    "version": 2
   },
   "file_extension": ".py",
   "mimetype": "text/x-python",
   "name": "python",
   "nbconvert_exporter": "python",
   "pygments_lexer": "ipython2",
   "version": "2.7.6"
  }
 },
 "nbformat": 4,
 "nbformat_minor": 5
}
