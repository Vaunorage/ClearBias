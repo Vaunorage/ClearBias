{
 "cells": [
  {
   "cell_type": "code",
   "id": "initial_id",
   "metadata": {
    "collapsed": true,
    "ExecuteTime": {
     "end_time": "2025-04-05T22:35:42.861805Z",
     "start_time": "2025-04-05T22:35:41.717890Z"
    }
   },
   "source": [
    "import pandas as pd\n",
    "import sqlite3\n",
    "from path import HERE\n",
    "conn = sqlite3.connect(HERE.joinpath('experiments/baseline_exp/exp.db'))\n",
    "quer = \"\"\"\n",
    "SELECT\n",
    "    method, AVG(coverage_ratio) avg_coverage_ratio\n",
    "FROM experiment_results\n",
    "GROUP BY method\n",
    "\"\"\"\n",
    "df = pd.read_sql_query(quer, conn)\n",
    "df"
   ],
   "outputs": [
    {
     "data": {
      "text/plain": [
       "     method  avg_coverage_ratio\n",
       "0       adf            0.986320\n",
       "1  aequitas            0.990619\n",
       "2     expga            0.884019\n",
       "3        sg            0.657650"
      ],
      "text/html": [
       "<div>\n",
       "<style scoped>\n",
       "    .dataframe tbody tr th:only-of-type {\n",
       "        vertical-align: middle;\n",
       "    }\n",
       "\n",
       "    .dataframe tbody tr th {\n",
       "        vertical-align: top;\n",
       "    }\n",
       "\n",
       "    .dataframe thead th {\n",
       "        text-align: right;\n",
       "    }\n",
       "</style>\n",
       "<table border=\"1\" class=\"dataframe\">\n",
       "  <thead>\n",
       "    <tr style=\"text-align: right;\">\n",
       "      <th></th>\n",
       "      <th>method</th>\n",
       "      <th>avg_coverage_ratio</th>\n",
       "    </tr>\n",
       "  </thead>\n",
       "  <tbody>\n",
       "    <tr>\n",
       "      <th>0</th>\n",
       "      <td>adf</td>\n",
       "      <td>0.986320</td>\n",
       "    </tr>\n",
       "    <tr>\n",
       "      <th>1</th>\n",
       "      <td>aequitas</td>\n",
       "      <td>0.990619</td>\n",
       "    </tr>\n",
       "    <tr>\n",
       "      <th>2</th>\n",
       "      <td>expga</td>\n",
       "      <td>0.884019</td>\n",
       "    </tr>\n",
       "    <tr>\n",
       "      <th>3</th>\n",
       "      <td>sg</td>\n",
       "      <td>0.657650</td>\n",
       "    </tr>\n",
       "  </tbody>\n",
       "</table>\n",
       "</div>"
      ]
     },
     "execution_count": 1,
     "metadata": {},
     "output_type": "execute_result"
    }
   ],
   "execution_count": 1
  }
 ],
 "metadata": {
  "kernelspec": {
   "display_name": "Python 3",
   "language": "python",
   "name": "python3"
  },
  "language_info": {
   "codemirror_mode": {
    "name": "ipython",
    "version": 2
   },
   "file_extension": ".py",
   "mimetype": "text/x-python",
   "name": "python",
   "nbconvert_exporter": "python",
   "pygments_lexer": "ipython2",
   "version": "2.7.6"
  }
 },
 "nbformat": 4,
 "nbformat_minor": 5
}
