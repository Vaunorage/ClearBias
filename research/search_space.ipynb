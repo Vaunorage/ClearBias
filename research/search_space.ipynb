{
 "cells": [
  {
   "metadata": {},
   "cell_type": "markdown",
   "source": [
    "# Search Space Analysis for Discrimination\n",
    "\n",
    "The search space for discrimination is extensive. Let's consider two key parameters:\n",
    "- **Granularity** ($X$): The possible subset of unprotected attributes considered\n",
    "- **Intersectionality** ($T$): The subset of protected attributes considered\n",
    "\n",
    "The possibilities of choices for the combination of subsets are $2^{|T|}$ and $2^{|X|}$\n",
    "\n",
    "## Definitions\n",
    "\n",
    "| Symbol | Definition |\n",
    "|--------|------------|\n",
    "| $T$ | Set of protected attributes |\n",
    "| $X$ | Set of non-protected attributes |\n",
    "| $\\|T\\|$ | Number of possible protected attributes |\n",
    "| $\\|X\\|$ | Number of possible non-protected attributes |\n",
    "| $t_i$ | Protected attribute $i$ |\n",
    "| $x_i$ | Non-protected attribute $i$ |\n",
    "| $\\|t_i\\|$ | Number of possible values for protected attribute $i$ |\n",
    "| $\\|x_i\\|$ | Number of possible values for non-protected attribute $i$ |\n",
    "\n",
    "## Formula\n",
    "\n",
    "For each subset of attributes selected, we need to:\n",
    "1. Consider all possible ways to select the attributes\n",
    "2. Consider all possible value combinations for those attributes\n",
    "3. Count all possible pairs of these value combinations (as discrimination compares two groups)\n",
    "\n",
    "The formula to calculate the total number of possible discriminatory patterns is:\n",
    "\n",
    "$$P = \\sum_{i=1}^{|T|} \\sum_{j=1}^{|X|} \\binom{|T|}{i} \\binom{|X|}{j} \\binom{(\\prod_{k=1}^{i} |t_k| \\cdot \\prod_{l=1}^{j} |x_l|)}{2}$$\n",
    "\n",
    "Where:\n",
    "- $\\binom{|T|}{i}$ represents the number of ways to select $i$ protected attributes\n",
    "- $\\binom{|X|}{j}$ represents the number of ways to select $j$ non-protected attributes\n",
    "- $\\prod_{k=1}^{i} |t_k|$ multiplies the number of possible values for each selected protected attribute\n",
    "- $\\prod_{l=1}^{j} |x_l|$ multiplies the number of possible values for each selected non-protected attribute\n",
    "- $\\binom{(\\prod_{k=1}^{i} |t_k| \\cdot \\prod_{l=1}^{j} |x_l|)}{2}$ represents the number of possible pairs we can form from all value combinations"
   ],
   "id": "8b0185f22c412b5e"
  },
  {
   "metadata": {
    "ExecuteTime": {
     "end_time": "2025-02-24T02:38:03.341615Z",
     "start_time": "2025-02-24T02:38:03.310824Z"
    }
   },
   "cell_type": "code",
   "source": [
    "from typing import Dict, Set, List, Tuple\n",
    "from itertools import combinations, product, chain\n",
    "from typing import Dict, Set, List\n",
    "import math\n",
    "\n",
    "\n",
    "def get_all_subsets(attributes: Dict[str, Set]) -> List[Dict[str, Set]]:\n",
    "    \"\"\"\n",
    "    Generate all possible subsets of attributes (power set excluding empty set)\n",
    "    \"\"\"\n",
    "    attr_items = list(attributes.items())\n",
    "    n = len(attr_items)\n",
    "    # Generate all possible combinations of indices (excluding empty set)\n",
    "    all_subsets = []\n",
    "    for r in range(1, n + 1):\n",
    "        for combo in combinations(attr_items, r):\n",
    "            all_subsets.append(dict(combo))\n",
    "    return all_subsets\n",
    "\n",
    "\n",
    "def get_all_discrimination_possibilities(\n",
    "        T: Dict[str, Set],  # Protected attributes and their possible values\n",
    "        X: Dict[str, Set]  # Non-protected attributes and their possible values\n",
    ") -> List[Tuple[Dict[str, int], Dict[str, int]]]:\n",
    "    \"\"\"\n",
    "    Returns all possible discrimination patterns by:\n",
    "    1. Generating all possible subsets of T and X\n",
    "    2. For each combination of subsets, generating all possible value combinations\n",
    "    \"\"\"\n",
    "    # Step 1: Generate all possible subsets of T and X\n",
    "    T_subsets = get_all_subsets(T)\n",
    "    X_subsets = get_all_subsets(X)\n",
    "\n",
    "    all_possibilities = []\n",
    "\n",
    "    for T_subset in T_subsets:\n",
    "        for X_subset in X_subsets:\n",
    "            subs = {**T_subset, **X_subset}\n",
    "            possible_subgroups = product(*[list(e) for e in subs.values()])\n",
    "            possible_groups = combinations(possible_subgroups, r=2)\n",
    "            for group in possible_groups:\n",
    "                grp1 = {k: v for k, v in zip(subs.keys(), group[0])}\n",
    "                grp2 = {k: v for k, v in zip(subs.keys(), group[1])}\n",
    "                all_possibilities.append((grp1, grp2))\n",
    "\n",
    "    return all_possibilities\n",
    "\n",
    "\n",
    "def calculate_discrimination_space(\n",
    "        T: Dict[str, Set],\n",
    "        X: Dict[str, Set]\n",
    ") -> int:\n",
    "    \"\"\"\n",
    "    Calculate the size considering pairs of groups\n",
    "    \"\"\"\n",
    "    total = 0\n",
    "\n",
    "    # For each possible subset selection of attributes\n",
    "    for i in range(1, len(T) + 1):\n",
    "        for j in range(1, len(X) + 1):\n",
    "            # Number of ways to select attributes\n",
    "            ct = math.comb(len(T), i)\n",
    "            cx = math.comb(len(X), j)\n",
    "\n",
    "            # For each selection, calculate total number of possible value combinations\n",
    "            num_values_t = math.prod([len(val_set) for val_set in list(T.values())[:i]])\n",
    "            num_values_x = math.prod([len(val_set) for val_set in list(X.values())[:j]])\n",
    "\n",
    "            # Total number of value combinations for this selection\n",
    "            total_combinations = num_values_t * num_values_x\n",
    "\n",
    "            # Number of possible pairs of these combinations\n",
    "            num_pairs = math.comb(total_combinations, 2)\n",
    "\n",
    "            # Add to total\n",
    "            total += ct * cx * num_pairs\n",
    "\n",
    "    return total\n",
    "\n"
   ],
   "id": "b6767eb042a67db0",
   "outputs": [],
   "execution_count": 18
  },
  {
   "metadata": {
    "ExecuteTime": {
     "end_time": "2025-02-24T03:17:05.730442Z",
     "start_time": "2025-02-24T03:17:05.725396Z"
    }
   },
   "cell_type": "code",
   "source": [
    "# Example usage:\n",
    "# Define the attributes and their possible values\n",
    "T = {\n",
    "    't1': {0, 1, 2, 3, 4, 5},\n",
    "    't2': {0, 1, 2, 3, 4, 5},\n",
    "}\n",
    "\n",
    "X = {\n",
    "    'x1': {0, 1, 2, 3, 4, 5},\n",
    "    'x2': {0, 1, 2, 3, 4, 5},\n",
    "    'x3': {0, 1, 2, 3, 4, 5},\n",
    "    'x4': {0, 1, 2, 3, 4, 5},\n",
    "}\n",
    "\n",
    "result = calculate_discrimination_space(T, X)\n",
    "print(f\"Size of discrimination search space: {result}\")\n",
    "\n",
    "# Get all possibilities\n",
    "# all_possibilities = get_all_discrimination_possibilities(T, X)\n",
    "# print(f\"\\nTotal number of possibilities: {len(all_possibilities)}\")\n",
    "# \n",
    "# # Print first few examples\n",
    "# print(\"\\nFirst 5 discrimination patterns:\")\n",
    "# for i, (t_dict, x_dict) in enumerate(all_possibilities[:5], 1):\n",
    "#     print(f\"\\nPattern {i}:\")\n",
    "#     print(f\"Protected attributes subset: {t_dict}\")\n",
    "#     print(f\"Non-protected attributes subset: {x_dict}\")"
   ],
   "id": "251f0820d26fc3d1",
   "outputs": [
    {
     "name": "stdout",
     "output_type": "stream",
     "text": [
      "Size of discrimination search space: 1281867840\n"
     ]
    }
   ],
   "execution_count": 23
  },
  {
   "metadata": {
    "ExecuteTime": {
     "end_time": "2025-02-24T01:22:57.314999Z",
     "start_time": "2025-02-24T01:22:57.308967Z"
    }
   },
   "cell_type": "code",
   "source": "all_possibilities = get_all_discrimination_possibilities(T, X)",
   "id": "666836f3e89c2c4c",
   "outputs": [],
   "execution_count": 14
  },
  {
   "metadata": {
    "ExecuteTime": {
     "end_time": "2025-02-24T01:24:04.519186Z",
     "start_time": "2025-02-24T01:24:04.511784Z"
    }
   },
   "cell_type": "code",
   "source": "all_possibilities",
   "id": "37c255afb806cd0d",
   "outputs": [
    {
     "data": {
      "text/plain": [
       "[({'t1': 0}, {'x1': 0}),\n",
       " ({'t1': 0}, {'x1': 1}),\n",
       " ({'t1': 0}, {'x2': 0}),\n",
       " ({'t1': 0}, {'x2': 1}),\n",
       " ({'t1': 0}, {'x1': 0, 'x2': 0}),\n",
       " ({'t1': 0}, {'x1': 0, 'x2': 1}),\n",
       " ({'t1': 0}, {'x1': 1, 'x2': 0}),\n",
       " ({'t1': 0}, {'x1': 1, 'x2': 1}),\n",
       " ({'t2': 0}, {'x1': 0}),\n",
       " ({'t2': 0}, {'x1': 1}),\n",
       " ({'t2': 0}, {'x2': 0}),\n",
       " ({'t2': 0}, {'x2': 1}),\n",
       " ({'t2': 0}, {'x1': 0, 'x2': 0}),\n",
       " ({'t2': 0}, {'x1': 0, 'x2': 1}),\n",
       " ({'t2': 0}, {'x1': 1, 'x2': 0}),\n",
       " ({'t2': 0}, {'x1': 1, 'x2': 1}),\n",
       " ({'t1': 0, 't2': 0}, {'x1': 0}),\n",
       " ({'t1': 0, 't2': 0}, {'x1': 1}),\n",
       " ({'t1': 0, 't2': 0}, {'x2': 0}),\n",
       " ({'t1': 0, 't2': 0}, {'x2': 1}),\n",
       " ({'t1': 0, 't2': 0}, {'x1': 0, 'x2': 0}),\n",
       " ({'t1': 0, 't2': 0}, {'x1': 0, 'x2': 1}),\n",
       " ({'t1': 0, 't2': 0}, {'x1': 1, 'x2': 0}),\n",
       " ({'t1': 0, 't2': 0}, {'x1': 1, 'x2': 1})]"
      ]
     },
     "execution_count": 17,
     "metadata": {},
     "output_type": "execute_result"
    }
   ],
   "execution_count": 17
  },
  {
   "metadata": {},
   "cell_type": "code",
   "outputs": [],
   "execution_count": null,
   "source": "",
   "id": "7eece6be224944eb"
  }
 ],
 "metadata": {
  "kernelspec": {
   "display_name": "Python 3",
   "language": "python",
   "name": "python3"
  },
  "language_info": {
   "codemirror_mode": {
    "name": "ipython",
    "version": 2
   },
   "file_extension": ".py",
   "mimetype": "text/x-python",
   "name": "python",
   "nbconvert_exporter": "python",
   "pygments_lexer": "ipython2",
   "version": "2.7.6"
  }
 },
 "nbformat": 4,
 "nbformat_minor": 5
}
