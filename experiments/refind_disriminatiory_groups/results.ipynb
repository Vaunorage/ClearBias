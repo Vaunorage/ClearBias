{
 "cells": [
  {
   "metadata": {},
   "cell_type": "markdown",
   "source": "# Aequitas",
   "id": "96fd381daec29722"
  },
  {
   "metadata": {
    "collapsed": true,
    "ExecuteTime": {
     "end_time": "2025-05-17T21:52:21.186999Z",
     "start_time": "2025-05-17T21:52:13.490020Z"
    }
   },
   "cell_type": "code",
   "source": [
    "from methods.aequitas.algo import run_aequitas\n",
    "from matplotlib import pyplot as plt\n",
    "\n",
    "from data_generator.main import get_real_data, generate_from_real_data\n",
    "from data_generator.utils import plot_distribution_comparison\n",
    "from methods.utils import reformat_discrimination_results, convert_to_non_float_rows, compare_discriminatory_groups\n"
   ],
   "id": "initial_id",
   "outputs": [
    {
     "name": "stderr",
     "output_type": "stream",
     "text": [
      "Intel(R) Extension for Scikit-learn* enabled (https://github.com/uxlfoundation/scikit-learn-intelex)\n"
     ]
    }
   ],
   "execution_count": 1
  },
  {
   "metadata": {
    "ExecuteTime": {
     "end_time": "2025-05-17T22:21:46.624116Z",
     "start_time": "2025-05-17T21:52:22.730711Z"
    }
   },
   "cell_type": "code",
   "source": [
    "from methods.optimization.hyperparameter_prediction import get_best_hyperparameters\n",
    "\n",
    "# %%\n",
    "data_obj, schema = get_real_data('adult', use_cache=False)\n",
    "best_params = get_best_hyperparameters('expga', 'adult')\n",
    "\n",
    "results_df_origin, metrics = run_aequitas(data=data_obj, model_type='rf', max_global=100, max_local=1000, step_size=1.0, random_seed=100, max_tsn=40000, one_attr_at_a_time=False)"
   ],
   "id": "9ed281e7cb836a7d",
   "outputs": [
    {
     "name": "stdout",
     "output_type": "stream",
     "text": [
      "Fitting GaussianCopulaSynthesizer...\n",
      "Best parameters for expga on adult:\n",
      "Study: real_adult_expga\n",
      "SUR: 0.3764682361173589\n",
      "DSN: 7532\n",
      "TSN: 20007\n",
      "Training the model...\n"
     ]
    },
    {
     "name": "stderr",
     "output_type": "stream",
     "text": [
      "INFO:aequitas:Training the model...\n",
      "INFO:methods.utils:Loading cached model: e457f67192dd5d45070771471737c5f3_2ea2a41d0c2152180461cbbc3b8c1a77\n"
     ]
    },
    {
     "name": "stdout",
     "output_type": "stream",
     "text": [
      "Model trained. Features: ['Attr1_X', 'Attr2_X', 'Attr3_X', 'Attr4_X', 'Attr5_X', 'Attr6_X', 'Attr7_X', 'Attr8_T', 'Attr9_T', 'Attr10_X', 'Attr11_X', 'Attr12_X', 'Attr13_X']\n"
     ]
    },
    {
     "name": "stderr",
     "output_type": "stream",
     "text": [
      "INFO:aequitas:Model trained. Features: ['Attr1_X', 'Attr2_X', 'Attr3_X', 'Attr4_X', 'Attr5_X', 'Attr6_X', 'Attr7_X', 'Attr8_T', 'Attr9_T', 'Attr10_X', 'Attr11_X', 'Attr12_X', 'Attr13_X']\n"
     ]
    },
    {
     "name": "stdout",
     "output_type": "stream",
     "text": [
      "Total parameters: 13\n"
     ]
    },
    {
     "name": "stderr",
     "output_type": "stream",
     "text": [
      "INFO:aequitas:Total parameters: 13\n"
     ]
    },
    {
     "name": "stdout",
     "output_type": "stream",
     "text": [
      "Input bounds: [(np.int64(0), np.int64(73)), (0, np.int64(8)), (np.int64(0), np.int64(15)), (np.int64(0), np.int64(15)), (np.int64(0), np.int64(6)), (0, np.int64(14)), (np.int64(0), np.int64(5)), (np.int64(0), np.int64(4)), (np.int64(0), np.int64(1)), (np.int64(91), np.int64(99)), (np.int64(94), np.int64(98)), (np.int64(0), np.int64(95)), (0, np.int64(41))]\n"
     ]
    },
    {
     "name": "stderr",
     "output_type": "stream",
     "text": [
      "INFO:aequitas:Input bounds: [(np.int64(0), np.int64(73)), (0, np.int64(8)), (np.int64(0), np.int64(15)), (np.int64(0), np.int64(15)), (np.int64(0), np.int64(6)), (0, np.int64(14)), (np.int64(0), np.int64(5)), (np.int64(0), np.int64(4)), (np.int64(0), np.int64(1)), (np.int64(91), np.int64(99)), (np.int64(94), np.int64(98)), (np.int64(0), np.int64(95)), (0, np.int64(41))]\n"
     ]
    },
    {
     "name": "stdout",
     "output_type": "stream",
     "text": [
      "Protected attribute indices: [7, 8]\n"
     ]
    },
    {
     "name": "stderr",
     "output_type": "stream",
     "text": [
      "INFO:aequitas:Protected attribute indices: [7, 8]\n"
     ]
    },
    {
     "name": "stdout",
     "output_type": "stream",
     "text": [
      "Current Metrics - TSN: 0, DSN: 0, SUR: 0.0000\n"
     ]
    },
    {
     "name": "stderr",
     "output_type": "stream",
     "text": [
      "INFO:aequitas:Current Metrics - TSN: 0, DSN: 0, SUR: 0.0000\n"
     ]
    },
    {
     "name": "stdout",
     "output_type": "stream",
     "text": [
      "Current Metrics - TSN: 90, DSN: 7, SUR: 0.0778\n"
     ]
    },
    {
     "name": "stderr",
     "output_type": "stream",
     "text": [
      "INFO:aequitas:Current Metrics - TSN: 90, DSN: 7, SUR: 0.0778\n"
     ]
    },
    {
     "name": "stdout",
     "output_type": "stream",
     "text": [
      "Current Metrics - TSN: 180, DSN: 8, SUR: 0.0444\n"
     ]
    },
    {
     "name": "stderr",
     "output_type": "stream",
     "text": [
      "INFO:aequitas:Current Metrics - TSN: 180, DSN: 8, SUR: 0.0444\n"
     ]
    },
    {
     "name": "stdout",
     "output_type": "stream",
     "text": [
      "Current Metrics - TSN: 270, DSN: 8, SUR: 0.0296\n"
     ]
    },
    {
     "name": "stderr",
     "output_type": "stream",
     "text": [
      "INFO:aequitas:Current Metrics - TSN: 270, DSN: 8, SUR: 0.0296\n"
     ]
    },
    {
     "name": "stdout",
     "output_type": "stream",
     "text": [
      "Current Metrics - TSN: 360, DSN: 8, SUR: 0.0222\n"
     ]
    },
    {
     "name": "stderr",
     "output_type": "stream",
     "text": [
      "INFO:aequitas:Current Metrics - TSN: 360, DSN: 8, SUR: 0.0222\n"
     ]
    },
    {
     "name": "stdout",
     "output_type": "stream",
     "text": [
      "Current Metrics - TSN: 450, DSN: 9, SUR: 0.0200\n"
     ]
    },
    {
     "name": "stderr",
     "output_type": "stream",
     "text": [
      "INFO:aequitas:Current Metrics - TSN: 450, DSN: 9, SUR: 0.0200\n"
     ]
    },
    {
     "name": "stdout",
     "output_type": "stream",
     "text": [
      "Current Metrics - TSN: 540, DSN: 9, SUR: 0.0167\n"
     ]
    },
    {
     "name": "stderr",
     "output_type": "stream",
     "text": [
      "INFO:aequitas:Current Metrics - TSN: 540, DSN: 9, SUR: 0.0167\n"
     ]
    },
    {
     "name": "stdout",
     "output_type": "stream",
     "text": [
      "Current Metrics - TSN: 630, DSN: 10, SUR: 0.0159\n"
     ]
    },
    {
     "name": "stderr",
     "output_type": "stream",
     "text": [
      "INFO:aequitas:Current Metrics - TSN: 630, DSN: 10, SUR: 0.0159\n"
     ]
    },
    {
     "name": "stdout",
     "output_type": "stream",
     "text": [
      "Current Metrics - TSN: 720, DSN: 10, SUR: 0.0139\n"
     ]
    },
    {
     "name": "stderr",
     "output_type": "stream",
     "text": [
      "INFO:aequitas:Current Metrics - TSN: 720, DSN: 10, SUR: 0.0139\n"
     ]
    },
    {
     "name": "stdout",
     "output_type": "stream",
     "text": [
      "Current Metrics - TSN: 810, DSN: 24, SUR: 0.0296\n"
     ]
    },
    {
     "name": "stderr",
     "output_type": "stream",
     "text": [
      "INFO:aequitas:Current Metrics - TSN: 810, DSN: 24, SUR: 0.0296\n"
     ]
    },
    {
     "name": "stdout",
     "output_type": "stream",
     "text": [
      "Current Metrics - TSN: 900, DSN: 25, SUR: 0.0278\n"
     ]
    },
    {
     "name": "stderr",
     "output_type": "stream",
     "text": [
      "INFO:aequitas:Current Metrics - TSN: 900, DSN: 25, SUR: 0.0278\n"
     ]
    },
    {
     "name": "stdout",
     "output_type": "stream",
     "text": [
      "Current Metrics - TSN: 910, DSN: 25, SUR: 0.0275\n"
     ]
    },
    {
     "name": "stderr",
     "output_type": "stream",
     "text": [
      "INFO:aequitas:Current Metrics - TSN: 910, DSN: 25, SUR: 0.0275\n"
     ]
    },
    {
     "name": "stdout",
     "output_type": "stream",
     "text": [
      "Current Metrics - TSN: 920, DSN: 25, SUR: 0.0272\n"
     ]
    },
    {
     "name": "stderr",
     "output_type": "stream",
     "text": [
      "INFO:aequitas:Current Metrics - TSN: 920, DSN: 25, SUR: 0.0272\n"
     ]
    },
    {
     "name": "stdout",
     "output_type": "stream",
     "text": [
      "Current Metrics - TSN: 930, DSN: 25, SUR: 0.0269\n"
     ]
    },
    {
     "name": "stderr",
     "output_type": "stream",
     "text": [
      "INFO:aequitas:Current Metrics - TSN: 930, DSN: 25, SUR: 0.0269\n"
     ]
    },
    {
     "name": "stdout",
     "output_type": "stream",
     "text": [
      "Current Metrics - TSN: 940, DSN: 25, SUR: 0.0266\n"
     ]
    },
    {
     "name": "stderr",
     "output_type": "stream",
     "text": [
      "INFO:aequitas:Current Metrics - TSN: 940, DSN: 25, SUR: 0.0266\n"
     ]
    },
    {
     "name": "stdout",
     "output_type": "stream",
     "text": [
      "Current Metrics - TSN: 950, DSN: 25, SUR: 0.0263\n"
     ]
    },
    {
     "name": "stderr",
     "output_type": "stream",
     "text": [
      "INFO:aequitas:Current Metrics - TSN: 950, DSN: 25, SUR: 0.0263\n"
     ]
    },
    {
     "name": "stdout",
     "output_type": "stream",
     "text": [
      "Current Metrics - TSN: 960, DSN: 25, SUR: 0.0260\n"
     ]
    },
    {
     "name": "stderr",
     "output_type": "stream",
     "text": [
      "INFO:aequitas:Current Metrics - TSN: 960, DSN: 25, SUR: 0.0260\n"
     ]
    },
    {
     "name": "stdout",
     "output_type": "stream",
     "text": [
      "Current Metrics - TSN: 970, DSN: 25, SUR: 0.0258\n"
     ]
    },
    {
     "name": "stderr",
     "output_type": "stream",
     "text": [
      "INFO:aequitas:Current Metrics - TSN: 970, DSN: 25, SUR: 0.0258\n"
     ]
    },
    {
     "name": "stdout",
     "output_type": "stream",
     "text": [
      "Current Metrics - TSN: 980, DSN: 25, SUR: 0.0255\n"
     ]
    },
    {
     "name": "stderr",
     "output_type": "stream",
     "text": [
      "INFO:aequitas:Current Metrics - TSN: 980, DSN: 25, SUR: 0.0255\n"
     ]
    },
    {
     "name": "stdout",
     "output_type": "stream",
     "text": [
      "Current Metrics - TSN: 990, DSN: 25, SUR: 0.0253\n"
     ]
    },
    {
     "name": "stderr",
     "output_type": "stream",
     "text": [
      "INFO:aequitas:Current Metrics - TSN: 990, DSN: 25, SUR: 0.0253\n"
     ]
    },
    {
     "name": "stdout",
     "output_type": "stream",
     "text": [
      "Current Metrics - TSN: 1000, DSN: 25, SUR: 0.0250\n"
     ]
    },
    {
     "name": "stderr",
     "output_type": "stream",
     "text": [
      "INFO:aequitas:Current Metrics - TSN: 1000, DSN: 25, SUR: 0.0250\n"
     ]
    },
    {
     "name": "stdout",
     "output_type": "stream",
     "text": [
      "Current Metrics - TSN: 1010, DSN: 25, SUR: 0.0248\n"
     ]
    },
    {
     "name": "stderr",
     "output_type": "stream",
     "text": [
      "INFO:aequitas:Current Metrics - TSN: 1010, DSN: 25, SUR: 0.0248\n"
     ]
    },
    {
     "name": "stdout",
     "output_type": "stream",
     "text": [
      "Current Metrics - TSN: 1020, DSN: 25, SUR: 0.0245\n"
     ]
    },
    {
     "name": "stderr",
     "output_type": "stream",
     "text": [
      "INFO:aequitas:Current Metrics - TSN: 1020, DSN: 25, SUR: 0.0245\n"
     ]
    },
    {
     "name": "stdout",
     "output_type": "stream",
     "text": [
      "Current Metrics - TSN: 1030, DSN: 25, SUR: 0.0243\n"
     ]
    },
    {
     "name": "stderr",
     "output_type": "stream",
     "text": [
      "INFO:aequitas:Current Metrics - TSN: 1030, DSN: 25, SUR: 0.0243\n"
     ]
    },
    {
     "name": "stdout",
     "output_type": "stream",
     "text": [
      "Current Metrics - TSN: 1040, DSN: 25, SUR: 0.0240\n"
     ]
    },
    {
     "name": "stderr",
     "output_type": "stream",
     "text": [
      "INFO:aequitas:Current Metrics - TSN: 1040, DSN: 25, SUR: 0.0240\n"
     ]
    },
    {
     "name": "stdout",
     "output_type": "stream",
     "text": [
      "Current Metrics - TSN: 1050, DSN: 25, SUR: 0.0238\n"
     ]
    },
    {
     "name": "stderr",
     "output_type": "stream",
     "text": [
      "INFO:aequitas:Current Metrics - TSN: 1050, DSN: 25, SUR: 0.0238\n"
     ]
    },
    {
     "name": "stdout",
     "output_type": "stream",
     "text": [
      "Current Metrics - TSN: 1060, DSN: 25, SUR: 0.0236\n"
     ]
    },
    {
     "name": "stderr",
     "output_type": "stream",
     "text": [
      "INFO:aequitas:Current Metrics - TSN: 1060, DSN: 25, SUR: 0.0236\n"
     ]
    },
    {
     "name": "stdout",
     "output_type": "stream",
     "text": [
      "Current Metrics - TSN: 1070, DSN: 25, SUR: 0.0234\n"
     ]
    },
    {
     "name": "stderr",
     "output_type": "stream",
     "text": [
      "INFO:aequitas:Current Metrics - TSN: 1070, DSN: 25, SUR: 0.0234\n"
     ]
    },
    {
     "name": "stdout",
     "output_type": "stream",
     "text": [
      "Current Metrics - TSN: 1080, DSN: 25, SUR: 0.0231\n"
     ]
    },
    {
     "name": "stderr",
     "output_type": "stream",
     "text": [
      "INFO:aequitas:Current Metrics - TSN: 1080, DSN: 25, SUR: 0.0231\n"
     ]
    },
    {
     "name": "stdout",
     "output_type": "stream",
     "text": [
      "Current Metrics - TSN: 1090, DSN: 25, SUR: 0.0229\n"
     ]
    },
    {
     "name": "stderr",
     "output_type": "stream",
     "text": [
      "INFO:aequitas:Current Metrics - TSN: 1090, DSN: 25, SUR: 0.0229\n"
     ]
    },
    {
     "name": "stdout",
     "output_type": "stream",
     "text": [
      "Current Metrics - TSN: 1100, DSN: 25, SUR: 0.0227\n"
     ]
    },
    {
     "name": "stderr",
     "output_type": "stream",
     "text": [
      "INFO:aequitas:Current Metrics - TSN: 1100, DSN: 25, SUR: 0.0227\n"
     ]
    },
    {
     "name": "stdout",
     "output_type": "stream",
     "text": [
      "Current Metrics - TSN: 1110, DSN: 25, SUR: 0.0225\n"
     ]
    },
    {
     "name": "stderr",
     "output_type": "stream",
     "text": [
      "INFO:aequitas:Current Metrics - TSN: 1110, DSN: 25, SUR: 0.0225\n"
     ]
    },
    {
     "name": "stdout",
     "output_type": "stream",
     "text": [
      "Current Metrics - TSN: 1120, DSN: 25, SUR: 0.0223\n"
     ]
    },
    {
     "name": "stderr",
     "output_type": "stream",
     "text": [
      "INFO:aequitas:Current Metrics - TSN: 1120, DSN: 25, SUR: 0.0223\n"
     ]
    },
    {
     "name": "stdout",
     "output_type": "stream",
     "text": [
      "Current Metrics - TSN: 1130, DSN: 25, SUR: 0.0221\n"
     ]
    },
    {
     "name": "stderr",
     "output_type": "stream",
     "text": [
      "INFO:aequitas:Current Metrics - TSN: 1130, DSN: 25, SUR: 0.0221\n"
     ]
    },
    {
     "name": "stdout",
     "output_type": "stream",
     "text": [
      "Current Metrics - TSN: 1140, DSN: 25, SUR: 0.0219\n"
     ]
    },
    {
     "name": "stderr",
     "output_type": "stream",
     "text": [
      "INFO:aequitas:Current Metrics - TSN: 1140, DSN: 25, SUR: 0.0219\n"
     ]
    },
    {
     "name": "stdout",
     "output_type": "stream",
     "text": [
      "Current Metrics - TSN: 1150, DSN: 25, SUR: 0.0217\n"
     ]
    },
    {
     "name": "stderr",
     "output_type": "stream",
     "text": [
      "INFO:aequitas:Current Metrics - TSN: 1150, DSN: 25, SUR: 0.0217\n"
     ]
    },
    {
     "name": "stdout",
     "output_type": "stream",
     "text": [
      "Current Metrics - TSN: 1160, DSN: 25, SUR: 0.0216\n"
     ]
    },
    {
     "name": "stderr",
     "output_type": "stream",
     "text": [
      "INFO:aequitas:Current Metrics - TSN: 1160, DSN: 25, SUR: 0.0216\n"
     ]
    },
    {
     "name": "stdout",
     "output_type": "stream",
     "text": [
      "Current Metrics - TSN: 1170, DSN: 25, SUR: 0.0214\n"
     ]
    },
    {
     "name": "stderr",
     "output_type": "stream",
     "text": [
      "INFO:aequitas:Current Metrics - TSN: 1170, DSN: 25, SUR: 0.0214\n"
     ]
    },
    {
     "name": "stdout",
     "output_type": "stream",
     "text": [
      "Current Metrics - TSN: 1180, DSN: 25, SUR: 0.0212\n"
     ]
    },
    {
     "name": "stderr",
     "output_type": "stream",
     "text": [
      "INFO:aequitas:Current Metrics - TSN: 1180, DSN: 25, SUR: 0.0212\n"
     ]
    },
    {
     "name": "stdout",
     "output_type": "stream",
     "text": [
      "Current Metrics - TSN: 1190, DSN: 25, SUR: 0.0210\n"
     ]
    },
    {
     "name": "stderr",
     "output_type": "stream",
     "text": [
      "INFO:aequitas:Current Metrics - TSN: 1190, DSN: 25, SUR: 0.0210\n"
     ]
    },
    {
     "name": "stdout",
     "output_type": "stream",
     "text": [
      "Current Metrics - TSN: 1200, DSN: 25, SUR: 0.0208\n"
     ]
    },
    {
     "name": "stderr",
     "output_type": "stream",
     "text": [
      "INFO:aequitas:Current Metrics - TSN: 1200, DSN: 25, SUR: 0.0208\n"
     ]
    },
    {
     "name": "stdout",
     "output_type": "stream",
     "text": [
      "Current Metrics - TSN: 1210, DSN: 25, SUR: 0.0207\n"
     ]
    },
    {
     "name": "stderr",
     "output_type": "stream",
     "text": [
      "INFO:aequitas:Current Metrics - TSN: 1210, DSN: 25, SUR: 0.0207\n"
     ]
    },
    {
     "name": "stdout",
     "output_type": "stream",
     "text": [
      "Current Metrics - TSN: 1220, DSN: 25, SUR: 0.0205\n"
     ]
    },
    {
     "name": "stderr",
     "output_type": "stream",
     "text": [
      "INFO:aequitas:Current Metrics - TSN: 1220, DSN: 25, SUR: 0.0205\n"
     ]
    },
    {
     "name": "stdout",
     "output_type": "stream",
     "text": [
      "Current Metrics - TSN: 1230, DSN: 25, SUR: 0.0203\n"
     ]
    },
    {
     "name": "stderr",
     "output_type": "stream",
     "text": [
      "INFO:aequitas:Current Metrics - TSN: 1230, DSN: 25, SUR: 0.0203\n"
     ]
    },
    {
     "name": "stdout",
     "output_type": "stream",
     "text": [
      "Current Metrics - TSN: 1240, DSN: 25, SUR: 0.0202\n"
     ]
    },
    {
     "name": "stderr",
     "output_type": "stream",
     "text": [
      "INFO:aequitas:Current Metrics - TSN: 1240, DSN: 25, SUR: 0.0202\n"
     ]
    },
    {
     "name": "stdout",
     "output_type": "stream",
     "text": [
      "Current Metrics - TSN: 1250, DSN: 25, SUR: 0.0200\n"
     ]
    },
    {
     "name": "stderr",
     "output_type": "stream",
     "text": [
      "INFO:aequitas:Current Metrics - TSN: 1250, DSN: 25, SUR: 0.0200\n"
     ]
    },
    {
     "name": "stdout",
     "output_type": "stream",
     "text": [
      "Current Metrics - TSN: 1260, DSN: 25, SUR: 0.0198\n"
     ]
    },
    {
     "name": "stderr",
     "output_type": "stream",
     "text": [
      "INFO:aequitas:Current Metrics - TSN: 1260, DSN: 25, SUR: 0.0198\n"
     ]
    },
    {
     "name": "stdout",
     "output_type": "stream",
     "text": [
      "Current Metrics - TSN: 1270, DSN: 25, SUR: 0.0197\n"
     ]
    },
    {
     "name": "stderr",
     "output_type": "stream",
     "text": [
      "INFO:aequitas:Current Metrics - TSN: 1270, DSN: 25, SUR: 0.0197\n"
     ]
    },
    {
     "name": "stdout",
     "output_type": "stream",
     "text": [
      "Current Metrics - TSN: 1280, DSN: 25, SUR: 0.0195\n"
     ]
    },
    {
     "name": "stderr",
     "output_type": "stream",
     "text": [
      "INFO:aequitas:Current Metrics - TSN: 1280, DSN: 25, SUR: 0.0195\n"
     ]
    },
    {
     "name": "stdout",
     "output_type": "stream",
     "text": [
      "Current Metrics - TSN: 1290, DSN: 25, SUR: 0.0194\n"
     ]
    },
    {
     "name": "stderr",
     "output_type": "stream",
     "text": [
      "INFO:aequitas:Current Metrics - TSN: 1290, DSN: 25, SUR: 0.0194\n"
     ]
    },
    {
     "name": "stdout",
     "output_type": "stream",
     "text": [
      "Current Metrics - TSN: 1300, DSN: 25, SUR: 0.0192\n"
     ]
    },
    {
     "name": "stderr",
     "output_type": "stream",
     "text": [
      "INFO:aequitas:Current Metrics - TSN: 1300, DSN: 25, SUR: 0.0192\n"
     ]
    },
    {
     "name": "stdout",
     "output_type": "stream",
     "text": [
      "Current Metrics - TSN: 1310, DSN: 25, SUR: 0.0191\n"
     ]
    },
    {
     "name": "stderr",
     "output_type": "stream",
     "text": [
      "INFO:aequitas:Current Metrics - TSN: 1310, DSN: 25, SUR: 0.0191\n"
     ]
    },
    {
     "name": "stdout",
     "output_type": "stream",
     "text": [
      "Current Metrics - TSN: 1320, DSN: 25, SUR: 0.0189\n"
     ]
    },
    {
     "name": "stderr",
     "output_type": "stream",
     "text": [
      "INFO:aequitas:Current Metrics - TSN: 1320, DSN: 25, SUR: 0.0189\n"
     ]
    },
    {
     "name": "stdout",
     "output_type": "stream",
     "text": [
      "Current Metrics - TSN: 1330, DSN: 25, SUR: 0.0188\n"
     ]
    },
    {
     "name": "stderr",
     "output_type": "stream",
     "text": [
      "INFO:aequitas:Current Metrics - TSN: 1330, DSN: 25, SUR: 0.0188\n"
     ]
    },
    {
     "name": "stdout",
     "output_type": "stream",
     "text": [
      "Current Metrics - TSN: 1340, DSN: 25, SUR: 0.0187\n"
     ]
    },
    {
     "name": "stderr",
     "output_type": "stream",
     "text": [
      "INFO:aequitas:Current Metrics - TSN: 1340, DSN: 25, SUR: 0.0187\n"
     ]
    },
    {
     "name": "stdout",
     "output_type": "stream",
     "text": [
      "Current Metrics - TSN: 1350, DSN: 25, SUR: 0.0185\n"
     ]
    },
    {
     "name": "stderr",
     "output_type": "stream",
     "text": [
      "INFO:aequitas:Current Metrics - TSN: 1350, DSN: 25, SUR: 0.0185\n"
     ]
    },
    {
     "name": "stdout",
     "output_type": "stream",
     "text": [
      "Current Metrics - TSN: 1360, DSN: 25, SUR: 0.0184\n"
     ]
    },
    {
     "name": "stderr",
     "output_type": "stream",
     "text": [
      "INFO:aequitas:Current Metrics - TSN: 1360, DSN: 25, SUR: 0.0184\n"
     ]
    },
    {
     "name": "stdout",
     "output_type": "stream",
     "text": [
      "Current Metrics - TSN: 1370, DSN: 25, SUR: 0.0182\n"
     ]
    },
    {
     "name": "stderr",
     "output_type": "stream",
     "text": [
      "INFO:aequitas:Current Metrics - TSN: 1370, DSN: 25, SUR: 0.0182\n"
     ]
    },
    {
     "name": "stdout",
     "output_type": "stream",
     "text": [
      "Current Metrics - TSN: 1380, DSN: 25, SUR: 0.0181\n"
     ]
    },
    {
     "name": "stderr",
     "output_type": "stream",
     "text": [
      "INFO:aequitas:Current Metrics - TSN: 1380, DSN: 25, SUR: 0.0181\n"
     ]
    },
    {
     "name": "stdout",
     "output_type": "stream",
     "text": [
      "Current Metrics - TSN: 1390, DSN: 25, SUR: 0.0180\n"
     ]
    },
    {
     "name": "stderr",
     "output_type": "stream",
     "text": [
      "INFO:aequitas:Current Metrics - TSN: 1390, DSN: 25, SUR: 0.0180\n"
     ]
    },
    {
     "name": "stdout",
     "output_type": "stream",
     "text": [
      "Current Metrics - TSN: 1400, DSN: 25, SUR: 0.0179\n"
     ]
    },
    {
     "name": "stderr",
     "output_type": "stream",
     "text": [
      "INFO:aequitas:Current Metrics - TSN: 1400, DSN: 25, SUR: 0.0179\n"
     ]
    },
    {
     "name": "stdout",
     "output_type": "stream",
     "text": [
      "Current Metrics - TSN: 1410, DSN: 25, SUR: 0.0177\n"
     ]
    },
    {
     "name": "stderr",
     "output_type": "stream",
     "text": [
      "INFO:aequitas:Current Metrics - TSN: 1410, DSN: 25, SUR: 0.0177\n"
     ]
    },
    {
     "name": "stdout",
     "output_type": "stream",
     "text": [
      "Current Metrics - TSN: 1420, DSN: 25, SUR: 0.0176\n"
     ]
    },
    {
     "name": "stderr",
     "output_type": "stream",
     "text": [
      "INFO:aequitas:Current Metrics - TSN: 1420, DSN: 25, SUR: 0.0176\n"
     ]
    },
    {
     "name": "stdout",
     "output_type": "stream",
     "text": [
      "Current Metrics - TSN: 1430, DSN: 25, SUR: 0.0175\n"
     ]
    },
    {
     "name": "stderr",
     "output_type": "stream",
     "text": [
      "INFO:aequitas:Current Metrics - TSN: 1430, DSN: 25, SUR: 0.0175\n"
     ]
    },
    {
     "name": "stdout",
     "output_type": "stream",
     "text": [
      "Current Metrics - TSN: 1440, DSN: 25, SUR: 0.0174\n"
     ]
    },
    {
     "name": "stderr",
     "output_type": "stream",
     "text": [
      "INFO:aequitas:Current Metrics - TSN: 1440, DSN: 25, SUR: 0.0174\n"
     ]
    },
    {
     "name": "stdout",
     "output_type": "stream",
     "text": [
      "Current Metrics - TSN: 1450, DSN: 25, SUR: 0.0172\n"
     ]
    },
    {
     "name": "stderr",
     "output_type": "stream",
     "text": [
      "INFO:aequitas:Current Metrics - TSN: 1450, DSN: 25, SUR: 0.0172\n"
     ]
    },
    {
     "name": "stdout",
     "output_type": "stream",
     "text": [
      "Current Metrics - TSN: 1460, DSN: 25, SUR: 0.0171\n"
     ]
    },
    {
     "name": "stderr",
     "output_type": "stream",
     "text": [
      "INFO:aequitas:Current Metrics - TSN: 1460, DSN: 25, SUR: 0.0171\n"
     ]
    },
    {
     "name": "stdout",
     "output_type": "stream",
     "text": [
      "Current Metrics - TSN: 1470, DSN: 25, SUR: 0.0170\n"
     ]
    },
    {
     "name": "stderr",
     "output_type": "stream",
     "text": [
      "INFO:aequitas:Current Metrics - TSN: 1470, DSN: 25, SUR: 0.0170\n"
     ]
    },
    {
     "name": "stdout",
     "output_type": "stream",
     "text": [
      "Current Metrics - TSN: 1480, DSN: 25, SUR: 0.0169\n"
     ]
    },
    {
     "name": "stderr",
     "output_type": "stream",
     "text": [
      "INFO:aequitas:Current Metrics - TSN: 1480, DSN: 25, SUR: 0.0169\n"
     ]
    },
    {
     "name": "stdout",
     "output_type": "stream",
     "text": [
      "Current Metrics - TSN: 1490, DSN: 25, SUR: 0.0168\n"
     ]
    },
    {
     "name": "stderr",
     "output_type": "stream",
     "text": [
      "INFO:aequitas:Current Metrics - TSN: 1490, DSN: 25, SUR: 0.0168\n"
     ]
    },
    {
     "name": "stdout",
     "output_type": "stream",
     "text": [
      "Current Metrics - TSN: 1500, DSN: 25, SUR: 0.0167\n"
     ]
    },
    {
     "name": "stderr",
     "output_type": "stream",
     "text": [
      "INFO:aequitas:Current Metrics - TSN: 1500, DSN: 25, SUR: 0.0167\n"
     ]
    },
    {
     "name": "stdout",
     "output_type": "stream",
     "text": [
      "Current Metrics - TSN: 1510, DSN: 25, SUR: 0.0166\n"
     ]
    },
    {
     "name": "stderr",
     "output_type": "stream",
     "text": [
      "INFO:aequitas:Current Metrics - TSN: 1510, DSN: 25, SUR: 0.0166\n"
     ]
    },
    {
     "name": "stdout",
     "output_type": "stream",
     "text": [
      "Current Metrics - TSN: 1520, DSN: 25, SUR: 0.0164\n"
     ]
    },
    {
     "name": "stderr",
     "output_type": "stream",
     "text": [
      "INFO:aequitas:Current Metrics - TSN: 1520, DSN: 25, SUR: 0.0164\n"
     ]
    },
    {
     "name": "stdout",
     "output_type": "stream",
     "text": [
      "Current Metrics - TSN: 1530, DSN: 25, SUR: 0.0163\n"
     ]
    },
    {
     "name": "stderr",
     "output_type": "stream",
     "text": [
      "INFO:aequitas:Current Metrics - TSN: 1530, DSN: 25, SUR: 0.0163\n"
     ]
    },
    {
     "name": "stdout",
     "output_type": "stream",
     "text": [
      "Current Metrics - TSN: 1540, DSN: 25, SUR: 0.0162\n"
     ]
    },
    {
     "name": "stderr",
     "output_type": "stream",
     "text": [
      "INFO:aequitas:Current Metrics - TSN: 1540, DSN: 25, SUR: 0.0162\n"
     ]
    },
    {
     "name": "stdout",
     "output_type": "stream",
     "text": [
      "Current Metrics - TSN: 1560, DSN: 25, SUR: 0.0160\n"
     ]
    },
    {
     "name": "stderr",
     "output_type": "stream",
     "text": [
      "INFO:aequitas:Current Metrics - TSN: 1560, DSN: 25, SUR: 0.0160\n"
     ]
    },
    {
     "name": "stdout",
     "output_type": "stream",
     "text": [
      "Current Metrics - TSN: 1570, DSN: 25, SUR: 0.0159\n"
     ]
    },
    {
     "name": "stderr",
     "output_type": "stream",
     "text": [
      "INFO:aequitas:Current Metrics - TSN: 1570, DSN: 25, SUR: 0.0159\n"
     ]
    },
    {
     "name": "stdout",
     "output_type": "stream",
     "text": [
      "Current Metrics - TSN: 1580, DSN: 25, SUR: 0.0158\n"
     ]
    },
    {
     "name": "stderr",
     "output_type": "stream",
     "text": [
      "INFO:aequitas:Current Metrics - TSN: 1580, DSN: 25, SUR: 0.0158\n"
     ]
    },
    {
     "name": "stdout",
     "output_type": "stream",
     "text": [
      "Current Metrics - TSN: 1590, DSN: 25, SUR: 0.0157\n"
     ]
    },
    {
     "name": "stderr",
     "output_type": "stream",
     "text": [
      "INFO:aequitas:Current Metrics - TSN: 1590, DSN: 25, SUR: 0.0157\n"
     ]
    },
    {
     "name": "stdout",
     "output_type": "stream",
     "text": [
      "Current Metrics - TSN: 1600, DSN: 25, SUR: 0.0156\n"
     ]
    },
    {
     "name": "stderr",
     "output_type": "stream",
     "text": [
      "INFO:aequitas:Current Metrics - TSN: 1600, DSN: 25, SUR: 0.0156\n"
     ]
    },
    {
     "name": "stdout",
     "output_type": "stream",
     "text": [
      "Current Metrics - TSN: 1610, DSN: 25, SUR: 0.0155\n"
     ]
    },
    {
     "name": "stderr",
     "output_type": "stream",
     "text": [
      "INFO:aequitas:Current Metrics - TSN: 1610, DSN: 25, SUR: 0.0155\n"
     ]
    },
    {
     "name": "stdout",
     "output_type": "stream",
     "text": [
      "Current Metrics - TSN: 1620, DSN: 25, SUR: 0.0154\n"
     ]
    },
    {
     "name": "stderr",
     "output_type": "stream",
     "text": [
      "INFO:aequitas:Current Metrics - TSN: 1620, DSN: 25, SUR: 0.0154\n"
     ]
    },
    {
     "name": "stdout",
     "output_type": "stream",
     "text": [
      "Current Metrics - TSN: 1630, DSN: 25, SUR: 0.0153\n"
     ]
    },
    {
     "name": "stderr",
     "output_type": "stream",
     "text": [
      "INFO:aequitas:Current Metrics - TSN: 1630, DSN: 25, SUR: 0.0153\n"
     ]
    },
    {
     "name": "stdout",
     "output_type": "stream",
     "text": [
      "Current Metrics - TSN: 1640, DSN: 25, SUR: 0.0152\n"
     ]
    },
    {
     "name": "stderr",
     "output_type": "stream",
     "text": [
      "INFO:aequitas:Current Metrics - TSN: 1640, DSN: 25, SUR: 0.0152\n"
     ]
    },
    {
     "name": "stdout",
     "output_type": "stream",
     "text": [
      "Current Metrics - TSN: 1650, DSN: 25, SUR: 0.0152\n"
     ]
    },
    {
     "name": "stderr",
     "output_type": "stream",
     "text": [
      "INFO:aequitas:Current Metrics - TSN: 1650, DSN: 25, SUR: 0.0152\n"
     ]
    },
    {
     "name": "stdout",
     "output_type": "stream",
     "text": [
      "Current Metrics - TSN: 1660, DSN: 25, SUR: 0.0151\n"
     ]
    },
    {
     "name": "stderr",
     "output_type": "stream",
     "text": [
      "INFO:aequitas:Current Metrics - TSN: 1660, DSN: 25, SUR: 0.0151\n"
     ]
    },
    {
     "name": "stdout",
     "output_type": "stream",
     "text": [
      "Current Metrics - TSN: 1670, DSN: 25, SUR: 0.0150\n"
     ]
    },
    {
     "name": "stderr",
     "output_type": "stream",
     "text": [
      "INFO:aequitas:Current Metrics - TSN: 1670, DSN: 25, SUR: 0.0150\n"
     ]
    },
    {
     "name": "stdout",
     "output_type": "stream",
     "text": [
      "Current Metrics - TSN: 1680, DSN: 25, SUR: 0.0149\n"
     ]
    },
    {
     "name": "stderr",
     "output_type": "stream",
     "text": [
      "INFO:aequitas:Current Metrics - TSN: 1680, DSN: 25, SUR: 0.0149\n"
     ]
    },
    {
     "name": "stdout",
     "output_type": "stream",
     "text": [
      "Current Metrics - TSN: 1690, DSN: 25, SUR: 0.0148\n"
     ]
    },
    {
     "name": "stderr",
     "output_type": "stream",
     "text": [
      "INFO:aequitas:Current Metrics - TSN: 1690, DSN: 25, SUR: 0.0148\n"
     ]
    },
    {
     "name": "stdout",
     "output_type": "stream",
     "text": [
      "Current Metrics - TSN: 1700, DSN: 25, SUR: 0.0147\n"
     ]
    },
    {
     "name": "stderr",
     "output_type": "stream",
     "text": [
      "INFO:aequitas:Current Metrics - TSN: 1700, DSN: 25, SUR: 0.0147\n"
     ]
    },
    {
     "name": "stdout",
     "output_type": "stream",
     "text": [
      "Current Metrics - TSN: 1710, DSN: 25, SUR: 0.0146\n"
     ]
    },
    {
     "name": "stderr",
     "output_type": "stream",
     "text": [
      "INFO:aequitas:Current Metrics - TSN: 1710, DSN: 25, SUR: 0.0146\n"
     ]
    },
    {
     "name": "stdout",
     "output_type": "stream",
     "text": [
      "Current Metrics - TSN: 1720, DSN: 25, SUR: 0.0145\n"
     ]
    },
    {
     "name": "stderr",
     "output_type": "stream",
     "text": [
      "INFO:aequitas:Current Metrics - TSN: 1720, DSN: 25, SUR: 0.0145\n"
     ]
    },
    {
     "name": "stdout",
     "output_type": "stream",
     "text": [
      "Current Metrics - TSN: 1730, DSN: 25, SUR: 0.0145\n"
     ]
    },
    {
     "name": "stderr",
     "output_type": "stream",
     "text": [
      "INFO:aequitas:Current Metrics - TSN: 1730, DSN: 25, SUR: 0.0145\n"
     ]
    },
    {
     "name": "stdout",
     "output_type": "stream",
     "text": [
      "Current Metrics - TSN: 1740, DSN: 25, SUR: 0.0144\n"
     ]
    },
    {
     "name": "stderr",
     "output_type": "stream",
     "text": [
      "INFO:aequitas:Current Metrics - TSN: 1740, DSN: 25, SUR: 0.0144\n"
     ]
    },
    {
     "name": "stdout",
     "output_type": "stream",
     "text": [
      "Current Metrics - TSN: 1750, DSN: 25, SUR: 0.0143\n"
     ]
    },
    {
     "name": "stderr",
     "output_type": "stream",
     "text": [
      "INFO:aequitas:Current Metrics - TSN: 1750, DSN: 25, SUR: 0.0143\n"
     ]
    },
    {
     "name": "stdout",
     "output_type": "stream",
     "text": [
      "Current Metrics - TSN: 1760, DSN: 25, SUR: 0.0142\n"
     ]
    },
    {
     "name": "stderr",
     "output_type": "stream",
     "text": [
      "INFO:aequitas:Current Metrics - TSN: 1760, DSN: 25, SUR: 0.0142\n"
     ]
    },
    {
     "name": "stdout",
     "output_type": "stream",
     "text": [
      "Current Metrics - TSN: 1770, DSN: 25, SUR: 0.0141\n"
     ]
    },
    {
     "name": "stderr",
     "output_type": "stream",
     "text": [
      "INFO:aequitas:Current Metrics - TSN: 1770, DSN: 25, SUR: 0.0141\n"
     ]
    },
    {
     "name": "stdout",
     "output_type": "stream",
     "text": [
      "Current Metrics - TSN: 1790, DSN: 25, SUR: 0.0140\n"
     ]
    },
    {
     "name": "stderr",
     "output_type": "stream",
     "text": [
      "INFO:aequitas:Current Metrics - TSN: 1790, DSN: 25, SUR: 0.0140\n"
     ]
    },
    {
     "name": "stdout",
     "output_type": "stream",
     "text": [
      "Current Metrics - TSN: 1800, DSN: 25, SUR: 0.0139\n"
     ]
    },
    {
     "name": "stderr",
     "output_type": "stream",
     "text": [
      "INFO:aequitas:Current Metrics - TSN: 1800, DSN: 25, SUR: 0.0139\n"
     ]
    },
    {
     "name": "stdout",
     "output_type": "stream",
     "text": [
      "Current Metrics - TSN: 1810, DSN: 25, SUR: 0.0138\n"
     ]
    },
    {
     "name": "stderr",
     "output_type": "stream",
     "text": [
      "INFO:aequitas:Current Metrics - TSN: 1810, DSN: 25, SUR: 0.0138\n"
     ]
    },
    {
     "name": "stdout",
     "output_type": "stream",
     "text": [
      "Current Metrics - TSN: 1820, DSN: 25, SUR: 0.0137\n"
     ]
    },
    {
     "name": "stderr",
     "output_type": "stream",
     "text": [
      "INFO:aequitas:Current Metrics - TSN: 1820, DSN: 25, SUR: 0.0137\n"
     ]
    },
    {
     "name": "stdout",
     "output_type": "stream",
     "text": [
      "Current Metrics - TSN: 1830, DSN: 25, SUR: 0.0137\n"
     ]
    },
    {
     "name": "stderr",
     "output_type": "stream",
     "text": [
      "INFO:aequitas:Current Metrics - TSN: 1830, DSN: 25, SUR: 0.0137\n"
     ]
    },
    {
     "name": "stdout",
     "output_type": "stream",
     "text": [
      "Current Metrics - TSN: 1840, DSN: 25, SUR: 0.0136\n"
     ]
    },
    {
     "name": "stderr",
     "output_type": "stream",
     "text": [
      "INFO:aequitas:Current Metrics - TSN: 1840, DSN: 25, SUR: 0.0136\n"
     ]
    },
    {
     "name": "stdout",
     "output_type": "stream",
     "text": [
      "Current Metrics - TSN: 1850, DSN: 25, SUR: 0.0135\n"
     ]
    },
    {
     "name": "stderr",
     "output_type": "stream",
     "text": [
      "INFO:aequitas:Current Metrics - TSN: 1850, DSN: 25, SUR: 0.0135\n"
     ]
    },
    {
     "name": "stdout",
     "output_type": "stream",
     "text": [
      "Current Metrics - TSN: 1860, DSN: 25, SUR: 0.0134\n"
     ]
    },
    {
     "name": "stderr",
     "output_type": "stream",
     "text": [
      "INFO:aequitas:Current Metrics - TSN: 1860, DSN: 25, SUR: 0.0134\n"
     ]
    },
    {
     "name": "stdout",
     "output_type": "stream",
     "text": [
      "Current Metrics - TSN: 1870, DSN: 25, SUR: 0.0134\n"
     ]
    },
    {
     "name": "stderr",
     "output_type": "stream",
     "text": [
      "INFO:aequitas:Current Metrics - TSN: 1870, DSN: 25, SUR: 0.0134\n"
     ]
    },
    {
     "name": "stdout",
     "output_type": "stream",
     "text": [
      "Current Metrics - TSN: 1880, DSN: 25, SUR: 0.0133\n"
     ]
    },
    {
     "name": "stderr",
     "output_type": "stream",
     "text": [
      "INFO:aequitas:Current Metrics - TSN: 1880, DSN: 25, SUR: 0.0133\n"
     ]
    },
    {
     "name": "stdout",
     "output_type": "stream",
     "text": [
      "Current Metrics - TSN: 1890, DSN: 25, SUR: 0.0132\n"
     ]
    },
    {
     "name": "stderr",
     "output_type": "stream",
     "text": [
      "INFO:aequitas:Current Metrics - TSN: 1890, DSN: 25, SUR: 0.0132\n"
     ]
    },
    {
     "name": "stdout",
     "output_type": "stream",
     "text": [
      "Current Metrics - TSN: 1900, DSN: 25, SUR: 0.0132\n"
     ]
    },
    {
     "name": "stderr",
     "output_type": "stream",
     "text": [
      "INFO:aequitas:Current Metrics - TSN: 1900, DSN: 25, SUR: 0.0132\n"
     ]
    },
    {
     "name": "stdout",
     "output_type": "stream",
     "text": [
      "Current Metrics - TSN: 1910, DSN: 25, SUR: 0.0131\n"
     ]
    },
    {
     "name": "stderr",
     "output_type": "stream",
     "text": [
      "INFO:aequitas:Current Metrics - TSN: 1910, DSN: 25, SUR: 0.0131\n"
     ]
    },
    {
     "name": "stdout",
     "output_type": "stream",
     "text": [
      "Current Metrics - TSN: 1920, DSN: 25, SUR: 0.0130\n"
     ]
    },
    {
     "name": "stderr",
     "output_type": "stream",
     "text": [
      "INFO:aequitas:Current Metrics - TSN: 1920, DSN: 25, SUR: 0.0130\n"
     ]
    },
    {
     "name": "stdout",
     "output_type": "stream",
     "text": [
      "Current Metrics - TSN: 1930, DSN: 25, SUR: 0.0130\n"
     ]
    },
    {
     "name": "stderr",
     "output_type": "stream",
     "text": [
      "INFO:aequitas:Current Metrics - TSN: 1930, DSN: 25, SUR: 0.0130\n"
     ]
    },
    {
     "name": "stdout",
     "output_type": "stream",
     "text": [
      "Current Metrics - TSN: 1940, DSN: 25, SUR: 0.0129\n"
     ]
    },
    {
     "name": "stderr",
     "output_type": "stream",
     "text": [
      "INFO:aequitas:Current Metrics - TSN: 1940, DSN: 25, SUR: 0.0129\n"
     ]
    },
    {
     "name": "stdout",
     "output_type": "stream",
     "text": [
      "Current Metrics - TSN: 1950, DSN: 25, SUR: 0.0128\n"
     ]
    },
    {
     "name": "stderr",
     "output_type": "stream",
     "text": [
      "INFO:aequitas:Current Metrics - TSN: 1950, DSN: 25, SUR: 0.0128\n"
     ]
    },
    {
     "name": "stdout",
     "output_type": "stream",
     "text": [
      "Current Metrics - TSN: 1960, DSN: 25, SUR: 0.0128\n"
     ]
    },
    {
     "name": "stderr",
     "output_type": "stream",
     "text": [
      "INFO:aequitas:Current Metrics - TSN: 1960, DSN: 25, SUR: 0.0128\n"
     ]
    },
    {
     "name": "stdout",
     "output_type": "stream",
     "text": [
      "Current Metrics - TSN: 1970, DSN: 25, SUR: 0.0127\n"
     ]
    },
    {
     "name": "stderr",
     "output_type": "stream",
     "text": [
      "INFO:aequitas:Current Metrics - TSN: 1970, DSN: 25, SUR: 0.0127\n"
     ]
    },
    {
     "name": "stdout",
     "output_type": "stream",
     "text": [
      "Current Metrics - TSN: 1980, DSN: 25, SUR: 0.0126\n"
     ]
    },
    {
     "name": "stderr",
     "output_type": "stream",
     "text": [
      "INFO:aequitas:Current Metrics - TSN: 1980, DSN: 25, SUR: 0.0126\n"
     ]
    },
    {
     "name": "stdout",
     "output_type": "stream",
     "text": [
      "Current Metrics - TSN: 1990, DSN: 25, SUR: 0.0126\n"
     ]
    },
    {
     "name": "stderr",
     "output_type": "stream",
     "text": [
      "INFO:aequitas:Current Metrics - TSN: 1990, DSN: 25, SUR: 0.0126\n"
     ]
    },
    {
     "name": "stdout",
     "output_type": "stream",
     "text": [
      "Current Metrics - TSN: 2000, DSN: 25, SUR: 0.0125\n"
     ]
    },
    {
     "name": "stderr",
     "output_type": "stream",
     "text": [
      "INFO:aequitas:Current Metrics - TSN: 2000, DSN: 25, SUR: 0.0125\n"
     ]
    },
    {
     "name": "stdout",
     "output_type": "stream",
     "text": [
      "Current Metrics - TSN: 2010, DSN: 25, SUR: 0.0124\n"
     ]
    },
    {
     "name": "stderr",
     "output_type": "stream",
     "text": [
      "INFO:aequitas:Current Metrics - TSN: 2010, DSN: 25, SUR: 0.0124\n"
     ]
    },
    {
     "name": "stdout",
     "output_type": "stream",
     "text": [
      "Current Metrics - TSN: 2020, DSN: 25, SUR: 0.0124\n"
     ]
    },
    {
     "name": "stderr",
     "output_type": "stream",
     "text": [
      "INFO:aequitas:Current Metrics - TSN: 2020, DSN: 25, SUR: 0.0124\n"
     ]
    },
    {
     "name": "stdout",
     "output_type": "stream",
     "text": [
      "Current Metrics - TSN: 2030, DSN: 25, SUR: 0.0123\n"
     ]
    },
    {
     "name": "stderr",
     "output_type": "stream",
     "text": [
      "INFO:aequitas:Current Metrics - TSN: 2030, DSN: 25, SUR: 0.0123\n"
     ]
    },
    {
     "name": "stdout",
     "output_type": "stream",
     "text": [
      "Current Metrics - TSN: 2040, DSN: 25, SUR: 0.0123\n"
     ]
    },
    {
     "name": "stderr",
     "output_type": "stream",
     "text": [
      "INFO:aequitas:Current Metrics - TSN: 2040, DSN: 25, SUR: 0.0123\n"
     ]
    },
    {
     "name": "stdout",
     "output_type": "stream",
     "text": [
      "Current Metrics - TSN: 2050, DSN: 25, SUR: 0.0122\n"
     ]
    },
    {
     "name": "stderr",
     "output_type": "stream",
     "text": [
      "INFO:aequitas:Current Metrics - TSN: 2050, DSN: 25, SUR: 0.0122\n"
     ]
    },
    {
     "name": "stdout",
     "output_type": "stream",
     "text": [
      "Current Metrics - TSN: 2060, DSN: 25, SUR: 0.0121\n"
     ]
    },
    {
     "name": "stderr",
     "output_type": "stream",
     "text": [
      "INFO:aequitas:Current Metrics - TSN: 2060, DSN: 25, SUR: 0.0121\n"
     ]
    },
    {
     "name": "stdout",
     "output_type": "stream",
     "text": [
      "Current Metrics - TSN: 2070, DSN: 25, SUR: 0.0121\n"
     ]
    },
    {
     "name": "stderr",
     "output_type": "stream",
     "text": [
      "INFO:aequitas:Current Metrics - TSN: 2070, DSN: 25, SUR: 0.0121\n"
     ]
    },
    {
     "name": "stdout",
     "output_type": "stream",
     "text": [
      "Current Metrics - TSN: 2080, DSN: 25, SUR: 0.0120\n"
     ]
    },
    {
     "name": "stderr",
     "output_type": "stream",
     "text": [
      "INFO:aequitas:Current Metrics - TSN: 2080, DSN: 25, SUR: 0.0120\n"
     ]
    },
    {
     "name": "stdout",
     "output_type": "stream",
     "text": [
      "Current Metrics - TSN: 2090, DSN: 25, SUR: 0.0120\n"
     ]
    },
    {
     "name": "stderr",
     "output_type": "stream",
     "text": [
      "INFO:aequitas:Current Metrics - TSN: 2090, DSN: 25, SUR: 0.0120\n"
     ]
    },
    {
     "name": "stdout",
     "output_type": "stream",
     "text": [
      "Current Metrics - TSN: 2100, DSN: 25, SUR: 0.0119\n"
     ]
    },
    {
     "name": "stderr",
     "output_type": "stream",
     "text": [
      "INFO:aequitas:Current Metrics - TSN: 2100, DSN: 25, SUR: 0.0119\n"
     ]
    },
    {
     "name": "stdout",
     "output_type": "stream",
     "text": [
      "Current Metrics - TSN: 2110, DSN: 25, SUR: 0.0118\n"
     ]
    },
    {
     "name": "stderr",
     "output_type": "stream",
     "text": [
      "INFO:aequitas:Current Metrics - TSN: 2110, DSN: 25, SUR: 0.0118\n"
     ]
    },
    {
     "name": "stdout",
     "output_type": "stream",
     "text": [
      "Current Metrics - TSN: 2120, DSN: 25, SUR: 0.0118\n"
     ]
    },
    {
     "name": "stderr",
     "output_type": "stream",
     "text": [
      "INFO:aequitas:Current Metrics - TSN: 2120, DSN: 25, SUR: 0.0118\n"
     ]
    },
    {
     "name": "stdout",
     "output_type": "stream",
     "text": [
      "Current Metrics - TSN: 2130, DSN: 25, SUR: 0.0117\n"
     ]
    },
    {
     "name": "stderr",
     "output_type": "stream",
     "text": [
      "INFO:aequitas:Current Metrics - TSN: 2130, DSN: 25, SUR: 0.0117\n"
     ]
    },
    {
     "name": "stdout",
     "output_type": "stream",
     "text": [
      "Current Metrics - TSN: 2140, DSN: 25, SUR: 0.0117\n"
     ]
    },
    {
     "name": "stderr",
     "output_type": "stream",
     "text": [
      "INFO:aequitas:Current Metrics - TSN: 2140, DSN: 25, SUR: 0.0117\n"
     ]
    },
    {
     "name": "stdout",
     "output_type": "stream",
     "text": [
      "Current Metrics - TSN: 2150, DSN: 25, SUR: 0.0116\n"
     ]
    },
    {
     "name": "stderr",
     "output_type": "stream",
     "text": [
      "INFO:aequitas:Current Metrics - TSN: 2150, DSN: 25, SUR: 0.0116\n"
     ]
    },
    {
     "name": "stdout",
     "output_type": "stream",
     "text": [
      "Current Metrics - TSN: 2160, DSN: 25, SUR: 0.0116\n"
     ]
    },
    {
     "name": "stderr",
     "output_type": "stream",
     "text": [
      "INFO:aequitas:Current Metrics - TSN: 2160, DSN: 25, SUR: 0.0116\n"
     ]
    },
    {
     "name": "stdout",
     "output_type": "stream",
     "text": [
      "Current Metrics - TSN: 2170, DSN: 25, SUR: 0.0115\n"
     ]
    },
    {
     "name": "stderr",
     "output_type": "stream",
     "text": [
      "INFO:aequitas:Current Metrics - TSN: 2170, DSN: 25, SUR: 0.0115\n"
     ]
    },
    {
     "name": "stdout",
     "output_type": "stream",
     "text": [
      "Current Metrics - TSN: 2180, DSN: 25, SUR: 0.0115\n"
     ]
    },
    {
     "name": "stderr",
     "output_type": "stream",
     "text": [
      "INFO:aequitas:Current Metrics - TSN: 2180, DSN: 25, SUR: 0.0115\n"
     ]
    },
    {
     "name": "stdout",
     "output_type": "stream",
     "text": [
      "Current Metrics - TSN: 2200, DSN: 25, SUR: 0.0114\n"
     ]
    },
    {
     "name": "stderr",
     "output_type": "stream",
     "text": [
      "INFO:aequitas:Current Metrics - TSN: 2200, DSN: 25, SUR: 0.0114\n"
     ]
    },
    {
     "name": "stdout",
     "output_type": "stream",
     "text": [
      "Current Metrics - TSN: 2210, DSN: 25, SUR: 0.0113\n"
     ]
    },
    {
     "name": "stderr",
     "output_type": "stream",
     "text": [
      "INFO:aequitas:Current Metrics - TSN: 2210, DSN: 25, SUR: 0.0113\n"
     ]
    },
    {
     "name": "stdout",
     "output_type": "stream",
     "text": [
      "Current Metrics - TSN: 2220, DSN: 25, SUR: 0.0113\n"
     ]
    },
    {
     "name": "stderr",
     "output_type": "stream",
     "text": [
      "INFO:aequitas:Current Metrics - TSN: 2220, DSN: 25, SUR: 0.0113\n"
     ]
    },
    {
     "name": "stdout",
     "output_type": "stream",
     "text": [
      "Current Metrics - TSN: 2230, DSN: 25, SUR: 0.0112\n"
     ]
    },
    {
     "name": "stderr",
     "output_type": "stream",
     "text": [
      "INFO:aequitas:Current Metrics - TSN: 2230, DSN: 25, SUR: 0.0112\n"
     ]
    },
    {
     "name": "stdout",
     "output_type": "stream",
     "text": [
      "Current Metrics - TSN: 2240, DSN: 25, SUR: 0.0112\n"
     ]
    },
    {
     "name": "stderr",
     "output_type": "stream",
     "text": [
      "INFO:aequitas:Current Metrics - TSN: 2240, DSN: 25, SUR: 0.0112\n"
     ]
    },
    {
     "name": "stdout",
     "output_type": "stream",
     "text": [
      "Current Metrics - TSN: 2250, DSN: 25, SUR: 0.0111\n"
     ]
    },
    {
     "name": "stderr",
     "output_type": "stream",
     "text": [
      "INFO:aequitas:Current Metrics - TSN: 2250, DSN: 25, SUR: 0.0111\n"
     ]
    },
    {
     "name": "stdout",
     "output_type": "stream",
     "text": [
      "Current Metrics - TSN: 2260, DSN: 25, SUR: 0.0111\n"
     ]
    },
    {
     "name": "stderr",
     "output_type": "stream",
     "text": [
      "INFO:aequitas:Current Metrics - TSN: 2260, DSN: 25, SUR: 0.0111\n"
     ]
    },
    {
     "name": "stdout",
     "output_type": "stream",
     "text": [
      "Current Metrics - TSN: 2270, DSN: 25, SUR: 0.0110\n"
     ]
    },
    {
     "name": "stderr",
     "output_type": "stream",
     "text": [
      "INFO:aequitas:Current Metrics - TSN: 2270, DSN: 25, SUR: 0.0110\n"
     ]
    },
    {
     "name": "stdout",
     "output_type": "stream",
     "text": [
      "Current Metrics - TSN: 2280, DSN: 25, SUR: 0.0110\n"
     ]
    },
    {
     "name": "stderr",
     "output_type": "stream",
     "text": [
      "INFO:aequitas:Current Metrics - TSN: 2280, DSN: 25, SUR: 0.0110\n"
     ]
    },
    {
     "name": "stdout",
     "output_type": "stream",
     "text": [
      "Current Metrics - TSN: 2290, DSN: 25, SUR: 0.0109\n"
     ]
    },
    {
     "name": "stderr",
     "output_type": "stream",
     "text": [
      "INFO:aequitas:Current Metrics - TSN: 2290, DSN: 25, SUR: 0.0109\n"
     ]
    },
    {
     "name": "stdout",
     "output_type": "stream",
     "text": [
      "Current Metrics - TSN: 2300, DSN: 25, SUR: 0.0109\n"
     ]
    },
    {
     "name": "stderr",
     "output_type": "stream",
     "text": [
      "INFO:aequitas:Current Metrics - TSN: 2300, DSN: 25, SUR: 0.0109\n"
     ]
    },
    {
     "name": "stdout",
     "output_type": "stream",
     "text": [
      "Current Metrics - TSN: 2310, DSN: 25, SUR: 0.0108\n"
     ]
    },
    {
     "name": "stderr",
     "output_type": "stream",
     "text": [
      "INFO:aequitas:Current Metrics - TSN: 2310, DSN: 25, SUR: 0.0108\n"
     ]
    },
    {
     "name": "stdout",
     "output_type": "stream",
     "text": [
      "Current Metrics - TSN: 2320, DSN: 25, SUR: 0.0108\n"
     ]
    },
    {
     "name": "stderr",
     "output_type": "stream",
     "text": [
      "INFO:aequitas:Current Metrics - TSN: 2320, DSN: 25, SUR: 0.0108\n"
     ]
    },
    {
     "name": "stdout",
     "output_type": "stream",
     "text": [
      "Current Metrics - TSN: 2330, DSN: 25, SUR: 0.0107\n"
     ]
    },
    {
     "name": "stderr",
     "output_type": "stream",
     "text": [
      "INFO:aequitas:Current Metrics - TSN: 2330, DSN: 25, SUR: 0.0107\n"
     ]
    },
    {
     "name": "stdout",
     "output_type": "stream",
     "text": [
      "Current Metrics - TSN: 2340, DSN: 25, SUR: 0.0107\n"
     ]
    },
    {
     "name": "stderr",
     "output_type": "stream",
     "text": [
      "INFO:aequitas:Current Metrics - TSN: 2340, DSN: 25, SUR: 0.0107\n"
     ]
    },
    {
     "name": "stdout",
     "output_type": "stream",
     "text": [
      "Current Metrics - TSN: 2350, DSN: 25, SUR: 0.0106\n"
     ]
    },
    {
     "name": "stderr",
     "output_type": "stream",
     "text": [
      "INFO:aequitas:Current Metrics - TSN: 2350, DSN: 25, SUR: 0.0106\n"
     ]
    },
    {
     "name": "stdout",
     "output_type": "stream",
     "text": [
      "Current Metrics - TSN: 2360, DSN: 25, SUR: 0.0106\n"
     ]
    },
    {
     "name": "stderr",
     "output_type": "stream",
     "text": [
      "INFO:aequitas:Current Metrics - TSN: 2360, DSN: 25, SUR: 0.0106\n"
     ]
    },
    {
     "name": "stdout",
     "output_type": "stream",
     "text": [
      "Current Metrics - TSN: 2370, DSN: 25, SUR: 0.0105\n"
     ]
    },
    {
     "name": "stderr",
     "output_type": "stream",
     "text": [
      "INFO:aequitas:Current Metrics - TSN: 2370, DSN: 25, SUR: 0.0105\n"
     ]
    },
    {
     "name": "stdout",
     "output_type": "stream",
     "text": [
      "Current Metrics - TSN: 2380, DSN: 25, SUR: 0.0105\n"
     ]
    },
    {
     "name": "stderr",
     "output_type": "stream",
     "text": [
      "INFO:aequitas:Current Metrics - TSN: 2380, DSN: 25, SUR: 0.0105\n"
     ]
    },
    {
     "name": "stdout",
     "output_type": "stream",
     "text": [
      "Current Metrics - TSN: 2390, DSN: 25, SUR: 0.0105\n"
     ]
    },
    {
     "name": "stderr",
     "output_type": "stream",
     "text": [
      "INFO:aequitas:Current Metrics - TSN: 2390, DSN: 25, SUR: 0.0105\n"
     ]
    },
    {
     "name": "stdout",
     "output_type": "stream",
     "text": [
      "Current Metrics - TSN: 2400, DSN: 25, SUR: 0.0104\n"
     ]
    },
    {
     "name": "stderr",
     "output_type": "stream",
     "text": [
      "INFO:aequitas:Current Metrics - TSN: 2400, DSN: 25, SUR: 0.0104\n"
     ]
    },
    {
     "name": "stdout",
     "output_type": "stream",
     "text": [
      "Current Metrics - TSN: 2410, DSN: 25, SUR: 0.0104\n"
     ]
    },
    {
     "name": "stderr",
     "output_type": "stream",
     "text": [
      "INFO:aequitas:Current Metrics - TSN: 2410, DSN: 25, SUR: 0.0104\n"
     ]
    },
    {
     "name": "stdout",
     "output_type": "stream",
     "text": [
      "Current Metrics - TSN: 2420, DSN: 25, SUR: 0.0103\n"
     ]
    },
    {
     "name": "stderr",
     "output_type": "stream",
     "text": [
      "INFO:aequitas:Current Metrics - TSN: 2420, DSN: 25, SUR: 0.0103\n"
     ]
    },
    {
     "name": "stdout",
     "output_type": "stream",
     "text": [
      "Current Metrics - TSN: 2430, DSN: 25, SUR: 0.0103\n"
     ]
    },
    {
     "name": "stderr",
     "output_type": "stream",
     "text": [
      "INFO:aequitas:Current Metrics - TSN: 2430, DSN: 25, SUR: 0.0103\n"
     ]
    },
    {
     "name": "stdout",
     "output_type": "stream",
     "text": [
      "Current Metrics - TSN: 2440, DSN: 25, SUR: 0.0102\n"
     ]
    },
    {
     "name": "stderr",
     "output_type": "stream",
     "text": [
      "INFO:aequitas:Current Metrics - TSN: 2440, DSN: 25, SUR: 0.0102\n"
     ]
    },
    {
     "name": "stdout",
     "output_type": "stream",
     "text": [
      "Current Metrics - TSN: 2450, DSN: 25, SUR: 0.0102\n"
     ]
    },
    {
     "name": "stderr",
     "output_type": "stream",
     "text": [
      "INFO:aequitas:Current Metrics - TSN: 2450, DSN: 25, SUR: 0.0102\n"
     ]
    },
    {
     "name": "stdout",
     "output_type": "stream",
     "text": [
      "Current Metrics - TSN: 2460, DSN: 25, SUR: 0.0102\n"
     ]
    },
    {
     "name": "stderr",
     "output_type": "stream",
     "text": [
      "INFO:aequitas:Current Metrics - TSN: 2460, DSN: 25, SUR: 0.0102\n"
     ]
    },
    {
     "name": "stdout",
     "output_type": "stream",
     "text": [
      "Current Metrics - TSN: 2480, DSN: 25, SUR: 0.0101\n"
     ]
    },
    {
     "name": "stderr",
     "output_type": "stream",
     "text": [
      "INFO:aequitas:Current Metrics - TSN: 2480, DSN: 25, SUR: 0.0101\n"
     ]
    },
    {
     "name": "stdout",
     "output_type": "stream",
     "text": [
      "Current Metrics - TSN: 2490, DSN: 25, SUR: 0.0100\n"
     ]
    },
    {
     "name": "stderr",
     "output_type": "stream",
     "text": [
      "INFO:aequitas:Current Metrics - TSN: 2490, DSN: 25, SUR: 0.0100\n"
     ]
    },
    {
     "name": "stdout",
     "output_type": "stream",
     "text": [
      "Current Metrics - TSN: 2500, DSN: 25, SUR: 0.0100\n"
     ]
    },
    {
     "name": "stderr",
     "output_type": "stream",
     "text": [
      "INFO:aequitas:Current Metrics - TSN: 2500, DSN: 25, SUR: 0.0100\n"
     ]
    },
    {
     "name": "stdout",
     "output_type": "stream",
     "text": [
      "Current Metrics - TSN: 2510, DSN: 25, SUR: 0.0100\n"
     ]
    },
    {
     "name": "stderr",
     "output_type": "stream",
     "text": [
      "INFO:aequitas:Current Metrics - TSN: 2510, DSN: 25, SUR: 0.0100\n"
     ]
    },
    {
     "name": "stdout",
     "output_type": "stream",
     "text": [
      "Current Metrics - TSN: 2520, DSN: 25, SUR: 0.0099\n"
     ]
    },
    {
     "name": "stderr",
     "output_type": "stream",
     "text": [
      "INFO:aequitas:Current Metrics - TSN: 2520, DSN: 25, SUR: 0.0099\n"
     ]
    },
    {
     "name": "stdout",
     "output_type": "stream",
     "text": [
      "Current Metrics - TSN: 2530, DSN: 25, SUR: 0.0099\n"
     ]
    },
    {
     "name": "stderr",
     "output_type": "stream",
     "text": [
      "INFO:aequitas:Current Metrics - TSN: 2530, DSN: 25, SUR: 0.0099\n"
     ]
    },
    {
     "name": "stdout",
     "output_type": "stream",
     "text": [
      "Current Metrics - TSN: 2540, DSN: 25, SUR: 0.0098\n"
     ]
    },
    {
     "name": "stderr",
     "output_type": "stream",
     "text": [
      "INFO:aequitas:Current Metrics - TSN: 2540, DSN: 25, SUR: 0.0098\n"
     ]
    },
    {
     "name": "stdout",
     "output_type": "stream",
     "text": [
      "Current Metrics - TSN: 2550, DSN: 25, SUR: 0.0098\n"
     ]
    },
    {
     "name": "stderr",
     "output_type": "stream",
     "text": [
      "INFO:aequitas:Current Metrics - TSN: 2550, DSN: 25, SUR: 0.0098\n"
     ]
    },
    {
     "name": "stdout",
     "output_type": "stream",
     "text": [
      "Current Metrics - TSN: 2560, DSN: 25, SUR: 0.0098\n"
     ]
    },
    {
     "name": "stderr",
     "output_type": "stream",
     "text": [
      "INFO:aequitas:Current Metrics - TSN: 2560, DSN: 25, SUR: 0.0098\n"
     ]
    },
    {
     "name": "stdout",
     "output_type": "stream",
     "text": [
      "Current Metrics - TSN: 2570, DSN: 25, SUR: 0.0097\n"
     ]
    },
    {
     "name": "stderr",
     "output_type": "stream",
     "text": [
      "INFO:aequitas:Current Metrics - TSN: 2570, DSN: 25, SUR: 0.0097\n"
     ]
    },
    {
     "name": "stdout",
     "output_type": "stream",
     "text": [
      "Current Metrics - TSN: 2580, DSN: 25, SUR: 0.0097\n"
     ]
    },
    {
     "name": "stderr",
     "output_type": "stream",
     "text": [
      "INFO:aequitas:Current Metrics - TSN: 2580, DSN: 25, SUR: 0.0097\n"
     ]
    },
    {
     "name": "stdout",
     "output_type": "stream",
     "text": [
      "Current Metrics - TSN: 2590, DSN: 25, SUR: 0.0097\n"
     ]
    },
    {
     "name": "stderr",
     "output_type": "stream",
     "text": [
      "INFO:aequitas:Current Metrics - TSN: 2590, DSN: 25, SUR: 0.0097\n"
     ]
    },
    {
     "name": "stdout",
     "output_type": "stream",
     "text": [
      "Current Metrics - TSN: 2600, DSN: 25, SUR: 0.0096\n"
     ]
    },
    {
     "name": "stderr",
     "output_type": "stream",
     "text": [
      "INFO:aequitas:Current Metrics - TSN: 2600, DSN: 25, SUR: 0.0096\n"
     ]
    },
    {
     "name": "stdout",
     "output_type": "stream",
     "text": [
      "Current Metrics - TSN: 2620, DSN: 25, SUR: 0.0095\n"
     ]
    },
    {
     "name": "stderr",
     "output_type": "stream",
     "text": [
      "INFO:aequitas:Current Metrics - TSN: 2620, DSN: 25, SUR: 0.0095\n"
     ]
    },
    {
     "name": "stdout",
     "output_type": "stream",
     "text": [
      "Current Metrics - TSN: 2630, DSN: 25, SUR: 0.0095\n"
     ]
    },
    {
     "name": "stderr",
     "output_type": "stream",
     "text": [
      "INFO:aequitas:Current Metrics - TSN: 2630, DSN: 25, SUR: 0.0095\n"
     ]
    },
    {
     "name": "stdout",
     "output_type": "stream",
     "text": [
      "Current Metrics - TSN: 2640, DSN: 25, SUR: 0.0095\n"
     ]
    },
    {
     "name": "stderr",
     "output_type": "stream",
     "text": [
      "INFO:aequitas:Current Metrics - TSN: 2640, DSN: 25, SUR: 0.0095\n"
     ]
    },
    {
     "name": "stdout",
     "output_type": "stream",
     "text": [
      "Current Metrics - TSN: 2650, DSN: 25, SUR: 0.0094\n"
     ]
    },
    {
     "name": "stderr",
     "output_type": "stream",
     "text": [
      "INFO:aequitas:Current Metrics - TSN: 2650, DSN: 25, SUR: 0.0094\n"
     ]
    },
    {
     "name": "stdout",
     "output_type": "stream",
     "text": [
      "Current Metrics - TSN: 2660, DSN: 25, SUR: 0.0094\n"
     ]
    },
    {
     "name": "stderr",
     "output_type": "stream",
     "text": [
      "INFO:aequitas:Current Metrics - TSN: 2660, DSN: 25, SUR: 0.0094\n"
     ]
    },
    {
     "name": "stdout",
     "output_type": "stream",
     "text": [
      "Current Metrics - TSN: 2670, DSN: 25, SUR: 0.0094\n"
     ]
    },
    {
     "name": "stderr",
     "output_type": "stream",
     "text": [
      "INFO:aequitas:Current Metrics - TSN: 2670, DSN: 25, SUR: 0.0094\n"
     ]
    },
    {
     "name": "stdout",
     "output_type": "stream",
     "text": [
      "Current Metrics - TSN: 2680, DSN: 25, SUR: 0.0093\n"
     ]
    },
    {
     "name": "stderr",
     "output_type": "stream",
     "text": [
      "INFO:aequitas:Current Metrics - TSN: 2680, DSN: 25, SUR: 0.0093\n"
     ]
    },
    {
     "name": "stdout",
     "output_type": "stream",
     "text": [
      "Current Metrics - TSN: 2690, DSN: 25, SUR: 0.0093\n"
     ]
    },
    {
     "name": "stderr",
     "output_type": "stream",
     "text": [
      "INFO:aequitas:Current Metrics - TSN: 2690, DSN: 25, SUR: 0.0093\n"
     ]
    },
    {
     "name": "stdout",
     "output_type": "stream",
     "text": [
      "Current Metrics - TSN: 2700, DSN: 25, SUR: 0.0093\n"
     ]
    },
    {
     "name": "stderr",
     "output_type": "stream",
     "text": [
      "INFO:aequitas:Current Metrics - TSN: 2700, DSN: 25, SUR: 0.0093\n"
     ]
    },
    {
     "name": "stdout",
     "output_type": "stream",
     "text": [
      "Current Metrics - TSN: 2710, DSN: 25, SUR: 0.0092\n"
     ]
    },
    {
     "name": "stderr",
     "output_type": "stream",
     "text": [
      "INFO:aequitas:Current Metrics - TSN: 2710, DSN: 25, SUR: 0.0092\n"
     ]
    },
    {
     "name": "stdout",
     "output_type": "stream",
     "text": [
      "Current Metrics - TSN: 2720, DSN: 25, SUR: 0.0092\n"
     ]
    },
    {
     "name": "stderr",
     "output_type": "stream",
     "text": [
      "INFO:aequitas:Current Metrics - TSN: 2720, DSN: 25, SUR: 0.0092\n"
     ]
    },
    {
     "name": "stdout",
     "output_type": "stream",
     "text": [
      "Current Metrics - TSN: 2730, DSN: 25, SUR: 0.0092\n"
     ]
    },
    {
     "name": "stderr",
     "output_type": "stream",
     "text": [
      "INFO:aequitas:Current Metrics - TSN: 2730, DSN: 25, SUR: 0.0092\n"
     ]
    },
    {
     "name": "stdout",
     "output_type": "stream",
     "text": [
      "Current Metrics - TSN: 2740, DSN: 25, SUR: 0.0091\n"
     ]
    },
    {
     "name": "stderr",
     "output_type": "stream",
     "text": [
      "INFO:aequitas:Current Metrics - TSN: 2740, DSN: 25, SUR: 0.0091\n"
     ]
    },
    {
     "name": "stdout",
     "output_type": "stream",
     "text": [
      "Current Metrics - TSN: 2750, DSN: 25, SUR: 0.0091\n"
     ]
    },
    {
     "name": "stderr",
     "output_type": "stream",
     "text": [
      "INFO:aequitas:Current Metrics - TSN: 2750, DSN: 25, SUR: 0.0091\n"
     ]
    },
    {
     "name": "stdout",
     "output_type": "stream",
     "text": [
      "Current Metrics - TSN: 2760, DSN: 25, SUR: 0.0091\n"
     ]
    },
    {
     "name": "stderr",
     "output_type": "stream",
     "text": [
      "INFO:aequitas:Current Metrics - TSN: 2760, DSN: 25, SUR: 0.0091\n"
     ]
    },
    {
     "name": "stdout",
     "output_type": "stream",
     "text": [
      "Current Metrics - TSN: 2770, DSN: 25, SUR: 0.0090\n"
     ]
    },
    {
     "name": "stderr",
     "output_type": "stream",
     "text": [
      "INFO:aequitas:Current Metrics - TSN: 2770, DSN: 25, SUR: 0.0090\n"
     ]
    },
    {
     "name": "stdout",
     "output_type": "stream",
     "text": [
      "Current Metrics - TSN: 2780, DSN: 25, SUR: 0.0090\n"
     ]
    },
    {
     "name": "stderr",
     "output_type": "stream",
     "text": [
      "INFO:aequitas:Current Metrics - TSN: 2780, DSN: 25, SUR: 0.0090\n"
     ]
    },
    {
     "name": "stdout",
     "output_type": "stream",
     "text": [
      "Current Metrics - TSN: 2790, DSN: 25, SUR: 0.0090\n"
     ]
    },
    {
     "name": "stderr",
     "output_type": "stream",
     "text": [
      "INFO:aequitas:Current Metrics - TSN: 2790, DSN: 25, SUR: 0.0090\n"
     ]
    },
    {
     "name": "stdout",
     "output_type": "stream",
     "text": [
      "Current Metrics - TSN: 2800, DSN: 25, SUR: 0.0089\n"
     ]
    },
    {
     "name": "stderr",
     "output_type": "stream",
     "text": [
      "INFO:aequitas:Current Metrics - TSN: 2800, DSN: 25, SUR: 0.0089\n"
     ]
    },
    {
     "name": "stdout",
     "output_type": "stream",
     "text": [
      "Current Metrics - TSN: 2810, DSN: 25, SUR: 0.0089\n"
     ]
    },
    {
     "name": "stderr",
     "output_type": "stream",
     "text": [
      "INFO:aequitas:Current Metrics - TSN: 2810, DSN: 25, SUR: 0.0089\n"
     ]
    },
    {
     "name": "stdout",
     "output_type": "stream",
     "text": [
      "Current Metrics - TSN: 2820, DSN: 25, SUR: 0.0089\n"
     ]
    },
    {
     "name": "stderr",
     "output_type": "stream",
     "text": [
      "INFO:aequitas:Current Metrics - TSN: 2820, DSN: 25, SUR: 0.0089\n"
     ]
    },
    {
     "name": "stdout",
     "output_type": "stream",
     "text": [
      "Current Metrics - TSN: 2830, DSN: 25, SUR: 0.0088\n"
     ]
    },
    {
     "name": "stderr",
     "output_type": "stream",
     "text": [
      "INFO:aequitas:Current Metrics - TSN: 2830, DSN: 25, SUR: 0.0088\n"
     ]
    },
    {
     "name": "stdout",
     "output_type": "stream",
     "text": [
      "Current Metrics - TSN: 2840, DSN: 25, SUR: 0.0088\n"
     ]
    },
    {
     "name": "stderr",
     "output_type": "stream",
     "text": [
      "INFO:aequitas:Current Metrics - TSN: 2840, DSN: 25, SUR: 0.0088\n"
     ]
    },
    {
     "name": "stdout",
     "output_type": "stream",
     "text": [
      "Current Metrics - TSN: 2850, DSN: 25, SUR: 0.0088\n"
     ]
    },
    {
     "name": "stderr",
     "output_type": "stream",
     "text": [
      "INFO:aequitas:Current Metrics - TSN: 2850, DSN: 25, SUR: 0.0088\n"
     ]
    },
    {
     "name": "stdout",
     "output_type": "stream",
     "text": [
      "Current Metrics - TSN: 2860, DSN: 25, SUR: 0.0087\n"
     ]
    },
    {
     "name": "stderr",
     "output_type": "stream",
     "text": [
      "INFO:aequitas:Current Metrics - TSN: 2860, DSN: 25, SUR: 0.0087\n"
     ]
    },
    {
     "name": "stdout",
     "output_type": "stream",
     "text": [
      "Current Metrics - TSN: 2870, DSN: 25, SUR: 0.0087\n"
     ]
    },
    {
     "name": "stderr",
     "output_type": "stream",
     "text": [
      "INFO:aequitas:Current Metrics - TSN: 2870, DSN: 25, SUR: 0.0087\n"
     ]
    },
    {
     "name": "stdout",
     "output_type": "stream",
     "text": [
      "Current Metrics - TSN: 2880, DSN: 25, SUR: 0.0087\n"
     ]
    },
    {
     "name": "stderr",
     "output_type": "stream",
     "text": [
      "INFO:aequitas:Current Metrics - TSN: 2880, DSN: 25, SUR: 0.0087\n"
     ]
    },
    {
     "name": "stdout",
     "output_type": "stream",
     "text": [
      "Current Metrics - TSN: 2890, DSN: 25, SUR: 0.0087\n"
     ]
    },
    {
     "name": "stderr",
     "output_type": "stream",
     "text": [
      "INFO:aequitas:Current Metrics - TSN: 2890, DSN: 25, SUR: 0.0087\n"
     ]
    },
    {
     "name": "stdout",
     "output_type": "stream",
     "text": [
      "Current Metrics - TSN: 2900, DSN: 25, SUR: 0.0086\n"
     ]
    },
    {
     "name": "stderr",
     "output_type": "stream",
     "text": [
      "INFO:aequitas:Current Metrics - TSN: 2900, DSN: 25, SUR: 0.0086\n"
     ]
    },
    {
     "name": "stdout",
     "output_type": "stream",
     "text": [
      "Current Metrics - TSN: 2910, DSN: 25, SUR: 0.0086\n"
     ]
    },
    {
     "name": "stderr",
     "output_type": "stream",
     "text": [
      "INFO:aequitas:Current Metrics - TSN: 2910, DSN: 25, SUR: 0.0086\n"
     ]
    },
    {
     "name": "stdout",
     "output_type": "stream",
     "text": [
      "Current Metrics - TSN: 2920, DSN: 25, SUR: 0.0086\n"
     ]
    },
    {
     "name": "stderr",
     "output_type": "stream",
     "text": [
      "INFO:aequitas:Current Metrics - TSN: 2920, DSN: 25, SUR: 0.0086\n"
     ]
    },
    {
     "name": "stdout",
     "output_type": "stream",
     "text": [
      "Current Metrics - TSN: 2930, DSN: 25, SUR: 0.0085\n"
     ]
    },
    {
     "name": "stderr",
     "output_type": "stream",
     "text": [
      "INFO:aequitas:Current Metrics - TSN: 2930, DSN: 25, SUR: 0.0085\n"
     ]
    },
    {
     "name": "stdout",
     "output_type": "stream",
     "text": [
      "Current Metrics - TSN: 2940, DSN: 25, SUR: 0.0085\n"
     ]
    },
    {
     "name": "stderr",
     "output_type": "stream",
     "text": [
      "INFO:aequitas:Current Metrics - TSN: 2940, DSN: 25, SUR: 0.0085\n"
     ]
    },
    {
     "name": "stdout",
     "output_type": "stream",
     "text": [
      "Current Metrics - TSN: 2950, DSN: 25, SUR: 0.0085\n"
     ]
    },
    {
     "name": "stderr",
     "output_type": "stream",
     "text": [
      "INFO:aequitas:Current Metrics - TSN: 2950, DSN: 25, SUR: 0.0085\n"
     ]
    },
    {
     "name": "stdout",
     "output_type": "stream",
     "text": [
      "Current Metrics - TSN: 2960, DSN: 25, SUR: 0.0084\n"
     ]
    },
    {
     "name": "stderr",
     "output_type": "stream",
     "text": [
      "INFO:aequitas:Current Metrics - TSN: 2960, DSN: 25, SUR: 0.0084\n"
     ]
    },
    {
     "name": "stdout",
     "output_type": "stream",
     "text": [
      "Current Metrics - TSN: 2970, DSN: 25, SUR: 0.0084\n"
     ]
    },
    {
     "name": "stderr",
     "output_type": "stream",
     "text": [
      "INFO:aequitas:Current Metrics - TSN: 2970, DSN: 25, SUR: 0.0084\n"
     ]
    },
    {
     "name": "stdout",
     "output_type": "stream",
     "text": [
      "Current Metrics - TSN: 2980, DSN: 25, SUR: 0.0084\n"
     ]
    },
    {
     "name": "stderr",
     "output_type": "stream",
     "text": [
      "INFO:aequitas:Current Metrics - TSN: 2980, DSN: 25, SUR: 0.0084\n"
     ]
    },
    {
     "name": "stdout",
     "output_type": "stream",
     "text": [
      "Current Metrics - TSN: 2990, DSN: 25, SUR: 0.0084\n"
     ]
    },
    {
     "name": "stderr",
     "output_type": "stream",
     "text": [
      "INFO:aequitas:Current Metrics - TSN: 2990, DSN: 25, SUR: 0.0084\n"
     ]
    },
    {
     "name": "stdout",
     "output_type": "stream",
     "text": [
      "Current Metrics - TSN: 3000, DSN: 25, SUR: 0.0083\n"
     ]
    },
    {
     "name": "stderr",
     "output_type": "stream",
     "text": [
      "INFO:aequitas:Current Metrics - TSN: 3000, DSN: 25, SUR: 0.0083\n"
     ]
    },
    {
     "name": "stdout",
     "output_type": "stream",
     "text": [
      "Current Metrics - TSN: 3010, DSN: 25, SUR: 0.0083\n"
     ]
    },
    {
     "name": "stderr",
     "output_type": "stream",
     "text": [
      "INFO:aequitas:Current Metrics - TSN: 3010, DSN: 25, SUR: 0.0083\n"
     ]
    },
    {
     "name": "stdout",
     "output_type": "stream",
     "text": [
      "Current Metrics - TSN: 3020, DSN: 25, SUR: 0.0083\n"
     ]
    },
    {
     "name": "stderr",
     "output_type": "stream",
     "text": [
      "INFO:aequitas:Current Metrics - TSN: 3020, DSN: 25, SUR: 0.0083\n"
     ]
    },
    {
     "name": "stdout",
     "output_type": "stream",
     "text": [
      "Current Metrics - TSN: 3030, DSN: 25, SUR: 0.0083\n"
     ]
    },
    {
     "name": "stderr",
     "output_type": "stream",
     "text": [
      "INFO:aequitas:Current Metrics - TSN: 3030, DSN: 25, SUR: 0.0083\n"
     ]
    },
    {
     "name": "stdout",
     "output_type": "stream",
     "text": [
      "Current Metrics - TSN: 3040, DSN: 25, SUR: 0.0082\n"
     ]
    },
    {
     "name": "stderr",
     "output_type": "stream",
     "text": [
      "INFO:aequitas:Current Metrics - TSN: 3040, DSN: 25, SUR: 0.0082\n"
     ]
    },
    {
     "name": "stdout",
     "output_type": "stream",
     "text": [
      "Current Metrics - TSN: 3050, DSN: 25, SUR: 0.0082\n"
     ]
    },
    {
     "name": "stderr",
     "output_type": "stream",
     "text": [
      "INFO:aequitas:Current Metrics - TSN: 3050, DSN: 25, SUR: 0.0082\n"
     ]
    },
    {
     "name": "stdout",
     "output_type": "stream",
     "text": [
      "Current Metrics - TSN: 3060, DSN: 25, SUR: 0.0082\n"
     ]
    },
    {
     "name": "stderr",
     "output_type": "stream",
     "text": [
      "INFO:aequitas:Current Metrics - TSN: 3060, DSN: 25, SUR: 0.0082\n"
     ]
    },
    {
     "name": "stdout",
     "output_type": "stream",
     "text": [
      "Current Metrics - TSN: 3070, DSN: 25, SUR: 0.0081\n"
     ]
    },
    {
     "name": "stderr",
     "output_type": "stream",
     "text": [
      "INFO:aequitas:Current Metrics - TSN: 3070, DSN: 25, SUR: 0.0081\n"
     ]
    },
    {
     "name": "stdout",
     "output_type": "stream",
     "text": [
      "Current Metrics - TSN: 3080, DSN: 25, SUR: 0.0081\n"
     ]
    },
    {
     "name": "stderr",
     "output_type": "stream",
     "text": [
      "INFO:aequitas:Current Metrics - TSN: 3080, DSN: 25, SUR: 0.0081\n"
     ]
    },
    {
     "name": "stdout",
     "output_type": "stream",
     "text": [
      "Current Metrics - TSN: 3090, DSN: 25, SUR: 0.0081\n"
     ]
    },
    {
     "name": "stderr",
     "output_type": "stream",
     "text": [
      "INFO:aequitas:Current Metrics - TSN: 3090, DSN: 25, SUR: 0.0081\n"
     ]
    },
    {
     "name": "stdout",
     "output_type": "stream",
     "text": [
      "Current Metrics - TSN: 3100, DSN: 25, SUR: 0.0081\n"
     ]
    },
    {
     "name": "stderr",
     "output_type": "stream",
     "text": [
      "INFO:aequitas:Current Metrics - TSN: 3100, DSN: 25, SUR: 0.0081\n"
     ]
    },
    {
     "name": "stdout",
     "output_type": "stream",
     "text": [
      "Current Metrics - TSN: 3110, DSN: 25, SUR: 0.0080\n"
     ]
    },
    {
     "name": "stderr",
     "output_type": "stream",
     "text": [
      "INFO:aequitas:Current Metrics - TSN: 3110, DSN: 25, SUR: 0.0080\n"
     ]
    },
    {
     "name": "stdout",
     "output_type": "stream",
     "text": [
      "Current Metrics - TSN: 3120, DSN: 25, SUR: 0.0080\n"
     ]
    },
    {
     "name": "stderr",
     "output_type": "stream",
     "text": [
      "INFO:aequitas:Current Metrics - TSN: 3120, DSN: 25, SUR: 0.0080\n"
     ]
    },
    {
     "name": "stdout",
     "output_type": "stream",
     "text": [
      "Current Metrics - TSN: 3130, DSN: 25, SUR: 0.0080\n"
     ]
    },
    {
     "name": "stderr",
     "output_type": "stream",
     "text": [
      "INFO:aequitas:Current Metrics - TSN: 3130, DSN: 25, SUR: 0.0080\n"
     ]
    },
    {
     "name": "stdout",
     "output_type": "stream",
     "text": [
      "Current Metrics - TSN: 3140, DSN: 25, SUR: 0.0080\n"
     ]
    },
    {
     "name": "stderr",
     "output_type": "stream",
     "text": [
      "INFO:aequitas:Current Metrics - TSN: 3140, DSN: 25, SUR: 0.0080\n"
     ]
    },
    {
     "name": "stdout",
     "output_type": "stream",
     "text": [
      "Current Metrics - TSN: 3150, DSN: 25, SUR: 0.0079\n"
     ]
    },
    {
     "name": "stderr",
     "output_type": "stream",
     "text": [
      "INFO:aequitas:Current Metrics - TSN: 3150, DSN: 25, SUR: 0.0079\n"
     ]
    },
    {
     "name": "stdout",
     "output_type": "stream",
     "text": [
      "Current Metrics - TSN: 3160, DSN: 25, SUR: 0.0079\n"
     ]
    },
    {
     "name": "stderr",
     "output_type": "stream",
     "text": [
      "INFO:aequitas:Current Metrics - TSN: 3160, DSN: 25, SUR: 0.0079\n"
     ]
    },
    {
     "name": "stdout",
     "output_type": "stream",
     "text": [
      "Current Metrics - TSN: 3170, DSN: 25, SUR: 0.0079\n"
     ]
    },
    {
     "name": "stderr",
     "output_type": "stream",
     "text": [
      "INFO:aequitas:Current Metrics - TSN: 3170, DSN: 25, SUR: 0.0079\n"
     ]
    },
    {
     "name": "stdout",
     "output_type": "stream",
     "text": [
      "Current Metrics - TSN: 3180, DSN: 25, SUR: 0.0079\n"
     ]
    },
    {
     "name": "stderr",
     "output_type": "stream",
     "text": [
      "INFO:aequitas:Current Metrics - TSN: 3180, DSN: 25, SUR: 0.0079\n"
     ]
    },
    {
     "name": "stdout",
     "output_type": "stream",
     "text": [
      "Current Metrics - TSN: 3190, DSN: 25, SUR: 0.0078\n"
     ]
    },
    {
     "name": "stderr",
     "output_type": "stream",
     "text": [
      "INFO:aequitas:Current Metrics - TSN: 3190, DSN: 25, SUR: 0.0078\n"
     ]
    },
    {
     "name": "stdout",
     "output_type": "stream",
     "text": [
      "Current Metrics - TSN: 3200, DSN: 25, SUR: 0.0078\n"
     ]
    },
    {
     "name": "stderr",
     "output_type": "stream",
     "text": [
      "INFO:aequitas:Current Metrics - TSN: 3200, DSN: 25, SUR: 0.0078\n"
     ]
    },
    {
     "name": "stdout",
     "output_type": "stream",
     "text": [
      "Current Metrics - TSN: 3210, DSN: 25, SUR: 0.0078\n"
     ]
    },
    {
     "name": "stderr",
     "output_type": "stream",
     "text": [
      "INFO:aequitas:Current Metrics - TSN: 3210, DSN: 25, SUR: 0.0078\n"
     ]
    },
    {
     "name": "stdout",
     "output_type": "stream",
     "text": [
      "Current Metrics - TSN: 3220, DSN: 25, SUR: 0.0078\n"
     ]
    },
    {
     "name": "stderr",
     "output_type": "stream",
     "text": [
      "INFO:aequitas:Current Metrics - TSN: 3220, DSN: 25, SUR: 0.0078\n"
     ]
    },
    {
     "name": "stdout",
     "output_type": "stream",
     "text": [
      "Current Metrics - TSN: 3230, DSN: 25, SUR: 0.0077\n"
     ]
    },
    {
     "name": "stderr",
     "output_type": "stream",
     "text": [
      "INFO:aequitas:Current Metrics - TSN: 3230, DSN: 25, SUR: 0.0077\n"
     ]
    },
    {
     "name": "stdout",
     "output_type": "stream",
     "text": [
      "Current Metrics - TSN: 3240, DSN: 25, SUR: 0.0077\n"
     ]
    },
    {
     "name": "stderr",
     "output_type": "stream",
     "text": [
      "INFO:aequitas:Current Metrics - TSN: 3240, DSN: 25, SUR: 0.0077\n"
     ]
    },
    {
     "name": "stdout",
     "output_type": "stream",
     "text": [
      "Current Metrics - TSN: 3250, DSN: 25, SUR: 0.0077\n"
     ]
    },
    {
     "name": "stderr",
     "output_type": "stream",
     "text": [
      "INFO:aequitas:Current Metrics - TSN: 3250, DSN: 25, SUR: 0.0077\n"
     ]
    },
    {
     "name": "stdout",
     "output_type": "stream",
     "text": [
      "Current Metrics - TSN: 3260, DSN: 25, SUR: 0.0077\n"
     ]
    },
    {
     "name": "stderr",
     "output_type": "stream",
     "text": [
      "INFO:aequitas:Current Metrics - TSN: 3260, DSN: 25, SUR: 0.0077\n"
     ]
    },
    {
     "name": "stdout",
     "output_type": "stream",
     "text": [
      "Current Metrics - TSN: 3270, DSN: 25, SUR: 0.0076\n"
     ]
    },
    {
     "name": "stderr",
     "output_type": "stream",
     "text": [
      "INFO:aequitas:Current Metrics - TSN: 3270, DSN: 25, SUR: 0.0076\n"
     ]
    },
    {
     "name": "stdout",
     "output_type": "stream",
     "text": [
      "Current Metrics - TSN: 3280, DSN: 25, SUR: 0.0076\n"
     ]
    },
    {
     "name": "stderr",
     "output_type": "stream",
     "text": [
      "INFO:aequitas:Current Metrics - TSN: 3280, DSN: 25, SUR: 0.0076\n"
     ]
    },
    {
     "name": "stdout",
     "output_type": "stream",
     "text": [
      "Current Metrics - TSN: 3290, DSN: 25, SUR: 0.0076\n"
     ]
    },
    {
     "name": "stderr",
     "output_type": "stream",
     "text": [
      "INFO:aequitas:Current Metrics - TSN: 3290, DSN: 25, SUR: 0.0076\n"
     ]
    },
    {
     "name": "stdout",
     "output_type": "stream",
     "text": [
      "Current Metrics - TSN: 3300, DSN: 25, SUR: 0.0076\n"
     ]
    },
    {
     "name": "stderr",
     "output_type": "stream",
     "text": [
      "INFO:aequitas:Current Metrics - TSN: 3300, DSN: 25, SUR: 0.0076\n"
     ]
    },
    {
     "name": "stdout",
     "output_type": "stream",
     "text": [
      "Current Metrics - TSN: 3310, DSN: 25, SUR: 0.0076\n"
     ]
    },
    {
     "name": "stderr",
     "output_type": "stream",
     "text": [
      "INFO:aequitas:Current Metrics - TSN: 3310, DSN: 25, SUR: 0.0076\n"
     ]
    },
    {
     "name": "stdout",
     "output_type": "stream",
     "text": [
      "Current Metrics - TSN: 3320, DSN: 25, SUR: 0.0075\n"
     ]
    },
    {
     "name": "stderr",
     "output_type": "stream",
     "text": [
      "INFO:aequitas:Current Metrics - TSN: 3320, DSN: 25, SUR: 0.0075\n"
     ]
    },
    {
     "name": "stdout",
     "output_type": "stream",
     "text": [
      "Current Metrics - TSN: 3330, DSN: 25, SUR: 0.0075\n"
     ]
    },
    {
     "name": "stderr",
     "output_type": "stream",
     "text": [
      "INFO:aequitas:Current Metrics - TSN: 3330, DSN: 25, SUR: 0.0075\n"
     ]
    },
    {
     "name": "stdout",
     "output_type": "stream",
     "text": [
      "Current Metrics - TSN: 3340, DSN: 25, SUR: 0.0075\n"
     ]
    },
    {
     "name": "stderr",
     "output_type": "stream",
     "text": [
      "INFO:aequitas:Current Metrics - TSN: 3340, DSN: 25, SUR: 0.0075\n"
     ]
    },
    {
     "name": "stdout",
     "output_type": "stream",
     "text": [
      "Current Metrics - TSN: 3350, DSN: 25, SUR: 0.0075\n"
     ]
    },
    {
     "name": "stderr",
     "output_type": "stream",
     "text": [
      "INFO:aequitas:Current Metrics - TSN: 3350, DSN: 25, SUR: 0.0075\n"
     ]
    },
    {
     "name": "stdout",
     "output_type": "stream",
     "text": [
      "Current Metrics - TSN: 3360, DSN: 25, SUR: 0.0074\n"
     ]
    },
    {
     "name": "stderr",
     "output_type": "stream",
     "text": [
      "INFO:aequitas:Current Metrics - TSN: 3360, DSN: 25, SUR: 0.0074\n"
     ]
    },
    {
     "name": "stdout",
     "output_type": "stream",
     "text": [
      "Current Metrics - TSN: 3370, DSN: 25, SUR: 0.0074\n"
     ]
    },
    {
     "name": "stderr",
     "output_type": "stream",
     "text": [
      "INFO:aequitas:Current Metrics - TSN: 3370, DSN: 25, SUR: 0.0074\n"
     ]
    },
    {
     "name": "stdout",
     "output_type": "stream",
     "text": [
      "Current Metrics - TSN: 3380, DSN: 25, SUR: 0.0074\n"
     ]
    },
    {
     "name": "stderr",
     "output_type": "stream",
     "text": [
      "INFO:aequitas:Current Metrics - TSN: 3380, DSN: 25, SUR: 0.0074\n"
     ]
    },
    {
     "name": "stdout",
     "output_type": "stream",
     "text": [
      "Current Metrics - TSN: 3390, DSN: 25, SUR: 0.0074\n"
     ]
    },
    {
     "name": "stderr",
     "output_type": "stream",
     "text": [
      "INFO:aequitas:Current Metrics - TSN: 3390, DSN: 25, SUR: 0.0074\n"
     ]
    },
    {
     "name": "stdout",
     "output_type": "stream",
     "text": [
      "Current Metrics - TSN: 3400, DSN: 25, SUR: 0.0074\n"
     ]
    },
    {
     "name": "stderr",
     "output_type": "stream",
     "text": [
      "INFO:aequitas:Current Metrics - TSN: 3400, DSN: 25, SUR: 0.0074\n"
     ]
    },
    {
     "name": "stdout",
     "output_type": "stream",
     "text": [
      "Current Metrics - TSN: 3410, DSN: 25, SUR: 0.0073\n"
     ]
    },
    {
     "name": "stderr",
     "output_type": "stream",
     "text": [
      "INFO:aequitas:Current Metrics - TSN: 3410, DSN: 25, SUR: 0.0073\n"
     ]
    },
    {
     "name": "stdout",
     "output_type": "stream",
     "text": [
      "Current Metrics - TSN: 3420, DSN: 25, SUR: 0.0073\n"
     ]
    },
    {
     "name": "stderr",
     "output_type": "stream",
     "text": [
      "INFO:aequitas:Current Metrics - TSN: 3420, DSN: 25, SUR: 0.0073\n"
     ]
    },
    {
     "name": "stdout",
     "output_type": "stream",
     "text": [
      "Current Metrics - TSN: 3430, DSN: 25, SUR: 0.0073\n"
     ]
    },
    {
     "name": "stderr",
     "output_type": "stream",
     "text": [
      "INFO:aequitas:Current Metrics - TSN: 3430, DSN: 25, SUR: 0.0073\n"
     ]
    },
    {
     "name": "stdout",
     "output_type": "stream",
     "text": [
      "Current Metrics - TSN: 3440, DSN: 25, SUR: 0.0073\n"
     ]
    },
    {
     "name": "stderr",
     "output_type": "stream",
     "text": [
      "INFO:aequitas:Current Metrics - TSN: 3440, DSN: 25, SUR: 0.0073\n"
     ]
    },
    {
     "name": "stdout",
     "output_type": "stream",
     "text": [
      "Current Metrics - TSN: 3450, DSN: 25, SUR: 0.0072\n"
     ]
    },
    {
     "name": "stderr",
     "output_type": "stream",
     "text": [
      "INFO:aequitas:Current Metrics - TSN: 3450, DSN: 25, SUR: 0.0072\n"
     ]
    },
    {
     "name": "stdout",
     "output_type": "stream",
     "text": [
      "Current Metrics - TSN: 3460, DSN: 25, SUR: 0.0072\n"
     ]
    },
    {
     "name": "stderr",
     "output_type": "stream",
     "text": [
      "INFO:aequitas:Current Metrics - TSN: 3460, DSN: 25, SUR: 0.0072\n"
     ]
    },
    {
     "name": "stdout",
     "output_type": "stream",
     "text": [
      "Current Metrics - TSN: 3470, DSN: 25, SUR: 0.0072\n"
     ]
    },
    {
     "name": "stderr",
     "output_type": "stream",
     "text": [
      "INFO:aequitas:Current Metrics - TSN: 3470, DSN: 25, SUR: 0.0072\n"
     ]
    },
    {
     "name": "stdout",
     "output_type": "stream",
     "text": [
      "Current Metrics - TSN: 3480, DSN: 25, SUR: 0.0072\n"
     ]
    },
    {
     "name": "stderr",
     "output_type": "stream",
     "text": [
      "INFO:aequitas:Current Metrics - TSN: 3480, DSN: 25, SUR: 0.0072\n"
     ]
    },
    {
     "name": "stdout",
     "output_type": "stream",
     "text": [
      "Current Metrics - TSN: 3490, DSN: 25, SUR: 0.0072\n"
     ]
    },
    {
     "name": "stderr",
     "output_type": "stream",
     "text": [
      "INFO:aequitas:Current Metrics - TSN: 3490, DSN: 25, SUR: 0.0072\n"
     ]
    },
    {
     "name": "stdout",
     "output_type": "stream",
     "text": [
      "Current Metrics - TSN: 3500, DSN: 25, SUR: 0.0071\n"
     ]
    },
    {
     "name": "stderr",
     "output_type": "stream",
     "text": [
      "INFO:aequitas:Current Metrics - TSN: 3500, DSN: 25, SUR: 0.0071\n"
     ]
    },
    {
     "name": "stdout",
     "output_type": "stream",
     "text": [
      "Current Metrics - TSN: 3510, DSN: 25, SUR: 0.0071\n"
     ]
    },
    {
     "name": "stderr",
     "output_type": "stream",
     "text": [
      "INFO:aequitas:Current Metrics - TSN: 3510, DSN: 25, SUR: 0.0071\n"
     ]
    },
    {
     "name": "stdout",
     "output_type": "stream",
     "text": [
      "Current Metrics - TSN: 3520, DSN: 25, SUR: 0.0071\n"
     ]
    },
    {
     "name": "stderr",
     "output_type": "stream",
     "text": [
      "INFO:aequitas:Current Metrics - TSN: 3520, DSN: 25, SUR: 0.0071\n"
     ]
    },
    {
     "name": "stdout",
     "output_type": "stream",
     "text": [
      "Current Metrics - TSN: 3530, DSN: 25, SUR: 0.0071\n"
     ]
    },
    {
     "name": "stderr",
     "output_type": "stream",
     "text": [
      "INFO:aequitas:Current Metrics - TSN: 3530, DSN: 25, SUR: 0.0071\n"
     ]
    },
    {
     "name": "stdout",
     "output_type": "stream",
     "text": [
      "Current Metrics - TSN: 3540, DSN: 25, SUR: 0.0071\n"
     ]
    },
    {
     "name": "stderr",
     "output_type": "stream",
     "text": [
      "INFO:aequitas:Current Metrics - TSN: 3540, DSN: 25, SUR: 0.0071\n"
     ]
    },
    {
     "name": "stdout",
     "output_type": "stream",
     "text": [
      "Current Metrics - TSN: 3550, DSN: 25, SUR: 0.0070\n"
     ]
    },
    {
     "name": "stderr",
     "output_type": "stream",
     "text": [
      "INFO:aequitas:Current Metrics - TSN: 3550, DSN: 25, SUR: 0.0070\n"
     ]
    },
    {
     "name": "stdout",
     "output_type": "stream",
     "text": [
      "Current Metrics - TSN: 3560, DSN: 25, SUR: 0.0070\n"
     ]
    },
    {
     "name": "stderr",
     "output_type": "stream",
     "text": [
      "INFO:aequitas:Current Metrics - TSN: 3560, DSN: 25, SUR: 0.0070\n"
     ]
    },
    {
     "name": "stdout",
     "output_type": "stream",
     "text": [
      "Current Metrics - TSN: 3570, DSN: 25, SUR: 0.0070\n"
     ]
    },
    {
     "name": "stderr",
     "output_type": "stream",
     "text": [
      "INFO:aequitas:Current Metrics - TSN: 3570, DSN: 25, SUR: 0.0070\n"
     ]
    },
    {
     "name": "stdout",
     "output_type": "stream",
     "text": [
      "Current Metrics - TSN: 3580, DSN: 25, SUR: 0.0070\n"
     ]
    },
    {
     "name": "stderr",
     "output_type": "stream",
     "text": [
      "INFO:aequitas:Current Metrics - TSN: 3580, DSN: 25, SUR: 0.0070\n"
     ]
    },
    {
     "name": "stdout",
     "output_type": "stream",
     "text": [
      "Current Metrics - TSN: 3590, DSN: 26, SUR: 0.0072\n"
     ]
    },
    {
     "name": "stderr",
     "output_type": "stream",
     "text": [
      "INFO:aequitas:Current Metrics - TSN: 3590, DSN: 26, SUR: 0.0072\n"
     ]
    },
    {
     "name": "stdout",
     "output_type": "stream",
     "text": [
      "Current Metrics - TSN: 3600, DSN: 27, SUR: 0.0075\n"
     ]
    },
    {
     "name": "stderr",
     "output_type": "stream",
     "text": [
      "INFO:aequitas:Current Metrics - TSN: 3600, DSN: 27, SUR: 0.0075\n"
     ]
    },
    {
     "name": "stdout",
     "output_type": "stream",
     "text": [
      "Current Metrics - TSN: 3610, DSN: 28, SUR: 0.0078\n"
     ]
    },
    {
     "name": "stderr",
     "output_type": "stream",
     "text": [
      "INFO:aequitas:Current Metrics - TSN: 3610, DSN: 28, SUR: 0.0078\n"
     ]
    },
    {
     "name": "stdout",
     "output_type": "stream",
     "text": [
      "Current Metrics - TSN: 3620, DSN: 29, SUR: 0.0080\n"
     ]
    },
    {
     "name": "stderr",
     "output_type": "stream",
     "text": [
      "INFO:aequitas:Current Metrics - TSN: 3620, DSN: 29, SUR: 0.0080\n"
     ]
    },
    {
     "name": "stdout",
     "output_type": "stream",
     "text": [
      "Current Metrics - TSN: 3630, DSN: 30, SUR: 0.0083\n"
     ]
    },
    {
     "name": "stderr",
     "output_type": "stream",
     "text": [
      "INFO:aequitas:Current Metrics - TSN: 3630, DSN: 30, SUR: 0.0083\n"
     ]
    },
    {
     "name": "stdout",
     "output_type": "stream",
     "text": [
      "Current Metrics - TSN: 3640, DSN: 31, SUR: 0.0085\n"
     ]
    },
    {
     "name": "stderr",
     "output_type": "stream",
     "text": [
      "INFO:aequitas:Current Metrics - TSN: 3640, DSN: 31, SUR: 0.0085\n"
     ]
    },
    {
     "name": "stdout",
     "output_type": "stream",
     "text": [
      "Current Metrics - TSN: 3650, DSN: 31, SUR: 0.0085\n"
     ]
    },
    {
     "name": "stderr",
     "output_type": "stream",
     "text": [
      "INFO:aequitas:Current Metrics - TSN: 3650, DSN: 31, SUR: 0.0085\n"
     ]
    },
    {
     "name": "stdout",
     "output_type": "stream",
     "text": [
      "Current Metrics - TSN: 3660, DSN: 32, SUR: 0.0087\n"
     ]
    },
    {
     "name": "stderr",
     "output_type": "stream",
     "text": [
      "INFO:aequitas:Current Metrics - TSN: 3660, DSN: 32, SUR: 0.0087\n"
     ]
    },
    {
     "name": "stdout",
     "output_type": "stream",
     "text": [
      "Current Metrics - TSN: 3670, DSN: 32, SUR: 0.0087\n"
     ]
    },
    {
     "name": "stderr",
     "output_type": "stream",
     "text": [
      "INFO:aequitas:Current Metrics - TSN: 3670, DSN: 32, SUR: 0.0087\n"
     ]
    },
    {
     "name": "stdout",
     "output_type": "stream",
     "text": [
      "Current Metrics - TSN: 3680, DSN: 33, SUR: 0.0090\n"
     ]
    },
    {
     "name": "stderr",
     "output_type": "stream",
     "text": [
      "INFO:aequitas:Current Metrics - TSN: 3680, DSN: 33, SUR: 0.0090\n"
     ]
    },
    {
     "name": "stdout",
     "output_type": "stream",
     "text": [
      "Current Metrics - TSN: 3690, DSN: 33, SUR: 0.0089\n"
     ]
    },
    {
     "name": "stderr",
     "output_type": "stream",
     "text": [
      "INFO:aequitas:Current Metrics - TSN: 3690, DSN: 33, SUR: 0.0089\n"
     ]
    },
    {
     "name": "stdout",
     "output_type": "stream",
     "text": [
      "Current Metrics - TSN: 3700, DSN: 38, SUR: 0.0103\n"
     ]
    },
    {
     "name": "stderr",
     "output_type": "stream",
     "text": [
      "INFO:aequitas:Current Metrics - TSN: 3700, DSN: 38, SUR: 0.0103\n"
     ]
    },
    {
     "name": "stdout",
     "output_type": "stream",
     "text": [
      "Current Metrics - TSN: 3710, DSN: 38, SUR: 0.0102\n"
     ]
    },
    {
     "name": "stderr",
     "output_type": "stream",
     "text": [
      "INFO:aequitas:Current Metrics - TSN: 3710, DSN: 38, SUR: 0.0102\n"
     ]
    },
    {
     "name": "stdout",
     "output_type": "stream",
     "text": [
      "Current Metrics - TSN: 3720, DSN: 38, SUR: 0.0102\n"
     ]
    },
    {
     "name": "stderr",
     "output_type": "stream",
     "text": [
      "INFO:aequitas:Current Metrics - TSN: 3720, DSN: 38, SUR: 0.0102\n"
     ]
    },
    {
     "name": "stdout",
     "output_type": "stream",
     "text": [
      "Current Metrics - TSN: 3730, DSN: 38, SUR: 0.0102\n"
     ]
    },
    {
     "name": "stderr",
     "output_type": "stream",
     "text": [
      "INFO:aequitas:Current Metrics - TSN: 3730, DSN: 38, SUR: 0.0102\n"
     ]
    },
    {
     "name": "stdout",
     "output_type": "stream",
     "text": [
      "Current Metrics - TSN: 3740, DSN: 38, SUR: 0.0102\n"
     ]
    },
    {
     "name": "stderr",
     "output_type": "stream",
     "text": [
      "INFO:aequitas:Current Metrics - TSN: 3740, DSN: 38, SUR: 0.0102\n"
     ]
    },
    {
     "name": "stdout",
     "output_type": "stream",
     "text": [
      "Current Metrics - TSN: 3750, DSN: 38, SUR: 0.0101\n"
     ]
    },
    {
     "name": "stderr",
     "output_type": "stream",
     "text": [
      "INFO:aequitas:Current Metrics - TSN: 3750, DSN: 38, SUR: 0.0101\n"
     ]
    },
    {
     "name": "stdout",
     "output_type": "stream",
     "text": [
      "Current Metrics - TSN: 3760, DSN: 38, SUR: 0.0101\n"
     ]
    },
    {
     "name": "stderr",
     "output_type": "stream",
     "text": [
      "INFO:aequitas:Current Metrics - TSN: 3760, DSN: 38, SUR: 0.0101\n"
     ]
    },
    {
     "name": "stdout",
     "output_type": "stream",
     "text": [
      "Current Metrics - TSN: 3770, DSN: 38, SUR: 0.0101\n"
     ]
    },
    {
     "name": "stderr",
     "output_type": "stream",
     "text": [
      "INFO:aequitas:Current Metrics - TSN: 3770, DSN: 38, SUR: 0.0101\n"
     ]
    },
    {
     "name": "stdout",
     "output_type": "stream",
     "text": [
      "Current Metrics - TSN: 3780, DSN: 38, SUR: 0.0101\n"
     ]
    },
    {
     "name": "stderr",
     "output_type": "stream",
     "text": [
      "INFO:aequitas:Current Metrics - TSN: 3780, DSN: 38, SUR: 0.0101\n"
     ]
    },
    {
     "name": "stdout",
     "output_type": "stream",
     "text": [
      "Current Metrics - TSN: 3790, DSN: 38, SUR: 0.0100\n"
     ]
    },
    {
     "name": "stderr",
     "output_type": "stream",
     "text": [
      "INFO:aequitas:Current Metrics - TSN: 3790, DSN: 38, SUR: 0.0100\n"
     ]
    },
    {
     "name": "stdout",
     "output_type": "stream",
     "text": [
      "Current Metrics - TSN: 3800, DSN: 38, SUR: 0.0100\n"
     ]
    },
    {
     "name": "stderr",
     "output_type": "stream",
     "text": [
      "INFO:aequitas:Current Metrics - TSN: 3800, DSN: 38, SUR: 0.0100\n"
     ]
    },
    {
     "name": "stdout",
     "output_type": "stream",
     "text": [
      "Current Metrics - TSN: 3810, DSN: 38, SUR: 0.0100\n"
     ]
    },
    {
     "name": "stderr",
     "output_type": "stream",
     "text": [
      "INFO:aequitas:Current Metrics - TSN: 3810, DSN: 38, SUR: 0.0100\n"
     ]
    },
    {
     "name": "stdout",
     "output_type": "stream",
     "text": [
      "Current Metrics - TSN: 3820, DSN: 38, SUR: 0.0099\n"
     ]
    },
    {
     "name": "stderr",
     "output_type": "stream",
     "text": [
      "INFO:aequitas:Current Metrics - TSN: 3820, DSN: 38, SUR: 0.0099\n"
     ]
    },
    {
     "name": "stdout",
     "output_type": "stream",
     "text": [
      "Current Metrics - TSN: 3830, DSN: 38, SUR: 0.0099\n"
     ]
    },
    {
     "name": "stderr",
     "output_type": "stream",
     "text": [
      "INFO:aequitas:Current Metrics - TSN: 3830, DSN: 38, SUR: 0.0099\n"
     ]
    },
    {
     "name": "stdout",
     "output_type": "stream",
     "text": [
      "Current Metrics - TSN: 3840, DSN: 38, SUR: 0.0099\n"
     ]
    },
    {
     "name": "stderr",
     "output_type": "stream",
     "text": [
      "INFO:aequitas:Current Metrics - TSN: 3840, DSN: 38, SUR: 0.0099\n"
     ]
    },
    {
     "name": "stdout",
     "output_type": "stream",
     "text": [
      "Current Metrics - TSN: 3850, DSN: 38, SUR: 0.0099\n"
     ]
    },
    {
     "name": "stderr",
     "output_type": "stream",
     "text": [
      "INFO:aequitas:Current Metrics - TSN: 3850, DSN: 38, SUR: 0.0099\n"
     ]
    },
    {
     "name": "stdout",
     "output_type": "stream",
     "text": [
      "Current Metrics - TSN: 3860, DSN: 38, SUR: 0.0098\n"
     ]
    },
    {
     "name": "stderr",
     "output_type": "stream",
     "text": [
      "INFO:aequitas:Current Metrics - TSN: 3860, DSN: 38, SUR: 0.0098\n"
     ]
    },
    {
     "name": "stdout",
     "output_type": "stream",
     "text": [
      "Current Metrics - TSN: 3870, DSN: 43, SUR: 0.0111\n"
     ]
    },
    {
     "name": "stderr",
     "output_type": "stream",
     "text": [
      "INFO:aequitas:Current Metrics - TSN: 3870, DSN: 43, SUR: 0.0111\n"
     ]
    },
    {
     "name": "stdout",
     "output_type": "stream",
     "text": [
      "Current Metrics - TSN: 3880, DSN: 43, SUR: 0.0111\n"
     ]
    },
    {
     "name": "stderr",
     "output_type": "stream",
     "text": [
      "INFO:aequitas:Current Metrics - TSN: 3880, DSN: 43, SUR: 0.0111\n"
     ]
    },
    {
     "name": "stdout",
     "output_type": "stream",
     "text": [
      "Current Metrics - TSN: 3890, DSN: 48, SUR: 0.0123\n"
     ]
    },
    {
     "name": "stderr",
     "output_type": "stream",
     "text": [
      "INFO:aequitas:Current Metrics - TSN: 3890, DSN: 48, SUR: 0.0123\n"
     ]
    },
    {
     "name": "stdout",
     "output_type": "stream",
     "text": [
      "Current Metrics - TSN: 3900, DSN: 51, SUR: 0.0131\n"
     ]
    },
    {
     "name": "stderr",
     "output_type": "stream",
     "text": [
      "INFO:aequitas:Current Metrics - TSN: 3900, DSN: 51, SUR: 0.0131\n"
     ]
    },
    {
     "name": "stdout",
     "output_type": "stream",
     "text": [
      "Current Metrics - TSN: 3910, DSN: 56, SUR: 0.0143\n"
     ]
    },
    {
     "name": "stderr",
     "output_type": "stream",
     "text": [
      "INFO:aequitas:Current Metrics - TSN: 3910, DSN: 56, SUR: 0.0143\n"
     ]
    },
    {
     "name": "stdout",
     "output_type": "stream",
     "text": [
      "Current Metrics - TSN: 3920, DSN: 56, SUR: 0.0143\n"
     ]
    },
    {
     "name": "stderr",
     "output_type": "stream",
     "text": [
      "INFO:aequitas:Current Metrics - TSN: 3920, DSN: 56, SUR: 0.0143\n"
     ]
    },
    {
     "name": "stdout",
     "output_type": "stream",
     "text": [
      "Current Metrics - TSN: 3930, DSN: 56, SUR: 0.0142\n"
     ]
    },
    {
     "name": "stderr",
     "output_type": "stream",
     "text": [
      "INFO:aequitas:Current Metrics - TSN: 3930, DSN: 56, SUR: 0.0142\n"
     ]
    },
    {
     "name": "stdout",
     "output_type": "stream",
     "text": [
      "Current Metrics - TSN: 3940, DSN: 56, SUR: 0.0142\n"
     ]
    },
    {
     "name": "stderr",
     "output_type": "stream",
     "text": [
      "INFO:aequitas:Current Metrics - TSN: 3940, DSN: 56, SUR: 0.0142\n"
     ]
    },
    {
     "name": "stdout",
     "output_type": "stream",
     "text": [
      "Current Metrics - TSN: 3950, DSN: 56, SUR: 0.0142\n"
     ]
    },
    {
     "name": "stderr",
     "output_type": "stream",
     "text": [
      "INFO:aequitas:Current Metrics - TSN: 3950, DSN: 56, SUR: 0.0142\n"
     ]
    },
    {
     "name": "stdout",
     "output_type": "stream",
     "text": [
      "Current Metrics - TSN: 3960, DSN: 56, SUR: 0.0141\n"
     ]
    },
    {
     "name": "stderr",
     "output_type": "stream",
     "text": [
      "INFO:aequitas:Current Metrics - TSN: 3960, DSN: 56, SUR: 0.0141\n"
     ]
    },
    {
     "name": "stdout",
     "output_type": "stream",
     "text": [
      "Current Metrics - TSN: 3970, DSN: 56, SUR: 0.0141\n"
     ]
    },
    {
     "name": "stderr",
     "output_type": "stream",
     "text": [
      "INFO:aequitas:Current Metrics - TSN: 3970, DSN: 56, SUR: 0.0141\n"
     ]
    },
    {
     "name": "stdout",
     "output_type": "stream",
     "text": [
      "Current Metrics - TSN: 3980, DSN: 56, SUR: 0.0141\n"
     ]
    },
    {
     "name": "stderr",
     "output_type": "stream",
     "text": [
      "INFO:aequitas:Current Metrics - TSN: 3980, DSN: 56, SUR: 0.0141\n"
     ]
    },
    {
     "name": "stdout",
     "output_type": "stream",
     "text": [
      "Current Metrics - TSN: 3990, DSN: 56, SUR: 0.0140\n"
     ]
    },
    {
     "name": "stderr",
     "output_type": "stream",
     "text": [
      "INFO:aequitas:Current Metrics - TSN: 3990, DSN: 56, SUR: 0.0140\n"
     ]
    },
    {
     "name": "stdout",
     "output_type": "stream",
     "text": [
      "Current Metrics - TSN: 4000, DSN: 56, SUR: 0.0140\n"
     ]
    },
    {
     "name": "stderr",
     "output_type": "stream",
     "text": [
      "INFO:aequitas:Current Metrics - TSN: 4000, DSN: 56, SUR: 0.0140\n"
     ]
    },
    {
     "name": "stdout",
     "output_type": "stream",
     "text": [
      "Current Metrics - TSN: 4010, DSN: 56, SUR: 0.0140\n"
     ]
    },
    {
     "name": "stderr",
     "output_type": "stream",
     "text": [
      "INFO:aequitas:Current Metrics - TSN: 4010, DSN: 56, SUR: 0.0140\n"
     ]
    },
    {
     "name": "stdout",
     "output_type": "stream",
     "text": [
      "Current Metrics - TSN: 4020, DSN: 56, SUR: 0.0139\n"
     ]
    },
    {
     "name": "stderr",
     "output_type": "stream",
     "text": [
      "INFO:aequitas:Current Metrics - TSN: 4020, DSN: 56, SUR: 0.0139\n"
     ]
    },
    {
     "name": "stdout",
     "output_type": "stream",
     "text": [
      "Current Metrics - TSN: 4030, DSN: 56, SUR: 0.0139\n"
     ]
    },
    {
     "name": "stderr",
     "output_type": "stream",
     "text": [
      "INFO:aequitas:Current Metrics - TSN: 4030, DSN: 56, SUR: 0.0139\n"
     ]
    },
    {
     "name": "stdout",
     "output_type": "stream",
     "text": [
      "Current Metrics - TSN: 4040, DSN: 56, SUR: 0.0139\n"
     ]
    },
    {
     "name": "stderr",
     "output_type": "stream",
     "text": [
      "INFO:aequitas:Current Metrics - TSN: 4040, DSN: 56, SUR: 0.0139\n"
     ]
    },
    {
     "name": "stdout",
     "output_type": "stream",
     "text": [
      "Current Metrics - TSN: 4050, DSN: 56, SUR: 0.0138\n"
     ]
    },
    {
     "name": "stderr",
     "output_type": "stream",
     "text": [
      "INFO:aequitas:Current Metrics - TSN: 4050, DSN: 56, SUR: 0.0138\n"
     ]
    },
    {
     "name": "stdout",
     "output_type": "stream",
     "text": [
      "Current Metrics - TSN: 4060, DSN: 56, SUR: 0.0138\n"
     ]
    },
    {
     "name": "stderr",
     "output_type": "stream",
     "text": [
      "INFO:aequitas:Current Metrics - TSN: 4060, DSN: 56, SUR: 0.0138\n"
     ]
    },
    {
     "name": "stdout",
     "output_type": "stream",
     "text": [
      "Current Metrics - TSN: 4080, DSN: 56, SUR: 0.0137\n"
     ]
    },
    {
     "name": "stderr",
     "output_type": "stream",
     "text": [
      "INFO:aequitas:Current Metrics - TSN: 4080, DSN: 56, SUR: 0.0137\n"
     ]
    },
    {
     "name": "stdout",
     "output_type": "stream",
     "text": [
      "Current Metrics - TSN: 4090, DSN: 56, SUR: 0.0137\n"
     ]
    },
    {
     "name": "stderr",
     "output_type": "stream",
     "text": [
      "INFO:aequitas:Current Metrics - TSN: 4090, DSN: 56, SUR: 0.0137\n"
     ]
    },
    {
     "name": "stdout",
     "output_type": "stream",
     "text": [
      "Current Metrics - TSN: 4100, DSN: 56, SUR: 0.0137\n"
     ]
    },
    {
     "name": "stderr",
     "output_type": "stream",
     "text": [
      "INFO:aequitas:Current Metrics - TSN: 4100, DSN: 56, SUR: 0.0137\n"
     ]
    },
    {
     "name": "stdout",
     "output_type": "stream",
     "text": [
      "Current Metrics - TSN: 4110, DSN: 56, SUR: 0.0136\n"
     ]
    },
    {
     "name": "stderr",
     "output_type": "stream",
     "text": [
      "INFO:aequitas:Current Metrics - TSN: 4110, DSN: 56, SUR: 0.0136\n"
     ]
    },
    {
     "name": "stdout",
     "output_type": "stream",
     "text": [
      "Current Metrics - TSN: 4120, DSN: 56, SUR: 0.0136\n"
     ]
    },
    {
     "name": "stderr",
     "output_type": "stream",
     "text": [
      "INFO:aequitas:Current Metrics - TSN: 4120, DSN: 56, SUR: 0.0136\n"
     ]
    },
    {
     "name": "stdout",
     "output_type": "stream",
     "text": [
      "Current Metrics - TSN: 4130, DSN: 56, SUR: 0.0136\n"
     ]
    },
    {
     "name": "stderr",
     "output_type": "stream",
     "text": [
      "INFO:aequitas:Current Metrics - TSN: 4130, DSN: 56, SUR: 0.0136\n"
     ]
    },
    {
     "name": "stdout",
     "output_type": "stream",
     "text": [
      "Current Metrics - TSN: 4140, DSN: 56, SUR: 0.0135\n"
     ]
    },
    {
     "name": "stderr",
     "output_type": "stream",
     "text": [
      "INFO:aequitas:Current Metrics - TSN: 4140, DSN: 56, SUR: 0.0135\n"
     ]
    },
    {
     "name": "stdout",
     "output_type": "stream",
     "text": [
      "Current Metrics - TSN: 4150, DSN: 56, SUR: 0.0135\n"
     ]
    },
    {
     "name": "stderr",
     "output_type": "stream",
     "text": [
      "INFO:aequitas:Current Metrics - TSN: 4150, DSN: 56, SUR: 0.0135\n"
     ]
    },
    {
     "name": "stdout",
     "output_type": "stream",
     "text": [
      "Current Metrics - TSN: 4160, DSN: 56, SUR: 0.0135\n"
     ]
    },
    {
     "name": "stderr",
     "output_type": "stream",
     "text": [
      "INFO:aequitas:Current Metrics - TSN: 4160, DSN: 56, SUR: 0.0135\n"
     ]
    },
    {
     "name": "stdout",
     "output_type": "stream",
     "text": [
      "Current Metrics - TSN: 4170, DSN: 56, SUR: 0.0134\n"
     ]
    },
    {
     "name": "stderr",
     "output_type": "stream",
     "text": [
      "INFO:aequitas:Current Metrics - TSN: 4170, DSN: 56, SUR: 0.0134\n"
     ]
    },
    {
     "name": "stdout",
     "output_type": "stream",
     "text": [
      "Current Metrics - TSN: 4180, DSN: 56, SUR: 0.0134\n"
     ]
    },
    {
     "name": "stderr",
     "output_type": "stream",
     "text": [
      "INFO:aequitas:Current Metrics - TSN: 4180, DSN: 56, SUR: 0.0134\n"
     ]
    },
    {
     "name": "stdout",
     "output_type": "stream",
     "text": [
      "Current Metrics - TSN: 4190, DSN: 56, SUR: 0.0134\n"
     ]
    },
    {
     "name": "stderr",
     "output_type": "stream",
     "text": [
      "INFO:aequitas:Current Metrics - TSN: 4190, DSN: 56, SUR: 0.0134\n"
     ]
    },
    {
     "name": "stdout",
     "output_type": "stream",
     "text": [
      "Current Metrics - TSN: 4200, DSN: 56, SUR: 0.0133\n"
     ]
    },
    {
     "name": "stderr",
     "output_type": "stream",
     "text": [
      "INFO:aequitas:Current Metrics - TSN: 4200, DSN: 56, SUR: 0.0133\n"
     ]
    },
    {
     "name": "stdout",
     "output_type": "stream",
     "text": [
      "Current Metrics - TSN: 4220, DSN: 56, SUR: 0.0133\n"
     ]
    },
    {
     "name": "stderr",
     "output_type": "stream",
     "text": [
      "INFO:aequitas:Current Metrics - TSN: 4220, DSN: 56, SUR: 0.0133\n"
     ]
    },
    {
     "name": "stdout",
     "output_type": "stream",
     "text": [
      "Current Metrics - TSN: 4230, DSN: 56, SUR: 0.0132\n"
     ]
    },
    {
     "name": "stderr",
     "output_type": "stream",
     "text": [
      "INFO:aequitas:Current Metrics - TSN: 4230, DSN: 56, SUR: 0.0132\n"
     ]
    },
    {
     "name": "stdout",
     "output_type": "stream",
     "text": [
      "Current Metrics - TSN: 4240, DSN: 56, SUR: 0.0132\n"
     ]
    },
    {
     "name": "stderr",
     "output_type": "stream",
     "text": [
      "INFO:aequitas:Current Metrics - TSN: 4240, DSN: 56, SUR: 0.0132\n"
     ]
    },
    {
     "name": "stdout",
     "output_type": "stream",
     "text": [
      "Current Metrics - TSN: 4250, DSN: 56, SUR: 0.0132\n"
     ]
    },
    {
     "name": "stderr",
     "output_type": "stream",
     "text": [
      "INFO:aequitas:Current Metrics - TSN: 4250, DSN: 56, SUR: 0.0132\n"
     ]
    },
    {
     "name": "stdout",
     "output_type": "stream",
     "text": [
      "Current Metrics - TSN: 4260, DSN: 56, SUR: 0.0131\n"
     ]
    },
    {
     "name": "stderr",
     "output_type": "stream",
     "text": [
      "INFO:aequitas:Current Metrics - TSN: 4260, DSN: 56, SUR: 0.0131\n"
     ]
    },
    {
     "name": "stdout",
     "output_type": "stream",
     "text": [
      "Current Metrics - TSN: 4270, DSN: 56, SUR: 0.0131\n"
     ]
    },
    {
     "name": "stderr",
     "output_type": "stream",
     "text": [
      "INFO:aequitas:Current Metrics - TSN: 4270, DSN: 56, SUR: 0.0131\n"
     ]
    },
    {
     "name": "stdout",
     "output_type": "stream",
     "text": [
      "Current Metrics - TSN: 4280, DSN: 56, SUR: 0.0131\n"
     ]
    },
    {
     "name": "stderr",
     "output_type": "stream",
     "text": [
      "INFO:aequitas:Current Metrics - TSN: 4280, DSN: 56, SUR: 0.0131\n"
     ]
    },
    {
     "name": "stdout",
     "output_type": "stream",
     "text": [
      "Current Metrics - TSN: 4290, DSN: 56, SUR: 0.0131\n"
     ]
    },
    {
     "name": "stderr",
     "output_type": "stream",
     "text": [
      "INFO:aequitas:Current Metrics - TSN: 4290, DSN: 56, SUR: 0.0131\n"
     ]
    },
    {
     "name": "stdout",
     "output_type": "stream",
     "text": [
      "Current Metrics - TSN: 4300, DSN: 56, SUR: 0.0130\n"
     ]
    },
    {
     "name": "stderr",
     "output_type": "stream",
     "text": [
      "INFO:aequitas:Current Metrics - TSN: 4300, DSN: 56, SUR: 0.0130\n"
     ]
    },
    {
     "name": "stdout",
     "output_type": "stream",
     "text": [
      "Current Metrics - TSN: 4310, DSN: 56, SUR: 0.0130\n"
     ]
    },
    {
     "name": "stderr",
     "output_type": "stream",
     "text": [
      "INFO:aequitas:Current Metrics - TSN: 4310, DSN: 56, SUR: 0.0130\n"
     ]
    },
    {
     "name": "stdout",
     "output_type": "stream",
     "text": [
      "Current Metrics - TSN: 4320, DSN: 56, SUR: 0.0130\n"
     ]
    },
    {
     "name": "stderr",
     "output_type": "stream",
     "text": [
      "INFO:aequitas:Current Metrics - TSN: 4320, DSN: 56, SUR: 0.0130\n"
     ]
    },
    {
     "name": "stdout",
     "output_type": "stream",
     "text": [
      "Current Metrics - TSN: 4330, DSN: 56, SUR: 0.0129\n"
     ]
    },
    {
     "name": "stderr",
     "output_type": "stream",
     "text": [
      "INFO:aequitas:Current Metrics - TSN: 4330, DSN: 56, SUR: 0.0129\n"
     ]
    },
    {
     "name": "stdout",
     "output_type": "stream",
     "text": [
      "Current Metrics - TSN: 4340, DSN: 56, SUR: 0.0129\n"
     ]
    },
    {
     "name": "stderr",
     "output_type": "stream",
     "text": [
      "INFO:aequitas:Current Metrics - TSN: 4340, DSN: 56, SUR: 0.0129\n"
     ]
    },
    {
     "name": "stdout",
     "output_type": "stream",
     "text": [
      "Current Metrics - TSN: 4350, DSN: 56, SUR: 0.0129\n"
     ]
    },
    {
     "name": "stderr",
     "output_type": "stream",
     "text": [
      "INFO:aequitas:Current Metrics - TSN: 4350, DSN: 56, SUR: 0.0129\n"
     ]
    },
    {
     "name": "stdout",
     "output_type": "stream",
     "text": [
      "Current Metrics - TSN: 4360, DSN: 56, SUR: 0.0128\n"
     ]
    },
    {
     "name": "stderr",
     "output_type": "stream",
     "text": [
      "INFO:aequitas:Current Metrics - TSN: 4360, DSN: 56, SUR: 0.0128\n"
     ]
    },
    {
     "name": "stdout",
     "output_type": "stream",
     "text": [
      "Current Metrics - TSN: 4370, DSN: 56, SUR: 0.0128\n"
     ]
    },
    {
     "name": "stderr",
     "output_type": "stream",
     "text": [
      "INFO:aequitas:Current Metrics - TSN: 4370, DSN: 56, SUR: 0.0128\n"
     ]
    },
    {
     "name": "stdout",
     "output_type": "stream",
     "text": [
      "Current Metrics - TSN: 4380, DSN: 56, SUR: 0.0128\n"
     ]
    },
    {
     "name": "stderr",
     "output_type": "stream",
     "text": [
      "INFO:aequitas:Current Metrics - TSN: 4380, DSN: 56, SUR: 0.0128\n"
     ]
    },
    {
     "name": "stdout",
     "output_type": "stream",
     "text": [
      "Current Metrics - TSN: 4390, DSN: 56, SUR: 0.0128\n"
     ]
    },
    {
     "name": "stderr",
     "output_type": "stream",
     "text": [
      "INFO:aequitas:Current Metrics - TSN: 4390, DSN: 56, SUR: 0.0128\n"
     ]
    },
    {
     "name": "stdout",
     "output_type": "stream",
     "text": [
      "Current Metrics - TSN: 4400, DSN: 56, SUR: 0.0127\n"
     ]
    },
    {
     "name": "stderr",
     "output_type": "stream",
     "text": [
      "INFO:aequitas:Current Metrics - TSN: 4400, DSN: 56, SUR: 0.0127\n"
     ]
    },
    {
     "name": "stdout",
     "output_type": "stream",
     "text": [
      "Current Metrics - TSN: 4410, DSN: 56, SUR: 0.0127\n"
     ]
    },
    {
     "name": "stderr",
     "output_type": "stream",
     "text": [
      "INFO:aequitas:Current Metrics - TSN: 4410, DSN: 56, SUR: 0.0127\n"
     ]
    },
    {
     "name": "stdout",
     "output_type": "stream",
     "text": [
      "Current Metrics - TSN: 4420, DSN: 56, SUR: 0.0127\n"
     ]
    },
    {
     "name": "stderr",
     "output_type": "stream",
     "text": [
      "INFO:aequitas:Current Metrics - TSN: 4420, DSN: 56, SUR: 0.0127\n"
     ]
    },
    {
     "name": "stdout",
     "output_type": "stream",
     "text": [
      "Current Metrics - TSN: 4430, DSN: 56, SUR: 0.0126\n"
     ]
    },
    {
     "name": "stderr",
     "output_type": "stream",
     "text": [
      "INFO:aequitas:Current Metrics - TSN: 4430, DSN: 56, SUR: 0.0126\n"
     ]
    },
    {
     "name": "stdout",
     "output_type": "stream",
     "text": [
      "Current Metrics - TSN: 4440, DSN: 56, SUR: 0.0126\n"
     ]
    },
    {
     "name": "stderr",
     "output_type": "stream",
     "text": [
      "INFO:aequitas:Current Metrics - TSN: 4440, DSN: 56, SUR: 0.0126\n"
     ]
    },
    {
     "name": "stdout",
     "output_type": "stream",
     "text": [
      "Current Metrics - TSN: 4450, DSN: 56, SUR: 0.0126\n"
     ]
    },
    {
     "name": "stderr",
     "output_type": "stream",
     "text": [
      "INFO:aequitas:Current Metrics - TSN: 4450, DSN: 56, SUR: 0.0126\n"
     ]
    },
    {
     "name": "stdout",
     "output_type": "stream",
     "text": [
      "Current Metrics - TSN: 4460, DSN: 56, SUR: 0.0126\n"
     ]
    },
    {
     "name": "stderr",
     "output_type": "stream",
     "text": [
      "INFO:aequitas:Current Metrics - TSN: 4460, DSN: 56, SUR: 0.0126\n"
     ]
    },
    {
     "name": "stdout",
     "output_type": "stream",
     "text": [
      "Current Metrics - TSN: 4470, DSN: 56, SUR: 0.0125\n"
     ]
    },
    {
     "name": "stderr",
     "output_type": "stream",
     "text": [
      "INFO:aequitas:Current Metrics - TSN: 4470, DSN: 56, SUR: 0.0125\n"
     ]
    },
    {
     "name": "stdout",
     "output_type": "stream",
     "text": [
      "Current Metrics - TSN: 4480, DSN: 56, SUR: 0.0125\n"
     ]
    },
    {
     "name": "stderr",
     "output_type": "stream",
     "text": [
      "INFO:aequitas:Current Metrics - TSN: 4480, DSN: 56, SUR: 0.0125\n"
     ]
    },
    {
     "name": "stdout",
     "output_type": "stream",
     "text": [
      "Current Metrics - TSN: 4490, DSN: 56, SUR: 0.0125\n"
     ]
    },
    {
     "name": "stderr",
     "output_type": "stream",
     "text": [
      "INFO:aequitas:Current Metrics - TSN: 4490, DSN: 56, SUR: 0.0125\n"
     ]
    },
    {
     "name": "stdout",
     "output_type": "stream",
     "text": [
      "Current Metrics - TSN: 4500, DSN: 56, SUR: 0.0124\n"
     ]
    },
    {
     "name": "stderr",
     "output_type": "stream",
     "text": [
      "INFO:aequitas:Current Metrics - TSN: 4500, DSN: 56, SUR: 0.0124\n"
     ]
    },
    {
     "name": "stdout",
     "output_type": "stream",
     "text": [
      "Current Metrics - TSN: 4510, DSN: 56, SUR: 0.0124\n"
     ]
    },
    {
     "name": "stderr",
     "output_type": "stream",
     "text": [
      "INFO:aequitas:Current Metrics - TSN: 4510, DSN: 56, SUR: 0.0124\n"
     ]
    },
    {
     "name": "stdout",
     "output_type": "stream",
     "text": [
      "Current Metrics - TSN: 4520, DSN: 56, SUR: 0.0124\n"
     ]
    },
    {
     "name": "stderr",
     "output_type": "stream",
     "text": [
      "INFO:aequitas:Current Metrics - TSN: 4520, DSN: 56, SUR: 0.0124\n"
     ]
    },
    {
     "name": "stdout",
     "output_type": "stream",
     "text": [
      "Current Metrics - TSN: 4530, DSN: 56, SUR: 0.0124\n"
     ]
    },
    {
     "name": "stderr",
     "output_type": "stream",
     "text": [
      "INFO:aequitas:Current Metrics - TSN: 4530, DSN: 56, SUR: 0.0124\n"
     ]
    },
    {
     "name": "stdout",
     "output_type": "stream",
     "text": [
      "Current Metrics - TSN: 4540, DSN: 56, SUR: 0.0123\n"
     ]
    },
    {
     "name": "stderr",
     "output_type": "stream",
     "text": [
      "INFO:aequitas:Current Metrics - TSN: 4540, DSN: 56, SUR: 0.0123\n"
     ]
    },
    {
     "name": "stdout",
     "output_type": "stream",
     "text": [
      "Current Metrics - TSN: 4550, DSN: 56, SUR: 0.0123\n"
     ]
    },
    {
     "name": "stderr",
     "output_type": "stream",
     "text": [
      "INFO:aequitas:Current Metrics - TSN: 4550, DSN: 56, SUR: 0.0123\n"
     ]
    },
    {
     "name": "stdout",
     "output_type": "stream",
     "text": [
      "Current Metrics - TSN: 4560, DSN: 56, SUR: 0.0123\n"
     ]
    },
    {
     "name": "stderr",
     "output_type": "stream",
     "text": [
      "INFO:aequitas:Current Metrics - TSN: 4560, DSN: 56, SUR: 0.0123\n"
     ]
    },
    {
     "name": "stdout",
     "output_type": "stream",
     "text": [
      "Current Metrics - TSN: 4570, DSN: 56, SUR: 0.0123\n"
     ]
    },
    {
     "name": "stderr",
     "output_type": "stream",
     "text": [
      "INFO:aequitas:Current Metrics - TSN: 4570, DSN: 56, SUR: 0.0123\n"
     ]
    },
    {
     "name": "stdout",
     "output_type": "stream",
     "text": [
      "Current Metrics - TSN: 4580, DSN: 56, SUR: 0.0122\n"
     ]
    },
    {
     "name": "stderr",
     "output_type": "stream",
     "text": [
      "INFO:aequitas:Current Metrics - TSN: 4580, DSN: 56, SUR: 0.0122\n"
     ]
    },
    {
     "name": "stdout",
     "output_type": "stream",
     "text": [
      "Current Metrics - TSN: 4590, DSN: 56, SUR: 0.0122\n"
     ]
    },
    {
     "name": "stderr",
     "output_type": "stream",
     "text": [
      "INFO:aequitas:Current Metrics - TSN: 4590, DSN: 56, SUR: 0.0122\n"
     ]
    },
    {
     "name": "stdout",
     "output_type": "stream",
     "text": [
      "Current Metrics - TSN: 4600, DSN: 56, SUR: 0.0122\n"
     ]
    },
    {
     "name": "stderr",
     "output_type": "stream",
     "text": [
      "INFO:aequitas:Current Metrics - TSN: 4600, DSN: 56, SUR: 0.0122\n"
     ]
    },
    {
     "name": "stdout",
     "output_type": "stream",
     "text": [
      "Current Metrics - TSN: 4610, DSN: 56, SUR: 0.0121\n"
     ]
    },
    {
     "name": "stderr",
     "output_type": "stream",
     "text": [
      "INFO:aequitas:Current Metrics - TSN: 4610, DSN: 56, SUR: 0.0121\n"
     ]
    },
    {
     "name": "stdout",
     "output_type": "stream",
     "text": [
      "Current Metrics - TSN: 4620, DSN: 56, SUR: 0.0121\n"
     ]
    },
    {
     "name": "stderr",
     "output_type": "stream",
     "text": [
      "INFO:aequitas:Current Metrics - TSN: 4620, DSN: 56, SUR: 0.0121\n"
     ]
    },
    {
     "name": "stdout",
     "output_type": "stream",
     "text": [
      "Current Metrics - TSN: 4630, DSN: 56, SUR: 0.0121\n"
     ]
    },
    {
     "name": "stderr",
     "output_type": "stream",
     "text": [
      "INFO:aequitas:Current Metrics - TSN: 4630, DSN: 56, SUR: 0.0121\n"
     ]
    },
    {
     "name": "stdout",
     "output_type": "stream",
     "text": [
      "Current Metrics - TSN: 4640, DSN: 56, SUR: 0.0121\n"
     ]
    },
    {
     "name": "stderr",
     "output_type": "stream",
     "text": [
      "INFO:aequitas:Current Metrics - TSN: 4640, DSN: 56, SUR: 0.0121\n"
     ]
    },
    {
     "name": "stdout",
     "output_type": "stream",
     "text": [
      "Current Metrics - TSN: 4650, DSN: 56, SUR: 0.0120\n"
     ]
    },
    {
     "name": "stderr",
     "output_type": "stream",
     "text": [
      "INFO:aequitas:Current Metrics - TSN: 4650, DSN: 56, SUR: 0.0120\n"
     ]
    },
    {
     "name": "stdout",
     "output_type": "stream",
     "text": [
      "Current Metrics - TSN: 4660, DSN: 56, SUR: 0.0120\n"
     ]
    },
    {
     "name": "stderr",
     "output_type": "stream",
     "text": [
      "INFO:aequitas:Current Metrics - TSN: 4660, DSN: 56, SUR: 0.0120\n"
     ]
    },
    {
     "name": "stdout",
     "output_type": "stream",
     "text": [
      "Current Metrics - TSN: 4670, DSN: 56, SUR: 0.0120\n"
     ]
    },
    {
     "name": "stderr",
     "output_type": "stream",
     "text": [
      "INFO:aequitas:Current Metrics - TSN: 4670, DSN: 56, SUR: 0.0120\n"
     ]
    },
    {
     "name": "stdout",
     "output_type": "stream",
     "text": [
      "Current Metrics - TSN: 4680, DSN: 56, SUR: 0.0120\n"
     ]
    },
    {
     "name": "stderr",
     "output_type": "stream",
     "text": [
      "INFO:aequitas:Current Metrics - TSN: 4680, DSN: 56, SUR: 0.0120\n"
     ]
    },
    {
     "name": "stdout",
     "output_type": "stream",
     "text": [
      "Current Metrics - TSN: 4690, DSN: 56, SUR: 0.0119\n"
     ]
    },
    {
     "name": "stderr",
     "output_type": "stream",
     "text": [
      "INFO:aequitas:Current Metrics - TSN: 4690, DSN: 56, SUR: 0.0119\n"
     ]
    },
    {
     "name": "stdout",
     "output_type": "stream",
     "text": [
      "Current Metrics - TSN: 4700, DSN: 56, SUR: 0.0119\n"
     ]
    },
    {
     "name": "stderr",
     "output_type": "stream",
     "text": [
      "INFO:aequitas:Current Metrics - TSN: 4700, DSN: 56, SUR: 0.0119\n"
     ]
    },
    {
     "name": "stdout",
     "output_type": "stream",
     "text": [
      "Current Metrics - TSN: 4710, DSN: 56, SUR: 0.0119\n"
     ]
    },
    {
     "name": "stderr",
     "output_type": "stream",
     "text": [
      "INFO:aequitas:Current Metrics - TSN: 4710, DSN: 56, SUR: 0.0119\n"
     ]
    },
    {
     "name": "stdout",
     "output_type": "stream",
     "text": [
      "Current Metrics - TSN: 4720, DSN: 56, SUR: 0.0119\n"
     ]
    },
    {
     "name": "stderr",
     "output_type": "stream",
     "text": [
      "INFO:aequitas:Current Metrics - TSN: 4720, DSN: 56, SUR: 0.0119\n"
     ]
    },
    {
     "name": "stdout",
     "output_type": "stream",
     "text": [
      "Current Metrics - TSN: 4730, DSN: 56, SUR: 0.0118\n"
     ]
    },
    {
     "name": "stderr",
     "output_type": "stream",
     "text": [
      "INFO:aequitas:Current Metrics - TSN: 4730, DSN: 56, SUR: 0.0118\n"
     ]
    },
    {
     "name": "stdout",
     "output_type": "stream",
     "text": [
      "Current Metrics - TSN: 4740, DSN: 56, SUR: 0.0118\n"
     ]
    },
    {
     "name": "stderr",
     "output_type": "stream",
     "text": [
      "INFO:aequitas:Current Metrics - TSN: 4740, DSN: 56, SUR: 0.0118\n"
     ]
    },
    {
     "name": "stdout",
     "output_type": "stream",
     "text": [
      "Current Metrics - TSN: 4750, DSN: 56, SUR: 0.0118\n"
     ]
    },
    {
     "name": "stderr",
     "output_type": "stream",
     "text": [
      "INFO:aequitas:Current Metrics - TSN: 4750, DSN: 56, SUR: 0.0118\n"
     ]
    },
    {
     "name": "stdout",
     "output_type": "stream",
     "text": [
      "Current Metrics - TSN: 4770, DSN: 56, SUR: 0.0117\n"
     ]
    },
    {
     "name": "stderr",
     "output_type": "stream",
     "text": [
      "INFO:aequitas:Current Metrics - TSN: 4770, DSN: 56, SUR: 0.0117\n"
     ]
    },
    {
     "name": "stdout",
     "output_type": "stream",
     "text": [
      "Current Metrics - TSN: 4780, DSN: 56, SUR: 0.0117\n"
     ]
    },
    {
     "name": "stderr",
     "output_type": "stream",
     "text": [
      "INFO:aequitas:Current Metrics - TSN: 4780, DSN: 56, SUR: 0.0117\n"
     ]
    },
    {
     "name": "stdout",
     "output_type": "stream",
     "text": [
      "Current Metrics - TSN: 4790, DSN: 56, SUR: 0.0117\n"
     ]
    },
    {
     "name": "stderr",
     "output_type": "stream",
     "text": [
      "INFO:aequitas:Current Metrics - TSN: 4790, DSN: 56, SUR: 0.0117\n"
     ]
    },
    {
     "name": "stdout",
     "output_type": "stream",
     "text": [
      "Current Metrics - TSN: 4800, DSN: 56, SUR: 0.0117\n"
     ]
    },
    {
     "name": "stderr",
     "output_type": "stream",
     "text": [
      "INFO:aequitas:Current Metrics - TSN: 4800, DSN: 56, SUR: 0.0117\n"
     ]
    },
    {
     "name": "stdout",
     "output_type": "stream",
     "text": [
      "Current Metrics - TSN: 4810, DSN: 56, SUR: 0.0116\n"
     ]
    },
    {
     "name": "stderr",
     "output_type": "stream",
     "text": [
      "INFO:aequitas:Current Metrics - TSN: 4810, DSN: 56, SUR: 0.0116\n"
     ]
    },
    {
     "name": "stdout",
     "output_type": "stream",
     "text": [
      "Current Metrics - TSN: 4820, DSN: 56, SUR: 0.0116\n"
     ]
    },
    {
     "name": "stderr",
     "output_type": "stream",
     "text": [
      "INFO:aequitas:Current Metrics - TSN: 4820, DSN: 56, SUR: 0.0116\n"
     ]
    },
    {
     "name": "stdout",
     "output_type": "stream",
     "text": [
      "Current Metrics - TSN: 4830, DSN: 56, SUR: 0.0116\n"
     ]
    },
    {
     "name": "stderr",
     "output_type": "stream",
     "text": [
      "INFO:aequitas:Current Metrics - TSN: 4830, DSN: 56, SUR: 0.0116\n"
     ]
    },
    {
     "name": "stdout",
     "output_type": "stream",
     "text": [
      "Current Metrics - TSN: 4840, DSN: 56, SUR: 0.0116\n"
     ]
    },
    {
     "name": "stderr",
     "output_type": "stream",
     "text": [
      "INFO:aequitas:Current Metrics - TSN: 4840, DSN: 56, SUR: 0.0116\n"
     ]
    },
    {
     "name": "stdout",
     "output_type": "stream",
     "text": [
      "Current Metrics - TSN: 4850, DSN: 56, SUR: 0.0115\n"
     ]
    },
    {
     "name": "stderr",
     "output_type": "stream",
     "text": [
      "INFO:aequitas:Current Metrics - TSN: 4850, DSN: 56, SUR: 0.0115\n"
     ]
    },
    {
     "name": "stdout",
     "output_type": "stream",
     "text": [
      "Current Metrics - TSN: 4860, DSN: 56, SUR: 0.0115\n"
     ]
    },
    {
     "name": "stderr",
     "output_type": "stream",
     "text": [
      "INFO:aequitas:Current Metrics - TSN: 4860, DSN: 56, SUR: 0.0115\n"
     ]
    },
    {
     "name": "stdout",
     "output_type": "stream",
     "text": [
      "Current Metrics - TSN: 4870, DSN: 56, SUR: 0.0115\n"
     ]
    },
    {
     "name": "stderr",
     "output_type": "stream",
     "text": [
      "INFO:aequitas:Current Metrics - TSN: 4870, DSN: 56, SUR: 0.0115\n"
     ]
    },
    {
     "name": "stdout",
     "output_type": "stream",
     "text": [
      "Current Metrics - TSN: 4880, DSN: 56, SUR: 0.0115\n"
     ]
    },
    {
     "name": "stderr",
     "output_type": "stream",
     "text": [
      "INFO:aequitas:Current Metrics - TSN: 4880, DSN: 56, SUR: 0.0115\n"
     ]
    },
    {
     "name": "stdout",
     "output_type": "stream",
     "text": [
      "Current Metrics - TSN: 4890, DSN: 56, SUR: 0.0115\n"
     ]
    },
    {
     "name": "stderr",
     "output_type": "stream",
     "text": [
      "INFO:aequitas:Current Metrics - TSN: 4890, DSN: 56, SUR: 0.0115\n"
     ]
    },
    {
     "name": "stdout",
     "output_type": "stream",
     "text": [
      "Current Metrics - TSN: 4900, DSN: 56, SUR: 0.0114\n"
     ]
    },
    {
     "name": "stderr",
     "output_type": "stream",
     "text": [
      "INFO:aequitas:Current Metrics - TSN: 4900, DSN: 56, SUR: 0.0114\n"
     ]
    },
    {
     "name": "stdout",
     "output_type": "stream",
     "text": [
      "Current Metrics - TSN: 4910, DSN: 56, SUR: 0.0114\n"
     ]
    },
    {
     "name": "stderr",
     "output_type": "stream",
     "text": [
      "INFO:aequitas:Current Metrics - TSN: 4910, DSN: 56, SUR: 0.0114\n"
     ]
    },
    {
     "name": "stdout",
     "output_type": "stream",
     "text": [
      "Current Metrics - TSN: 4930, DSN: 56, SUR: 0.0114\n"
     ]
    },
    {
     "name": "stderr",
     "output_type": "stream",
     "text": [
      "INFO:aequitas:Current Metrics - TSN: 4930, DSN: 56, SUR: 0.0114\n"
     ]
    },
    {
     "name": "stdout",
     "output_type": "stream",
     "text": [
      "Current Metrics - TSN: 4940, DSN: 56, SUR: 0.0113\n"
     ]
    },
    {
     "name": "stderr",
     "output_type": "stream",
     "text": [
      "INFO:aequitas:Current Metrics - TSN: 4940, DSN: 56, SUR: 0.0113\n"
     ]
    },
    {
     "name": "stdout",
     "output_type": "stream",
     "text": [
      "Current Metrics - TSN: 4950, DSN: 56, SUR: 0.0113\n"
     ]
    },
    {
     "name": "stderr",
     "output_type": "stream",
     "text": [
      "INFO:aequitas:Current Metrics - TSN: 4950, DSN: 56, SUR: 0.0113\n"
     ]
    },
    {
     "name": "stdout",
     "output_type": "stream",
     "text": [
      "Current Metrics - TSN: 4960, DSN: 56, SUR: 0.0113\n"
     ]
    },
    {
     "name": "stderr",
     "output_type": "stream",
     "text": [
      "INFO:aequitas:Current Metrics - TSN: 4960, DSN: 56, SUR: 0.0113\n"
     ]
    },
    {
     "name": "stdout",
     "output_type": "stream",
     "text": [
      "Current Metrics - TSN: 4970, DSN: 56, SUR: 0.0113\n"
     ]
    },
    {
     "name": "stderr",
     "output_type": "stream",
     "text": [
      "INFO:aequitas:Current Metrics - TSN: 4970, DSN: 56, SUR: 0.0113\n"
     ]
    },
    {
     "name": "stdout",
     "output_type": "stream",
     "text": [
      "Current Metrics - TSN: 4980, DSN: 56, SUR: 0.0112\n"
     ]
    },
    {
     "name": "stderr",
     "output_type": "stream",
     "text": [
      "INFO:aequitas:Current Metrics - TSN: 4980, DSN: 56, SUR: 0.0112\n"
     ]
    },
    {
     "name": "stdout",
     "output_type": "stream",
     "text": [
      "Current Metrics - TSN: 5000, DSN: 56, SUR: 0.0112\n"
     ]
    },
    {
     "name": "stderr",
     "output_type": "stream",
     "text": [
      "INFO:aequitas:Current Metrics - TSN: 5000, DSN: 56, SUR: 0.0112\n"
     ]
    },
    {
     "name": "stdout",
     "output_type": "stream",
     "text": [
      "Current Metrics - TSN: 5010, DSN: 56, SUR: 0.0112\n"
     ]
    },
    {
     "name": "stderr",
     "output_type": "stream",
     "text": [
      "INFO:aequitas:Current Metrics - TSN: 5010, DSN: 56, SUR: 0.0112\n"
     ]
    },
    {
     "name": "stdout",
     "output_type": "stream",
     "text": [
      "Current Metrics - TSN: 5020, DSN: 56, SUR: 0.0112\n"
     ]
    },
    {
     "name": "stderr",
     "output_type": "stream",
     "text": [
      "INFO:aequitas:Current Metrics - TSN: 5020, DSN: 56, SUR: 0.0112\n"
     ]
    },
    {
     "name": "stdout",
     "output_type": "stream",
     "text": [
      "Current Metrics - TSN: 5030, DSN: 56, SUR: 0.0111\n"
     ]
    },
    {
     "name": "stderr",
     "output_type": "stream",
     "text": [
      "INFO:aequitas:Current Metrics - TSN: 5030, DSN: 56, SUR: 0.0111\n"
     ]
    },
    {
     "name": "stdout",
     "output_type": "stream",
     "text": [
      "Current Metrics - TSN: 5040, DSN: 56, SUR: 0.0111\n"
     ]
    },
    {
     "name": "stderr",
     "output_type": "stream",
     "text": [
      "INFO:aequitas:Current Metrics - TSN: 5040, DSN: 56, SUR: 0.0111\n"
     ]
    },
    {
     "name": "stdout",
     "output_type": "stream",
     "text": [
      "Current Metrics - TSN: 5050, DSN: 56, SUR: 0.0111\n"
     ]
    },
    {
     "name": "stderr",
     "output_type": "stream",
     "text": [
      "INFO:aequitas:Current Metrics - TSN: 5050, DSN: 56, SUR: 0.0111\n"
     ]
    },
    {
     "name": "stdout",
     "output_type": "stream",
     "text": [
      "Current Metrics - TSN: 5060, DSN: 56, SUR: 0.0111\n"
     ]
    },
    {
     "name": "stderr",
     "output_type": "stream",
     "text": [
      "INFO:aequitas:Current Metrics - TSN: 5060, DSN: 56, SUR: 0.0111\n"
     ]
    },
    {
     "name": "stdout",
     "output_type": "stream",
     "text": [
      "Current Metrics - TSN: 5070, DSN: 56, SUR: 0.0110\n"
     ]
    },
    {
     "name": "stderr",
     "output_type": "stream",
     "text": [
      "INFO:aequitas:Current Metrics - TSN: 5070, DSN: 56, SUR: 0.0110\n"
     ]
    },
    {
     "name": "stdout",
     "output_type": "stream",
     "text": [
      "Current Metrics - TSN: 5080, DSN: 56, SUR: 0.0110\n"
     ]
    },
    {
     "name": "stderr",
     "output_type": "stream",
     "text": [
      "INFO:aequitas:Current Metrics - TSN: 5080, DSN: 56, SUR: 0.0110\n"
     ]
    },
    {
     "name": "stdout",
     "output_type": "stream",
     "text": [
      "Current Metrics - TSN: 5090, DSN: 56, SUR: 0.0110\n"
     ]
    },
    {
     "name": "stderr",
     "output_type": "stream",
     "text": [
      "INFO:aequitas:Current Metrics - TSN: 5090, DSN: 56, SUR: 0.0110\n"
     ]
    },
    {
     "name": "stdout",
     "output_type": "stream",
     "text": [
      "Current Metrics - TSN: 5100, DSN: 56, SUR: 0.0110\n"
     ]
    },
    {
     "name": "stderr",
     "output_type": "stream",
     "text": [
      "INFO:aequitas:Current Metrics - TSN: 5100, DSN: 56, SUR: 0.0110\n"
     ]
    },
    {
     "name": "stdout",
     "output_type": "stream",
     "text": [
      "Current Metrics - TSN: 5110, DSN: 56, SUR: 0.0110\n"
     ]
    },
    {
     "name": "stderr",
     "output_type": "stream",
     "text": [
      "INFO:aequitas:Current Metrics - TSN: 5110, DSN: 56, SUR: 0.0110\n"
     ]
    },
    {
     "name": "stdout",
     "output_type": "stream",
     "text": [
      "Current Metrics - TSN: 5120, DSN: 56, SUR: 0.0109\n"
     ]
    },
    {
     "name": "stderr",
     "output_type": "stream",
     "text": [
      "INFO:aequitas:Current Metrics - TSN: 5120, DSN: 56, SUR: 0.0109\n"
     ]
    },
    {
     "name": "stdout",
     "output_type": "stream",
     "text": [
      "Current Metrics - TSN: 5130, DSN: 56, SUR: 0.0109\n"
     ]
    },
    {
     "name": "stderr",
     "output_type": "stream",
     "text": [
      "INFO:aequitas:Current Metrics - TSN: 5130, DSN: 56, SUR: 0.0109\n"
     ]
    },
    {
     "name": "stdout",
     "output_type": "stream",
     "text": [
      "Current Metrics - TSN: 5140, DSN: 56, SUR: 0.0109\n"
     ]
    },
    {
     "name": "stderr",
     "output_type": "stream",
     "text": [
      "INFO:aequitas:Current Metrics - TSN: 5140, DSN: 56, SUR: 0.0109\n"
     ]
    },
    {
     "name": "stdout",
     "output_type": "stream",
     "text": [
      "Current Metrics - TSN: 5150, DSN: 56, SUR: 0.0109\n"
     ]
    },
    {
     "name": "stderr",
     "output_type": "stream",
     "text": [
      "INFO:aequitas:Current Metrics - TSN: 5150, DSN: 56, SUR: 0.0109\n"
     ]
    },
    {
     "name": "stdout",
     "output_type": "stream",
     "text": [
      "Current Metrics - TSN: 5160, DSN: 56, SUR: 0.0109\n"
     ]
    },
    {
     "name": "stderr",
     "output_type": "stream",
     "text": [
      "INFO:aequitas:Current Metrics - TSN: 5160, DSN: 56, SUR: 0.0109\n"
     ]
    },
    {
     "name": "stdout",
     "output_type": "stream",
     "text": [
      "Current Metrics - TSN: 5170, DSN: 56, SUR: 0.0108\n"
     ]
    },
    {
     "name": "stderr",
     "output_type": "stream",
     "text": [
      "INFO:aequitas:Current Metrics - TSN: 5170, DSN: 56, SUR: 0.0108\n"
     ]
    },
    {
     "name": "stdout",
     "output_type": "stream",
     "text": [
      "Current Metrics - TSN: 5180, DSN: 56, SUR: 0.0108\n"
     ]
    },
    {
     "name": "stderr",
     "output_type": "stream",
     "text": [
      "INFO:aequitas:Current Metrics - TSN: 5180, DSN: 56, SUR: 0.0108\n"
     ]
    },
    {
     "name": "stdout",
     "output_type": "stream",
     "text": [
      "Current Metrics - TSN: 5190, DSN: 56, SUR: 0.0108\n"
     ]
    },
    {
     "name": "stderr",
     "output_type": "stream",
     "text": [
      "INFO:aequitas:Current Metrics - TSN: 5190, DSN: 56, SUR: 0.0108\n"
     ]
    },
    {
     "name": "stdout",
     "output_type": "stream",
     "text": [
      "Current Metrics - TSN: 5200, DSN: 56, SUR: 0.0108\n"
     ]
    },
    {
     "name": "stderr",
     "output_type": "stream",
     "text": [
      "INFO:aequitas:Current Metrics - TSN: 5200, DSN: 56, SUR: 0.0108\n"
     ]
    },
    {
     "name": "stdout",
     "output_type": "stream",
     "text": [
      "Current Metrics - TSN: 5210, DSN: 56, SUR: 0.0107\n"
     ]
    },
    {
     "name": "stderr",
     "output_type": "stream",
     "text": [
      "INFO:aequitas:Current Metrics - TSN: 5210, DSN: 56, SUR: 0.0107\n"
     ]
    },
    {
     "name": "stdout",
     "output_type": "stream",
     "text": [
      "Current Metrics - TSN: 5220, DSN: 56, SUR: 0.0107\n"
     ]
    },
    {
     "name": "stderr",
     "output_type": "stream",
     "text": [
      "INFO:aequitas:Current Metrics - TSN: 5220, DSN: 56, SUR: 0.0107\n"
     ]
    },
    {
     "name": "stdout",
     "output_type": "stream",
     "text": [
      "Current Metrics - TSN: 5230, DSN: 56, SUR: 0.0107\n"
     ]
    },
    {
     "name": "stderr",
     "output_type": "stream",
     "text": [
      "INFO:aequitas:Current Metrics - TSN: 5230, DSN: 56, SUR: 0.0107\n"
     ]
    },
    {
     "name": "stdout",
     "output_type": "stream",
     "text": [
      "Current Metrics - TSN: 5240, DSN: 56, SUR: 0.0107\n"
     ]
    },
    {
     "name": "stderr",
     "output_type": "stream",
     "text": [
      "INFO:aequitas:Current Metrics - TSN: 5240, DSN: 56, SUR: 0.0107\n"
     ]
    },
    {
     "name": "stdout",
     "output_type": "stream",
     "text": [
      "Current Metrics - TSN: 5250, DSN: 56, SUR: 0.0107\n"
     ]
    },
    {
     "name": "stderr",
     "output_type": "stream",
     "text": [
      "INFO:aequitas:Current Metrics - TSN: 5250, DSN: 56, SUR: 0.0107\n"
     ]
    },
    {
     "name": "stdout",
     "output_type": "stream",
     "text": [
      "Current Metrics - TSN: 5260, DSN: 56, SUR: 0.0106\n"
     ]
    },
    {
     "name": "stderr",
     "output_type": "stream",
     "text": [
      "INFO:aequitas:Current Metrics - TSN: 5260, DSN: 56, SUR: 0.0106\n"
     ]
    },
    {
     "name": "stdout",
     "output_type": "stream",
     "text": [
      "Current Metrics - TSN: 5270, DSN: 56, SUR: 0.0106\n"
     ]
    },
    {
     "name": "stderr",
     "output_type": "stream",
     "text": [
      "INFO:aequitas:Current Metrics - TSN: 5270, DSN: 56, SUR: 0.0106\n"
     ]
    },
    {
     "name": "stdout",
     "output_type": "stream",
     "text": [
      "Current Metrics - TSN: 5280, DSN: 56, SUR: 0.0106\n"
     ]
    },
    {
     "name": "stderr",
     "output_type": "stream",
     "text": [
      "INFO:aequitas:Current Metrics - TSN: 5280, DSN: 56, SUR: 0.0106\n"
     ]
    },
    {
     "name": "stdout",
     "output_type": "stream",
     "text": [
      "Current Metrics - TSN: 5290, DSN: 56, SUR: 0.0106\n"
     ]
    },
    {
     "name": "stderr",
     "output_type": "stream",
     "text": [
      "INFO:aequitas:Current Metrics - TSN: 5290, DSN: 56, SUR: 0.0106\n"
     ]
    },
    {
     "name": "stdout",
     "output_type": "stream",
     "text": [
      "Current Metrics - TSN: 5300, DSN: 56, SUR: 0.0106\n"
     ]
    },
    {
     "name": "stderr",
     "output_type": "stream",
     "text": [
      "INFO:aequitas:Current Metrics - TSN: 5300, DSN: 56, SUR: 0.0106\n"
     ]
    },
    {
     "name": "stdout",
     "output_type": "stream",
     "text": [
      "Current Metrics - TSN: 5310, DSN: 56, SUR: 0.0105\n"
     ]
    },
    {
     "name": "stderr",
     "output_type": "stream",
     "text": [
      "INFO:aequitas:Current Metrics - TSN: 5310, DSN: 56, SUR: 0.0105\n"
     ]
    },
    {
     "name": "stdout",
     "output_type": "stream",
     "text": [
      "Current Metrics - TSN: 5320, DSN: 56, SUR: 0.0105\n"
     ]
    },
    {
     "name": "stderr",
     "output_type": "stream",
     "text": [
      "INFO:aequitas:Current Metrics - TSN: 5320, DSN: 56, SUR: 0.0105\n"
     ]
    },
    {
     "name": "stdout",
     "output_type": "stream",
     "text": [
      "Current Metrics - TSN: 5330, DSN: 56, SUR: 0.0105\n"
     ]
    },
    {
     "name": "stderr",
     "output_type": "stream",
     "text": [
      "INFO:aequitas:Current Metrics - TSN: 5330, DSN: 56, SUR: 0.0105\n"
     ]
    },
    {
     "name": "stdout",
     "output_type": "stream",
     "text": [
      "Current Metrics - TSN: 5340, DSN: 56, SUR: 0.0105\n"
     ]
    },
    {
     "name": "stderr",
     "output_type": "stream",
     "text": [
      "INFO:aequitas:Current Metrics - TSN: 5340, DSN: 56, SUR: 0.0105\n"
     ]
    },
    {
     "name": "stdout",
     "output_type": "stream",
     "text": [
      "Current Metrics - TSN: 5350, DSN: 56, SUR: 0.0105\n"
     ]
    },
    {
     "name": "stderr",
     "output_type": "stream",
     "text": [
      "INFO:aequitas:Current Metrics - TSN: 5350, DSN: 56, SUR: 0.0105\n"
     ]
    },
    {
     "name": "stdout",
     "output_type": "stream",
     "text": [
      "Current Metrics - TSN: 5360, DSN: 56, SUR: 0.0104\n"
     ]
    },
    {
     "name": "stderr",
     "output_type": "stream",
     "text": [
      "INFO:aequitas:Current Metrics - TSN: 5360, DSN: 56, SUR: 0.0104\n"
     ]
    },
    {
     "name": "stdout",
     "output_type": "stream",
     "text": [
      "Current Metrics - TSN: 5370, DSN: 56, SUR: 0.0104\n"
     ]
    },
    {
     "name": "stderr",
     "output_type": "stream",
     "text": [
      "INFO:aequitas:Current Metrics - TSN: 5370, DSN: 56, SUR: 0.0104\n"
     ]
    },
    {
     "name": "stdout",
     "output_type": "stream",
     "text": [
      "Current Metrics - TSN: 5380, DSN: 56, SUR: 0.0104\n"
     ]
    },
    {
     "name": "stderr",
     "output_type": "stream",
     "text": [
      "INFO:aequitas:Current Metrics - TSN: 5380, DSN: 56, SUR: 0.0104\n"
     ]
    },
    {
     "name": "stdout",
     "output_type": "stream",
     "text": [
      "Current Metrics - TSN: 5390, DSN: 56, SUR: 0.0104\n"
     ]
    },
    {
     "name": "stderr",
     "output_type": "stream",
     "text": [
      "INFO:aequitas:Current Metrics - TSN: 5390, DSN: 56, SUR: 0.0104\n"
     ]
    },
    {
     "name": "stdout",
     "output_type": "stream",
     "text": [
      "Current Metrics - TSN: 5400, DSN: 56, SUR: 0.0104\n"
     ]
    },
    {
     "name": "stderr",
     "output_type": "stream",
     "text": [
      "INFO:aequitas:Current Metrics - TSN: 5400, DSN: 56, SUR: 0.0104\n"
     ]
    },
    {
     "name": "stdout",
     "output_type": "stream",
     "text": [
      "Current Metrics - TSN: 5410, DSN: 56, SUR: 0.0104\n"
     ]
    },
    {
     "name": "stderr",
     "output_type": "stream",
     "text": [
      "INFO:aequitas:Current Metrics - TSN: 5410, DSN: 56, SUR: 0.0104\n"
     ]
    },
    {
     "name": "stdout",
     "output_type": "stream",
     "text": [
      "Current Metrics - TSN: 5420, DSN: 56, SUR: 0.0103\n"
     ]
    },
    {
     "name": "stderr",
     "output_type": "stream",
     "text": [
      "INFO:aequitas:Current Metrics - TSN: 5420, DSN: 56, SUR: 0.0103\n"
     ]
    },
    {
     "name": "stdout",
     "output_type": "stream",
     "text": [
      "Current Metrics - TSN: 5430, DSN: 56, SUR: 0.0103\n"
     ]
    },
    {
     "name": "stderr",
     "output_type": "stream",
     "text": [
      "INFO:aequitas:Current Metrics - TSN: 5430, DSN: 56, SUR: 0.0103\n"
     ]
    },
    {
     "name": "stdout",
     "output_type": "stream",
     "text": [
      "Current Metrics - TSN: 5440, DSN: 56, SUR: 0.0103\n"
     ]
    },
    {
     "name": "stderr",
     "output_type": "stream",
     "text": [
      "INFO:aequitas:Current Metrics - TSN: 5440, DSN: 56, SUR: 0.0103\n"
     ]
    },
    {
     "name": "stdout",
     "output_type": "stream",
     "text": [
      "Current Metrics - TSN: 5450, DSN: 56, SUR: 0.0103\n"
     ]
    },
    {
     "name": "stderr",
     "output_type": "stream",
     "text": [
      "INFO:aequitas:Current Metrics - TSN: 5450, DSN: 56, SUR: 0.0103\n"
     ]
    },
    {
     "name": "stdout",
     "output_type": "stream",
     "text": [
      "Current Metrics - TSN: 5460, DSN: 56, SUR: 0.0103\n"
     ]
    },
    {
     "name": "stderr",
     "output_type": "stream",
     "text": [
      "INFO:aequitas:Current Metrics - TSN: 5460, DSN: 56, SUR: 0.0103\n"
     ]
    },
    {
     "name": "stdout",
     "output_type": "stream",
     "text": [
      "Current Metrics - TSN: 5470, DSN: 56, SUR: 0.0102\n"
     ]
    },
    {
     "name": "stderr",
     "output_type": "stream",
     "text": [
      "INFO:aequitas:Current Metrics - TSN: 5470, DSN: 56, SUR: 0.0102\n"
     ]
    },
    {
     "name": "stdout",
     "output_type": "stream",
     "text": [
      "Current Metrics - TSN: 5480, DSN: 56, SUR: 0.0102\n"
     ]
    },
    {
     "name": "stderr",
     "output_type": "stream",
     "text": [
      "INFO:aequitas:Current Metrics - TSN: 5480, DSN: 56, SUR: 0.0102\n"
     ]
    },
    {
     "name": "stdout",
     "output_type": "stream",
     "text": [
      "Current Metrics - TSN: 5490, DSN: 56, SUR: 0.0102\n"
     ]
    },
    {
     "name": "stderr",
     "output_type": "stream",
     "text": [
      "INFO:aequitas:Current Metrics - TSN: 5490, DSN: 56, SUR: 0.0102\n"
     ]
    },
    {
     "name": "stdout",
     "output_type": "stream",
     "text": [
      "Current Metrics - TSN: 5500, DSN: 56, SUR: 0.0102\n"
     ]
    },
    {
     "name": "stderr",
     "output_type": "stream",
     "text": [
      "INFO:aequitas:Current Metrics - TSN: 5500, DSN: 56, SUR: 0.0102\n"
     ]
    },
    {
     "name": "stdout",
     "output_type": "stream",
     "text": [
      "Current Metrics - TSN: 5510, DSN: 56, SUR: 0.0102\n"
     ]
    },
    {
     "name": "stderr",
     "output_type": "stream",
     "text": [
      "INFO:aequitas:Current Metrics - TSN: 5510, DSN: 56, SUR: 0.0102\n"
     ]
    },
    {
     "name": "stdout",
     "output_type": "stream",
     "text": [
      "Current Metrics - TSN: 5520, DSN: 56, SUR: 0.0101\n"
     ]
    },
    {
     "name": "stderr",
     "output_type": "stream",
     "text": [
      "INFO:aequitas:Current Metrics - TSN: 5520, DSN: 56, SUR: 0.0101\n"
     ]
    },
    {
     "name": "stdout",
     "output_type": "stream",
     "text": [
      "Current Metrics - TSN: 5530, DSN: 56, SUR: 0.0101\n"
     ]
    },
    {
     "name": "stderr",
     "output_type": "stream",
     "text": [
      "INFO:aequitas:Current Metrics - TSN: 5530, DSN: 56, SUR: 0.0101\n"
     ]
    },
    {
     "name": "stdout",
     "output_type": "stream",
     "text": [
      "Current Metrics - TSN: 5540, DSN: 56, SUR: 0.0101\n"
     ]
    },
    {
     "name": "stderr",
     "output_type": "stream",
     "text": [
      "INFO:aequitas:Current Metrics - TSN: 5540, DSN: 56, SUR: 0.0101\n"
     ]
    },
    {
     "name": "stdout",
     "output_type": "stream",
     "text": [
      "Current Metrics - TSN: 5550, DSN: 56, SUR: 0.0101\n"
     ]
    },
    {
     "name": "stderr",
     "output_type": "stream",
     "text": [
      "INFO:aequitas:Current Metrics - TSN: 5550, DSN: 56, SUR: 0.0101\n"
     ]
    },
    {
     "name": "stdout",
     "output_type": "stream",
     "text": [
      "Current Metrics - TSN: 5560, DSN: 56, SUR: 0.0101\n"
     ]
    },
    {
     "name": "stderr",
     "output_type": "stream",
     "text": [
      "INFO:aequitas:Current Metrics - TSN: 5560, DSN: 56, SUR: 0.0101\n"
     ]
    },
    {
     "name": "stdout",
     "output_type": "stream",
     "text": [
      "Current Metrics - TSN: 5570, DSN: 56, SUR: 0.0101\n"
     ]
    },
    {
     "name": "stderr",
     "output_type": "stream",
     "text": [
      "INFO:aequitas:Current Metrics - TSN: 5570, DSN: 56, SUR: 0.0101\n"
     ]
    },
    {
     "name": "stdout",
     "output_type": "stream",
     "text": [
      "Current Metrics - TSN: 5580, DSN: 56, SUR: 0.0100\n"
     ]
    },
    {
     "name": "stderr",
     "output_type": "stream",
     "text": [
      "INFO:aequitas:Current Metrics - TSN: 5580, DSN: 56, SUR: 0.0100\n"
     ]
    },
    {
     "name": "stdout",
     "output_type": "stream",
     "text": [
      "Current Metrics - TSN: 5590, DSN: 56, SUR: 0.0100\n"
     ]
    },
    {
     "name": "stderr",
     "output_type": "stream",
     "text": [
      "INFO:aequitas:Current Metrics - TSN: 5590, DSN: 56, SUR: 0.0100\n"
     ]
    },
    {
     "name": "stdout",
     "output_type": "stream",
     "text": [
      "Current Metrics - TSN: 5600, DSN: 56, SUR: 0.0100\n"
     ]
    },
    {
     "name": "stderr",
     "output_type": "stream",
     "text": [
      "INFO:aequitas:Current Metrics - TSN: 5600, DSN: 56, SUR: 0.0100\n"
     ]
    },
    {
     "name": "stdout",
     "output_type": "stream",
     "text": [
      "Current Metrics - TSN: 5610, DSN: 56, SUR: 0.0100\n"
     ]
    },
    {
     "name": "stderr",
     "output_type": "stream",
     "text": [
      "INFO:aequitas:Current Metrics - TSN: 5610, DSN: 56, SUR: 0.0100\n"
     ]
    },
    {
     "name": "stdout",
     "output_type": "stream",
     "text": [
      "Current Metrics - TSN: 5620, DSN: 56, SUR: 0.0100\n"
     ]
    },
    {
     "name": "stderr",
     "output_type": "stream",
     "text": [
      "INFO:aequitas:Current Metrics - TSN: 5620, DSN: 56, SUR: 0.0100\n"
     ]
    },
    {
     "name": "stdout",
     "output_type": "stream",
     "text": [
      "Current Metrics - TSN: 5630, DSN: 56, SUR: 0.0099\n"
     ]
    },
    {
     "name": "stderr",
     "output_type": "stream",
     "text": [
      "INFO:aequitas:Current Metrics - TSN: 5630, DSN: 56, SUR: 0.0099\n"
     ]
    },
    {
     "name": "stdout",
     "output_type": "stream",
     "text": [
      "Current Metrics - TSN: 5640, DSN: 56, SUR: 0.0099\n"
     ]
    },
    {
     "name": "stderr",
     "output_type": "stream",
     "text": [
      "INFO:aequitas:Current Metrics - TSN: 5640, DSN: 56, SUR: 0.0099\n"
     ]
    },
    {
     "name": "stdout",
     "output_type": "stream",
     "text": [
      "Current Metrics - TSN: 5650, DSN: 56, SUR: 0.0099\n"
     ]
    },
    {
     "name": "stderr",
     "output_type": "stream",
     "text": [
      "INFO:aequitas:Current Metrics - TSN: 5650, DSN: 56, SUR: 0.0099\n"
     ]
    },
    {
     "name": "stdout",
     "output_type": "stream",
     "text": [
      "Current Metrics - TSN: 5660, DSN: 56, SUR: 0.0099\n"
     ]
    },
    {
     "name": "stderr",
     "output_type": "stream",
     "text": [
      "INFO:aequitas:Current Metrics - TSN: 5660, DSN: 56, SUR: 0.0099\n"
     ]
    },
    {
     "name": "stdout",
     "output_type": "stream",
     "text": [
      "Current Metrics - TSN: 5670, DSN: 56, SUR: 0.0099\n"
     ]
    },
    {
     "name": "stderr",
     "output_type": "stream",
     "text": [
      "INFO:aequitas:Current Metrics - TSN: 5670, DSN: 56, SUR: 0.0099\n"
     ]
    },
    {
     "name": "stdout",
     "output_type": "stream",
     "text": [
      "Current Metrics - TSN: 5680, DSN: 56, SUR: 0.0099\n"
     ]
    },
    {
     "name": "stderr",
     "output_type": "stream",
     "text": [
      "INFO:aequitas:Current Metrics - TSN: 5680, DSN: 56, SUR: 0.0099\n"
     ]
    },
    {
     "name": "stdout",
     "output_type": "stream",
     "text": [
      "Current Metrics - TSN: 5690, DSN: 56, SUR: 0.0098\n"
     ]
    },
    {
     "name": "stderr",
     "output_type": "stream",
     "text": [
      "INFO:aequitas:Current Metrics - TSN: 5690, DSN: 56, SUR: 0.0098\n"
     ]
    },
    {
     "name": "stdout",
     "output_type": "stream",
     "text": [
      "Current Metrics - TSN: 5700, DSN: 56, SUR: 0.0098\n"
     ]
    },
    {
     "name": "stderr",
     "output_type": "stream",
     "text": [
      "INFO:aequitas:Current Metrics - TSN: 5700, DSN: 56, SUR: 0.0098\n"
     ]
    },
    {
     "name": "stdout",
     "output_type": "stream",
     "text": [
      "Current Metrics - TSN: 5710, DSN: 56, SUR: 0.0098\n"
     ]
    },
    {
     "name": "stderr",
     "output_type": "stream",
     "text": [
      "INFO:aequitas:Current Metrics - TSN: 5710, DSN: 56, SUR: 0.0098\n"
     ]
    },
    {
     "name": "stdout",
     "output_type": "stream",
     "text": [
      "Current Metrics - TSN: 5730, DSN: 56, SUR: 0.0098\n"
     ]
    },
    {
     "name": "stderr",
     "output_type": "stream",
     "text": [
      "INFO:aequitas:Current Metrics - TSN: 5730, DSN: 56, SUR: 0.0098\n"
     ]
    },
    {
     "name": "stdout",
     "output_type": "stream",
     "text": [
      "Current Metrics - TSN: 5740, DSN: 56, SUR: 0.0098\n"
     ]
    },
    {
     "name": "stderr",
     "output_type": "stream",
     "text": [
      "INFO:aequitas:Current Metrics - TSN: 5740, DSN: 56, SUR: 0.0098\n"
     ]
    },
    {
     "name": "stdout",
     "output_type": "stream",
     "text": [
      "Current Metrics - TSN: 5750, DSN: 56, SUR: 0.0097\n"
     ]
    },
    {
     "name": "stderr",
     "output_type": "stream",
     "text": [
      "INFO:aequitas:Current Metrics - TSN: 5750, DSN: 56, SUR: 0.0097\n"
     ]
    },
    {
     "name": "stdout",
     "output_type": "stream",
     "text": [
      "Current Metrics - TSN: 5760, DSN: 56, SUR: 0.0097\n"
     ]
    },
    {
     "name": "stderr",
     "output_type": "stream",
     "text": [
      "INFO:aequitas:Current Metrics - TSN: 5760, DSN: 56, SUR: 0.0097\n"
     ]
    },
    {
     "name": "stdout",
     "output_type": "stream",
     "text": [
      "Current Metrics - TSN: 5770, DSN: 56, SUR: 0.0097\n"
     ]
    },
    {
     "name": "stderr",
     "output_type": "stream",
     "text": [
      "INFO:aequitas:Current Metrics - TSN: 5770, DSN: 56, SUR: 0.0097\n"
     ]
    },
    {
     "name": "stdout",
     "output_type": "stream",
     "text": [
      "Current Metrics - TSN: 5780, DSN: 56, SUR: 0.0097\n"
     ]
    },
    {
     "name": "stderr",
     "output_type": "stream",
     "text": [
      "INFO:aequitas:Current Metrics - TSN: 5780, DSN: 56, SUR: 0.0097\n"
     ]
    },
    {
     "name": "stdout",
     "output_type": "stream",
     "text": [
      "Current Metrics - TSN: 5790, DSN: 56, SUR: 0.0097\n"
     ]
    },
    {
     "name": "stderr",
     "output_type": "stream",
     "text": [
      "INFO:aequitas:Current Metrics - TSN: 5790, DSN: 56, SUR: 0.0097\n"
     ]
    },
    {
     "name": "stdout",
     "output_type": "stream",
     "text": [
      "Current Metrics - TSN: 5800, DSN: 56, SUR: 0.0097\n"
     ]
    },
    {
     "name": "stderr",
     "output_type": "stream",
     "text": [
      "INFO:aequitas:Current Metrics - TSN: 5800, DSN: 56, SUR: 0.0097\n"
     ]
    },
    {
     "name": "stdout",
     "output_type": "stream",
     "text": [
      "Current Metrics - TSN: 5820, DSN: 56, SUR: 0.0096\n"
     ]
    },
    {
     "name": "stderr",
     "output_type": "stream",
     "text": [
      "INFO:aequitas:Current Metrics - TSN: 5820, DSN: 56, SUR: 0.0096\n"
     ]
    },
    {
     "name": "stdout",
     "output_type": "stream",
     "text": [
      "Current Metrics - TSN: 5830, DSN: 56, SUR: 0.0096\n"
     ]
    },
    {
     "name": "stderr",
     "output_type": "stream",
     "text": [
      "INFO:aequitas:Current Metrics - TSN: 5830, DSN: 56, SUR: 0.0096\n"
     ]
    },
    {
     "name": "stdout",
     "output_type": "stream",
     "text": [
      "Current Metrics - TSN: 5840, DSN: 56, SUR: 0.0096\n"
     ]
    },
    {
     "name": "stderr",
     "output_type": "stream",
     "text": [
      "INFO:aequitas:Current Metrics - TSN: 5840, DSN: 56, SUR: 0.0096\n"
     ]
    },
    {
     "name": "stdout",
     "output_type": "stream",
     "text": [
      "Current Metrics - TSN: 5850, DSN: 56, SUR: 0.0096\n"
     ]
    },
    {
     "name": "stderr",
     "output_type": "stream",
     "text": [
      "INFO:aequitas:Current Metrics - TSN: 5850, DSN: 56, SUR: 0.0096\n"
     ]
    },
    {
     "name": "stdout",
     "output_type": "stream",
     "text": [
      "Current Metrics - TSN: 5860, DSN: 56, SUR: 0.0096\n"
     ]
    },
    {
     "name": "stderr",
     "output_type": "stream",
     "text": [
      "INFO:aequitas:Current Metrics - TSN: 5860, DSN: 56, SUR: 0.0096\n"
     ]
    },
    {
     "name": "stdout",
     "output_type": "stream",
     "text": [
      "Current Metrics - TSN: 5870, DSN: 56, SUR: 0.0095\n"
     ]
    },
    {
     "name": "stderr",
     "output_type": "stream",
     "text": [
      "INFO:aequitas:Current Metrics - TSN: 5870, DSN: 56, SUR: 0.0095\n"
     ]
    },
    {
     "name": "stdout",
     "output_type": "stream",
     "text": [
      "Current Metrics - TSN: 5880, DSN: 56, SUR: 0.0095\n"
     ]
    },
    {
     "name": "stderr",
     "output_type": "stream",
     "text": [
      "INFO:aequitas:Current Metrics - TSN: 5880, DSN: 56, SUR: 0.0095\n"
     ]
    },
    {
     "name": "stdout",
     "output_type": "stream",
     "text": [
      "Current Metrics - TSN: 5890, DSN: 56, SUR: 0.0095\n"
     ]
    },
    {
     "name": "stderr",
     "output_type": "stream",
     "text": [
      "INFO:aequitas:Current Metrics - TSN: 5890, DSN: 56, SUR: 0.0095\n"
     ]
    },
    {
     "name": "stdout",
     "output_type": "stream",
     "text": [
      "Current Metrics - TSN: 5900, DSN: 56, SUR: 0.0095\n"
     ]
    },
    {
     "name": "stderr",
     "output_type": "stream",
     "text": [
      "INFO:aequitas:Current Metrics - TSN: 5900, DSN: 56, SUR: 0.0095\n"
     ]
    },
    {
     "name": "stdout",
     "output_type": "stream",
     "text": [
      "Current Metrics - TSN: 5910, DSN: 56, SUR: 0.0095\n"
     ]
    },
    {
     "name": "stderr",
     "output_type": "stream",
     "text": [
      "INFO:aequitas:Current Metrics - TSN: 5910, DSN: 56, SUR: 0.0095\n"
     ]
    },
    {
     "name": "stdout",
     "output_type": "stream",
     "text": [
      "Current Metrics - TSN: 5920, DSN: 56, SUR: 0.0095\n"
     ]
    },
    {
     "name": "stderr",
     "output_type": "stream",
     "text": [
      "INFO:aequitas:Current Metrics - TSN: 5920, DSN: 56, SUR: 0.0095\n"
     ]
    },
    {
     "name": "stdout",
     "output_type": "stream",
     "text": [
      "Current Metrics - TSN: 5930, DSN: 56, SUR: 0.0094\n"
     ]
    },
    {
     "name": "stderr",
     "output_type": "stream",
     "text": [
      "INFO:aequitas:Current Metrics - TSN: 5930, DSN: 56, SUR: 0.0094\n"
     ]
    },
    {
     "name": "stdout",
     "output_type": "stream",
     "text": [
      "Current Metrics - TSN: 5950, DSN: 56, SUR: 0.0094\n"
     ]
    },
    {
     "name": "stderr",
     "output_type": "stream",
     "text": [
      "INFO:aequitas:Current Metrics - TSN: 5950, DSN: 56, SUR: 0.0094\n"
     ]
    },
    {
     "name": "stdout",
     "output_type": "stream",
     "text": [
      "Current Metrics - TSN: 5960, DSN: 56, SUR: 0.0094\n"
     ]
    },
    {
     "name": "stderr",
     "output_type": "stream",
     "text": [
      "INFO:aequitas:Current Metrics - TSN: 5960, DSN: 56, SUR: 0.0094\n"
     ]
    },
    {
     "name": "stdout",
     "output_type": "stream",
     "text": [
      "Current Metrics - TSN: 5970, DSN: 56, SUR: 0.0094\n"
     ]
    },
    {
     "name": "stderr",
     "output_type": "stream",
     "text": [
      "INFO:aequitas:Current Metrics - TSN: 5970, DSN: 56, SUR: 0.0094\n"
     ]
    },
    {
     "name": "stdout",
     "output_type": "stream",
     "text": [
      "Current Metrics - TSN: 5980, DSN: 56, SUR: 0.0094\n"
     ]
    },
    {
     "name": "stderr",
     "output_type": "stream",
     "text": [
      "INFO:aequitas:Current Metrics - TSN: 5980, DSN: 56, SUR: 0.0094\n"
     ]
    },
    {
     "name": "stdout",
     "output_type": "stream",
     "text": [
      "Current Metrics - TSN: 5990, DSN: 56, SUR: 0.0093\n"
     ]
    },
    {
     "name": "stderr",
     "output_type": "stream",
     "text": [
      "INFO:aequitas:Current Metrics - TSN: 5990, DSN: 56, SUR: 0.0093\n"
     ]
    },
    {
     "name": "stdout",
     "output_type": "stream",
     "text": [
      "Current Metrics - TSN: 6000, DSN: 56, SUR: 0.0093\n"
     ]
    },
    {
     "name": "stderr",
     "output_type": "stream",
     "text": [
      "INFO:aequitas:Current Metrics - TSN: 6000, DSN: 56, SUR: 0.0093\n"
     ]
    },
    {
     "name": "stdout",
     "output_type": "stream",
     "text": [
      "Current Metrics - TSN: 6010, DSN: 56, SUR: 0.0093\n"
     ]
    },
    {
     "name": "stderr",
     "output_type": "stream",
     "text": [
      "INFO:aequitas:Current Metrics - TSN: 6010, DSN: 56, SUR: 0.0093\n"
     ]
    },
    {
     "name": "stdout",
     "output_type": "stream",
     "text": [
      "Current Metrics - TSN: 6020, DSN: 56, SUR: 0.0093\n"
     ]
    },
    {
     "name": "stderr",
     "output_type": "stream",
     "text": [
      "INFO:aequitas:Current Metrics - TSN: 6020, DSN: 56, SUR: 0.0093\n"
     ]
    },
    {
     "name": "stdout",
     "output_type": "stream",
     "text": [
      "Current Metrics - TSN: 6030, DSN: 56, SUR: 0.0093\n"
     ]
    },
    {
     "name": "stderr",
     "output_type": "stream",
     "text": [
      "INFO:aequitas:Current Metrics - TSN: 6030, DSN: 56, SUR: 0.0093\n"
     ]
    },
    {
     "name": "stdout",
     "output_type": "stream",
     "text": [
      "Current Metrics - TSN: 6040, DSN: 56, SUR: 0.0093\n"
     ]
    },
    {
     "name": "stderr",
     "output_type": "stream",
     "text": [
      "INFO:aequitas:Current Metrics - TSN: 6040, DSN: 56, SUR: 0.0093\n"
     ]
    },
    {
     "name": "stdout",
     "output_type": "stream",
     "text": [
      "Current Metrics - TSN: 6050, DSN: 56, SUR: 0.0093\n"
     ]
    },
    {
     "name": "stderr",
     "output_type": "stream",
     "text": [
      "INFO:aequitas:Current Metrics - TSN: 6050, DSN: 56, SUR: 0.0093\n"
     ]
    },
    {
     "name": "stdout",
     "output_type": "stream",
     "text": [
      "Current Metrics - TSN: 6060, DSN: 56, SUR: 0.0092\n"
     ]
    },
    {
     "name": "stderr",
     "output_type": "stream",
     "text": [
      "INFO:aequitas:Current Metrics - TSN: 6060, DSN: 56, SUR: 0.0092\n"
     ]
    },
    {
     "name": "stdout",
     "output_type": "stream",
     "text": [
      "Current Metrics - TSN: 6070, DSN: 56, SUR: 0.0092\n"
     ]
    },
    {
     "name": "stderr",
     "output_type": "stream",
     "text": [
      "INFO:aequitas:Current Metrics - TSN: 6070, DSN: 56, SUR: 0.0092\n"
     ]
    },
    {
     "name": "stdout",
     "output_type": "stream",
     "text": [
      "Current Metrics - TSN: 6090, DSN: 56, SUR: 0.0092\n"
     ]
    },
    {
     "name": "stderr",
     "output_type": "stream",
     "text": [
      "INFO:aequitas:Current Metrics - TSN: 6090, DSN: 56, SUR: 0.0092\n"
     ]
    },
    {
     "name": "stdout",
     "output_type": "stream",
     "text": [
      "Current Metrics - TSN: 6100, DSN: 56, SUR: 0.0092\n"
     ]
    },
    {
     "name": "stderr",
     "output_type": "stream",
     "text": [
      "INFO:aequitas:Current Metrics - TSN: 6100, DSN: 56, SUR: 0.0092\n"
     ]
    },
    {
     "name": "stdout",
     "output_type": "stream",
     "text": [
      "Current Metrics - TSN: 6110, DSN: 56, SUR: 0.0092\n"
     ]
    },
    {
     "name": "stderr",
     "output_type": "stream",
     "text": [
      "INFO:aequitas:Current Metrics - TSN: 6110, DSN: 56, SUR: 0.0092\n"
     ]
    },
    {
     "name": "stdout",
     "output_type": "stream",
     "text": [
      "Current Metrics - TSN: 6120, DSN: 56, SUR: 0.0092\n"
     ]
    },
    {
     "name": "stderr",
     "output_type": "stream",
     "text": [
      "INFO:aequitas:Current Metrics - TSN: 6120, DSN: 56, SUR: 0.0092\n"
     ]
    },
    {
     "name": "stdout",
     "output_type": "stream",
     "text": [
      "Current Metrics - TSN: 6130, DSN: 56, SUR: 0.0091\n"
     ]
    },
    {
     "name": "stderr",
     "output_type": "stream",
     "text": [
      "INFO:aequitas:Current Metrics - TSN: 6130, DSN: 56, SUR: 0.0091\n"
     ]
    },
    {
     "name": "stdout",
     "output_type": "stream",
     "text": [
      "Current Metrics - TSN: 6140, DSN: 56, SUR: 0.0091\n"
     ]
    },
    {
     "name": "stderr",
     "output_type": "stream",
     "text": [
      "INFO:aequitas:Current Metrics - TSN: 6140, DSN: 56, SUR: 0.0091\n"
     ]
    },
    {
     "name": "stdout",
     "output_type": "stream",
     "text": [
      "Current Metrics - TSN: 6150, DSN: 56, SUR: 0.0091\n"
     ]
    },
    {
     "name": "stderr",
     "output_type": "stream",
     "text": [
      "INFO:aequitas:Current Metrics - TSN: 6150, DSN: 56, SUR: 0.0091\n"
     ]
    },
    {
     "name": "stdout",
     "output_type": "stream",
     "text": [
      "Current Metrics - TSN: 6160, DSN: 56, SUR: 0.0091\n"
     ]
    },
    {
     "name": "stderr",
     "output_type": "stream",
     "text": [
      "INFO:aequitas:Current Metrics - TSN: 6160, DSN: 56, SUR: 0.0091\n"
     ]
    },
    {
     "name": "stdout",
     "output_type": "stream",
     "text": [
      "Current Metrics - TSN: 6170, DSN: 56, SUR: 0.0091\n"
     ]
    },
    {
     "name": "stderr",
     "output_type": "stream",
     "text": [
      "INFO:aequitas:Current Metrics - TSN: 6170, DSN: 56, SUR: 0.0091\n"
     ]
    },
    {
     "name": "stdout",
     "output_type": "stream",
     "text": [
      "Current Metrics - TSN: 6180, DSN: 56, SUR: 0.0091\n"
     ]
    },
    {
     "name": "stderr",
     "output_type": "stream",
     "text": [
      "INFO:aequitas:Current Metrics - TSN: 6180, DSN: 56, SUR: 0.0091\n"
     ]
    },
    {
     "name": "stdout",
     "output_type": "stream",
     "text": [
      "Current Metrics - TSN: 6190, DSN: 56, SUR: 0.0090\n"
     ]
    },
    {
     "name": "stderr",
     "output_type": "stream",
     "text": [
      "INFO:aequitas:Current Metrics - TSN: 6190, DSN: 56, SUR: 0.0090\n"
     ]
    },
    {
     "name": "stdout",
     "output_type": "stream",
     "text": [
      "Current Metrics - TSN: 6200, DSN: 56, SUR: 0.0090\n"
     ]
    },
    {
     "name": "stderr",
     "output_type": "stream",
     "text": [
      "INFO:aequitas:Current Metrics - TSN: 6200, DSN: 56, SUR: 0.0090\n"
     ]
    },
    {
     "name": "stdout",
     "output_type": "stream",
     "text": [
      "Current Metrics - TSN: 6210, DSN: 56, SUR: 0.0090\n"
     ]
    },
    {
     "name": "stderr",
     "output_type": "stream",
     "text": [
      "INFO:aequitas:Current Metrics - TSN: 6210, DSN: 56, SUR: 0.0090\n"
     ]
    },
    {
     "name": "stdout",
     "output_type": "stream",
     "text": [
      "Current Metrics - TSN: 6220, DSN: 56, SUR: 0.0090\n"
     ]
    },
    {
     "name": "stderr",
     "output_type": "stream",
     "text": [
      "INFO:aequitas:Current Metrics - TSN: 6220, DSN: 56, SUR: 0.0090\n"
     ]
    },
    {
     "name": "stdout",
     "output_type": "stream",
     "text": [
      "Current Metrics - TSN: 6230, DSN: 56, SUR: 0.0090\n"
     ]
    },
    {
     "name": "stderr",
     "output_type": "stream",
     "text": [
      "INFO:aequitas:Current Metrics - TSN: 6230, DSN: 56, SUR: 0.0090\n"
     ]
    },
    {
     "name": "stdout",
     "output_type": "stream",
     "text": [
      "Current Metrics - TSN: 6240, DSN: 56, SUR: 0.0090\n"
     ]
    },
    {
     "name": "stderr",
     "output_type": "stream",
     "text": [
      "INFO:aequitas:Current Metrics - TSN: 6240, DSN: 56, SUR: 0.0090\n"
     ]
    },
    {
     "name": "stdout",
     "output_type": "stream",
     "text": [
      "Current Metrics - TSN: 6250, DSN: 56, SUR: 0.0090\n"
     ]
    },
    {
     "name": "stderr",
     "output_type": "stream",
     "text": [
      "INFO:aequitas:Current Metrics - TSN: 6250, DSN: 56, SUR: 0.0090\n"
     ]
    },
    {
     "name": "stdout",
     "output_type": "stream",
     "text": [
      "Current Metrics - TSN: 6260, DSN: 56, SUR: 0.0089\n"
     ]
    },
    {
     "name": "stderr",
     "output_type": "stream",
     "text": [
      "INFO:aequitas:Current Metrics - TSN: 6260, DSN: 56, SUR: 0.0089\n"
     ]
    },
    {
     "name": "stdout",
     "output_type": "stream",
     "text": [
      "Current Metrics - TSN: 6270, DSN: 56, SUR: 0.0089\n"
     ]
    },
    {
     "name": "stderr",
     "output_type": "stream",
     "text": [
      "INFO:aequitas:Current Metrics - TSN: 6270, DSN: 56, SUR: 0.0089\n"
     ]
    },
    {
     "name": "stdout",
     "output_type": "stream",
     "text": [
      "Current Metrics - TSN: 6280, DSN: 56, SUR: 0.0089\n"
     ]
    },
    {
     "name": "stderr",
     "output_type": "stream",
     "text": [
      "INFO:aequitas:Current Metrics - TSN: 6280, DSN: 56, SUR: 0.0089\n"
     ]
    },
    {
     "name": "stdout",
     "output_type": "stream",
     "text": [
      "Current Metrics - TSN: 6290, DSN: 56, SUR: 0.0089\n"
     ]
    },
    {
     "name": "stderr",
     "output_type": "stream",
     "text": [
      "INFO:aequitas:Current Metrics - TSN: 6290, DSN: 56, SUR: 0.0089\n"
     ]
    },
    {
     "name": "stdout",
     "output_type": "stream",
     "text": [
      "Current Metrics - TSN: 6300, DSN: 56, SUR: 0.0089\n"
     ]
    },
    {
     "name": "stderr",
     "output_type": "stream",
     "text": [
      "INFO:aequitas:Current Metrics - TSN: 6300, DSN: 56, SUR: 0.0089\n"
     ]
    },
    {
     "name": "stdout",
     "output_type": "stream",
     "text": [
      "Current Metrics - TSN: 6310, DSN: 56, SUR: 0.0089\n"
     ]
    },
    {
     "name": "stderr",
     "output_type": "stream",
     "text": [
      "INFO:aequitas:Current Metrics - TSN: 6310, DSN: 56, SUR: 0.0089\n"
     ]
    },
    {
     "name": "stdout",
     "output_type": "stream",
     "text": [
      "Current Metrics - TSN: 6320, DSN: 56, SUR: 0.0089\n"
     ]
    },
    {
     "name": "stderr",
     "output_type": "stream",
     "text": [
      "INFO:aequitas:Current Metrics - TSN: 6320, DSN: 56, SUR: 0.0089\n"
     ]
    },
    {
     "name": "stdout",
     "output_type": "stream",
     "text": [
      "Current Metrics - TSN: 6330, DSN: 56, SUR: 0.0088\n"
     ]
    },
    {
     "name": "stderr",
     "output_type": "stream",
     "text": [
      "INFO:aequitas:Current Metrics - TSN: 6330, DSN: 56, SUR: 0.0088\n"
     ]
    },
    {
     "name": "stdout",
     "output_type": "stream",
     "text": [
      "Current Metrics - TSN: 6340, DSN: 56, SUR: 0.0088\n"
     ]
    },
    {
     "name": "stderr",
     "output_type": "stream",
     "text": [
      "INFO:aequitas:Current Metrics - TSN: 6340, DSN: 56, SUR: 0.0088\n"
     ]
    },
    {
     "name": "stdout",
     "output_type": "stream",
     "text": [
      "Current Metrics - TSN: 6350, DSN: 56, SUR: 0.0088\n"
     ]
    },
    {
     "name": "stderr",
     "output_type": "stream",
     "text": [
      "INFO:aequitas:Current Metrics - TSN: 6350, DSN: 56, SUR: 0.0088\n"
     ]
    },
    {
     "name": "stdout",
     "output_type": "stream",
     "text": [
      "Current Metrics - TSN: 6360, DSN: 56, SUR: 0.0088\n"
     ]
    },
    {
     "name": "stderr",
     "output_type": "stream",
     "text": [
      "INFO:aequitas:Current Metrics - TSN: 6360, DSN: 56, SUR: 0.0088\n"
     ]
    },
    {
     "name": "stdout",
     "output_type": "stream",
     "text": [
      "Current Metrics - TSN: 6370, DSN: 56, SUR: 0.0088\n"
     ]
    },
    {
     "name": "stderr",
     "output_type": "stream",
     "text": [
      "INFO:aequitas:Current Metrics - TSN: 6370, DSN: 56, SUR: 0.0088\n"
     ]
    },
    {
     "name": "stdout",
     "output_type": "stream",
     "text": [
      "Current Metrics - TSN: 6380, DSN: 56, SUR: 0.0088\n"
     ]
    },
    {
     "name": "stderr",
     "output_type": "stream",
     "text": [
      "INFO:aequitas:Current Metrics - TSN: 6380, DSN: 56, SUR: 0.0088\n"
     ]
    },
    {
     "name": "stdout",
     "output_type": "stream",
     "text": [
      "Current Metrics - TSN: 6390, DSN: 56, SUR: 0.0088\n"
     ]
    },
    {
     "name": "stderr",
     "output_type": "stream",
     "text": [
      "INFO:aequitas:Current Metrics - TSN: 6390, DSN: 56, SUR: 0.0088\n"
     ]
    },
    {
     "name": "stdout",
     "output_type": "stream",
     "text": [
      "Current Metrics - TSN: 6400, DSN: 56, SUR: 0.0088\n"
     ]
    },
    {
     "name": "stderr",
     "output_type": "stream",
     "text": [
      "INFO:aequitas:Current Metrics - TSN: 6400, DSN: 56, SUR: 0.0088\n"
     ]
    },
    {
     "name": "stdout",
     "output_type": "stream",
     "text": [
      "Current Metrics - TSN: 6420, DSN: 56, SUR: 0.0087\n"
     ]
    },
    {
     "name": "stderr",
     "output_type": "stream",
     "text": [
      "INFO:aequitas:Current Metrics - TSN: 6420, DSN: 56, SUR: 0.0087\n"
     ]
    },
    {
     "name": "stdout",
     "output_type": "stream",
     "text": [
      "Current Metrics - TSN: 6430, DSN: 56, SUR: 0.0087\n"
     ]
    },
    {
     "name": "stderr",
     "output_type": "stream",
     "text": [
      "INFO:aequitas:Current Metrics - TSN: 6430, DSN: 56, SUR: 0.0087\n"
     ]
    },
    {
     "name": "stdout",
     "output_type": "stream",
     "text": [
      "Current Metrics - TSN: 6440, DSN: 56, SUR: 0.0087\n"
     ]
    },
    {
     "name": "stderr",
     "output_type": "stream",
     "text": [
      "INFO:aequitas:Current Metrics - TSN: 6440, DSN: 56, SUR: 0.0087\n"
     ]
    },
    {
     "name": "stdout",
     "output_type": "stream",
     "text": [
      "Current Metrics - TSN: 6450, DSN: 56, SUR: 0.0087\n"
     ]
    },
    {
     "name": "stderr",
     "output_type": "stream",
     "text": [
      "INFO:aequitas:Current Metrics - TSN: 6450, DSN: 56, SUR: 0.0087\n"
     ]
    },
    {
     "name": "stdout",
     "output_type": "stream",
     "text": [
      "Current Metrics - TSN: 6460, DSN: 56, SUR: 0.0087\n"
     ]
    },
    {
     "name": "stderr",
     "output_type": "stream",
     "text": [
      "INFO:aequitas:Current Metrics - TSN: 6460, DSN: 56, SUR: 0.0087\n"
     ]
    },
    {
     "name": "stdout",
     "output_type": "stream",
     "text": [
      "Current Metrics - TSN: 6470, DSN: 56, SUR: 0.0087\n"
     ]
    },
    {
     "name": "stderr",
     "output_type": "stream",
     "text": [
      "INFO:aequitas:Current Metrics - TSN: 6470, DSN: 56, SUR: 0.0087\n"
     ]
    },
    {
     "name": "stdout",
     "output_type": "stream",
     "text": [
      "Current Metrics - TSN: 6480, DSN: 56, SUR: 0.0086\n"
     ]
    },
    {
     "name": "stderr",
     "output_type": "stream",
     "text": [
      "INFO:aequitas:Current Metrics - TSN: 6480, DSN: 56, SUR: 0.0086\n"
     ]
    },
    {
     "name": "stdout",
     "output_type": "stream",
     "text": [
      "Current Metrics - TSN: 6490, DSN: 56, SUR: 0.0086\n"
     ]
    },
    {
     "name": "stderr",
     "output_type": "stream",
     "text": [
      "INFO:aequitas:Current Metrics - TSN: 6490, DSN: 56, SUR: 0.0086\n"
     ]
    },
    {
     "name": "stdout",
     "output_type": "stream",
     "text": [
      "Current Metrics - TSN: 6500, DSN: 56, SUR: 0.0086\n"
     ]
    },
    {
     "name": "stderr",
     "output_type": "stream",
     "text": [
      "INFO:aequitas:Current Metrics - TSN: 6500, DSN: 56, SUR: 0.0086\n"
     ]
    },
    {
     "name": "stdout",
     "output_type": "stream",
     "text": [
      "Current Metrics - TSN: 6510, DSN: 56, SUR: 0.0086\n"
     ]
    },
    {
     "name": "stderr",
     "output_type": "stream",
     "text": [
      "INFO:aequitas:Current Metrics - TSN: 6510, DSN: 56, SUR: 0.0086\n"
     ]
    },
    {
     "name": "stdout",
     "output_type": "stream",
     "text": [
      "Current Metrics - TSN: 6520, DSN: 56, SUR: 0.0086\n"
     ]
    },
    {
     "name": "stderr",
     "output_type": "stream",
     "text": [
      "INFO:aequitas:Current Metrics - TSN: 6520, DSN: 56, SUR: 0.0086\n"
     ]
    },
    {
     "name": "stdout",
     "output_type": "stream",
     "text": [
      "Current Metrics - TSN: 6530, DSN: 56, SUR: 0.0086\n"
     ]
    },
    {
     "name": "stderr",
     "output_type": "stream",
     "text": [
      "INFO:aequitas:Current Metrics - TSN: 6530, DSN: 56, SUR: 0.0086\n"
     ]
    },
    {
     "name": "stdout",
     "output_type": "stream",
     "text": [
      "Current Metrics - TSN: 6540, DSN: 56, SUR: 0.0086\n"
     ]
    },
    {
     "name": "stderr",
     "output_type": "stream",
     "text": [
      "INFO:aequitas:Current Metrics - TSN: 6540, DSN: 56, SUR: 0.0086\n"
     ]
    },
    {
     "name": "stdout",
     "output_type": "stream",
     "text": [
      "Current Metrics - TSN: 6550, DSN: 56, SUR: 0.0085\n"
     ]
    },
    {
     "name": "stderr",
     "output_type": "stream",
     "text": [
      "INFO:aequitas:Current Metrics - TSN: 6550, DSN: 56, SUR: 0.0085\n"
     ]
    },
    {
     "name": "stdout",
     "output_type": "stream",
     "text": [
      "Current Metrics - TSN: 6560, DSN: 56, SUR: 0.0085\n"
     ]
    },
    {
     "name": "stderr",
     "output_type": "stream",
     "text": [
      "INFO:aequitas:Current Metrics - TSN: 6560, DSN: 56, SUR: 0.0085\n"
     ]
    },
    {
     "name": "stdout",
     "output_type": "stream",
     "text": [
      "Current Metrics - TSN: 6570, DSN: 56, SUR: 0.0085\n"
     ]
    },
    {
     "name": "stderr",
     "output_type": "stream",
     "text": [
      "INFO:aequitas:Current Metrics - TSN: 6570, DSN: 56, SUR: 0.0085\n"
     ]
    },
    {
     "name": "stdout",
     "output_type": "stream",
     "text": [
      "Current Metrics - TSN: 6580, DSN: 56, SUR: 0.0085\n"
     ]
    },
    {
     "name": "stderr",
     "output_type": "stream",
     "text": [
      "INFO:aequitas:Current Metrics - TSN: 6580, DSN: 56, SUR: 0.0085\n"
     ]
    },
    {
     "name": "stdout",
     "output_type": "stream",
     "text": [
      "Current Metrics - TSN: 6590, DSN: 56, SUR: 0.0085\n"
     ]
    },
    {
     "name": "stderr",
     "output_type": "stream",
     "text": [
      "INFO:aequitas:Current Metrics - TSN: 6590, DSN: 56, SUR: 0.0085\n"
     ]
    },
    {
     "name": "stdout",
     "output_type": "stream",
     "text": [
      "Current Metrics - TSN: 6600, DSN: 56, SUR: 0.0085\n"
     ]
    },
    {
     "name": "stderr",
     "output_type": "stream",
     "text": [
      "INFO:aequitas:Current Metrics - TSN: 6600, DSN: 56, SUR: 0.0085\n"
     ]
    },
    {
     "name": "stdout",
     "output_type": "stream",
     "text": [
      "Current Metrics - TSN: 6620, DSN: 56, SUR: 0.0085\n"
     ]
    },
    {
     "name": "stderr",
     "output_type": "stream",
     "text": [
      "INFO:aequitas:Current Metrics - TSN: 6620, DSN: 56, SUR: 0.0085\n"
     ]
    },
    {
     "name": "stdout",
     "output_type": "stream",
     "text": [
      "Current Metrics - TSN: 6630, DSN: 56, SUR: 0.0084\n"
     ]
    },
    {
     "name": "stderr",
     "output_type": "stream",
     "text": [
      "INFO:aequitas:Current Metrics - TSN: 6630, DSN: 56, SUR: 0.0084\n"
     ]
    },
    {
     "name": "stdout",
     "output_type": "stream",
     "text": [
      "Current Metrics - TSN: 6640, DSN: 56, SUR: 0.0084\n"
     ]
    },
    {
     "name": "stderr",
     "output_type": "stream",
     "text": [
      "INFO:aequitas:Current Metrics - TSN: 6640, DSN: 56, SUR: 0.0084\n"
     ]
    },
    {
     "name": "stdout",
     "output_type": "stream",
     "text": [
      "Current Metrics - TSN: 6650, DSN: 56, SUR: 0.0084\n"
     ]
    },
    {
     "name": "stderr",
     "output_type": "stream",
     "text": [
      "INFO:aequitas:Current Metrics - TSN: 6650, DSN: 56, SUR: 0.0084\n"
     ]
    },
    {
     "name": "stdout",
     "output_type": "stream",
     "text": [
      "Current Metrics - TSN: 6660, DSN: 56, SUR: 0.0084\n"
     ]
    },
    {
     "name": "stderr",
     "output_type": "stream",
     "text": [
      "INFO:aequitas:Current Metrics - TSN: 6660, DSN: 56, SUR: 0.0084\n"
     ]
    },
    {
     "name": "stdout",
     "output_type": "stream",
     "text": [
      "Current Metrics - TSN: 6670, DSN: 56, SUR: 0.0084\n"
     ]
    },
    {
     "name": "stderr",
     "output_type": "stream",
     "text": [
      "INFO:aequitas:Current Metrics - TSN: 6670, DSN: 56, SUR: 0.0084\n"
     ]
    },
    {
     "name": "stdout",
     "output_type": "stream",
     "text": [
      "Current Metrics - TSN: 6680, DSN: 56, SUR: 0.0084\n"
     ]
    },
    {
     "name": "stderr",
     "output_type": "stream",
     "text": [
      "INFO:aequitas:Current Metrics - TSN: 6680, DSN: 56, SUR: 0.0084\n"
     ]
    },
    {
     "name": "stdout",
     "output_type": "stream",
     "text": [
      "Current Metrics - TSN: 6690, DSN: 56, SUR: 0.0084\n"
     ]
    },
    {
     "name": "stderr",
     "output_type": "stream",
     "text": [
      "INFO:aequitas:Current Metrics - TSN: 6690, DSN: 56, SUR: 0.0084\n"
     ]
    },
    {
     "name": "stdout",
     "output_type": "stream",
     "text": [
      "Current Metrics - TSN: 6700, DSN: 56, SUR: 0.0084\n"
     ]
    },
    {
     "name": "stderr",
     "output_type": "stream",
     "text": [
      "INFO:aequitas:Current Metrics - TSN: 6700, DSN: 56, SUR: 0.0084\n"
     ]
    },
    {
     "name": "stdout",
     "output_type": "stream",
     "text": [
      "Current Metrics - TSN: 6710, DSN: 56, SUR: 0.0083\n"
     ]
    },
    {
     "name": "stderr",
     "output_type": "stream",
     "text": [
      "INFO:aequitas:Current Metrics - TSN: 6710, DSN: 56, SUR: 0.0083\n"
     ]
    },
    {
     "name": "stdout",
     "output_type": "stream",
     "text": [
      "Current Metrics - TSN: 6720, DSN: 56, SUR: 0.0083\n"
     ]
    },
    {
     "name": "stderr",
     "output_type": "stream",
     "text": [
      "INFO:aequitas:Current Metrics - TSN: 6720, DSN: 56, SUR: 0.0083\n"
     ]
    },
    {
     "name": "stdout",
     "output_type": "stream",
     "text": [
      "Current Metrics - TSN: 6730, DSN: 56, SUR: 0.0083\n"
     ]
    },
    {
     "name": "stderr",
     "output_type": "stream",
     "text": [
      "INFO:aequitas:Current Metrics - TSN: 6730, DSN: 56, SUR: 0.0083\n"
     ]
    },
    {
     "name": "stdout",
     "output_type": "stream",
     "text": [
      "Current Metrics - TSN: 6740, DSN: 56, SUR: 0.0083\n"
     ]
    },
    {
     "name": "stderr",
     "output_type": "stream",
     "text": [
      "INFO:aequitas:Current Metrics - TSN: 6740, DSN: 56, SUR: 0.0083\n"
     ]
    },
    {
     "name": "stdout",
     "output_type": "stream",
     "text": [
      "Current Metrics - TSN: 6750, DSN: 56, SUR: 0.0083\n"
     ]
    },
    {
     "name": "stderr",
     "output_type": "stream",
     "text": [
      "INFO:aequitas:Current Metrics - TSN: 6750, DSN: 56, SUR: 0.0083\n"
     ]
    },
    {
     "name": "stdout",
     "output_type": "stream",
     "text": [
      "Current Metrics - TSN: 6770, DSN: 56, SUR: 0.0083\n"
     ]
    },
    {
     "name": "stderr",
     "output_type": "stream",
     "text": [
      "INFO:aequitas:Current Metrics - TSN: 6770, DSN: 56, SUR: 0.0083\n"
     ]
    },
    {
     "name": "stdout",
     "output_type": "stream",
     "text": [
      "Current Metrics - TSN: 6780, DSN: 56, SUR: 0.0083\n"
     ]
    },
    {
     "name": "stderr",
     "output_type": "stream",
     "text": [
      "INFO:aequitas:Current Metrics - TSN: 6780, DSN: 56, SUR: 0.0083\n"
     ]
    },
    {
     "name": "stdout",
     "output_type": "stream",
     "text": [
      "Current Metrics - TSN: 6790, DSN: 56, SUR: 0.0082\n"
     ]
    },
    {
     "name": "stderr",
     "output_type": "stream",
     "text": [
      "INFO:aequitas:Current Metrics - TSN: 6790, DSN: 56, SUR: 0.0082\n"
     ]
    },
    {
     "name": "stdout",
     "output_type": "stream",
     "text": [
      "Current Metrics - TSN: 6800, DSN: 56, SUR: 0.0082\n"
     ]
    },
    {
     "name": "stderr",
     "output_type": "stream",
     "text": [
      "INFO:aequitas:Current Metrics - TSN: 6800, DSN: 56, SUR: 0.0082\n"
     ]
    },
    {
     "name": "stdout",
     "output_type": "stream",
     "text": [
      "Current Metrics - TSN: 6810, DSN: 56, SUR: 0.0082\n"
     ]
    },
    {
     "name": "stderr",
     "output_type": "stream",
     "text": [
      "INFO:aequitas:Current Metrics - TSN: 6810, DSN: 56, SUR: 0.0082\n"
     ]
    },
    {
     "name": "stdout",
     "output_type": "stream",
     "text": [
      "Current Metrics - TSN: 6820, DSN: 56, SUR: 0.0082\n"
     ]
    },
    {
     "name": "stderr",
     "output_type": "stream",
     "text": [
      "INFO:aequitas:Current Metrics - TSN: 6820, DSN: 56, SUR: 0.0082\n"
     ]
    },
    {
     "name": "stdout",
     "output_type": "stream",
     "text": [
      "Current Metrics - TSN: 6830, DSN: 56, SUR: 0.0082\n"
     ]
    },
    {
     "name": "stderr",
     "output_type": "stream",
     "text": [
      "INFO:aequitas:Current Metrics - TSN: 6830, DSN: 56, SUR: 0.0082\n"
     ]
    },
    {
     "name": "stdout",
     "output_type": "stream",
     "text": [
      "Current Metrics - TSN: 6840, DSN: 56, SUR: 0.0082\n"
     ]
    },
    {
     "name": "stderr",
     "output_type": "stream",
     "text": [
      "INFO:aequitas:Current Metrics - TSN: 6840, DSN: 56, SUR: 0.0082\n"
     ]
    },
    {
     "name": "stdout",
     "output_type": "stream",
     "text": [
      "Current Metrics - TSN: 6850, DSN: 56, SUR: 0.0082\n"
     ]
    },
    {
     "name": "stderr",
     "output_type": "stream",
     "text": [
      "INFO:aequitas:Current Metrics - TSN: 6850, DSN: 56, SUR: 0.0082\n"
     ]
    },
    {
     "name": "stdout",
     "output_type": "stream",
     "text": [
      "Current Metrics - TSN: 6860, DSN: 56, SUR: 0.0082\n"
     ]
    },
    {
     "name": "stderr",
     "output_type": "stream",
     "text": [
      "INFO:aequitas:Current Metrics - TSN: 6860, DSN: 56, SUR: 0.0082\n"
     ]
    },
    {
     "name": "stdout",
     "output_type": "stream",
     "text": [
      "Current Metrics - TSN: 6870, DSN: 56, SUR: 0.0082\n"
     ]
    },
    {
     "name": "stderr",
     "output_type": "stream",
     "text": [
      "INFO:aequitas:Current Metrics - TSN: 6870, DSN: 56, SUR: 0.0082\n"
     ]
    },
    {
     "name": "stdout",
     "output_type": "stream",
     "text": [
      "Current Metrics - TSN: 6880, DSN: 56, SUR: 0.0081\n"
     ]
    },
    {
     "name": "stderr",
     "output_type": "stream",
     "text": [
      "INFO:aequitas:Current Metrics - TSN: 6880, DSN: 56, SUR: 0.0081\n"
     ]
    },
    {
     "name": "stdout",
     "output_type": "stream",
     "text": [
      "Current Metrics - TSN: 6890, DSN: 56, SUR: 0.0081\n"
     ]
    },
    {
     "name": "stderr",
     "output_type": "stream",
     "text": [
      "INFO:aequitas:Current Metrics - TSN: 6890, DSN: 56, SUR: 0.0081\n"
     ]
    },
    {
     "name": "stdout",
     "output_type": "stream",
     "text": [
      "Current Metrics - TSN: 6900, DSN: 56, SUR: 0.0081\n"
     ]
    },
    {
     "name": "stderr",
     "output_type": "stream",
     "text": [
      "INFO:aequitas:Current Metrics - TSN: 6900, DSN: 56, SUR: 0.0081\n"
     ]
    },
    {
     "name": "stdout",
     "output_type": "stream",
     "text": [
      "Current Metrics - TSN: 6910, DSN: 56, SUR: 0.0081\n"
     ]
    },
    {
     "name": "stderr",
     "output_type": "stream",
     "text": [
      "INFO:aequitas:Current Metrics - TSN: 6910, DSN: 56, SUR: 0.0081\n"
     ]
    },
    {
     "name": "stdout",
     "output_type": "stream",
     "text": [
      "Current Metrics - TSN: 6930, DSN: 56, SUR: 0.0081\n"
     ]
    },
    {
     "name": "stderr",
     "output_type": "stream",
     "text": [
      "INFO:aequitas:Current Metrics - TSN: 6930, DSN: 56, SUR: 0.0081\n"
     ]
    },
    {
     "name": "stdout",
     "output_type": "stream",
     "text": [
      "Current Metrics - TSN: 6940, DSN: 56, SUR: 0.0081\n"
     ]
    },
    {
     "name": "stderr",
     "output_type": "stream",
     "text": [
      "INFO:aequitas:Current Metrics - TSN: 6940, DSN: 56, SUR: 0.0081\n"
     ]
    },
    {
     "name": "stdout",
     "output_type": "stream",
     "text": [
      "Current Metrics - TSN: 6950, DSN: 56, SUR: 0.0081\n"
     ]
    },
    {
     "name": "stderr",
     "output_type": "stream",
     "text": [
      "INFO:aequitas:Current Metrics - TSN: 6950, DSN: 56, SUR: 0.0081\n"
     ]
    },
    {
     "name": "stdout",
     "output_type": "stream",
     "text": [
      "Current Metrics - TSN: 6960, DSN: 56, SUR: 0.0080\n"
     ]
    },
    {
     "name": "stderr",
     "output_type": "stream",
     "text": [
      "INFO:aequitas:Current Metrics - TSN: 6960, DSN: 56, SUR: 0.0080\n"
     ]
    },
    {
     "name": "stdout",
     "output_type": "stream",
     "text": [
      "Current Metrics - TSN: 6970, DSN: 56, SUR: 0.0080\n"
     ]
    },
    {
     "name": "stderr",
     "output_type": "stream",
     "text": [
      "INFO:aequitas:Current Metrics - TSN: 6970, DSN: 56, SUR: 0.0080\n"
     ]
    },
    {
     "name": "stdout",
     "output_type": "stream",
     "text": [
      "Current Metrics - TSN: 6980, DSN: 56, SUR: 0.0080\n"
     ]
    },
    {
     "name": "stderr",
     "output_type": "stream",
     "text": [
      "INFO:aequitas:Current Metrics - TSN: 6980, DSN: 56, SUR: 0.0080\n"
     ]
    },
    {
     "name": "stdout",
     "output_type": "stream",
     "text": [
      "Current Metrics - TSN: 6990, DSN: 56, SUR: 0.0080\n"
     ]
    },
    {
     "name": "stderr",
     "output_type": "stream",
     "text": [
      "INFO:aequitas:Current Metrics - TSN: 6990, DSN: 56, SUR: 0.0080\n"
     ]
    },
    {
     "name": "stdout",
     "output_type": "stream",
     "text": [
      "Current Metrics - TSN: 7000, DSN: 56, SUR: 0.0080\n"
     ]
    },
    {
     "name": "stderr",
     "output_type": "stream",
     "text": [
      "INFO:aequitas:Current Metrics - TSN: 7000, DSN: 56, SUR: 0.0080\n"
     ]
    },
    {
     "name": "stdout",
     "output_type": "stream",
     "text": [
      "Current Metrics - TSN: 7010, DSN: 56, SUR: 0.0080\n"
     ]
    },
    {
     "name": "stderr",
     "output_type": "stream",
     "text": [
      "INFO:aequitas:Current Metrics - TSN: 7010, DSN: 56, SUR: 0.0080\n"
     ]
    },
    {
     "name": "stdout",
     "output_type": "stream",
     "text": [
      "Current Metrics - TSN: 7020, DSN: 56, SUR: 0.0080\n"
     ]
    },
    {
     "name": "stderr",
     "output_type": "stream",
     "text": [
      "INFO:aequitas:Current Metrics - TSN: 7020, DSN: 56, SUR: 0.0080\n"
     ]
    },
    {
     "name": "stdout",
     "output_type": "stream",
     "text": [
      "Current Metrics - TSN: 7030, DSN: 56, SUR: 0.0080\n"
     ]
    },
    {
     "name": "stderr",
     "output_type": "stream",
     "text": [
      "INFO:aequitas:Current Metrics - TSN: 7030, DSN: 56, SUR: 0.0080\n"
     ]
    },
    {
     "name": "stdout",
     "output_type": "stream",
     "text": [
      "Current Metrics - TSN: 7040, DSN: 56, SUR: 0.0080\n"
     ]
    },
    {
     "name": "stderr",
     "output_type": "stream",
     "text": [
      "INFO:aequitas:Current Metrics - TSN: 7040, DSN: 56, SUR: 0.0080\n"
     ]
    },
    {
     "name": "stdout",
     "output_type": "stream",
     "text": [
      "Current Metrics - TSN: 7050, DSN: 56, SUR: 0.0079\n"
     ]
    },
    {
     "name": "stderr",
     "output_type": "stream",
     "text": [
      "INFO:aequitas:Current Metrics - TSN: 7050, DSN: 56, SUR: 0.0079\n"
     ]
    },
    {
     "name": "stdout",
     "output_type": "stream",
     "text": [
      "Current Metrics - TSN: 7060, DSN: 56, SUR: 0.0079\n"
     ]
    },
    {
     "name": "stderr",
     "output_type": "stream",
     "text": [
      "INFO:aequitas:Current Metrics - TSN: 7060, DSN: 56, SUR: 0.0079\n"
     ]
    },
    {
     "name": "stdout",
     "output_type": "stream",
     "text": [
      "Current Metrics - TSN: 7070, DSN: 56, SUR: 0.0079\n"
     ]
    },
    {
     "name": "stderr",
     "output_type": "stream",
     "text": [
      "INFO:aequitas:Current Metrics - TSN: 7070, DSN: 56, SUR: 0.0079\n"
     ]
    },
    {
     "name": "stdout",
     "output_type": "stream",
     "text": [
      "Current Metrics - TSN: 7080, DSN: 56, SUR: 0.0079\n"
     ]
    },
    {
     "name": "stderr",
     "output_type": "stream",
     "text": [
      "INFO:aequitas:Current Metrics - TSN: 7080, DSN: 56, SUR: 0.0079\n"
     ]
    },
    {
     "name": "stdout",
     "output_type": "stream",
     "text": [
      "Current Metrics - TSN: 7090, DSN: 56, SUR: 0.0079\n"
     ]
    },
    {
     "name": "stderr",
     "output_type": "stream",
     "text": [
      "INFO:aequitas:Current Metrics - TSN: 7090, DSN: 56, SUR: 0.0079\n"
     ]
    },
    {
     "name": "stdout",
     "output_type": "stream",
     "text": [
      "Current Metrics - TSN: 7100, DSN: 56, SUR: 0.0079\n"
     ]
    },
    {
     "name": "stderr",
     "output_type": "stream",
     "text": [
      "INFO:aequitas:Current Metrics - TSN: 7100, DSN: 56, SUR: 0.0079\n"
     ]
    },
    {
     "name": "stdout",
     "output_type": "stream",
     "text": [
      "Current Metrics - TSN: 7110, DSN: 56, SUR: 0.0079\n"
     ]
    },
    {
     "name": "stderr",
     "output_type": "stream",
     "text": [
      "INFO:aequitas:Current Metrics - TSN: 7110, DSN: 56, SUR: 0.0079\n"
     ]
    },
    {
     "name": "stdout",
     "output_type": "stream",
     "text": [
      "Current Metrics - TSN: 7120, DSN: 56, SUR: 0.0079\n"
     ]
    },
    {
     "name": "stderr",
     "output_type": "stream",
     "text": [
      "INFO:aequitas:Current Metrics - TSN: 7120, DSN: 56, SUR: 0.0079\n"
     ]
    },
    {
     "name": "stdout",
     "output_type": "stream",
     "text": [
      "Current Metrics - TSN: 7130, DSN: 56, SUR: 0.0079\n"
     ]
    },
    {
     "name": "stderr",
     "output_type": "stream",
     "text": [
      "INFO:aequitas:Current Metrics - TSN: 7130, DSN: 56, SUR: 0.0079\n"
     ]
    },
    {
     "name": "stdout",
     "output_type": "stream",
     "text": [
      "Current Metrics - TSN: 7140, DSN: 56, SUR: 0.0078\n"
     ]
    },
    {
     "name": "stderr",
     "output_type": "stream",
     "text": [
      "INFO:aequitas:Current Metrics - TSN: 7140, DSN: 56, SUR: 0.0078\n"
     ]
    },
    {
     "name": "stdout",
     "output_type": "stream",
     "text": [
      "Current Metrics - TSN: 7150, DSN: 56, SUR: 0.0078\n"
     ]
    },
    {
     "name": "stderr",
     "output_type": "stream",
     "text": [
      "INFO:aequitas:Current Metrics - TSN: 7150, DSN: 56, SUR: 0.0078\n"
     ]
    },
    {
     "name": "stdout",
     "output_type": "stream",
     "text": [
      "Current Metrics - TSN: 7160, DSN: 56, SUR: 0.0078\n"
     ]
    },
    {
     "name": "stderr",
     "output_type": "stream",
     "text": [
      "INFO:aequitas:Current Metrics - TSN: 7160, DSN: 56, SUR: 0.0078\n"
     ]
    },
    {
     "name": "stdout",
     "output_type": "stream",
     "text": [
      "Current Metrics - TSN: 7170, DSN: 56, SUR: 0.0078\n"
     ]
    },
    {
     "name": "stderr",
     "output_type": "stream",
     "text": [
      "INFO:aequitas:Current Metrics - TSN: 7170, DSN: 56, SUR: 0.0078\n"
     ]
    },
    {
     "name": "stdout",
     "output_type": "stream",
     "text": [
      "Current Metrics - TSN: 7180, DSN: 56, SUR: 0.0078\n"
     ]
    },
    {
     "name": "stderr",
     "output_type": "stream",
     "text": [
      "INFO:aequitas:Current Metrics - TSN: 7180, DSN: 56, SUR: 0.0078\n"
     ]
    },
    {
     "name": "stdout",
     "output_type": "stream",
     "text": [
      "Current Metrics - TSN: 7190, DSN: 56, SUR: 0.0078\n"
     ]
    },
    {
     "name": "stderr",
     "output_type": "stream",
     "text": [
      "INFO:aequitas:Current Metrics - TSN: 7190, DSN: 56, SUR: 0.0078\n"
     ]
    },
    {
     "name": "stdout",
     "output_type": "stream",
     "text": [
      "Current Metrics - TSN: 7200, DSN: 56, SUR: 0.0078\n"
     ]
    },
    {
     "name": "stderr",
     "output_type": "stream",
     "text": [
      "INFO:aequitas:Current Metrics - TSN: 7200, DSN: 56, SUR: 0.0078\n"
     ]
    },
    {
     "name": "stdout",
     "output_type": "stream",
     "text": [
      "Current Metrics - TSN: 7210, DSN: 56, SUR: 0.0078\n"
     ]
    },
    {
     "name": "stderr",
     "output_type": "stream",
     "text": [
      "INFO:aequitas:Current Metrics - TSN: 7210, DSN: 56, SUR: 0.0078\n"
     ]
    },
    {
     "name": "stdout",
     "output_type": "stream",
     "text": [
      "Current Metrics - TSN: 7220, DSN: 56, SUR: 0.0078\n"
     ]
    },
    {
     "name": "stderr",
     "output_type": "stream",
     "text": [
      "INFO:aequitas:Current Metrics - TSN: 7220, DSN: 56, SUR: 0.0078\n"
     ]
    },
    {
     "name": "stdout",
     "output_type": "stream",
     "text": [
      "Current Metrics - TSN: 7230, DSN: 56, SUR: 0.0077\n"
     ]
    },
    {
     "name": "stderr",
     "output_type": "stream",
     "text": [
      "INFO:aequitas:Current Metrics - TSN: 7230, DSN: 56, SUR: 0.0077\n"
     ]
    },
    {
     "name": "stdout",
     "output_type": "stream",
     "text": [
      "Current Metrics - TSN: 7240, DSN: 56, SUR: 0.0077\n"
     ]
    },
    {
     "name": "stderr",
     "output_type": "stream",
     "text": [
      "INFO:aequitas:Current Metrics - TSN: 7240, DSN: 56, SUR: 0.0077\n"
     ]
    },
    {
     "name": "stdout",
     "output_type": "stream",
     "text": [
      "Current Metrics - TSN: 7250, DSN: 56, SUR: 0.0077\n"
     ]
    },
    {
     "name": "stderr",
     "output_type": "stream",
     "text": [
      "INFO:aequitas:Current Metrics - TSN: 7250, DSN: 56, SUR: 0.0077\n"
     ]
    },
    {
     "name": "stdout",
     "output_type": "stream",
     "text": [
      "Current Metrics - TSN: 7260, DSN: 56, SUR: 0.0077\n"
     ]
    },
    {
     "name": "stderr",
     "output_type": "stream",
     "text": [
      "INFO:aequitas:Current Metrics - TSN: 7260, DSN: 56, SUR: 0.0077\n"
     ]
    },
    {
     "name": "stdout",
     "output_type": "stream",
     "text": [
      "Current Metrics - TSN: 7270, DSN: 56, SUR: 0.0077\n"
     ]
    },
    {
     "name": "stderr",
     "output_type": "stream",
     "text": [
      "INFO:aequitas:Current Metrics - TSN: 7270, DSN: 56, SUR: 0.0077\n"
     ]
    },
    {
     "name": "stdout",
     "output_type": "stream",
     "text": [
      "Current Metrics - TSN: 7280, DSN: 56, SUR: 0.0077\n"
     ]
    },
    {
     "name": "stderr",
     "output_type": "stream",
     "text": [
      "INFO:aequitas:Current Metrics - TSN: 7280, DSN: 56, SUR: 0.0077\n"
     ]
    },
    {
     "name": "stdout",
     "output_type": "stream",
     "text": [
      "Current Metrics - TSN: 7290, DSN: 56, SUR: 0.0077\n"
     ]
    },
    {
     "name": "stderr",
     "output_type": "stream",
     "text": [
      "INFO:aequitas:Current Metrics - TSN: 7290, DSN: 56, SUR: 0.0077\n"
     ]
    },
    {
     "name": "stdout",
     "output_type": "stream",
     "text": [
      "Current Metrics - TSN: 7300, DSN: 62, SUR: 0.0085\n"
     ]
    },
    {
     "name": "stderr",
     "output_type": "stream",
     "text": [
      "INFO:aequitas:Current Metrics - TSN: 7300, DSN: 62, SUR: 0.0085\n"
     ]
    },
    {
     "name": "stdout",
     "output_type": "stream",
     "text": [
      "Current Metrics - TSN: 7310, DSN: 68, SUR: 0.0093\n"
     ]
    },
    {
     "name": "stderr",
     "output_type": "stream",
     "text": [
      "INFO:aequitas:Current Metrics - TSN: 7310, DSN: 68, SUR: 0.0093\n"
     ]
    },
    {
     "name": "stdout",
     "output_type": "stream",
     "text": [
      "Current Metrics - TSN: 7320, DSN: 74, SUR: 0.0101\n"
     ]
    },
    {
     "name": "stderr",
     "output_type": "stream",
     "text": [
      "INFO:aequitas:Current Metrics - TSN: 7320, DSN: 74, SUR: 0.0101\n"
     ]
    },
    {
     "name": "stdout",
     "output_type": "stream",
     "text": [
      "Current Metrics - TSN: 7330, DSN: 79, SUR: 0.0108\n"
     ]
    },
    {
     "name": "stderr",
     "output_type": "stream",
     "text": [
      "INFO:aequitas:Current Metrics - TSN: 7330, DSN: 79, SUR: 0.0108\n"
     ]
    },
    {
     "name": "stdout",
     "output_type": "stream",
     "text": [
      "Current Metrics - TSN: 7350, DSN: 89, SUR: 0.0121\n"
     ]
    },
    {
     "name": "stderr",
     "output_type": "stream",
     "text": [
      "INFO:aequitas:Current Metrics - TSN: 7350, DSN: 89, SUR: 0.0121\n"
     ]
    },
    {
     "name": "stdout",
     "output_type": "stream",
     "text": [
      "Current Metrics - TSN: 7360, DSN: 94, SUR: 0.0128\n"
     ]
    },
    {
     "name": "stderr",
     "output_type": "stream",
     "text": [
      "INFO:aequitas:Current Metrics - TSN: 7360, DSN: 94, SUR: 0.0128\n"
     ]
    },
    {
     "name": "stdout",
     "output_type": "stream",
     "text": [
      "Current Metrics - TSN: 7370, DSN: 97, SUR: 0.0132\n"
     ]
    },
    {
     "name": "stderr",
     "output_type": "stream",
     "text": [
      "INFO:aequitas:Current Metrics - TSN: 7370, DSN: 97, SUR: 0.0132\n"
     ]
    },
    {
     "name": "stdout",
     "output_type": "stream",
     "text": [
      "Current Metrics - TSN: 7380, DSN: 100, SUR: 0.0136\n"
     ]
    },
    {
     "name": "stderr",
     "output_type": "stream",
     "text": [
      "INFO:aequitas:Current Metrics - TSN: 7380, DSN: 100, SUR: 0.0136\n"
     ]
    },
    {
     "name": "stdout",
     "output_type": "stream",
     "text": [
      "Current Metrics - TSN: 7390, DSN: 100, SUR: 0.0135\n"
     ]
    },
    {
     "name": "stderr",
     "output_type": "stream",
     "text": [
      "INFO:aequitas:Current Metrics - TSN: 7390, DSN: 100, SUR: 0.0135\n"
     ]
    },
    {
     "name": "stdout",
     "output_type": "stream",
     "text": [
      "Current Metrics - TSN: 7400, DSN: 103, SUR: 0.0139\n"
     ]
    },
    {
     "name": "stderr",
     "output_type": "stream",
     "text": [
      "INFO:aequitas:Current Metrics - TSN: 7400, DSN: 103, SUR: 0.0139\n"
     ]
    },
    {
     "name": "stdout",
     "output_type": "stream",
     "text": [
      "Current Metrics - TSN: 7410, DSN: 106, SUR: 0.0143\n"
     ]
    },
    {
     "name": "stderr",
     "output_type": "stream",
     "text": [
      "INFO:aequitas:Current Metrics - TSN: 7410, DSN: 106, SUR: 0.0143\n"
     ]
    },
    {
     "name": "stdout",
     "output_type": "stream",
     "text": [
      "Current Metrics - TSN: 7420, DSN: 109, SUR: 0.0147\n"
     ]
    },
    {
     "name": "stderr",
     "output_type": "stream",
     "text": [
      "INFO:aequitas:Current Metrics - TSN: 7420, DSN: 109, SUR: 0.0147\n"
     ]
    },
    {
     "name": "stdout",
     "output_type": "stream",
     "text": [
      "Current Metrics - TSN: 7430, DSN: 112, SUR: 0.0151\n"
     ]
    },
    {
     "name": "stderr",
     "output_type": "stream",
     "text": [
      "INFO:aequitas:Current Metrics - TSN: 7430, DSN: 112, SUR: 0.0151\n"
     ]
    },
    {
     "name": "stdout",
     "output_type": "stream",
     "text": [
      "Current Metrics - TSN: 7440, DSN: 116, SUR: 0.0156\n"
     ]
    },
    {
     "name": "stderr",
     "output_type": "stream",
     "text": [
      "INFO:aequitas:Current Metrics - TSN: 7440, DSN: 116, SUR: 0.0156\n"
     ]
    },
    {
     "name": "stdout",
     "output_type": "stream",
     "text": [
      "Current Metrics - TSN: 7450, DSN: 116, SUR: 0.0156\n"
     ]
    },
    {
     "name": "stderr",
     "output_type": "stream",
     "text": [
      "INFO:aequitas:Current Metrics - TSN: 7450, DSN: 116, SUR: 0.0156\n"
     ]
    },
    {
     "name": "stdout",
     "output_type": "stream",
     "text": [
      "Current Metrics - TSN: 7460, DSN: 120, SUR: 0.0161\n"
     ]
    },
    {
     "name": "stderr",
     "output_type": "stream",
     "text": [
      "INFO:aequitas:Current Metrics - TSN: 7460, DSN: 120, SUR: 0.0161\n"
     ]
    },
    {
     "name": "stdout",
     "output_type": "stream",
     "text": [
      "Current Metrics - TSN: 7470, DSN: 126, SUR: 0.0169\n"
     ]
    },
    {
     "name": "stderr",
     "output_type": "stream",
     "text": [
      "INFO:aequitas:Current Metrics - TSN: 7470, DSN: 126, SUR: 0.0169\n"
     ]
    },
    {
     "name": "stdout",
     "output_type": "stream",
     "text": [
      "Current Metrics - TSN: 7480, DSN: 126, SUR: 0.0168\n"
     ]
    },
    {
     "name": "stderr",
     "output_type": "stream",
     "text": [
      "INFO:aequitas:Current Metrics - TSN: 7480, DSN: 126, SUR: 0.0168\n"
     ]
    },
    {
     "name": "stdout",
     "output_type": "stream",
     "text": [
      "Current Metrics - TSN: 7490, DSN: 126, SUR: 0.0168\n"
     ]
    },
    {
     "name": "stderr",
     "output_type": "stream",
     "text": [
      "INFO:aequitas:Current Metrics - TSN: 7490, DSN: 126, SUR: 0.0168\n"
     ]
    },
    {
     "name": "stdout",
     "output_type": "stream",
     "text": [
      "Current Metrics - TSN: 7500, DSN: 132, SUR: 0.0176\n"
     ]
    },
    {
     "name": "stderr",
     "output_type": "stream",
     "text": [
      "INFO:aequitas:Current Metrics - TSN: 7500, DSN: 132, SUR: 0.0176\n"
     ]
    },
    {
     "name": "stdout",
     "output_type": "stream",
     "text": [
      "Current Metrics - TSN: 7510, DSN: 136, SUR: 0.0181\n"
     ]
    },
    {
     "name": "stderr",
     "output_type": "stream",
     "text": [
      "INFO:aequitas:Current Metrics - TSN: 7510, DSN: 136, SUR: 0.0181\n"
     ]
    },
    {
     "name": "stdout",
     "output_type": "stream",
     "text": [
      "Current Metrics - TSN: 7520, DSN: 140, SUR: 0.0186\n"
     ]
    },
    {
     "name": "stderr",
     "output_type": "stream",
     "text": [
      "INFO:aequitas:Current Metrics - TSN: 7520, DSN: 140, SUR: 0.0186\n"
     ]
    },
    {
     "name": "stdout",
     "output_type": "stream",
     "text": [
      "Current Metrics - TSN: 7530, DSN: 140, SUR: 0.0186\n"
     ]
    },
    {
     "name": "stderr",
     "output_type": "stream",
     "text": [
      "INFO:aequitas:Current Metrics - TSN: 7530, DSN: 140, SUR: 0.0186\n"
     ]
    },
    {
     "name": "stdout",
     "output_type": "stream",
     "text": [
      "Current Metrics - TSN: 7540, DSN: 145, SUR: 0.0192\n"
     ]
    },
    {
     "name": "stderr",
     "output_type": "stream",
     "text": [
      "INFO:aequitas:Current Metrics - TSN: 7540, DSN: 145, SUR: 0.0192\n"
     ]
    },
    {
     "name": "stdout",
     "output_type": "stream",
     "text": [
      "Current Metrics - TSN: 7550, DSN: 146, SUR: 0.0193\n"
     ]
    },
    {
     "name": "stderr",
     "output_type": "stream",
     "text": [
      "INFO:aequitas:Current Metrics - TSN: 7550, DSN: 146, SUR: 0.0193\n"
     ]
    },
    {
     "name": "stdout",
     "output_type": "stream",
     "text": [
      "Current Metrics - TSN: 7560, DSN: 151, SUR: 0.0200\n"
     ]
    },
    {
     "name": "stderr",
     "output_type": "stream",
     "text": [
      "INFO:aequitas:Current Metrics - TSN: 7560, DSN: 151, SUR: 0.0200\n"
     ]
    },
    {
     "name": "stdout",
     "output_type": "stream",
     "text": [
      "Current Metrics - TSN: 7570, DSN: 156, SUR: 0.0206\n"
     ]
    },
    {
     "name": "stderr",
     "output_type": "stream",
     "text": [
      "INFO:aequitas:Current Metrics - TSN: 7570, DSN: 156, SUR: 0.0206\n"
     ]
    },
    {
     "name": "stdout",
     "output_type": "stream",
     "text": [
      "Current Metrics - TSN: 7580, DSN: 161, SUR: 0.0212\n"
     ]
    },
    {
     "name": "stderr",
     "output_type": "stream",
     "text": [
      "INFO:aequitas:Current Metrics - TSN: 7580, DSN: 161, SUR: 0.0212\n"
     ]
    },
    {
     "name": "stdout",
     "output_type": "stream",
     "text": [
      "Current Metrics - TSN: 7590, DSN: 168, SUR: 0.0221\n"
     ]
    },
    {
     "name": "stderr",
     "output_type": "stream",
     "text": [
      "INFO:aequitas:Current Metrics - TSN: 7590, DSN: 168, SUR: 0.0221\n"
     ]
    },
    {
     "name": "stdout",
     "output_type": "stream",
     "text": [
      "Current Metrics - TSN: 7600, DSN: 168, SUR: 0.0221\n"
     ]
    },
    {
     "name": "stderr",
     "output_type": "stream",
     "text": [
      "INFO:aequitas:Current Metrics - TSN: 7600, DSN: 168, SUR: 0.0221\n"
     ]
    },
    {
     "name": "stdout",
     "output_type": "stream",
     "text": [
      "Current Metrics - TSN: 7610, DSN: 175, SUR: 0.0230\n"
     ]
    },
    {
     "name": "stderr",
     "output_type": "stream",
     "text": [
      "INFO:aequitas:Current Metrics - TSN: 7610, DSN: 175, SUR: 0.0230\n"
     ]
    },
    {
     "name": "stdout",
     "output_type": "stream",
     "text": [
      "Current Metrics - TSN: 7620, DSN: 175, SUR: 0.0230\n"
     ]
    },
    {
     "name": "stderr",
     "output_type": "stream",
     "text": [
      "INFO:aequitas:Current Metrics - TSN: 7620, DSN: 175, SUR: 0.0230\n"
     ]
    },
    {
     "name": "stdout",
     "output_type": "stream",
     "text": [
      "Current Metrics - TSN: 7630, DSN: 180, SUR: 0.0236\n"
     ]
    },
    {
     "name": "stderr",
     "output_type": "stream",
     "text": [
      "INFO:aequitas:Current Metrics - TSN: 7630, DSN: 180, SUR: 0.0236\n"
     ]
    },
    {
     "name": "stdout",
     "output_type": "stream",
     "text": [
      "Current Metrics - TSN: 7640, DSN: 185, SUR: 0.0242\n"
     ]
    },
    {
     "name": "stderr",
     "output_type": "stream",
     "text": [
      "INFO:aequitas:Current Metrics - TSN: 7640, DSN: 185, SUR: 0.0242\n"
     ]
    },
    {
     "name": "stdout",
     "output_type": "stream",
     "text": [
      "Current Metrics - TSN: 7650, DSN: 190, SUR: 0.0248\n"
     ]
    },
    {
     "name": "stderr",
     "output_type": "stream",
     "text": [
      "INFO:aequitas:Current Metrics - TSN: 7650, DSN: 190, SUR: 0.0248\n"
     ]
    },
    {
     "name": "stdout",
     "output_type": "stream",
     "text": [
      "Current Metrics - TSN: 7660, DSN: 195, SUR: 0.0255\n"
     ]
    },
    {
     "name": "stderr",
     "output_type": "stream",
     "text": [
      "INFO:aequitas:Current Metrics - TSN: 7660, DSN: 195, SUR: 0.0255\n"
     ]
    },
    {
     "name": "stdout",
     "output_type": "stream",
     "text": [
      "Current Metrics - TSN: 7670, DSN: 200, SUR: 0.0261\n"
     ]
    },
    {
     "name": "stderr",
     "output_type": "stream",
     "text": [
      "INFO:aequitas:Current Metrics - TSN: 7670, DSN: 200, SUR: 0.0261\n"
     ]
    },
    {
     "name": "stdout",
     "output_type": "stream",
     "text": [
      "Current Metrics - TSN: 7680, DSN: 205, SUR: 0.0267\n"
     ]
    },
    {
     "name": "stderr",
     "output_type": "stream",
     "text": [
      "INFO:aequitas:Current Metrics - TSN: 7680, DSN: 205, SUR: 0.0267\n"
     ]
    },
    {
     "name": "stdout",
     "output_type": "stream",
     "text": [
      "Current Metrics - TSN: 7690, DSN: 210, SUR: 0.0273\n"
     ]
    },
    {
     "name": "stderr",
     "output_type": "stream",
     "text": [
      "INFO:aequitas:Current Metrics - TSN: 7690, DSN: 210, SUR: 0.0273\n"
     ]
    },
    {
     "name": "stdout",
     "output_type": "stream",
     "text": [
      "Current Metrics - TSN: 7700, DSN: 213, SUR: 0.0277\n"
     ]
    },
    {
     "name": "stderr",
     "output_type": "stream",
     "text": [
      "INFO:aequitas:Current Metrics - TSN: 7700, DSN: 213, SUR: 0.0277\n"
     ]
    },
    {
     "name": "stdout",
     "output_type": "stream",
     "text": [
      "Current Metrics - TSN: 7710, DSN: 216, SUR: 0.0280\n"
     ]
    },
    {
     "name": "stderr",
     "output_type": "stream",
     "text": [
      "INFO:aequitas:Current Metrics - TSN: 7710, DSN: 216, SUR: 0.0280\n"
     ]
    },
    {
     "name": "stdout",
     "output_type": "stream",
     "text": [
      "Current Metrics - TSN: 7720, DSN: 220, SUR: 0.0285\n"
     ]
    },
    {
     "name": "stderr",
     "output_type": "stream",
     "text": [
      "INFO:aequitas:Current Metrics - TSN: 7720, DSN: 220, SUR: 0.0285\n"
     ]
    },
    {
     "name": "stdout",
     "output_type": "stream",
     "text": [
      "Current Metrics - TSN: 7730, DSN: 225, SUR: 0.0291\n"
     ]
    },
    {
     "name": "stderr",
     "output_type": "stream",
     "text": [
      "INFO:aequitas:Current Metrics - TSN: 7730, DSN: 225, SUR: 0.0291\n"
     ]
    },
    {
     "name": "stdout",
     "output_type": "stream",
     "text": [
      "Current Metrics - TSN: 7740, DSN: 230, SUR: 0.0297\n"
     ]
    },
    {
     "name": "stderr",
     "output_type": "stream",
     "text": [
      "INFO:aequitas:Current Metrics - TSN: 7740, DSN: 230, SUR: 0.0297\n"
     ]
    },
    {
     "name": "stdout",
     "output_type": "stream",
     "text": [
      "Current Metrics - TSN: 7750, DSN: 235, SUR: 0.0303\n"
     ]
    },
    {
     "name": "stderr",
     "output_type": "stream",
     "text": [
      "INFO:aequitas:Current Metrics - TSN: 7750, DSN: 235, SUR: 0.0303\n"
     ]
    },
    {
     "name": "stdout",
     "output_type": "stream",
     "text": [
      "Current Metrics - TSN: 7760, DSN: 235, SUR: 0.0303\n"
     ]
    },
    {
     "name": "stderr",
     "output_type": "stream",
     "text": [
      "INFO:aequitas:Current Metrics - TSN: 7760, DSN: 235, SUR: 0.0303\n"
     ]
    },
    {
     "name": "stdout",
     "output_type": "stream",
     "text": [
      "Current Metrics - TSN: 7770, DSN: 240, SUR: 0.0309\n"
     ]
    },
    {
     "name": "stderr",
     "output_type": "stream",
     "text": [
      "INFO:aequitas:Current Metrics - TSN: 7770, DSN: 240, SUR: 0.0309\n"
     ]
    },
    {
     "name": "stdout",
     "output_type": "stream",
     "text": [
      "Current Metrics - TSN: 7780, DSN: 245, SUR: 0.0315\n"
     ]
    },
    {
     "name": "stderr",
     "output_type": "stream",
     "text": [
      "INFO:aequitas:Current Metrics - TSN: 7780, DSN: 245, SUR: 0.0315\n"
     ]
    },
    {
     "name": "stdout",
     "output_type": "stream",
     "text": [
      "Current Metrics - TSN: 7790, DSN: 248, SUR: 0.0318\n"
     ]
    },
    {
     "name": "stderr",
     "output_type": "stream",
     "text": [
      "INFO:aequitas:Current Metrics - TSN: 7790, DSN: 248, SUR: 0.0318\n"
     ]
    },
    {
     "name": "stdout",
     "output_type": "stream",
     "text": [
      "Current Metrics - TSN: 7800, DSN: 251, SUR: 0.0322\n"
     ]
    },
    {
     "name": "stderr",
     "output_type": "stream",
     "text": [
      "INFO:aequitas:Current Metrics - TSN: 7800, DSN: 251, SUR: 0.0322\n"
     ]
    },
    {
     "name": "stdout",
     "output_type": "stream",
     "text": [
      "Current Metrics - TSN: 7810, DSN: 258, SUR: 0.0330\n"
     ]
    },
    {
     "name": "stderr",
     "output_type": "stream",
     "text": [
      "INFO:aequitas:Current Metrics - TSN: 7810, DSN: 258, SUR: 0.0330\n"
     ]
    },
    {
     "name": "stdout",
     "output_type": "stream",
     "text": [
      "Current Metrics - TSN: 7820, DSN: 265, SUR: 0.0339\n"
     ]
    },
    {
     "name": "stderr",
     "output_type": "stream",
     "text": [
      "INFO:aequitas:Current Metrics - TSN: 7820, DSN: 265, SUR: 0.0339\n"
     ]
    },
    {
     "name": "stdout",
     "output_type": "stream",
     "text": [
      "Current Metrics - TSN: 7830, DSN: 268, SUR: 0.0342\n"
     ]
    },
    {
     "name": "stderr",
     "output_type": "stream",
     "text": [
      "INFO:aequitas:Current Metrics - TSN: 7830, DSN: 268, SUR: 0.0342\n"
     ]
    },
    {
     "name": "stdout",
     "output_type": "stream",
     "text": [
      "Current Metrics - TSN: 7840, DSN: 268, SUR: 0.0342\n"
     ]
    },
    {
     "name": "stderr",
     "output_type": "stream",
     "text": [
      "INFO:aequitas:Current Metrics - TSN: 7840, DSN: 268, SUR: 0.0342\n"
     ]
    },
    {
     "name": "stdout",
     "output_type": "stream",
     "text": [
      "Current Metrics - TSN: 7850, DSN: 271, SUR: 0.0345\n"
     ]
    },
    {
     "name": "stderr",
     "output_type": "stream",
     "text": [
      "INFO:aequitas:Current Metrics - TSN: 7850, DSN: 271, SUR: 0.0345\n"
     ]
    },
    {
     "name": "stdout",
     "output_type": "stream",
     "text": [
      "Current Metrics - TSN: 7860, DSN: 271, SUR: 0.0345\n"
     ]
    },
    {
     "name": "stderr",
     "output_type": "stream",
     "text": [
      "INFO:aequitas:Current Metrics - TSN: 7860, DSN: 271, SUR: 0.0345\n"
     ]
    },
    {
     "name": "stdout",
     "output_type": "stream",
     "text": [
      "Current Metrics - TSN: 7870, DSN: 272, SUR: 0.0346\n"
     ]
    },
    {
     "name": "stderr",
     "output_type": "stream",
     "text": [
      "INFO:aequitas:Current Metrics - TSN: 7870, DSN: 272, SUR: 0.0346\n"
     ]
    },
    {
     "name": "stdout",
     "output_type": "stream",
     "text": [
      "Current Metrics - TSN: 7880, DSN: 272, SUR: 0.0345\n"
     ]
    },
    {
     "name": "stderr",
     "output_type": "stream",
     "text": [
      "INFO:aequitas:Current Metrics - TSN: 7880, DSN: 272, SUR: 0.0345\n"
     ]
    },
    {
     "name": "stdout",
     "output_type": "stream",
     "text": [
      "Current Metrics - TSN: 7890, DSN: 273, SUR: 0.0346\n"
     ]
    },
    {
     "name": "stderr",
     "output_type": "stream",
     "text": [
      "INFO:aequitas:Current Metrics - TSN: 7890, DSN: 273, SUR: 0.0346\n"
     ]
    },
    {
     "name": "stdout",
     "output_type": "stream",
     "text": [
      "Current Metrics - TSN: 7900, DSN: 273, SUR: 0.0346\n"
     ]
    },
    {
     "name": "stderr",
     "output_type": "stream",
     "text": [
      "INFO:aequitas:Current Metrics - TSN: 7900, DSN: 273, SUR: 0.0346\n"
     ]
    },
    {
     "name": "stdout",
     "output_type": "stream",
     "text": [
      "Current Metrics - TSN: 7910, DSN: 273, SUR: 0.0345\n"
     ]
    },
    {
     "name": "stderr",
     "output_type": "stream",
     "text": [
      "INFO:aequitas:Current Metrics - TSN: 7910, DSN: 273, SUR: 0.0345\n"
     ]
    },
    {
     "name": "stdout",
     "output_type": "stream",
     "text": [
      "Current Metrics - TSN: 7920, DSN: 273, SUR: 0.0345\n"
     ]
    },
    {
     "name": "stderr",
     "output_type": "stream",
     "text": [
      "INFO:aequitas:Current Metrics - TSN: 7920, DSN: 273, SUR: 0.0345\n"
     ]
    },
    {
     "name": "stdout",
     "output_type": "stream",
     "text": [
      "Current Metrics - TSN: 7930, DSN: 273, SUR: 0.0344\n"
     ]
    },
    {
     "name": "stderr",
     "output_type": "stream",
     "text": [
      "INFO:aequitas:Current Metrics - TSN: 7930, DSN: 273, SUR: 0.0344\n"
     ]
    },
    {
     "name": "stdout",
     "output_type": "stream",
     "text": [
      "Current Metrics - TSN: 7940, DSN: 273, SUR: 0.0344\n"
     ]
    },
    {
     "name": "stderr",
     "output_type": "stream",
     "text": [
      "INFO:aequitas:Current Metrics - TSN: 7940, DSN: 273, SUR: 0.0344\n"
     ]
    },
    {
     "name": "stdout",
     "output_type": "stream",
     "text": [
      "Current Metrics - TSN: 7950, DSN: 273, SUR: 0.0343\n"
     ]
    },
    {
     "name": "stderr",
     "output_type": "stream",
     "text": [
      "INFO:aequitas:Current Metrics - TSN: 7950, DSN: 273, SUR: 0.0343\n"
     ]
    },
    {
     "name": "stdout",
     "output_type": "stream",
     "text": [
      "Current Metrics - TSN: 7960, DSN: 273, SUR: 0.0343\n"
     ]
    },
    {
     "name": "stderr",
     "output_type": "stream",
     "text": [
      "INFO:aequitas:Current Metrics - TSN: 7960, DSN: 273, SUR: 0.0343\n"
     ]
    },
    {
     "name": "stdout",
     "output_type": "stream",
     "text": [
      "Current Metrics - TSN: 7970, DSN: 273, SUR: 0.0343\n"
     ]
    },
    {
     "name": "stderr",
     "output_type": "stream",
     "text": [
      "INFO:aequitas:Current Metrics - TSN: 7970, DSN: 273, SUR: 0.0343\n"
     ]
    },
    {
     "name": "stdout",
     "output_type": "stream",
     "text": [
      "Current Metrics - TSN: 7980, DSN: 273, SUR: 0.0342\n"
     ]
    },
    {
     "name": "stderr",
     "output_type": "stream",
     "text": [
      "INFO:aequitas:Current Metrics - TSN: 7980, DSN: 273, SUR: 0.0342\n"
     ]
    },
    {
     "name": "stdout",
     "output_type": "stream",
     "text": [
      "Current Metrics - TSN: 7990, DSN: 273, SUR: 0.0342\n"
     ]
    },
    {
     "name": "stderr",
     "output_type": "stream",
     "text": [
      "INFO:aequitas:Current Metrics - TSN: 7990, DSN: 273, SUR: 0.0342\n"
     ]
    },
    {
     "name": "stdout",
     "output_type": "stream",
     "text": [
      "Current Metrics - TSN: 8000, DSN: 273, SUR: 0.0341\n"
     ]
    },
    {
     "name": "stderr",
     "output_type": "stream",
     "text": [
      "INFO:aequitas:Current Metrics - TSN: 8000, DSN: 273, SUR: 0.0341\n"
     ]
    },
    {
     "name": "stdout",
     "output_type": "stream",
     "text": [
      "Current Metrics - TSN: 8010, DSN: 273, SUR: 0.0341\n"
     ]
    },
    {
     "name": "stderr",
     "output_type": "stream",
     "text": [
      "INFO:aequitas:Current Metrics - TSN: 8010, DSN: 273, SUR: 0.0341\n"
     ]
    },
    {
     "name": "stdout",
     "output_type": "stream",
     "text": [
      "Current Metrics - TSN: 8020, DSN: 273, SUR: 0.0340\n"
     ]
    },
    {
     "name": "stderr",
     "output_type": "stream",
     "text": [
      "INFO:aequitas:Current Metrics - TSN: 8020, DSN: 273, SUR: 0.0340\n"
     ]
    },
    {
     "name": "stdout",
     "output_type": "stream",
     "text": [
      "Current Metrics - TSN: 8030, DSN: 273, SUR: 0.0340\n"
     ]
    },
    {
     "name": "stderr",
     "output_type": "stream",
     "text": [
      "INFO:aequitas:Current Metrics - TSN: 8030, DSN: 273, SUR: 0.0340\n"
     ]
    },
    {
     "name": "stdout",
     "output_type": "stream",
     "text": [
      "Current Metrics - TSN: 8040, DSN: 273, SUR: 0.0340\n"
     ]
    },
    {
     "name": "stderr",
     "output_type": "stream",
     "text": [
      "INFO:aequitas:Current Metrics - TSN: 8040, DSN: 273, SUR: 0.0340\n"
     ]
    },
    {
     "name": "stdout",
     "output_type": "stream",
     "text": [
      "Current Metrics - TSN: 8050, DSN: 273, SUR: 0.0339\n"
     ]
    },
    {
     "name": "stderr",
     "output_type": "stream",
     "text": [
      "INFO:aequitas:Current Metrics - TSN: 8050, DSN: 273, SUR: 0.0339\n"
     ]
    },
    {
     "name": "stdout",
     "output_type": "stream",
     "text": [
      "Current Metrics - TSN: 8060, DSN: 273, SUR: 0.0339\n"
     ]
    },
    {
     "name": "stderr",
     "output_type": "stream",
     "text": [
      "INFO:aequitas:Current Metrics - TSN: 8060, DSN: 273, SUR: 0.0339\n"
     ]
    },
    {
     "name": "stdout",
     "output_type": "stream",
     "text": [
      "Current Metrics - TSN: 8070, DSN: 273, SUR: 0.0338\n"
     ]
    },
    {
     "name": "stderr",
     "output_type": "stream",
     "text": [
      "INFO:aequitas:Current Metrics - TSN: 8070, DSN: 273, SUR: 0.0338\n"
     ]
    },
    {
     "name": "stdout",
     "output_type": "stream",
     "text": [
      "Current Metrics - TSN: 8080, DSN: 273, SUR: 0.0338\n"
     ]
    },
    {
     "name": "stderr",
     "output_type": "stream",
     "text": [
      "INFO:aequitas:Current Metrics - TSN: 8080, DSN: 273, SUR: 0.0338\n"
     ]
    },
    {
     "name": "stdout",
     "output_type": "stream",
     "text": [
      "Current Metrics - TSN: 8090, DSN: 273, SUR: 0.0337\n"
     ]
    },
    {
     "name": "stderr",
     "output_type": "stream",
     "text": [
      "INFO:aequitas:Current Metrics - TSN: 8090, DSN: 273, SUR: 0.0337\n"
     ]
    },
    {
     "name": "stdout",
     "output_type": "stream",
     "text": [
      "Current Metrics - TSN: 8100, DSN: 273, SUR: 0.0337\n"
     ]
    },
    {
     "name": "stderr",
     "output_type": "stream",
     "text": [
      "INFO:aequitas:Current Metrics - TSN: 8100, DSN: 273, SUR: 0.0337\n"
     ]
    },
    {
     "name": "stdout",
     "output_type": "stream",
     "text": [
      "Current Metrics - TSN: 8110, DSN: 273, SUR: 0.0337\n"
     ]
    },
    {
     "name": "stderr",
     "output_type": "stream",
     "text": [
      "INFO:aequitas:Current Metrics - TSN: 8110, DSN: 273, SUR: 0.0337\n"
     ]
    },
    {
     "name": "stdout",
     "output_type": "stream",
     "text": [
      "Current Metrics - TSN: 8120, DSN: 273, SUR: 0.0336\n"
     ]
    },
    {
     "name": "stderr",
     "output_type": "stream",
     "text": [
      "INFO:aequitas:Current Metrics - TSN: 8120, DSN: 273, SUR: 0.0336\n"
     ]
    },
    {
     "name": "stdout",
     "output_type": "stream",
     "text": [
      "Current Metrics - TSN: 8130, DSN: 273, SUR: 0.0336\n"
     ]
    },
    {
     "name": "stderr",
     "output_type": "stream",
     "text": [
      "INFO:aequitas:Current Metrics - TSN: 8130, DSN: 273, SUR: 0.0336\n"
     ]
    },
    {
     "name": "stdout",
     "output_type": "stream",
     "text": [
      "Current Metrics - TSN: 8140, DSN: 273, SUR: 0.0335\n"
     ]
    },
    {
     "name": "stderr",
     "output_type": "stream",
     "text": [
      "INFO:aequitas:Current Metrics - TSN: 8140, DSN: 273, SUR: 0.0335\n"
     ]
    },
    {
     "name": "stdout",
     "output_type": "stream",
     "text": [
      "Current Metrics - TSN: 8150, DSN: 273, SUR: 0.0335\n"
     ]
    },
    {
     "name": "stderr",
     "output_type": "stream",
     "text": [
      "INFO:aequitas:Current Metrics - TSN: 8150, DSN: 273, SUR: 0.0335\n"
     ]
    },
    {
     "name": "stdout",
     "output_type": "stream",
     "text": [
      "Current Metrics - TSN: 8170, DSN: 273, SUR: 0.0334\n"
     ]
    },
    {
     "name": "stderr",
     "output_type": "stream",
     "text": [
      "INFO:aequitas:Current Metrics - TSN: 8170, DSN: 273, SUR: 0.0334\n"
     ]
    },
    {
     "name": "stdout",
     "output_type": "stream",
     "text": [
      "Current Metrics - TSN: 8180, DSN: 273, SUR: 0.0334\n"
     ]
    },
    {
     "name": "stderr",
     "output_type": "stream",
     "text": [
      "INFO:aequitas:Current Metrics - TSN: 8180, DSN: 273, SUR: 0.0334\n"
     ]
    },
    {
     "name": "stdout",
     "output_type": "stream",
     "text": [
      "Current Metrics - TSN: 8190, DSN: 273, SUR: 0.0333\n"
     ]
    },
    {
     "name": "stderr",
     "output_type": "stream",
     "text": [
      "INFO:aequitas:Current Metrics - TSN: 8190, DSN: 273, SUR: 0.0333\n"
     ]
    },
    {
     "name": "stdout",
     "output_type": "stream",
     "text": [
      "Current Metrics - TSN: 8200, DSN: 273, SUR: 0.0333\n"
     ]
    },
    {
     "name": "stderr",
     "output_type": "stream",
     "text": [
      "INFO:aequitas:Current Metrics - TSN: 8200, DSN: 273, SUR: 0.0333\n"
     ]
    },
    {
     "name": "stdout",
     "output_type": "stream",
     "text": [
      "Current Metrics - TSN: 8210, DSN: 273, SUR: 0.0333\n"
     ]
    },
    {
     "name": "stderr",
     "output_type": "stream",
     "text": [
      "INFO:aequitas:Current Metrics - TSN: 8210, DSN: 273, SUR: 0.0333\n"
     ]
    },
    {
     "name": "stdout",
     "output_type": "stream",
     "text": [
      "Current Metrics - TSN: 8220, DSN: 273, SUR: 0.0332\n"
     ]
    },
    {
     "name": "stderr",
     "output_type": "stream",
     "text": [
      "INFO:aequitas:Current Metrics - TSN: 8220, DSN: 273, SUR: 0.0332\n"
     ]
    },
    {
     "name": "stdout",
     "output_type": "stream",
     "text": [
      "Current Metrics - TSN: 8230, DSN: 273, SUR: 0.0332\n"
     ]
    },
    {
     "name": "stderr",
     "output_type": "stream",
     "text": [
      "INFO:aequitas:Current Metrics - TSN: 8230, DSN: 273, SUR: 0.0332\n"
     ]
    },
    {
     "name": "stdout",
     "output_type": "stream",
     "text": [
      "Current Metrics - TSN: 8240, DSN: 273, SUR: 0.0331\n"
     ]
    },
    {
     "name": "stderr",
     "output_type": "stream",
     "text": [
      "INFO:aequitas:Current Metrics - TSN: 8240, DSN: 273, SUR: 0.0331\n"
     ]
    },
    {
     "name": "stdout",
     "output_type": "stream",
     "text": [
      "Current Metrics - TSN: 8250, DSN: 273, SUR: 0.0331\n"
     ]
    },
    {
     "name": "stderr",
     "output_type": "stream",
     "text": [
      "INFO:aequitas:Current Metrics - TSN: 8250, DSN: 273, SUR: 0.0331\n"
     ]
    },
    {
     "name": "stdout",
     "output_type": "stream",
     "text": [
      "Current Metrics - TSN: 8260, DSN: 273, SUR: 0.0331\n"
     ]
    },
    {
     "name": "stderr",
     "output_type": "stream",
     "text": [
      "INFO:aequitas:Current Metrics - TSN: 8260, DSN: 273, SUR: 0.0331\n"
     ]
    },
    {
     "name": "stdout",
     "output_type": "stream",
     "text": [
      "Current Metrics - TSN: 8270, DSN: 273, SUR: 0.0330\n"
     ]
    },
    {
     "name": "stderr",
     "output_type": "stream",
     "text": [
      "INFO:aequitas:Current Metrics - TSN: 8270, DSN: 273, SUR: 0.0330\n"
     ]
    },
    {
     "name": "stdout",
     "output_type": "stream",
     "text": [
      "Current Metrics - TSN: 8280, DSN: 273, SUR: 0.0330\n"
     ]
    },
    {
     "name": "stderr",
     "output_type": "stream",
     "text": [
      "INFO:aequitas:Current Metrics - TSN: 8280, DSN: 273, SUR: 0.0330\n"
     ]
    },
    {
     "name": "stdout",
     "output_type": "stream",
     "text": [
      "Current Metrics - TSN: 8290, DSN: 273, SUR: 0.0329\n"
     ]
    },
    {
     "name": "stderr",
     "output_type": "stream",
     "text": [
      "INFO:aequitas:Current Metrics - TSN: 8290, DSN: 273, SUR: 0.0329\n"
     ]
    },
    {
     "name": "stdout",
     "output_type": "stream",
     "text": [
      "Current Metrics - TSN: 8300, DSN: 273, SUR: 0.0329\n"
     ]
    },
    {
     "name": "stderr",
     "output_type": "stream",
     "text": [
      "INFO:aequitas:Current Metrics - TSN: 8300, DSN: 273, SUR: 0.0329\n"
     ]
    },
    {
     "name": "stdout",
     "output_type": "stream",
     "text": [
      "Current Metrics - TSN: 8310, DSN: 273, SUR: 0.0329\n"
     ]
    },
    {
     "name": "stderr",
     "output_type": "stream",
     "text": [
      "INFO:aequitas:Current Metrics - TSN: 8310, DSN: 273, SUR: 0.0329\n"
     ]
    },
    {
     "name": "stdout",
     "output_type": "stream",
     "text": [
      "Current Metrics - TSN: 8320, DSN: 273, SUR: 0.0328\n"
     ]
    },
    {
     "name": "stderr",
     "output_type": "stream",
     "text": [
      "INFO:aequitas:Current Metrics - TSN: 8320, DSN: 273, SUR: 0.0328\n"
     ]
    },
    {
     "name": "stdout",
     "output_type": "stream",
     "text": [
      "Current Metrics - TSN: 8330, DSN: 273, SUR: 0.0328\n"
     ]
    },
    {
     "name": "stderr",
     "output_type": "stream",
     "text": [
      "INFO:aequitas:Current Metrics - TSN: 8330, DSN: 273, SUR: 0.0328\n"
     ]
    },
    {
     "name": "stdout",
     "output_type": "stream",
     "text": [
      "Current Metrics - TSN: 8340, DSN: 273, SUR: 0.0327\n"
     ]
    },
    {
     "name": "stderr",
     "output_type": "stream",
     "text": [
      "INFO:aequitas:Current Metrics - TSN: 8340, DSN: 273, SUR: 0.0327\n"
     ]
    },
    {
     "name": "stdout",
     "output_type": "stream",
     "text": [
      "Current Metrics - TSN: 8350, DSN: 273, SUR: 0.0327\n"
     ]
    },
    {
     "name": "stderr",
     "output_type": "stream",
     "text": [
      "INFO:aequitas:Current Metrics - TSN: 8350, DSN: 273, SUR: 0.0327\n"
     ]
    },
    {
     "name": "stdout",
     "output_type": "stream",
     "text": [
      "Current Metrics - TSN: 8360, DSN: 273, SUR: 0.0327\n"
     ]
    },
    {
     "name": "stderr",
     "output_type": "stream",
     "text": [
      "INFO:aequitas:Current Metrics - TSN: 8360, DSN: 273, SUR: 0.0327\n"
     ]
    },
    {
     "name": "stdout",
     "output_type": "stream",
     "text": [
      "Current Metrics - TSN: 8380, DSN: 273, SUR: 0.0326\n"
     ]
    },
    {
     "name": "stderr",
     "output_type": "stream",
     "text": [
      "INFO:aequitas:Current Metrics - TSN: 8380, DSN: 273, SUR: 0.0326\n"
     ]
    },
    {
     "name": "stdout",
     "output_type": "stream",
     "text": [
      "Current Metrics - TSN: 8390, DSN: 273, SUR: 0.0325\n"
     ]
    },
    {
     "name": "stderr",
     "output_type": "stream",
     "text": [
      "INFO:aequitas:Current Metrics - TSN: 8390, DSN: 273, SUR: 0.0325\n"
     ]
    },
    {
     "name": "stdout",
     "output_type": "stream",
     "text": [
      "Current Metrics - TSN: 8400, DSN: 273, SUR: 0.0325\n"
     ]
    },
    {
     "name": "stderr",
     "output_type": "stream",
     "text": [
      "INFO:aequitas:Current Metrics - TSN: 8400, DSN: 273, SUR: 0.0325\n"
     ]
    },
    {
     "name": "stdout",
     "output_type": "stream",
     "text": [
      "Current Metrics - TSN: 8410, DSN: 273, SUR: 0.0325\n"
     ]
    },
    {
     "name": "stderr",
     "output_type": "stream",
     "text": [
      "INFO:aequitas:Current Metrics - TSN: 8410, DSN: 273, SUR: 0.0325\n"
     ]
    },
    {
     "name": "stdout",
     "output_type": "stream",
     "text": [
      "Current Metrics - TSN: 8420, DSN: 273, SUR: 0.0324\n"
     ]
    },
    {
     "name": "stderr",
     "output_type": "stream",
     "text": [
      "INFO:aequitas:Current Metrics - TSN: 8420, DSN: 273, SUR: 0.0324\n"
     ]
    },
    {
     "name": "stdout",
     "output_type": "stream",
     "text": [
      "Current Metrics - TSN: 8430, DSN: 273, SUR: 0.0324\n"
     ]
    },
    {
     "name": "stderr",
     "output_type": "stream",
     "text": [
      "INFO:aequitas:Current Metrics - TSN: 8430, DSN: 273, SUR: 0.0324\n"
     ]
    },
    {
     "name": "stdout",
     "output_type": "stream",
     "text": [
      "Current Metrics - TSN: 8440, DSN: 273, SUR: 0.0323\n"
     ]
    },
    {
     "name": "stderr",
     "output_type": "stream",
     "text": [
      "INFO:aequitas:Current Metrics - TSN: 8440, DSN: 273, SUR: 0.0323\n"
     ]
    },
    {
     "name": "stdout",
     "output_type": "stream",
     "text": [
      "Current Metrics - TSN: 8450, DSN: 273, SUR: 0.0323\n"
     ]
    },
    {
     "name": "stderr",
     "output_type": "stream",
     "text": [
      "INFO:aequitas:Current Metrics - TSN: 8450, DSN: 273, SUR: 0.0323\n"
     ]
    },
    {
     "name": "stdout",
     "output_type": "stream",
     "text": [
      "Current Metrics - TSN: 8460, DSN: 273, SUR: 0.0323\n"
     ]
    },
    {
     "name": "stderr",
     "output_type": "stream",
     "text": [
      "INFO:aequitas:Current Metrics - TSN: 8460, DSN: 273, SUR: 0.0323\n"
     ]
    },
    {
     "name": "stdout",
     "output_type": "stream",
     "text": [
      "Current Metrics - TSN: 8470, DSN: 273, SUR: 0.0322\n"
     ]
    },
    {
     "name": "stderr",
     "output_type": "stream",
     "text": [
      "INFO:aequitas:Current Metrics - TSN: 8470, DSN: 273, SUR: 0.0322\n"
     ]
    },
    {
     "name": "stdout",
     "output_type": "stream",
     "text": [
      "Current Metrics - TSN: 8480, DSN: 273, SUR: 0.0322\n"
     ]
    },
    {
     "name": "stderr",
     "output_type": "stream",
     "text": [
      "INFO:aequitas:Current Metrics - TSN: 8480, DSN: 273, SUR: 0.0322\n"
     ]
    },
    {
     "name": "stdout",
     "output_type": "stream",
     "text": [
      "Current Metrics - TSN: 8500, DSN: 273, SUR: 0.0321\n"
     ]
    },
    {
     "name": "stderr",
     "output_type": "stream",
     "text": [
      "INFO:aequitas:Current Metrics - TSN: 8500, DSN: 273, SUR: 0.0321\n"
     ]
    },
    {
     "name": "stdout",
     "output_type": "stream",
     "text": [
      "Current Metrics - TSN: 8510, DSN: 273, SUR: 0.0321\n"
     ]
    },
    {
     "name": "stderr",
     "output_type": "stream",
     "text": [
      "INFO:aequitas:Current Metrics - TSN: 8510, DSN: 273, SUR: 0.0321\n"
     ]
    },
    {
     "name": "stdout",
     "output_type": "stream",
     "text": [
      "Current Metrics - TSN: 8520, DSN: 273, SUR: 0.0320\n"
     ]
    },
    {
     "name": "stderr",
     "output_type": "stream",
     "text": [
      "INFO:aequitas:Current Metrics - TSN: 8520, DSN: 273, SUR: 0.0320\n"
     ]
    },
    {
     "name": "stdout",
     "output_type": "stream",
     "text": [
      "Current Metrics - TSN: 8530, DSN: 273, SUR: 0.0320\n"
     ]
    },
    {
     "name": "stderr",
     "output_type": "stream",
     "text": [
      "INFO:aequitas:Current Metrics - TSN: 8530, DSN: 273, SUR: 0.0320\n"
     ]
    },
    {
     "name": "stdout",
     "output_type": "stream",
     "text": [
      "Current Metrics - TSN: 8540, DSN: 273, SUR: 0.0320\n"
     ]
    },
    {
     "name": "stderr",
     "output_type": "stream",
     "text": [
      "INFO:aequitas:Current Metrics - TSN: 8540, DSN: 273, SUR: 0.0320\n"
     ]
    },
    {
     "name": "stdout",
     "output_type": "stream",
     "text": [
      "Current Metrics - TSN: 8550, DSN: 273, SUR: 0.0319\n"
     ]
    },
    {
     "name": "stderr",
     "output_type": "stream",
     "text": [
      "INFO:aequitas:Current Metrics - TSN: 8550, DSN: 273, SUR: 0.0319\n"
     ]
    },
    {
     "name": "stdout",
     "output_type": "stream",
     "text": [
      "Current Metrics - TSN: 8560, DSN: 273, SUR: 0.0319\n"
     ]
    },
    {
     "name": "stderr",
     "output_type": "stream",
     "text": [
      "INFO:aequitas:Current Metrics - TSN: 8560, DSN: 273, SUR: 0.0319\n"
     ]
    },
    {
     "name": "stdout",
     "output_type": "stream",
     "text": [
      "Current Metrics - TSN: 8570, DSN: 273, SUR: 0.0319\n"
     ]
    },
    {
     "name": "stderr",
     "output_type": "stream",
     "text": [
      "INFO:aequitas:Current Metrics - TSN: 8570, DSN: 273, SUR: 0.0319\n"
     ]
    },
    {
     "name": "stdout",
     "output_type": "stream",
     "text": [
      "Current Metrics - TSN: 8580, DSN: 273, SUR: 0.0318\n"
     ]
    },
    {
     "name": "stderr",
     "output_type": "stream",
     "text": [
      "INFO:aequitas:Current Metrics - TSN: 8580, DSN: 273, SUR: 0.0318\n"
     ]
    },
    {
     "name": "stdout",
     "output_type": "stream",
     "text": [
      "Current Metrics - TSN: 8590, DSN: 273, SUR: 0.0318\n"
     ]
    },
    {
     "name": "stderr",
     "output_type": "stream",
     "text": [
      "INFO:aequitas:Current Metrics - TSN: 8590, DSN: 273, SUR: 0.0318\n"
     ]
    },
    {
     "name": "stdout",
     "output_type": "stream",
     "text": [
      "Current Metrics - TSN: 8600, DSN: 273, SUR: 0.0317\n"
     ]
    },
    {
     "name": "stderr",
     "output_type": "stream",
     "text": [
      "INFO:aequitas:Current Metrics - TSN: 8600, DSN: 273, SUR: 0.0317\n"
     ]
    },
    {
     "name": "stdout",
     "output_type": "stream",
     "text": [
      "Current Metrics - TSN: 8610, DSN: 273, SUR: 0.0317\n"
     ]
    },
    {
     "name": "stderr",
     "output_type": "stream",
     "text": [
      "INFO:aequitas:Current Metrics - TSN: 8610, DSN: 273, SUR: 0.0317\n"
     ]
    },
    {
     "name": "stdout",
     "output_type": "stream",
     "text": [
      "Current Metrics - TSN: 8620, DSN: 273, SUR: 0.0317\n"
     ]
    },
    {
     "name": "stderr",
     "output_type": "stream",
     "text": [
      "INFO:aequitas:Current Metrics - TSN: 8620, DSN: 273, SUR: 0.0317\n"
     ]
    },
    {
     "name": "stdout",
     "output_type": "stream",
     "text": [
      "Current Metrics - TSN: 8630, DSN: 273, SUR: 0.0316\n"
     ]
    },
    {
     "name": "stderr",
     "output_type": "stream",
     "text": [
      "INFO:aequitas:Current Metrics - TSN: 8630, DSN: 273, SUR: 0.0316\n"
     ]
    },
    {
     "name": "stdout",
     "output_type": "stream",
     "text": [
      "Current Metrics - TSN: 8640, DSN: 273, SUR: 0.0316\n"
     ]
    },
    {
     "name": "stderr",
     "output_type": "stream",
     "text": [
      "INFO:aequitas:Current Metrics - TSN: 8640, DSN: 273, SUR: 0.0316\n"
     ]
    },
    {
     "name": "stdout",
     "output_type": "stream",
     "text": [
      "Current Metrics - TSN: 8650, DSN: 273, SUR: 0.0316\n"
     ]
    },
    {
     "name": "stderr",
     "output_type": "stream",
     "text": [
      "INFO:aequitas:Current Metrics - TSN: 8650, DSN: 273, SUR: 0.0316\n"
     ]
    },
    {
     "name": "stdout",
     "output_type": "stream",
     "text": [
      "Current Metrics - TSN: 8660, DSN: 273, SUR: 0.0315\n"
     ]
    },
    {
     "name": "stderr",
     "output_type": "stream",
     "text": [
      "INFO:aequitas:Current Metrics - TSN: 8660, DSN: 273, SUR: 0.0315\n"
     ]
    },
    {
     "name": "stdout",
     "output_type": "stream",
     "text": [
      "Current Metrics - TSN: 8670, DSN: 273, SUR: 0.0315\n"
     ]
    },
    {
     "name": "stderr",
     "output_type": "stream",
     "text": [
      "INFO:aequitas:Current Metrics - TSN: 8670, DSN: 273, SUR: 0.0315\n"
     ]
    },
    {
     "name": "stdout",
     "output_type": "stream",
     "text": [
      "Current Metrics - TSN: 8680, DSN: 273, SUR: 0.0315\n"
     ]
    },
    {
     "name": "stderr",
     "output_type": "stream",
     "text": [
      "INFO:aequitas:Current Metrics - TSN: 8680, DSN: 273, SUR: 0.0315\n"
     ]
    },
    {
     "name": "stdout",
     "output_type": "stream",
     "text": [
      "Current Metrics - TSN: 8690, DSN: 273, SUR: 0.0314\n"
     ]
    },
    {
     "name": "stderr",
     "output_type": "stream",
     "text": [
      "INFO:aequitas:Current Metrics - TSN: 8690, DSN: 273, SUR: 0.0314\n"
     ]
    },
    {
     "name": "stdout",
     "output_type": "stream",
     "text": [
      "Current Metrics - TSN: 8700, DSN: 273, SUR: 0.0314\n"
     ]
    },
    {
     "name": "stderr",
     "output_type": "stream",
     "text": [
      "INFO:aequitas:Current Metrics - TSN: 8700, DSN: 273, SUR: 0.0314\n"
     ]
    },
    {
     "name": "stdout",
     "output_type": "stream",
     "text": [
      "Current Metrics - TSN: 8710, DSN: 273, SUR: 0.0313\n"
     ]
    },
    {
     "name": "stderr",
     "output_type": "stream",
     "text": [
      "INFO:aequitas:Current Metrics - TSN: 8710, DSN: 273, SUR: 0.0313\n"
     ]
    },
    {
     "name": "stdout",
     "output_type": "stream",
     "text": [
      "Current Metrics - TSN: 8720, DSN: 273, SUR: 0.0313\n"
     ]
    },
    {
     "name": "stderr",
     "output_type": "stream",
     "text": [
      "INFO:aequitas:Current Metrics - TSN: 8720, DSN: 273, SUR: 0.0313\n"
     ]
    },
    {
     "name": "stdout",
     "output_type": "stream",
     "text": [
      "Current Metrics - TSN: 8730, DSN: 273, SUR: 0.0313\n"
     ]
    },
    {
     "name": "stderr",
     "output_type": "stream",
     "text": [
      "INFO:aequitas:Current Metrics - TSN: 8730, DSN: 273, SUR: 0.0313\n"
     ]
    },
    {
     "name": "stdout",
     "output_type": "stream",
     "text": [
      "Current Metrics - TSN: 8740, DSN: 273, SUR: 0.0312\n"
     ]
    },
    {
     "name": "stderr",
     "output_type": "stream",
     "text": [
      "INFO:aequitas:Current Metrics - TSN: 8740, DSN: 273, SUR: 0.0312\n"
     ]
    },
    {
     "name": "stdout",
     "output_type": "stream",
     "text": [
      "Current Metrics - TSN: 8750, DSN: 273, SUR: 0.0312\n"
     ]
    },
    {
     "name": "stderr",
     "output_type": "stream",
     "text": [
      "INFO:aequitas:Current Metrics - TSN: 8750, DSN: 273, SUR: 0.0312\n"
     ]
    },
    {
     "name": "stdout",
     "output_type": "stream",
     "text": [
      "Current Metrics - TSN: 8760, DSN: 273, SUR: 0.0312\n"
     ]
    },
    {
     "name": "stderr",
     "output_type": "stream",
     "text": [
      "INFO:aequitas:Current Metrics - TSN: 8760, DSN: 273, SUR: 0.0312\n"
     ]
    },
    {
     "name": "stdout",
     "output_type": "stream",
     "text": [
      "Current Metrics - TSN: 8770, DSN: 273, SUR: 0.0311\n"
     ]
    },
    {
     "name": "stderr",
     "output_type": "stream",
     "text": [
      "INFO:aequitas:Current Metrics - TSN: 8770, DSN: 273, SUR: 0.0311\n"
     ]
    },
    {
     "name": "stdout",
     "output_type": "stream",
     "text": [
      "Current Metrics - TSN: 8780, DSN: 273, SUR: 0.0311\n"
     ]
    },
    {
     "name": "stderr",
     "output_type": "stream",
     "text": [
      "INFO:aequitas:Current Metrics - TSN: 8780, DSN: 273, SUR: 0.0311\n"
     ]
    },
    {
     "name": "stdout",
     "output_type": "stream",
     "text": [
      "Current Metrics - TSN: 8790, DSN: 273, SUR: 0.0311\n"
     ]
    },
    {
     "name": "stderr",
     "output_type": "stream",
     "text": [
      "INFO:aequitas:Current Metrics - TSN: 8790, DSN: 273, SUR: 0.0311\n"
     ]
    },
    {
     "name": "stdout",
     "output_type": "stream",
     "text": [
      "Current Metrics - TSN: 8800, DSN: 273, SUR: 0.0310\n"
     ]
    },
    {
     "name": "stderr",
     "output_type": "stream",
     "text": [
      "INFO:aequitas:Current Metrics - TSN: 8800, DSN: 273, SUR: 0.0310\n"
     ]
    },
    {
     "name": "stdout",
     "output_type": "stream",
     "text": [
      "Current Metrics - TSN: 8810, DSN: 273, SUR: 0.0310\n"
     ]
    },
    {
     "name": "stderr",
     "output_type": "stream",
     "text": [
      "INFO:aequitas:Current Metrics - TSN: 8810, DSN: 273, SUR: 0.0310\n"
     ]
    },
    {
     "name": "stdout",
     "output_type": "stream",
     "text": [
      "Current Metrics - TSN: 8820, DSN: 273, SUR: 0.0310\n"
     ]
    },
    {
     "name": "stderr",
     "output_type": "stream",
     "text": [
      "INFO:aequitas:Current Metrics - TSN: 8820, DSN: 273, SUR: 0.0310\n"
     ]
    },
    {
     "name": "stdout",
     "output_type": "stream",
     "text": [
      "Current Metrics - TSN: 8830, DSN: 273, SUR: 0.0309\n"
     ]
    },
    {
     "name": "stderr",
     "output_type": "stream",
     "text": [
      "INFO:aequitas:Current Metrics - TSN: 8830, DSN: 273, SUR: 0.0309\n"
     ]
    },
    {
     "name": "stdout",
     "output_type": "stream",
     "text": [
      "Current Metrics - TSN: 8840, DSN: 273, SUR: 0.0309\n"
     ]
    },
    {
     "name": "stderr",
     "output_type": "stream",
     "text": [
      "INFO:aequitas:Current Metrics - TSN: 8840, DSN: 273, SUR: 0.0309\n"
     ]
    },
    {
     "name": "stdout",
     "output_type": "stream",
     "text": [
      "Current Metrics - TSN: 8850, DSN: 273, SUR: 0.0308\n"
     ]
    },
    {
     "name": "stderr",
     "output_type": "stream",
     "text": [
      "INFO:aequitas:Current Metrics - TSN: 8850, DSN: 273, SUR: 0.0308\n"
     ]
    },
    {
     "name": "stdout",
     "output_type": "stream",
     "text": [
      "Current Metrics - TSN: 8860, DSN: 273, SUR: 0.0308\n"
     ]
    },
    {
     "name": "stderr",
     "output_type": "stream",
     "text": [
      "INFO:aequitas:Current Metrics - TSN: 8860, DSN: 273, SUR: 0.0308\n"
     ]
    },
    {
     "name": "stdout",
     "output_type": "stream",
     "text": [
      "Current Metrics - TSN: 8870, DSN: 273, SUR: 0.0308\n"
     ]
    },
    {
     "name": "stderr",
     "output_type": "stream",
     "text": [
      "INFO:aequitas:Current Metrics - TSN: 8870, DSN: 273, SUR: 0.0308\n"
     ]
    },
    {
     "name": "stdout",
     "output_type": "stream",
     "text": [
      "Current Metrics - TSN: 8880, DSN: 273, SUR: 0.0307\n"
     ]
    },
    {
     "name": "stderr",
     "output_type": "stream",
     "text": [
      "INFO:aequitas:Current Metrics - TSN: 8880, DSN: 273, SUR: 0.0307\n"
     ]
    },
    {
     "name": "stdout",
     "output_type": "stream",
     "text": [
      "Current Metrics - TSN: 8890, DSN: 273, SUR: 0.0307\n"
     ]
    },
    {
     "name": "stderr",
     "output_type": "stream",
     "text": [
      "INFO:aequitas:Current Metrics - TSN: 8890, DSN: 273, SUR: 0.0307\n"
     ]
    },
    {
     "name": "stdout",
     "output_type": "stream",
     "text": [
      "Current Metrics - TSN: 8900, DSN: 273, SUR: 0.0307\n"
     ]
    },
    {
     "name": "stderr",
     "output_type": "stream",
     "text": [
      "INFO:aequitas:Current Metrics - TSN: 8900, DSN: 273, SUR: 0.0307\n"
     ]
    },
    {
     "name": "stdout",
     "output_type": "stream",
     "text": [
      "Current Metrics - TSN: 8920, DSN: 273, SUR: 0.0306\n"
     ]
    },
    {
     "name": "stderr",
     "output_type": "stream",
     "text": [
      "INFO:aequitas:Current Metrics - TSN: 8920, DSN: 273, SUR: 0.0306\n"
     ]
    },
    {
     "name": "stdout",
     "output_type": "stream",
     "text": [
      "Current Metrics - TSN: 8930, DSN: 273, SUR: 0.0306\n"
     ]
    },
    {
     "name": "stderr",
     "output_type": "stream",
     "text": [
      "INFO:aequitas:Current Metrics - TSN: 8930, DSN: 273, SUR: 0.0306\n"
     ]
    },
    {
     "name": "stdout",
     "output_type": "stream",
     "text": [
      "Current Metrics - TSN: 8940, DSN: 273, SUR: 0.0305\n"
     ]
    },
    {
     "name": "stderr",
     "output_type": "stream",
     "text": [
      "INFO:aequitas:Current Metrics - TSN: 8940, DSN: 273, SUR: 0.0305\n"
     ]
    },
    {
     "name": "stdout",
     "output_type": "stream",
     "text": [
      "Current Metrics - TSN: 8950, DSN: 273, SUR: 0.0305\n"
     ]
    },
    {
     "name": "stderr",
     "output_type": "stream",
     "text": [
      "INFO:aequitas:Current Metrics - TSN: 8950, DSN: 273, SUR: 0.0305\n"
     ]
    },
    {
     "name": "stdout",
     "output_type": "stream",
     "text": [
      "Current Metrics - TSN: 8960, DSN: 273, SUR: 0.0305\n"
     ]
    },
    {
     "name": "stderr",
     "output_type": "stream",
     "text": [
      "INFO:aequitas:Current Metrics - TSN: 8960, DSN: 273, SUR: 0.0305\n"
     ]
    },
    {
     "name": "stdout",
     "output_type": "stream",
     "text": [
      "Current Metrics - TSN: 8970, DSN: 273, SUR: 0.0304\n"
     ]
    },
    {
     "name": "stderr",
     "output_type": "stream",
     "text": [
      "INFO:aequitas:Current Metrics - TSN: 8970, DSN: 273, SUR: 0.0304\n"
     ]
    },
    {
     "name": "stdout",
     "output_type": "stream",
     "text": [
      "Current Metrics - TSN: 8980, DSN: 273, SUR: 0.0304\n"
     ]
    },
    {
     "name": "stderr",
     "output_type": "stream",
     "text": [
      "INFO:aequitas:Current Metrics - TSN: 8980, DSN: 273, SUR: 0.0304\n"
     ]
    },
    {
     "name": "stdout",
     "output_type": "stream",
     "text": [
      "Current Metrics - TSN: 8990, DSN: 273, SUR: 0.0304\n"
     ]
    },
    {
     "name": "stderr",
     "output_type": "stream",
     "text": [
      "INFO:aequitas:Current Metrics - TSN: 8990, DSN: 273, SUR: 0.0304\n"
     ]
    },
    {
     "name": "stdout",
     "output_type": "stream",
     "text": [
      "Current Metrics - TSN: 9000, DSN: 273, SUR: 0.0303\n"
     ]
    },
    {
     "name": "stderr",
     "output_type": "stream",
     "text": [
      "INFO:aequitas:Current Metrics - TSN: 9000, DSN: 273, SUR: 0.0303\n"
     ]
    },
    {
     "name": "stdout",
     "output_type": "stream",
     "text": [
      "Current Metrics - TSN: 9010, DSN: 273, SUR: 0.0303\n"
     ]
    },
    {
     "name": "stderr",
     "output_type": "stream",
     "text": [
      "INFO:aequitas:Current Metrics - TSN: 9010, DSN: 273, SUR: 0.0303\n"
     ]
    },
    {
     "name": "stdout",
     "output_type": "stream",
     "text": [
      "Current Metrics - TSN: 9020, DSN: 273, SUR: 0.0303\n"
     ]
    },
    {
     "name": "stderr",
     "output_type": "stream",
     "text": [
      "INFO:aequitas:Current Metrics - TSN: 9020, DSN: 273, SUR: 0.0303\n"
     ]
    },
    {
     "name": "stdout",
     "output_type": "stream",
     "text": [
      "Current Metrics - TSN: 9030, DSN: 273, SUR: 0.0302\n"
     ]
    },
    {
     "name": "stderr",
     "output_type": "stream",
     "text": [
      "INFO:aequitas:Current Metrics - TSN: 9030, DSN: 273, SUR: 0.0302\n"
     ]
    },
    {
     "name": "stdout",
     "output_type": "stream",
     "text": [
      "Current Metrics - TSN: 9040, DSN: 273, SUR: 0.0302\n"
     ]
    },
    {
     "name": "stderr",
     "output_type": "stream",
     "text": [
      "INFO:aequitas:Current Metrics - TSN: 9040, DSN: 273, SUR: 0.0302\n"
     ]
    },
    {
     "name": "stdout",
     "output_type": "stream",
     "text": [
      "Current Metrics - TSN: 9050, DSN: 273, SUR: 0.0302\n"
     ]
    },
    {
     "name": "stderr",
     "output_type": "stream",
     "text": [
      "INFO:aequitas:Current Metrics - TSN: 9050, DSN: 273, SUR: 0.0302\n"
     ]
    },
    {
     "name": "stdout",
     "output_type": "stream",
     "text": [
      "Current Metrics - TSN: 9060, DSN: 273, SUR: 0.0301\n"
     ]
    },
    {
     "name": "stderr",
     "output_type": "stream",
     "text": [
      "INFO:aequitas:Current Metrics - TSN: 9060, DSN: 273, SUR: 0.0301\n"
     ]
    },
    {
     "name": "stdout",
     "output_type": "stream",
     "text": [
      "Current Metrics - TSN: 9070, DSN: 273, SUR: 0.0301\n"
     ]
    },
    {
     "name": "stderr",
     "output_type": "stream",
     "text": [
      "INFO:aequitas:Current Metrics - TSN: 9070, DSN: 273, SUR: 0.0301\n"
     ]
    },
    {
     "name": "stdout",
     "output_type": "stream",
     "text": [
      "Current Metrics - TSN: 9080, DSN: 273, SUR: 0.0301\n"
     ]
    },
    {
     "name": "stderr",
     "output_type": "stream",
     "text": [
      "INFO:aequitas:Current Metrics - TSN: 9080, DSN: 273, SUR: 0.0301\n"
     ]
    },
    {
     "name": "stdout",
     "output_type": "stream",
     "text": [
      "Current Metrics - TSN: 9090, DSN: 273, SUR: 0.0300\n"
     ]
    },
    {
     "name": "stderr",
     "output_type": "stream",
     "text": [
      "INFO:aequitas:Current Metrics - TSN: 9090, DSN: 273, SUR: 0.0300\n"
     ]
    },
    {
     "name": "stdout",
     "output_type": "stream",
     "text": [
      "Current Metrics - TSN: 9100, DSN: 273, SUR: 0.0300\n"
     ]
    },
    {
     "name": "stderr",
     "output_type": "stream",
     "text": [
      "INFO:aequitas:Current Metrics - TSN: 9100, DSN: 273, SUR: 0.0300\n"
     ]
    },
    {
     "name": "stdout",
     "output_type": "stream",
     "text": [
      "Current Metrics - TSN: 9110, DSN: 273, SUR: 0.0300\n"
     ]
    },
    {
     "name": "stderr",
     "output_type": "stream",
     "text": [
      "INFO:aequitas:Current Metrics - TSN: 9110, DSN: 273, SUR: 0.0300\n"
     ]
    },
    {
     "name": "stdout",
     "output_type": "stream",
     "text": [
      "Current Metrics - TSN: 9120, DSN: 273, SUR: 0.0299\n"
     ]
    },
    {
     "name": "stderr",
     "output_type": "stream",
     "text": [
      "INFO:aequitas:Current Metrics - TSN: 9120, DSN: 273, SUR: 0.0299\n"
     ]
    },
    {
     "name": "stdout",
     "output_type": "stream",
     "text": [
      "Current Metrics - TSN: 9130, DSN: 273, SUR: 0.0299\n"
     ]
    },
    {
     "name": "stderr",
     "output_type": "stream",
     "text": [
      "INFO:aequitas:Current Metrics - TSN: 9130, DSN: 273, SUR: 0.0299\n"
     ]
    },
    {
     "name": "stdout",
     "output_type": "stream",
     "text": [
      "Current Metrics - TSN: 9140, DSN: 273, SUR: 0.0299\n"
     ]
    },
    {
     "name": "stderr",
     "output_type": "stream",
     "text": [
      "INFO:aequitas:Current Metrics - TSN: 9140, DSN: 273, SUR: 0.0299\n"
     ]
    },
    {
     "name": "stdout",
     "output_type": "stream",
     "text": [
      "Current Metrics - TSN: 9150, DSN: 273, SUR: 0.0298\n"
     ]
    },
    {
     "name": "stderr",
     "output_type": "stream",
     "text": [
      "INFO:aequitas:Current Metrics - TSN: 9150, DSN: 273, SUR: 0.0298\n"
     ]
    },
    {
     "name": "stdout",
     "output_type": "stream",
     "text": [
      "Current Metrics - TSN: 9160, DSN: 273, SUR: 0.0298\n"
     ]
    },
    {
     "name": "stderr",
     "output_type": "stream",
     "text": [
      "INFO:aequitas:Current Metrics - TSN: 9160, DSN: 273, SUR: 0.0298\n"
     ]
    },
    {
     "name": "stdout",
     "output_type": "stream",
     "text": [
      "Current Metrics - TSN: 9170, DSN: 273, SUR: 0.0298\n"
     ]
    },
    {
     "name": "stderr",
     "output_type": "stream",
     "text": [
      "INFO:aequitas:Current Metrics - TSN: 9170, DSN: 273, SUR: 0.0298\n"
     ]
    },
    {
     "name": "stdout",
     "output_type": "stream",
     "text": [
      "Current Metrics - TSN: 9180, DSN: 273, SUR: 0.0297\n"
     ]
    },
    {
     "name": "stderr",
     "output_type": "stream",
     "text": [
      "INFO:aequitas:Current Metrics - TSN: 9180, DSN: 273, SUR: 0.0297\n"
     ]
    },
    {
     "name": "stdout",
     "output_type": "stream",
     "text": [
      "Current Metrics - TSN: 9190, DSN: 273, SUR: 0.0297\n"
     ]
    },
    {
     "name": "stderr",
     "output_type": "stream",
     "text": [
      "INFO:aequitas:Current Metrics - TSN: 9190, DSN: 273, SUR: 0.0297\n"
     ]
    },
    {
     "name": "stdout",
     "output_type": "stream",
     "text": [
      "Current Metrics - TSN: 9200, DSN: 273, SUR: 0.0297\n"
     ]
    },
    {
     "name": "stderr",
     "output_type": "stream",
     "text": [
      "INFO:aequitas:Current Metrics - TSN: 9200, DSN: 273, SUR: 0.0297\n"
     ]
    },
    {
     "name": "stdout",
     "output_type": "stream",
     "text": [
      "Current Metrics - TSN: 9210, DSN: 273, SUR: 0.0296\n"
     ]
    },
    {
     "name": "stderr",
     "output_type": "stream",
     "text": [
      "INFO:aequitas:Current Metrics - TSN: 9210, DSN: 273, SUR: 0.0296\n"
     ]
    },
    {
     "name": "stdout",
     "output_type": "stream",
     "text": [
      "Current Metrics - TSN: 9220, DSN: 273, SUR: 0.0296\n"
     ]
    },
    {
     "name": "stderr",
     "output_type": "stream",
     "text": [
      "INFO:aequitas:Current Metrics - TSN: 9220, DSN: 273, SUR: 0.0296\n"
     ]
    },
    {
     "name": "stdout",
     "output_type": "stream",
     "text": [
      "Current Metrics - TSN: 9230, DSN: 273, SUR: 0.0296\n"
     ]
    },
    {
     "name": "stderr",
     "output_type": "stream",
     "text": [
      "INFO:aequitas:Current Metrics - TSN: 9230, DSN: 273, SUR: 0.0296\n"
     ]
    },
    {
     "name": "stdout",
     "output_type": "stream",
     "text": [
      "Current Metrics - TSN: 9240, DSN: 273, SUR: 0.0295\n"
     ]
    },
    {
     "name": "stderr",
     "output_type": "stream",
     "text": [
      "INFO:aequitas:Current Metrics - TSN: 9240, DSN: 273, SUR: 0.0295\n"
     ]
    },
    {
     "name": "stdout",
     "output_type": "stream",
     "text": [
      "Current Metrics - TSN: 9250, DSN: 273, SUR: 0.0295\n"
     ]
    },
    {
     "name": "stderr",
     "output_type": "stream",
     "text": [
      "INFO:aequitas:Current Metrics - TSN: 9250, DSN: 273, SUR: 0.0295\n"
     ]
    },
    {
     "name": "stdout",
     "output_type": "stream",
     "text": [
      "Current Metrics - TSN: 9260, DSN: 273, SUR: 0.0295\n"
     ]
    },
    {
     "name": "stderr",
     "output_type": "stream",
     "text": [
      "INFO:aequitas:Current Metrics - TSN: 9260, DSN: 273, SUR: 0.0295\n"
     ]
    },
    {
     "name": "stdout",
     "output_type": "stream",
     "text": [
      "Current Metrics - TSN: 9270, DSN: 273, SUR: 0.0294\n"
     ]
    },
    {
     "name": "stderr",
     "output_type": "stream",
     "text": [
      "INFO:aequitas:Current Metrics - TSN: 9270, DSN: 273, SUR: 0.0294\n"
     ]
    },
    {
     "name": "stdout",
     "output_type": "stream",
     "text": [
      "Current Metrics - TSN: 9280, DSN: 273, SUR: 0.0294\n"
     ]
    },
    {
     "name": "stderr",
     "output_type": "stream",
     "text": [
      "INFO:aequitas:Current Metrics - TSN: 9280, DSN: 273, SUR: 0.0294\n"
     ]
    },
    {
     "name": "stdout",
     "output_type": "stream",
     "text": [
      "Current Metrics - TSN: 9290, DSN: 273, SUR: 0.0294\n"
     ]
    },
    {
     "name": "stderr",
     "output_type": "stream",
     "text": [
      "INFO:aequitas:Current Metrics - TSN: 9290, DSN: 273, SUR: 0.0294\n"
     ]
    },
    {
     "name": "stdout",
     "output_type": "stream",
     "text": [
      "Current Metrics - TSN: 9300, DSN: 273, SUR: 0.0294\n"
     ]
    },
    {
     "name": "stderr",
     "output_type": "stream",
     "text": [
      "INFO:aequitas:Current Metrics - TSN: 9300, DSN: 273, SUR: 0.0294\n"
     ]
    },
    {
     "name": "stdout",
     "output_type": "stream",
     "text": [
      "Current Metrics - TSN: 9310, DSN: 273, SUR: 0.0293\n"
     ]
    },
    {
     "name": "stderr",
     "output_type": "stream",
     "text": [
      "INFO:aequitas:Current Metrics - TSN: 9310, DSN: 273, SUR: 0.0293\n"
     ]
    },
    {
     "name": "stdout",
     "output_type": "stream",
     "text": [
      "Current Metrics - TSN: 9320, DSN: 273, SUR: 0.0293\n"
     ]
    },
    {
     "name": "stderr",
     "output_type": "stream",
     "text": [
      "INFO:aequitas:Current Metrics - TSN: 9320, DSN: 273, SUR: 0.0293\n"
     ]
    },
    {
     "name": "stdout",
     "output_type": "stream",
     "text": [
      "Current Metrics - TSN: 9330, DSN: 273, SUR: 0.0293\n"
     ]
    },
    {
     "name": "stderr",
     "output_type": "stream",
     "text": [
      "INFO:aequitas:Current Metrics - TSN: 9330, DSN: 273, SUR: 0.0293\n"
     ]
    },
    {
     "name": "stdout",
     "output_type": "stream",
     "text": [
      "Current Metrics - TSN: 9340, DSN: 273, SUR: 0.0292\n"
     ]
    },
    {
     "name": "stderr",
     "output_type": "stream",
     "text": [
      "INFO:aequitas:Current Metrics - TSN: 9340, DSN: 273, SUR: 0.0292\n"
     ]
    },
    {
     "name": "stdout",
     "output_type": "stream",
     "text": [
      "Current Metrics - TSN: 9350, DSN: 273, SUR: 0.0292\n"
     ]
    },
    {
     "name": "stderr",
     "output_type": "stream",
     "text": [
      "INFO:aequitas:Current Metrics - TSN: 9350, DSN: 273, SUR: 0.0292\n"
     ]
    },
    {
     "name": "stdout",
     "output_type": "stream",
     "text": [
      "Current Metrics - TSN: 9360, DSN: 273, SUR: 0.0292\n"
     ]
    },
    {
     "name": "stderr",
     "output_type": "stream",
     "text": [
      "INFO:aequitas:Current Metrics - TSN: 9360, DSN: 273, SUR: 0.0292\n"
     ]
    },
    {
     "name": "stdout",
     "output_type": "stream",
     "text": [
      "Current Metrics - TSN: 9370, DSN: 273, SUR: 0.0291\n"
     ]
    },
    {
     "name": "stderr",
     "output_type": "stream",
     "text": [
      "INFO:aequitas:Current Metrics - TSN: 9370, DSN: 273, SUR: 0.0291\n"
     ]
    },
    {
     "name": "stdout",
     "output_type": "stream",
     "text": [
      "Current Metrics - TSN: 9380, DSN: 273, SUR: 0.0291\n"
     ]
    },
    {
     "name": "stderr",
     "output_type": "stream",
     "text": [
      "INFO:aequitas:Current Metrics - TSN: 9380, DSN: 273, SUR: 0.0291\n"
     ]
    },
    {
     "name": "stdout",
     "output_type": "stream",
     "text": [
      "Current Metrics - TSN: 9390, DSN: 273, SUR: 0.0291\n"
     ]
    },
    {
     "name": "stderr",
     "output_type": "stream",
     "text": [
      "INFO:aequitas:Current Metrics - TSN: 9390, DSN: 273, SUR: 0.0291\n"
     ]
    },
    {
     "name": "stdout",
     "output_type": "stream",
     "text": [
      "Current Metrics - TSN: 9400, DSN: 273, SUR: 0.0290\n"
     ]
    },
    {
     "name": "stderr",
     "output_type": "stream",
     "text": [
      "INFO:aequitas:Current Metrics - TSN: 9400, DSN: 273, SUR: 0.0290\n"
     ]
    },
    {
     "name": "stdout",
     "output_type": "stream",
     "text": [
      "Current Metrics - TSN: 9410, DSN: 273, SUR: 0.0290\n"
     ]
    },
    {
     "name": "stderr",
     "output_type": "stream",
     "text": [
      "INFO:aequitas:Current Metrics - TSN: 9410, DSN: 273, SUR: 0.0290\n"
     ]
    },
    {
     "name": "stdout",
     "output_type": "stream",
     "text": [
      "Current Metrics - TSN: 9420, DSN: 273, SUR: 0.0290\n"
     ]
    },
    {
     "name": "stderr",
     "output_type": "stream",
     "text": [
      "INFO:aequitas:Current Metrics - TSN: 9420, DSN: 273, SUR: 0.0290\n"
     ]
    },
    {
     "name": "stdout",
     "output_type": "stream",
     "text": [
      "Current Metrics - TSN: 9430, DSN: 273, SUR: 0.0290\n"
     ]
    },
    {
     "name": "stderr",
     "output_type": "stream",
     "text": [
      "INFO:aequitas:Current Metrics - TSN: 9430, DSN: 273, SUR: 0.0290\n"
     ]
    },
    {
     "name": "stdout",
     "output_type": "stream",
     "text": [
      "Current Metrics - TSN: 9440, DSN: 273, SUR: 0.0289\n"
     ]
    },
    {
     "name": "stderr",
     "output_type": "stream",
     "text": [
      "INFO:aequitas:Current Metrics - TSN: 9440, DSN: 273, SUR: 0.0289\n"
     ]
    },
    {
     "name": "stdout",
     "output_type": "stream",
     "text": [
      "Current Metrics - TSN: 9450, DSN: 273, SUR: 0.0289\n"
     ]
    },
    {
     "name": "stderr",
     "output_type": "stream",
     "text": [
      "INFO:aequitas:Current Metrics - TSN: 9450, DSN: 273, SUR: 0.0289\n"
     ]
    },
    {
     "name": "stdout",
     "output_type": "stream",
     "text": [
      "Current Metrics - TSN: 9460, DSN: 273, SUR: 0.0289\n"
     ]
    },
    {
     "name": "stderr",
     "output_type": "stream",
     "text": [
      "INFO:aequitas:Current Metrics - TSN: 9460, DSN: 273, SUR: 0.0289\n"
     ]
    },
    {
     "name": "stdout",
     "output_type": "stream",
     "text": [
      "Current Metrics - TSN: 9470, DSN: 273, SUR: 0.0288\n"
     ]
    },
    {
     "name": "stderr",
     "output_type": "stream",
     "text": [
      "INFO:aequitas:Current Metrics - TSN: 9470, DSN: 273, SUR: 0.0288\n"
     ]
    },
    {
     "name": "stdout",
     "output_type": "stream",
     "text": [
      "Current Metrics - TSN: 9480, DSN: 273, SUR: 0.0288\n"
     ]
    },
    {
     "name": "stderr",
     "output_type": "stream",
     "text": [
      "INFO:aequitas:Current Metrics - TSN: 9480, DSN: 273, SUR: 0.0288\n"
     ]
    },
    {
     "name": "stdout",
     "output_type": "stream",
     "text": [
      "Current Metrics - TSN: 9490, DSN: 273, SUR: 0.0288\n"
     ]
    },
    {
     "name": "stderr",
     "output_type": "stream",
     "text": [
      "INFO:aequitas:Current Metrics - TSN: 9490, DSN: 273, SUR: 0.0288\n"
     ]
    },
    {
     "name": "stdout",
     "output_type": "stream",
     "text": [
      "Current Metrics - TSN: 9500, DSN: 273, SUR: 0.0287\n"
     ]
    },
    {
     "name": "stderr",
     "output_type": "stream",
     "text": [
      "INFO:aequitas:Current Metrics - TSN: 9500, DSN: 273, SUR: 0.0287\n"
     ]
    },
    {
     "name": "stdout",
     "output_type": "stream",
     "text": [
      "Current Metrics - TSN: 9510, DSN: 273, SUR: 0.0287\n"
     ]
    },
    {
     "name": "stderr",
     "output_type": "stream",
     "text": [
      "INFO:aequitas:Current Metrics - TSN: 9510, DSN: 273, SUR: 0.0287\n"
     ]
    },
    {
     "name": "stdout",
     "output_type": "stream",
     "text": [
      "Current Metrics - TSN: 9520, DSN: 273, SUR: 0.0287\n"
     ]
    },
    {
     "name": "stderr",
     "output_type": "stream",
     "text": [
      "INFO:aequitas:Current Metrics - TSN: 9520, DSN: 273, SUR: 0.0287\n"
     ]
    },
    {
     "name": "stdout",
     "output_type": "stream",
     "text": [
      "Current Metrics - TSN: 9530, DSN: 273, SUR: 0.0286\n"
     ]
    },
    {
     "name": "stderr",
     "output_type": "stream",
     "text": [
      "INFO:aequitas:Current Metrics - TSN: 9530, DSN: 273, SUR: 0.0286\n"
     ]
    },
    {
     "name": "stdout",
     "output_type": "stream",
     "text": [
      "Current Metrics - TSN: 9540, DSN: 273, SUR: 0.0286\n"
     ]
    },
    {
     "name": "stderr",
     "output_type": "stream",
     "text": [
      "INFO:aequitas:Current Metrics - TSN: 9540, DSN: 273, SUR: 0.0286\n"
     ]
    },
    {
     "name": "stdout",
     "output_type": "stream",
     "text": [
      "Current Metrics - TSN: 9550, DSN: 273, SUR: 0.0286\n"
     ]
    },
    {
     "name": "stderr",
     "output_type": "stream",
     "text": [
      "INFO:aequitas:Current Metrics - TSN: 9550, DSN: 273, SUR: 0.0286\n"
     ]
    },
    {
     "name": "stdout",
     "output_type": "stream",
     "text": [
      "Current Metrics - TSN: 9560, DSN: 273, SUR: 0.0286\n"
     ]
    },
    {
     "name": "stderr",
     "output_type": "stream",
     "text": [
      "INFO:aequitas:Current Metrics - TSN: 9560, DSN: 273, SUR: 0.0286\n"
     ]
    },
    {
     "name": "stdout",
     "output_type": "stream",
     "text": [
      "Current Metrics - TSN: 9570, DSN: 273, SUR: 0.0285\n"
     ]
    },
    {
     "name": "stderr",
     "output_type": "stream",
     "text": [
      "INFO:aequitas:Current Metrics - TSN: 9570, DSN: 273, SUR: 0.0285\n"
     ]
    },
    {
     "name": "stdout",
     "output_type": "stream",
     "text": [
      "Current Metrics - TSN: 9580, DSN: 273, SUR: 0.0285\n"
     ]
    },
    {
     "name": "stderr",
     "output_type": "stream",
     "text": [
      "INFO:aequitas:Current Metrics - TSN: 9580, DSN: 273, SUR: 0.0285\n"
     ]
    },
    {
     "name": "stdout",
     "output_type": "stream",
     "text": [
      "Current Metrics - TSN: 9590, DSN: 273, SUR: 0.0285\n"
     ]
    },
    {
     "name": "stderr",
     "output_type": "stream",
     "text": [
      "INFO:aequitas:Current Metrics - TSN: 9590, DSN: 273, SUR: 0.0285\n"
     ]
    },
    {
     "name": "stdout",
     "output_type": "stream",
     "text": [
      "Current Metrics - TSN: 9600, DSN: 273, SUR: 0.0284\n"
     ]
    },
    {
     "name": "stderr",
     "output_type": "stream",
     "text": [
      "INFO:aequitas:Current Metrics - TSN: 9600, DSN: 273, SUR: 0.0284\n"
     ]
    },
    {
     "name": "stdout",
     "output_type": "stream",
     "text": [
      "Current Metrics - TSN: 9610, DSN: 273, SUR: 0.0284\n"
     ]
    },
    {
     "name": "stderr",
     "output_type": "stream",
     "text": [
      "INFO:aequitas:Current Metrics - TSN: 9610, DSN: 273, SUR: 0.0284\n"
     ]
    },
    {
     "name": "stdout",
     "output_type": "stream",
     "text": [
      "Current Metrics - TSN: 9620, DSN: 273, SUR: 0.0284\n"
     ]
    },
    {
     "name": "stderr",
     "output_type": "stream",
     "text": [
      "INFO:aequitas:Current Metrics - TSN: 9620, DSN: 273, SUR: 0.0284\n"
     ]
    },
    {
     "name": "stdout",
     "output_type": "stream",
     "text": [
      "Current Metrics - TSN: 9630, DSN: 273, SUR: 0.0283\n"
     ]
    },
    {
     "name": "stderr",
     "output_type": "stream",
     "text": [
      "INFO:aequitas:Current Metrics - TSN: 9630, DSN: 273, SUR: 0.0283\n"
     ]
    },
    {
     "name": "stdout",
     "output_type": "stream",
     "text": [
      "Current Metrics - TSN: 9640, DSN: 273, SUR: 0.0283\n"
     ]
    },
    {
     "name": "stderr",
     "output_type": "stream",
     "text": [
      "INFO:aequitas:Current Metrics - TSN: 9640, DSN: 273, SUR: 0.0283\n"
     ]
    },
    {
     "name": "stdout",
     "output_type": "stream",
     "text": [
      "Current Metrics - TSN: 9650, DSN: 273, SUR: 0.0283\n"
     ]
    },
    {
     "name": "stderr",
     "output_type": "stream",
     "text": [
      "INFO:aequitas:Current Metrics - TSN: 9650, DSN: 273, SUR: 0.0283\n"
     ]
    },
    {
     "name": "stdout",
     "output_type": "stream",
     "text": [
      "Current Metrics - TSN: 9660, DSN: 273, SUR: 0.0283\n"
     ]
    },
    {
     "name": "stderr",
     "output_type": "stream",
     "text": [
      "INFO:aequitas:Current Metrics - TSN: 9660, DSN: 273, SUR: 0.0283\n"
     ]
    },
    {
     "name": "stdout",
     "output_type": "stream",
     "text": [
      "Current Metrics - TSN: 9670, DSN: 273, SUR: 0.0282\n"
     ]
    },
    {
     "name": "stderr",
     "output_type": "stream",
     "text": [
      "INFO:aequitas:Current Metrics - TSN: 9670, DSN: 273, SUR: 0.0282\n"
     ]
    },
    {
     "name": "stdout",
     "output_type": "stream",
     "text": [
      "Current Metrics - TSN: 9680, DSN: 273, SUR: 0.0282\n"
     ]
    },
    {
     "name": "stderr",
     "output_type": "stream",
     "text": [
      "INFO:aequitas:Current Metrics - TSN: 9680, DSN: 273, SUR: 0.0282\n"
     ]
    },
    {
     "name": "stdout",
     "output_type": "stream",
     "text": [
      "Current Metrics - TSN: 9690, DSN: 273, SUR: 0.0282\n"
     ]
    },
    {
     "name": "stderr",
     "output_type": "stream",
     "text": [
      "INFO:aequitas:Current Metrics - TSN: 9690, DSN: 273, SUR: 0.0282\n"
     ]
    },
    {
     "name": "stdout",
     "output_type": "stream",
     "text": [
      "Current Metrics - TSN: 9700, DSN: 273, SUR: 0.0281\n"
     ]
    },
    {
     "name": "stderr",
     "output_type": "stream",
     "text": [
      "INFO:aequitas:Current Metrics - TSN: 9700, DSN: 273, SUR: 0.0281\n"
     ]
    },
    {
     "name": "stdout",
     "output_type": "stream",
     "text": [
      "Current Metrics - TSN: 9710, DSN: 273, SUR: 0.0281\n"
     ]
    },
    {
     "name": "stderr",
     "output_type": "stream",
     "text": [
      "INFO:aequitas:Current Metrics - TSN: 9710, DSN: 273, SUR: 0.0281\n"
     ]
    },
    {
     "name": "stdout",
     "output_type": "stream",
     "text": [
      "Current Metrics - TSN: 9720, DSN: 273, SUR: 0.0281\n"
     ]
    },
    {
     "name": "stderr",
     "output_type": "stream",
     "text": [
      "INFO:aequitas:Current Metrics - TSN: 9720, DSN: 273, SUR: 0.0281\n"
     ]
    },
    {
     "name": "stdout",
     "output_type": "stream",
     "text": [
      "Current Metrics - TSN: 9730, DSN: 278, SUR: 0.0286\n"
     ]
    },
    {
     "name": "stderr",
     "output_type": "stream",
     "text": [
      "INFO:aequitas:Current Metrics - TSN: 9730, DSN: 278, SUR: 0.0286\n"
     ]
    },
    {
     "name": "stdout",
     "output_type": "stream",
     "text": [
      "Current Metrics - TSN: 9740, DSN: 283, SUR: 0.0291\n"
     ]
    },
    {
     "name": "stderr",
     "output_type": "stream",
     "text": [
      "INFO:aequitas:Current Metrics - TSN: 9740, DSN: 283, SUR: 0.0291\n"
     ]
    },
    {
     "name": "stdout",
     "output_type": "stream",
     "text": [
      "Current Metrics - TSN: 9750, DSN: 288, SUR: 0.0295\n"
     ]
    },
    {
     "name": "stderr",
     "output_type": "stream",
     "text": [
      "INFO:aequitas:Current Metrics - TSN: 9750, DSN: 288, SUR: 0.0295\n"
     ]
    },
    {
     "name": "stdout",
     "output_type": "stream",
     "text": [
      "Current Metrics - TSN: 9760, DSN: 293, SUR: 0.0300\n"
     ]
    },
    {
     "name": "stderr",
     "output_type": "stream",
     "text": [
      "INFO:aequitas:Current Metrics - TSN: 9760, DSN: 293, SUR: 0.0300\n"
     ]
    },
    {
     "name": "stdout",
     "output_type": "stream",
     "text": [
      "Current Metrics - TSN: 9770, DSN: 293, SUR: 0.0300\n"
     ]
    },
    {
     "name": "stderr",
     "output_type": "stream",
     "text": [
      "INFO:aequitas:Current Metrics - TSN: 9770, DSN: 293, SUR: 0.0300\n"
     ]
    },
    {
     "name": "stdout",
     "output_type": "stream",
     "text": [
      "Current Metrics - TSN: 9780, DSN: 293, SUR: 0.0300\n"
     ]
    },
    {
     "name": "stderr",
     "output_type": "stream",
     "text": [
      "INFO:aequitas:Current Metrics - TSN: 9780, DSN: 293, SUR: 0.0300\n"
     ]
    },
    {
     "name": "stdout",
     "output_type": "stream",
     "text": [
      "Current Metrics - TSN: 9790, DSN: 293, SUR: 0.0299\n"
     ]
    },
    {
     "name": "stderr",
     "output_type": "stream",
     "text": [
      "INFO:aequitas:Current Metrics - TSN: 9790, DSN: 293, SUR: 0.0299\n"
     ]
    },
    {
     "name": "stdout",
     "output_type": "stream",
     "text": [
      "Current Metrics - TSN: 9800, DSN: 293, SUR: 0.0299\n"
     ]
    },
    {
     "name": "stderr",
     "output_type": "stream",
     "text": [
      "INFO:aequitas:Current Metrics - TSN: 9800, DSN: 293, SUR: 0.0299\n"
     ]
    },
    {
     "name": "stdout",
     "output_type": "stream",
     "text": [
      "Current Metrics - TSN: 9820, DSN: 293, SUR: 0.0298\n"
     ]
    },
    {
     "name": "stderr",
     "output_type": "stream",
     "text": [
      "INFO:aequitas:Current Metrics - TSN: 9820, DSN: 293, SUR: 0.0298\n"
     ]
    },
    {
     "name": "stdout",
     "output_type": "stream",
     "text": [
      "Current Metrics - TSN: 9830, DSN: 293, SUR: 0.0298\n"
     ]
    },
    {
     "name": "stderr",
     "output_type": "stream",
     "text": [
      "INFO:aequitas:Current Metrics - TSN: 9830, DSN: 293, SUR: 0.0298\n"
     ]
    },
    {
     "name": "stdout",
     "output_type": "stream",
     "text": [
      "Current Metrics - TSN: 9840, DSN: 293, SUR: 0.0298\n"
     ]
    },
    {
     "name": "stderr",
     "output_type": "stream",
     "text": [
      "INFO:aequitas:Current Metrics - TSN: 9840, DSN: 293, SUR: 0.0298\n"
     ]
    },
    {
     "name": "stdout",
     "output_type": "stream",
     "text": [
      "Current Metrics - TSN: 9850, DSN: 293, SUR: 0.0297\n"
     ]
    },
    {
     "name": "stderr",
     "output_type": "stream",
     "text": [
      "INFO:aequitas:Current Metrics - TSN: 9850, DSN: 293, SUR: 0.0297\n"
     ]
    },
    {
     "name": "stdout",
     "output_type": "stream",
     "text": [
      "Current Metrics - TSN: 9860, DSN: 293, SUR: 0.0297\n"
     ]
    },
    {
     "name": "stderr",
     "output_type": "stream",
     "text": [
      "INFO:aequitas:Current Metrics - TSN: 9860, DSN: 293, SUR: 0.0297\n"
     ]
    },
    {
     "name": "stdout",
     "output_type": "stream",
     "text": [
      "Current Metrics - TSN: 9870, DSN: 293, SUR: 0.0297\n"
     ]
    },
    {
     "name": "stderr",
     "output_type": "stream",
     "text": [
      "INFO:aequitas:Current Metrics - TSN: 9870, DSN: 293, SUR: 0.0297\n"
     ]
    },
    {
     "name": "stdout",
     "output_type": "stream",
     "text": [
      "Current Metrics - TSN: 9880, DSN: 293, SUR: 0.0297\n"
     ]
    },
    {
     "name": "stderr",
     "output_type": "stream",
     "text": [
      "INFO:aequitas:Current Metrics - TSN: 9880, DSN: 293, SUR: 0.0297\n"
     ]
    },
    {
     "name": "stdout",
     "output_type": "stream",
     "text": [
      "Current Metrics - TSN: 9890, DSN: 296, SUR: 0.0299\n"
     ]
    },
    {
     "name": "stderr",
     "output_type": "stream",
     "text": [
      "INFO:aequitas:Current Metrics - TSN: 9890, DSN: 296, SUR: 0.0299\n"
     ]
    },
    {
     "name": "stdout",
     "output_type": "stream",
     "text": [
      "Current Metrics - TSN: 9900, DSN: 299, SUR: 0.0302\n"
     ]
    },
    {
     "name": "stderr",
     "output_type": "stream",
     "text": [
      "INFO:aequitas:Current Metrics - TSN: 9900, DSN: 299, SUR: 0.0302\n"
     ]
    },
    {
     "name": "stdout",
     "output_type": "stream",
     "text": [
      "Current Metrics - TSN: 9910, DSN: 302, SUR: 0.0305\n"
     ]
    },
    {
     "name": "stderr",
     "output_type": "stream",
     "text": [
      "INFO:aequitas:Current Metrics - TSN: 9910, DSN: 302, SUR: 0.0305\n"
     ]
    },
    {
     "name": "stdout",
     "output_type": "stream",
     "text": [
      "Current Metrics - TSN: 9920, DSN: 302, SUR: 0.0304\n"
     ]
    },
    {
     "name": "stderr",
     "output_type": "stream",
     "text": [
      "INFO:aequitas:Current Metrics - TSN: 9920, DSN: 302, SUR: 0.0304\n"
     ]
    },
    {
     "name": "stdout",
     "output_type": "stream",
     "text": [
      "Current Metrics - TSN: 9930, DSN: 302, SUR: 0.0304\n"
     ]
    },
    {
     "name": "stderr",
     "output_type": "stream",
     "text": [
      "INFO:aequitas:Current Metrics - TSN: 9930, DSN: 302, SUR: 0.0304\n"
     ]
    },
    {
     "name": "stdout",
     "output_type": "stream",
     "text": [
      "Current Metrics - TSN: 9940, DSN: 307, SUR: 0.0309\n"
     ]
    },
    {
     "name": "stderr",
     "output_type": "stream",
     "text": [
      "INFO:aequitas:Current Metrics - TSN: 9940, DSN: 307, SUR: 0.0309\n"
     ]
    },
    {
     "name": "stdout",
     "output_type": "stream",
     "text": [
      "Current Metrics - TSN: 9960, DSN: 311, SUR: 0.0312\n"
     ]
    },
    {
     "name": "stderr",
     "output_type": "stream",
     "text": [
      "INFO:aequitas:Current Metrics - TSN: 9960, DSN: 311, SUR: 0.0312\n"
     ]
    },
    {
     "name": "stdout",
     "output_type": "stream",
     "text": [
      "Current Metrics - TSN: 9970, DSN: 314, SUR: 0.0315\n"
     ]
    },
    {
     "name": "stderr",
     "output_type": "stream",
     "text": [
      "INFO:aequitas:Current Metrics - TSN: 9970, DSN: 314, SUR: 0.0315\n"
     ]
    },
    {
     "name": "stdout",
     "output_type": "stream",
     "text": [
      "Current Metrics - TSN: 9980, DSN: 319, SUR: 0.0320\n"
     ]
    },
    {
     "name": "stderr",
     "output_type": "stream",
     "text": [
      "INFO:aequitas:Current Metrics - TSN: 9980, DSN: 319, SUR: 0.0320\n"
     ]
    },
    {
     "name": "stdout",
     "output_type": "stream",
     "text": [
      "Current Metrics - TSN: 9990, DSN: 324, SUR: 0.0324\n"
     ]
    },
    {
     "name": "stderr",
     "output_type": "stream",
     "text": [
      "INFO:aequitas:Current Metrics - TSN: 9990, DSN: 324, SUR: 0.0324\n"
     ]
    },
    {
     "name": "stdout",
     "output_type": "stream",
     "text": [
      "Current Metrics - TSN: 10000, DSN: 329, SUR: 0.0329\n"
     ]
    },
    {
     "name": "stderr",
     "output_type": "stream",
     "text": [
      "INFO:aequitas:Current Metrics - TSN: 10000, DSN: 329, SUR: 0.0329\n"
     ]
    },
    {
     "name": "stdout",
     "output_type": "stream",
     "text": [
      "Current Metrics - TSN: 10010, DSN: 334, SUR: 0.0334\n"
     ]
    },
    {
     "name": "stderr",
     "output_type": "stream",
     "text": [
      "INFO:aequitas:Current Metrics - TSN: 10010, DSN: 334, SUR: 0.0334\n"
     ]
    },
    {
     "name": "stdout",
     "output_type": "stream",
     "text": [
      "Current Metrics - TSN: 10020, DSN: 339, SUR: 0.0338\n"
     ]
    },
    {
     "name": "stderr",
     "output_type": "stream",
     "text": [
      "INFO:aequitas:Current Metrics - TSN: 10020, DSN: 339, SUR: 0.0338\n"
     ]
    },
    {
     "name": "stdout",
     "output_type": "stream",
     "text": [
      "Current Metrics - TSN: 10030, DSN: 340, SUR: 0.0339\n"
     ]
    },
    {
     "name": "stderr",
     "output_type": "stream",
     "text": [
      "INFO:aequitas:Current Metrics - TSN: 10030, DSN: 340, SUR: 0.0339\n"
     ]
    },
    {
     "name": "stdout",
     "output_type": "stream",
     "text": [
      "Current Metrics - TSN: 10040, DSN: 340, SUR: 0.0339\n"
     ]
    },
    {
     "name": "stderr",
     "output_type": "stream",
     "text": [
      "INFO:aequitas:Current Metrics - TSN: 10040, DSN: 340, SUR: 0.0339\n"
     ]
    },
    {
     "name": "stdout",
     "output_type": "stream",
     "text": [
      "Current Metrics - TSN: 10050, DSN: 341, SUR: 0.0339\n"
     ]
    },
    {
     "name": "stderr",
     "output_type": "stream",
     "text": [
      "INFO:aequitas:Current Metrics - TSN: 10050, DSN: 341, SUR: 0.0339\n"
     ]
    },
    {
     "name": "stdout",
     "output_type": "stream",
     "text": [
      "Current Metrics - TSN: 10060, DSN: 346, SUR: 0.0344\n"
     ]
    },
    {
     "name": "stderr",
     "output_type": "stream",
     "text": [
      "INFO:aequitas:Current Metrics - TSN: 10060, DSN: 346, SUR: 0.0344\n"
     ]
    },
    {
     "name": "stdout",
     "output_type": "stream",
     "text": [
      "Current Metrics - TSN: 10070, DSN: 351, SUR: 0.0349\n"
     ]
    },
    {
     "name": "stderr",
     "output_type": "stream",
     "text": [
      "INFO:aequitas:Current Metrics - TSN: 10070, DSN: 351, SUR: 0.0349\n"
     ]
    },
    {
     "name": "stdout",
     "output_type": "stream",
     "text": [
      "Current Metrics - TSN: 10080, DSN: 356, SUR: 0.0353\n"
     ]
    },
    {
     "name": "stderr",
     "output_type": "stream",
     "text": [
      "INFO:aequitas:Current Metrics - TSN: 10080, DSN: 356, SUR: 0.0353\n"
     ]
    },
    {
     "name": "stdout",
     "output_type": "stream",
     "text": [
      "Current Metrics - TSN: 10090, DSN: 356, SUR: 0.0353\n"
     ]
    },
    {
     "name": "stderr",
     "output_type": "stream",
     "text": [
      "INFO:aequitas:Current Metrics - TSN: 10090, DSN: 356, SUR: 0.0353\n"
     ]
    },
    {
     "name": "stdout",
     "output_type": "stream",
     "text": [
      "Current Metrics - TSN: 10100, DSN: 356, SUR: 0.0352\n"
     ]
    },
    {
     "name": "stderr",
     "output_type": "stream",
     "text": [
      "INFO:aequitas:Current Metrics - TSN: 10100, DSN: 356, SUR: 0.0352\n"
     ]
    },
    {
     "name": "stdout",
     "output_type": "stream",
     "text": [
      "Current Metrics - TSN: 10110, DSN: 361, SUR: 0.0357\n"
     ]
    },
    {
     "name": "stderr",
     "output_type": "stream",
     "text": [
      "INFO:aequitas:Current Metrics - TSN: 10110, DSN: 361, SUR: 0.0357\n"
     ]
    },
    {
     "name": "stdout",
     "output_type": "stream",
     "text": [
      "Current Metrics - TSN: 10120, DSN: 366, SUR: 0.0362\n"
     ]
    },
    {
     "name": "stderr",
     "output_type": "stream",
     "text": [
      "INFO:aequitas:Current Metrics - TSN: 10120, DSN: 366, SUR: 0.0362\n"
     ]
    },
    {
     "name": "stdout",
     "output_type": "stream",
     "text": [
      "Current Metrics - TSN: 10130, DSN: 367, SUR: 0.0362\n"
     ]
    },
    {
     "name": "stderr",
     "output_type": "stream",
     "text": [
      "INFO:aequitas:Current Metrics - TSN: 10130, DSN: 367, SUR: 0.0362\n"
     ]
    },
    {
     "name": "stdout",
     "output_type": "stream",
     "text": [
      "Current Metrics - TSN: 10140, DSN: 368, SUR: 0.0363\n"
     ]
    },
    {
     "name": "stderr",
     "output_type": "stream",
     "text": [
      "INFO:aequitas:Current Metrics - TSN: 10140, DSN: 368, SUR: 0.0363\n"
     ]
    },
    {
     "name": "stdout",
     "output_type": "stream",
     "text": [
      "Current Metrics - TSN: 10150, DSN: 369, SUR: 0.0364\n"
     ]
    },
    {
     "name": "stderr",
     "output_type": "stream",
     "text": [
      "INFO:aequitas:Current Metrics - TSN: 10150, DSN: 369, SUR: 0.0364\n"
     ]
    },
    {
     "name": "stdout",
     "output_type": "stream",
     "text": [
      "Current Metrics - TSN: 10160, DSN: 369, SUR: 0.0363\n"
     ]
    },
    {
     "name": "stderr",
     "output_type": "stream",
     "text": [
      "INFO:aequitas:Current Metrics - TSN: 10160, DSN: 369, SUR: 0.0363\n"
     ]
    },
    {
     "name": "stdout",
     "output_type": "stream",
     "text": [
      "Current Metrics - TSN: 10170, DSN: 369, SUR: 0.0363\n"
     ]
    },
    {
     "name": "stderr",
     "output_type": "stream",
     "text": [
      "INFO:aequitas:Current Metrics - TSN: 10170, DSN: 369, SUR: 0.0363\n"
     ]
    },
    {
     "name": "stdout",
     "output_type": "stream",
     "text": [
      "Current Metrics - TSN: 10180, DSN: 369, SUR: 0.0362\n"
     ]
    },
    {
     "name": "stderr",
     "output_type": "stream",
     "text": [
      "INFO:aequitas:Current Metrics - TSN: 10180, DSN: 369, SUR: 0.0362\n"
     ]
    },
    {
     "name": "stdout",
     "output_type": "stream",
     "text": [
      "Current Metrics - TSN: 10190, DSN: 369, SUR: 0.0362\n"
     ]
    },
    {
     "name": "stderr",
     "output_type": "stream",
     "text": [
      "INFO:aequitas:Current Metrics - TSN: 10190, DSN: 369, SUR: 0.0362\n"
     ]
    },
    {
     "name": "stdout",
     "output_type": "stream",
     "text": [
      "Current Metrics - TSN: 10200, DSN: 369, SUR: 0.0362\n"
     ]
    },
    {
     "name": "stderr",
     "output_type": "stream",
     "text": [
      "INFO:aequitas:Current Metrics - TSN: 10200, DSN: 369, SUR: 0.0362\n"
     ]
    },
    {
     "name": "stdout",
     "output_type": "stream",
     "text": [
      "Current Metrics - TSN: 10210, DSN: 369, SUR: 0.0361\n"
     ]
    },
    {
     "name": "stderr",
     "output_type": "stream",
     "text": [
      "INFO:aequitas:Current Metrics - TSN: 10210, DSN: 369, SUR: 0.0361\n"
     ]
    },
    {
     "name": "stdout",
     "output_type": "stream",
     "text": [
      "Current Metrics - TSN: 10220, DSN: 369, SUR: 0.0361\n"
     ]
    },
    {
     "name": "stderr",
     "output_type": "stream",
     "text": [
      "INFO:aequitas:Current Metrics - TSN: 10220, DSN: 369, SUR: 0.0361\n"
     ]
    },
    {
     "name": "stdout",
     "output_type": "stream",
     "text": [
      "Current Metrics - TSN: 10230, DSN: 372, SUR: 0.0364\n"
     ]
    },
    {
     "name": "stderr",
     "output_type": "stream",
     "text": [
      "INFO:aequitas:Current Metrics - TSN: 10230, DSN: 372, SUR: 0.0364\n"
     ]
    },
    {
     "name": "stdout",
     "output_type": "stream",
     "text": [
      "Current Metrics - TSN: 10240, DSN: 372, SUR: 0.0363\n"
     ]
    },
    {
     "name": "stderr",
     "output_type": "stream",
     "text": [
      "INFO:aequitas:Current Metrics - TSN: 10240, DSN: 372, SUR: 0.0363\n"
     ]
    },
    {
     "name": "stdout",
     "output_type": "stream",
     "text": [
      "Current Metrics - TSN: 10250, DSN: 375, SUR: 0.0366\n"
     ]
    },
    {
     "name": "stderr",
     "output_type": "stream",
     "text": [
      "INFO:aequitas:Current Metrics - TSN: 10250, DSN: 375, SUR: 0.0366\n"
     ]
    },
    {
     "name": "stdout",
     "output_type": "stream",
     "text": [
      "Current Metrics - TSN: 10260, DSN: 378, SUR: 0.0368\n"
     ]
    },
    {
     "name": "stderr",
     "output_type": "stream",
     "text": [
      "INFO:aequitas:Current Metrics - TSN: 10260, DSN: 378, SUR: 0.0368\n"
     ]
    },
    {
     "name": "stdout",
     "output_type": "stream",
     "text": [
      "Current Metrics - TSN: 10270, DSN: 378, SUR: 0.0368\n"
     ]
    },
    {
     "name": "stderr",
     "output_type": "stream",
     "text": [
      "INFO:aequitas:Current Metrics - TSN: 10270, DSN: 378, SUR: 0.0368\n"
     ]
    },
    {
     "name": "stdout",
     "output_type": "stream",
     "text": [
      "Current Metrics - TSN: 10280, DSN: 381, SUR: 0.0371\n"
     ]
    },
    {
     "name": "stderr",
     "output_type": "stream",
     "text": [
      "INFO:aequitas:Current Metrics - TSN: 10280, DSN: 381, SUR: 0.0371\n"
     ]
    },
    {
     "name": "stdout",
     "output_type": "stream",
     "text": [
      "Current Metrics - TSN: 10290, DSN: 381, SUR: 0.0370\n"
     ]
    },
    {
     "name": "stderr",
     "output_type": "stream",
     "text": [
      "INFO:aequitas:Current Metrics - TSN: 10290, DSN: 381, SUR: 0.0370\n"
     ]
    },
    {
     "name": "stdout",
     "output_type": "stream",
     "text": [
      "Current Metrics - TSN: 10300, DSN: 381, SUR: 0.0370\n"
     ]
    },
    {
     "name": "stderr",
     "output_type": "stream",
     "text": [
      "INFO:aequitas:Current Metrics - TSN: 10300, DSN: 381, SUR: 0.0370\n"
     ]
    },
    {
     "name": "stdout",
     "output_type": "stream",
     "text": [
      "Current Metrics - TSN: 10310, DSN: 381, SUR: 0.0370\n"
     ]
    },
    {
     "name": "stderr",
     "output_type": "stream",
     "text": [
      "INFO:aequitas:Current Metrics - TSN: 10310, DSN: 381, SUR: 0.0370\n"
     ]
    },
    {
     "name": "stdout",
     "output_type": "stream",
     "text": [
      "Current Metrics - TSN: 10320, DSN: 381, SUR: 0.0369\n"
     ]
    },
    {
     "name": "stderr",
     "output_type": "stream",
     "text": [
      "INFO:aequitas:Current Metrics - TSN: 10320, DSN: 381, SUR: 0.0369\n"
     ]
    },
    {
     "name": "stdout",
     "output_type": "stream",
     "text": [
      "Current Metrics - TSN: 10330, DSN: 381, SUR: 0.0369\n"
     ]
    },
    {
     "name": "stderr",
     "output_type": "stream",
     "text": [
      "INFO:aequitas:Current Metrics - TSN: 10330, DSN: 381, SUR: 0.0369\n"
     ]
    },
    {
     "name": "stdout",
     "output_type": "stream",
     "text": [
      "Current Metrics - TSN: 10340, DSN: 381, SUR: 0.0368\n"
     ]
    },
    {
     "name": "stderr",
     "output_type": "stream",
     "text": [
      "INFO:aequitas:Current Metrics - TSN: 10340, DSN: 381, SUR: 0.0368\n"
     ]
    },
    {
     "name": "stdout",
     "output_type": "stream",
     "text": [
      "Current Metrics - TSN: 10350, DSN: 381, SUR: 0.0368\n"
     ]
    },
    {
     "name": "stderr",
     "output_type": "stream",
     "text": [
      "INFO:aequitas:Current Metrics - TSN: 10350, DSN: 381, SUR: 0.0368\n"
     ]
    },
    {
     "name": "stdout",
     "output_type": "stream",
     "text": [
      "Current Metrics - TSN: 10360, DSN: 386, SUR: 0.0373\n"
     ]
    },
    {
     "name": "stderr",
     "output_type": "stream",
     "text": [
      "INFO:aequitas:Current Metrics - TSN: 10360, DSN: 386, SUR: 0.0373\n"
     ]
    },
    {
     "name": "stdout",
     "output_type": "stream",
     "text": [
      "Current Metrics - TSN: 10370, DSN: 386, SUR: 0.0372\n"
     ]
    },
    {
     "name": "stderr",
     "output_type": "stream",
     "text": [
      "INFO:aequitas:Current Metrics - TSN: 10370, DSN: 386, SUR: 0.0372\n"
     ]
    },
    {
     "name": "stdout",
     "output_type": "stream",
     "text": [
      "Current Metrics - TSN: 10380, DSN: 386, SUR: 0.0372\n"
     ]
    },
    {
     "name": "stderr",
     "output_type": "stream",
     "text": [
      "INFO:aequitas:Current Metrics - TSN: 10380, DSN: 386, SUR: 0.0372\n"
     ]
    },
    {
     "name": "stdout",
     "output_type": "stream",
     "text": [
      "Current Metrics - TSN: 10400, DSN: 386, SUR: 0.0371\n"
     ]
    },
    {
     "name": "stderr",
     "output_type": "stream",
     "text": [
      "INFO:aequitas:Current Metrics - TSN: 10400, DSN: 386, SUR: 0.0371\n"
     ]
    },
    {
     "name": "stdout",
     "output_type": "stream",
     "text": [
      "Current Metrics - TSN: 10410, DSN: 386, SUR: 0.0371\n"
     ]
    },
    {
     "name": "stderr",
     "output_type": "stream",
     "text": [
      "INFO:aequitas:Current Metrics - TSN: 10410, DSN: 386, SUR: 0.0371\n"
     ]
    },
    {
     "name": "stdout",
     "output_type": "stream",
     "text": [
      "Current Metrics - TSN: 10420, DSN: 386, SUR: 0.0370\n"
     ]
    },
    {
     "name": "stderr",
     "output_type": "stream",
     "text": [
      "INFO:aequitas:Current Metrics - TSN: 10420, DSN: 386, SUR: 0.0370\n"
     ]
    },
    {
     "name": "stdout",
     "output_type": "stream",
     "text": [
      "Current Metrics - TSN: 10430, DSN: 386, SUR: 0.0370\n"
     ]
    },
    {
     "name": "stderr",
     "output_type": "stream",
     "text": [
      "INFO:aequitas:Current Metrics - TSN: 10430, DSN: 386, SUR: 0.0370\n"
     ]
    },
    {
     "name": "stdout",
     "output_type": "stream",
     "text": [
      "Current Metrics - TSN: 10440, DSN: 386, SUR: 0.0370\n"
     ]
    },
    {
     "name": "stderr",
     "output_type": "stream",
     "text": [
      "INFO:aequitas:Current Metrics - TSN: 10440, DSN: 386, SUR: 0.0370\n"
     ]
    },
    {
     "name": "stdout",
     "output_type": "stream",
     "text": [
      "Current Metrics - TSN: 10450, DSN: 386, SUR: 0.0369\n"
     ]
    },
    {
     "name": "stderr",
     "output_type": "stream",
     "text": [
      "INFO:aequitas:Current Metrics - TSN: 10450, DSN: 386, SUR: 0.0369\n"
     ]
    },
    {
     "name": "stdout",
     "output_type": "stream",
     "text": [
      "Current Metrics - TSN: 10460, DSN: 386, SUR: 0.0369\n"
     ]
    },
    {
     "name": "stderr",
     "output_type": "stream",
     "text": [
      "INFO:aequitas:Current Metrics - TSN: 10460, DSN: 386, SUR: 0.0369\n"
     ]
    },
    {
     "name": "stdout",
     "output_type": "stream",
     "text": [
      "Current Metrics - TSN: 10470, DSN: 386, SUR: 0.0369\n"
     ]
    },
    {
     "name": "stderr",
     "output_type": "stream",
     "text": [
      "INFO:aequitas:Current Metrics - TSN: 10470, DSN: 386, SUR: 0.0369\n"
     ]
    },
    {
     "name": "stdout",
     "output_type": "stream",
     "text": [
      "Current Metrics - TSN: 10480, DSN: 386, SUR: 0.0368\n"
     ]
    },
    {
     "name": "stderr",
     "output_type": "stream",
     "text": [
      "INFO:aequitas:Current Metrics - TSN: 10480, DSN: 386, SUR: 0.0368\n"
     ]
    },
    {
     "name": "stdout",
     "output_type": "stream",
     "text": [
      "Current Metrics - TSN: 10490, DSN: 386, SUR: 0.0368\n"
     ]
    },
    {
     "name": "stderr",
     "output_type": "stream",
     "text": [
      "INFO:aequitas:Current Metrics - TSN: 10490, DSN: 386, SUR: 0.0368\n"
     ]
    },
    {
     "name": "stdout",
     "output_type": "stream",
     "text": [
      "Current Metrics - TSN: 10500, DSN: 386, SUR: 0.0368\n"
     ]
    },
    {
     "name": "stderr",
     "output_type": "stream",
     "text": [
      "INFO:aequitas:Current Metrics - TSN: 10500, DSN: 386, SUR: 0.0368\n"
     ]
    },
    {
     "name": "stdout",
     "output_type": "stream",
     "text": [
      "Current Metrics - TSN: 10510, DSN: 386, SUR: 0.0367\n"
     ]
    },
    {
     "name": "stderr",
     "output_type": "stream",
     "text": [
      "INFO:aequitas:Current Metrics - TSN: 10510, DSN: 386, SUR: 0.0367\n"
     ]
    },
    {
     "name": "stdout",
     "output_type": "stream",
     "text": [
      "Current Metrics - TSN: 10520, DSN: 386, SUR: 0.0367\n"
     ]
    },
    {
     "name": "stderr",
     "output_type": "stream",
     "text": [
      "INFO:aequitas:Current Metrics - TSN: 10520, DSN: 386, SUR: 0.0367\n"
     ]
    },
    {
     "name": "stdout",
     "output_type": "stream",
     "text": [
      "Current Metrics - TSN: 10530, DSN: 386, SUR: 0.0367\n"
     ]
    },
    {
     "name": "stderr",
     "output_type": "stream",
     "text": [
      "INFO:aequitas:Current Metrics - TSN: 10530, DSN: 386, SUR: 0.0367\n"
     ]
    },
    {
     "name": "stdout",
     "output_type": "stream",
     "text": [
      "Current Metrics - TSN: 10540, DSN: 387, SUR: 0.0367\n"
     ]
    },
    {
     "name": "stderr",
     "output_type": "stream",
     "text": [
      "INFO:aequitas:Current Metrics - TSN: 10540, DSN: 387, SUR: 0.0367\n"
     ]
    },
    {
     "name": "stdout",
     "output_type": "stream",
     "text": [
      "Current Metrics - TSN: 10560, DSN: 388, SUR: 0.0367\n"
     ]
    },
    {
     "name": "stderr",
     "output_type": "stream",
     "text": [
      "INFO:aequitas:Current Metrics - TSN: 10560, DSN: 388, SUR: 0.0367\n"
     ]
    },
    {
     "name": "stdout",
     "output_type": "stream",
     "text": [
      "Current Metrics - TSN: 10570, DSN: 389, SUR: 0.0368\n"
     ]
    },
    {
     "name": "stderr",
     "output_type": "stream",
     "text": [
      "INFO:aequitas:Current Metrics - TSN: 10570, DSN: 389, SUR: 0.0368\n"
     ]
    },
    {
     "name": "stdout",
     "output_type": "stream",
     "text": [
      "Current Metrics - TSN: 10580, DSN: 389, SUR: 0.0368\n"
     ]
    },
    {
     "name": "stderr",
     "output_type": "stream",
     "text": [
      "INFO:aequitas:Current Metrics - TSN: 10580, DSN: 389, SUR: 0.0368\n"
     ]
    },
    {
     "name": "stdout",
     "output_type": "stream",
     "text": [
      "Current Metrics - TSN: 10590, DSN: 390, SUR: 0.0368\n"
     ]
    },
    {
     "name": "stderr",
     "output_type": "stream",
     "text": [
      "INFO:aequitas:Current Metrics - TSN: 10590, DSN: 390, SUR: 0.0368\n"
     ]
    },
    {
     "name": "stdout",
     "output_type": "stream",
     "text": [
      "Current Metrics - TSN: 10600, DSN: 395, SUR: 0.0373\n"
     ]
    },
    {
     "name": "stderr",
     "output_type": "stream",
     "text": [
      "INFO:aequitas:Current Metrics - TSN: 10600, DSN: 395, SUR: 0.0373\n"
     ]
    },
    {
     "name": "stdout",
     "output_type": "stream",
     "text": [
      "Current Metrics - TSN: 10610, DSN: 400, SUR: 0.0377\n"
     ]
    },
    {
     "name": "stderr",
     "output_type": "stream",
     "text": [
      "INFO:aequitas:Current Metrics - TSN: 10610, DSN: 400, SUR: 0.0377\n"
     ]
    },
    {
     "name": "stdout",
     "output_type": "stream",
     "text": [
      "Current Metrics - TSN: 10620, DSN: 406, SUR: 0.0382\n"
     ]
    },
    {
     "name": "stderr",
     "output_type": "stream",
     "text": [
      "INFO:aequitas:Current Metrics - TSN: 10620, DSN: 406, SUR: 0.0382\n"
     ]
    },
    {
     "name": "stdout",
     "output_type": "stream",
     "text": [
      "Current Metrics - TSN: 10630, DSN: 410, SUR: 0.0386\n"
     ]
    },
    {
     "name": "stderr",
     "output_type": "stream",
     "text": [
      "INFO:aequitas:Current Metrics - TSN: 10630, DSN: 410, SUR: 0.0386\n"
     ]
    },
    {
     "name": "stdout",
     "output_type": "stream",
     "text": [
      "Current Metrics - TSN: 10640, DSN: 410, SUR: 0.0385\n"
     ]
    },
    {
     "name": "stderr",
     "output_type": "stream",
     "text": [
      "INFO:aequitas:Current Metrics - TSN: 10640, DSN: 410, SUR: 0.0385\n"
     ]
    },
    {
     "name": "stdout",
     "output_type": "stream",
     "text": [
      "Current Metrics - TSN: 10650, DSN: 411, SUR: 0.0386\n"
     ]
    },
    {
     "name": "stderr",
     "output_type": "stream",
     "text": [
      "INFO:aequitas:Current Metrics - TSN: 10650, DSN: 411, SUR: 0.0386\n"
     ]
    },
    {
     "name": "stdout",
     "output_type": "stream",
     "text": [
      "Current Metrics - TSN: 10660, DSN: 416, SUR: 0.0390\n"
     ]
    },
    {
     "name": "stderr",
     "output_type": "stream",
     "text": [
      "INFO:aequitas:Current Metrics - TSN: 10660, DSN: 416, SUR: 0.0390\n"
     ]
    },
    {
     "name": "stdout",
     "output_type": "stream",
     "text": [
      "Current Metrics - TSN: 10670, DSN: 421, SUR: 0.0395\n"
     ]
    },
    {
     "name": "stderr",
     "output_type": "stream",
     "text": [
      "INFO:aequitas:Current Metrics - TSN: 10670, DSN: 421, SUR: 0.0395\n"
     ]
    },
    {
     "name": "stdout",
     "output_type": "stream",
     "text": [
      "Current Metrics - TSN: 10680, DSN: 426, SUR: 0.0399\n"
     ]
    },
    {
     "name": "stderr",
     "output_type": "stream",
     "text": [
      "INFO:aequitas:Current Metrics - TSN: 10680, DSN: 426, SUR: 0.0399\n"
     ]
    },
    {
     "name": "stdout",
     "output_type": "stream",
     "text": [
      "Current Metrics - TSN: 10690, DSN: 431, SUR: 0.0403\n"
     ]
    },
    {
     "name": "stderr",
     "output_type": "stream",
     "text": [
      "INFO:aequitas:Current Metrics - TSN: 10690, DSN: 431, SUR: 0.0403\n"
     ]
    },
    {
     "name": "stdout",
     "output_type": "stream",
     "text": [
      "Current Metrics - TSN: 10700, DSN: 436, SUR: 0.0407\n"
     ]
    },
    {
     "name": "stderr",
     "output_type": "stream",
     "text": [
      "INFO:aequitas:Current Metrics - TSN: 10700, DSN: 436, SUR: 0.0407\n"
     ]
    },
    {
     "name": "stdout",
     "output_type": "stream",
     "text": [
      "Current Metrics - TSN: 10710, DSN: 440, SUR: 0.0411\n"
     ]
    },
    {
     "name": "stderr",
     "output_type": "stream",
     "text": [
      "INFO:aequitas:Current Metrics - TSN: 10710, DSN: 440, SUR: 0.0411\n"
     ]
    },
    {
     "name": "stdout",
     "output_type": "stream",
     "text": [
      "Current Metrics - TSN: 10720, DSN: 444, SUR: 0.0414\n"
     ]
    },
    {
     "name": "stderr",
     "output_type": "stream",
     "text": [
      "INFO:aequitas:Current Metrics - TSN: 10720, DSN: 444, SUR: 0.0414\n"
     ]
    },
    {
     "name": "stdout",
     "output_type": "stream",
     "text": [
      "Current Metrics - TSN: 10730, DSN: 448, SUR: 0.0418\n"
     ]
    },
    {
     "name": "stderr",
     "output_type": "stream",
     "text": [
      "INFO:aequitas:Current Metrics - TSN: 10730, DSN: 448, SUR: 0.0418\n"
     ]
    },
    {
     "name": "stdout",
     "output_type": "stream",
     "text": [
      "Current Metrics - TSN: 10740, DSN: 448, SUR: 0.0417\n"
     ]
    },
    {
     "name": "stderr",
     "output_type": "stream",
     "text": [
      "INFO:aequitas:Current Metrics - TSN: 10740, DSN: 448, SUR: 0.0417\n"
     ]
    },
    {
     "name": "stdout",
     "output_type": "stream",
     "text": [
      "Current Metrics - TSN: 10750, DSN: 448, SUR: 0.0417\n"
     ]
    },
    {
     "name": "stderr",
     "output_type": "stream",
     "text": [
      "INFO:aequitas:Current Metrics - TSN: 10750, DSN: 448, SUR: 0.0417\n"
     ]
    },
    {
     "name": "stdout",
     "output_type": "stream",
     "text": [
      "Current Metrics - TSN: 10760, DSN: 448, SUR: 0.0416\n"
     ]
    },
    {
     "name": "stderr",
     "output_type": "stream",
     "text": [
      "INFO:aequitas:Current Metrics - TSN: 10760, DSN: 448, SUR: 0.0416\n"
     ]
    },
    {
     "name": "stdout",
     "output_type": "stream",
     "text": [
      "Current Metrics - TSN: 10770, DSN: 448, SUR: 0.0416\n"
     ]
    },
    {
     "name": "stderr",
     "output_type": "stream",
     "text": [
      "INFO:aequitas:Current Metrics - TSN: 10770, DSN: 448, SUR: 0.0416\n"
     ]
    },
    {
     "name": "stdout",
     "output_type": "stream",
     "text": [
      "Current Metrics - TSN: 10780, DSN: 448, SUR: 0.0416\n"
     ]
    },
    {
     "name": "stderr",
     "output_type": "stream",
     "text": [
      "INFO:aequitas:Current Metrics - TSN: 10780, DSN: 448, SUR: 0.0416\n"
     ]
    },
    {
     "name": "stdout",
     "output_type": "stream",
     "text": [
      "Current Metrics - TSN: 10790, DSN: 448, SUR: 0.0415\n"
     ]
    },
    {
     "name": "stderr",
     "output_type": "stream",
     "text": [
      "INFO:aequitas:Current Metrics - TSN: 10790, DSN: 448, SUR: 0.0415\n"
     ]
    },
    {
     "name": "stdout",
     "output_type": "stream",
     "text": [
      "Current Metrics - TSN: 10800, DSN: 448, SUR: 0.0415\n"
     ]
    },
    {
     "name": "stderr",
     "output_type": "stream",
     "text": [
      "INFO:aequitas:Current Metrics - TSN: 10800, DSN: 448, SUR: 0.0415\n"
     ]
    },
    {
     "name": "stdout",
     "output_type": "stream",
     "text": [
      "Current Metrics - TSN: 10810, DSN: 448, SUR: 0.0414\n"
     ]
    },
    {
     "name": "stderr",
     "output_type": "stream",
     "text": [
      "INFO:aequitas:Current Metrics - TSN: 10810, DSN: 448, SUR: 0.0414\n"
     ]
    },
    {
     "name": "stdout",
     "output_type": "stream",
     "text": [
      "Current Metrics - TSN: 10820, DSN: 448, SUR: 0.0414\n"
     ]
    },
    {
     "name": "stderr",
     "output_type": "stream",
     "text": [
      "INFO:aequitas:Current Metrics - TSN: 10820, DSN: 448, SUR: 0.0414\n"
     ]
    },
    {
     "name": "stdout",
     "output_type": "stream",
     "text": [
      "Current Metrics - TSN: 10830, DSN: 448, SUR: 0.0414\n"
     ]
    },
    {
     "name": "stderr",
     "output_type": "stream",
     "text": [
      "INFO:aequitas:Current Metrics - TSN: 10830, DSN: 448, SUR: 0.0414\n"
     ]
    },
    {
     "name": "stdout",
     "output_type": "stream",
     "text": [
      "Current Metrics - TSN: 10840, DSN: 448, SUR: 0.0413\n"
     ]
    },
    {
     "name": "stderr",
     "output_type": "stream",
     "text": [
      "INFO:aequitas:Current Metrics - TSN: 10840, DSN: 448, SUR: 0.0413\n"
     ]
    },
    {
     "name": "stdout",
     "output_type": "stream",
     "text": [
      "Current Metrics - TSN: 10850, DSN: 448, SUR: 0.0413\n"
     ]
    },
    {
     "name": "stderr",
     "output_type": "stream",
     "text": [
      "INFO:aequitas:Current Metrics - TSN: 10850, DSN: 448, SUR: 0.0413\n"
     ]
    },
    {
     "name": "stdout",
     "output_type": "stream",
     "text": [
      "Current Metrics - TSN: 10860, DSN: 448, SUR: 0.0413\n"
     ]
    },
    {
     "name": "stderr",
     "output_type": "stream",
     "text": [
      "INFO:aequitas:Current Metrics - TSN: 10860, DSN: 448, SUR: 0.0413\n"
     ]
    },
    {
     "name": "stdout",
     "output_type": "stream",
     "text": [
      "Current Metrics - TSN: 10870, DSN: 448, SUR: 0.0412\n"
     ]
    },
    {
     "name": "stderr",
     "output_type": "stream",
     "text": [
      "INFO:aequitas:Current Metrics - TSN: 10870, DSN: 448, SUR: 0.0412\n"
     ]
    },
    {
     "name": "stdout",
     "output_type": "stream",
     "text": [
      "Current Metrics - TSN: 10880, DSN: 448, SUR: 0.0412\n"
     ]
    },
    {
     "name": "stderr",
     "output_type": "stream",
     "text": [
      "INFO:aequitas:Current Metrics - TSN: 10880, DSN: 448, SUR: 0.0412\n"
     ]
    },
    {
     "name": "stdout",
     "output_type": "stream",
     "text": [
      "Current Metrics - TSN: 10890, DSN: 448, SUR: 0.0411\n"
     ]
    },
    {
     "name": "stderr",
     "output_type": "stream",
     "text": [
      "INFO:aequitas:Current Metrics - TSN: 10890, DSN: 448, SUR: 0.0411\n"
     ]
    },
    {
     "name": "stdout",
     "output_type": "stream",
     "text": [
      "Current Metrics - TSN: 10900, DSN: 448, SUR: 0.0411\n"
     ]
    },
    {
     "name": "stderr",
     "output_type": "stream",
     "text": [
      "INFO:aequitas:Current Metrics - TSN: 10900, DSN: 448, SUR: 0.0411\n"
     ]
    },
    {
     "name": "stdout",
     "output_type": "stream",
     "text": [
      "Current Metrics - TSN: 10910, DSN: 448, SUR: 0.0411\n"
     ]
    },
    {
     "name": "stderr",
     "output_type": "stream",
     "text": [
      "INFO:aequitas:Current Metrics - TSN: 10910, DSN: 448, SUR: 0.0411\n"
     ]
    },
    {
     "name": "stdout",
     "output_type": "stream",
     "text": [
      "Current Metrics - TSN: 10920, DSN: 448, SUR: 0.0410\n"
     ]
    },
    {
     "name": "stderr",
     "output_type": "stream",
     "text": [
      "INFO:aequitas:Current Metrics - TSN: 10920, DSN: 448, SUR: 0.0410\n"
     ]
    },
    {
     "name": "stdout",
     "output_type": "stream",
     "text": [
      "Current Metrics - TSN: 10930, DSN: 448, SUR: 0.0410\n"
     ]
    },
    {
     "name": "stderr",
     "output_type": "stream",
     "text": [
      "INFO:aequitas:Current Metrics - TSN: 10930, DSN: 448, SUR: 0.0410\n"
     ]
    },
    {
     "name": "stdout",
     "output_type": "stream",
     "text": [
      "Current Metrics - TSN: 10940, DSN: 448, SUR: 0.0410\n"
     ]
    },
    {
     "name": "stderr",
     "output_type": "stream",
     "text": [
      "INFO:aequitas:Current Metrics - TSN: 10940, DSN: 448, SUR: 0.0410\n"
     ]
    },
    {
     "name": "stdout",
     "output_type": "stream",
     "text": [
      "Current Metrics - TSN: 10950, DSN: 448, SUR: 0.0409\n"
     ]
    },
    {
     "name": "stderr",
     "output_type": "stream",
     "text": [
      "INFO:aequitas:Current Metrics - TSN: 10950, DSN: 448, SUR: 0.0409\n"
     ]
    },
    {
     "name": "stdout",
     "output_type": "stream",
     "text": [
      "Current Metrics - TSN: 10960, DSN: 448, SUR: 0.0409\n"
     ]
    },
    {
     "name": "stderr",
     "output_type": "stream",
     "text": [
      "INFO:aequitas:Current Metrics - TSN: 10960, DSN: 448, SUR: 0.0409\n"
     ]
    },
    {
     "name": "stdout",
     "output_type": "stream",
     "text": [
      "Current Metrics - TSN: 10970, DSN: 448, SUR: 0.0408\n"
     ]
    },
    {
     "name": "stderr",
     "output_type": "stream",
     "text": [
      "INFO:aequitas:Current Metrics - TSN: 10970, DSN: 448, SUR: 0.0408\n"
     ]
    },
    {
     "name": "stdout",
     "output_type": "stream",
     "text": [
      "Current Metrics - TSN: 10980, DSN: 448, SUR: 0.0408\n"
     ]
    },
    {
     "name": "stderr",
     "output_type": "stream",
     "text": [
      "INFO:aequitas:Current Metrics - TSN: 10980, DSN: 448, SUR: 0.0408\n"
     ]
    },
    {
     "name": "stdout",
     "output_type": "stream",
     "text": [
      "Current Metrics - TSN: 10990, DSN: 448, SUR: 0.0408\n"
     ]
    },
    {
     "name": "stderr",
     "output_type": "stream",
     "text": [
      "INFO:aequitas:Current Metrics - TSN: 10990, DSN: 448, SUR: 0.0408\n"
     ]
    },
    {
     "name": "stdout",
     "output_type": "stream",
     "text": [
      "Current Metrics - TSN: 11000, DSN: 448, SUR: 0.0407\n"
     ]
    },
    {
     "name": "stderr",
     "output_type": "stream",
     "text": [
      "INFO:aequitas:Current Metrics - TSN: 11000, DSN: 448, SUR: 0.0407\n"
     ]
    },
    {
     "name": "stdout",
     "output_type": "stream",
     "text": [
      "Current Metrics - TSN: 11010, DSN: 448, SUR: 0.0407\n"
     ]
    },
    {
     "name": "stderr",
     "output_type": "stream",
     "text": [
      "INFO:aequitas:Current Metrics - TSN: 11010, DSN: 448, SUR: 0.0407\n"
     ]
    },
    {
     "name": "stdout",
     "output_type": "stream",
     "text": [
      "Current Metrics - TSN: 11020, DSN: 448, SUR: 0.0407\n"
     ]
    },
    {
     "name": "stderr",
     "output_type": "stream",
     "text": [
      "INFO:aequitas:Current Metrics - TSN: 11020, DSN: 448, SUR: 0.0407\n"
     ]
    },
    {
     "name": "stdout",
     "output_type": "stream",
     "text": [
      "Current Metrics - TSN: 11030, DSN: 448, SUR: 0.0406\n"
     ]
    },
    {
     "name": "stderr",
     "output_type": "stream",
     "text": [
      "INFO:aequitas:Current Metrics - TSN: 11030, DSN: 448, SUR: 0.0406\n"
     ]
    },
    {
     "name": "stdout",
     "output_type": "stream",
     "text": [
      "Current Metrics - TSN: 11040, DSN: 448, SUR: 0.0406\n"
     ]
    },
    {
     "name": "stderr",
     "output_type": "stream",
     "text": [
      "INFO:aequitas:Current Metrics - TSN: 11040, DSN: 448, SUR: 0.0406\n"
     ]
    },
    {
     "name": "stdout",
     "output_type": "stream",
     "text": [
      "Current Metrics - TSN: 11050, DSN: 448, SUR: 0.0405\n"
     ]
    },
    {
     "name": "stderr",
     "output_type": "stream",
     "text": [
      "INFO:aequitas:Current Metrics - TSN: 11050, DSN: 448, SUR: 0.0405\n"
     ]
    },
    {
     "name": "stdout",
     "output_type": "stream",
     "text": [
      "Current Metrics - TSN: 11070, DSN: 448, SUR: 0.0405\n"
     ]
    },
    {
     "name": "stderr",
     "output_type": "stream",
     "text": [
      "INFO:aequitas:Current Metrics - TSN: 11070, DSN: 448, SUR: 0.0405\n"
     ]
    },
    {
     "name": "stdout",
     "output_type": "stream",
     "text": [
      "Current Metrics - TSN: 11080, DSN: 448, SUR: 0.0404\n"
     ]
    },
    {
     "name": "stderr",
     "output_type": "stream",
     "text": [
      "INFO:aequitas:Current Metrics - TSN: 11080, DSN: 448, SUR: 0.0404\n"
     ]
    },
    {
     "name": "stdout",
     "output_type": "stream",
     "text": [
      "Current Metrics - TSN: 11090, DSN: 448, SUR: 0.0404\n"
     ]
    },
    {
     "name": "stderr",
     "output_type": "stream",
     "text": [
      "INFO:aequitas:Current Metrics - TSN: 11090, DSN: 448, SUR: 0.0404\n"
     ]
    },
    {
     "name": "stdout",
     "output_type": "stream",
     "text": [
      "Current Metrics - TSN: 11100, DSN: 448, SUR: 0.0404\n"
     ]
    },
    {
     "name": "stderr",
     "output_type": "stream",
     "text": [
      "INFO:aequitas:Current Metrics - TSN: 11100, DSN: 448, SUR: 0.0404\n"
     ]
    },
    {
     "name": "stdout",
     "output_type": "stream",
     "text": [
      "Current Metrics - TSN: 11110, DSN: 448, SUR: 0.0403\n"
     ]
    },
    {
     "name": "stderr",
     "output_type": "stream",
     "text": [
      "INFO:aequitas:Current Metrics - TSN: 11110, DSN: 448, SUR: 0.0403\n"
     ]
    },
    {
     "name": "stdout",
     "output_type": "stream",
     "text": [
      "Current Metrics - TSN: 11120, DSN: 448, SUR: 0.0403\n"
     ]
    },
    {
     "name": "stderr",
     "output_type": "stream",
     "text": [
      "INFO:aequitas:Current Metrics - TSN: 11120, DSN: 448, SUR: 0.0403\n"
     ]
    },
    {
     "name": "stdout",
     "output_type": "stream",
     "text": [
      "Current Metrics - TSN: 11130, DSN: 448, SUR: 0.0403\n"
     ]
    },
    {
     "name": "stderr",
     "output_type": "stream",
     "text": [
      "INFO:aequitas:Current Metrics - TSN: 11130, DSN: 448, SUR: 0.0403\n"
     ]
    },
    {
     "name": "stdout",
     "output_type": "stream",
     "text": [
      "Current Metrics - TSN: 11140, DSN: 448, SUR: 0.0402\n"
     ]
    },
    {
     "name": "stderr",
     "output_type": "stream",
     "text": [
      "INFO:aequitas:Current Metrics - TSN: 11140, DSN: 448, SUR: 0.0402\n"
     ]
    },
    {
     "name": "stdout",
     "output_type": "stream",
     "text": [
      "Current Metrics - TSN: 11150, DSN: 448, SUR: 0.0402\n"
     ]
    },
    {
     "name": "stderr",
     "output_type": "stream",
     "text": [
      "INFO:aequitas:Current Metrics - TSN: 11150, DSN: 448, SUR: 0.0402\n"
     ]
    },
    {
     "name": "stdout",
     "output_type": "stream",
     "text": [
      "Current Metrics - TSN: 11160, DSN: 448, SUR: 0.0401\n"
     ]
    },
    {
     "name": "stderr",
     "output_type": "stream",
     "text": [
      "INFO:aequitas:Current Metrics - TSN: 11160, DSN: 448, SUR: 0.0401\n"
     ]
    },
    {
     "name": "stdout",
     "output_type": "stream",
     "text": [
      "Current Metrics - TSN: 11170, DSN: 448, SUR: 0.0401\n"
     ]
    },
    {
     "name": "stderr",
     "output_type": "stream",
     "text": [
      "INFO:aequitas:Current Metrics - TSN: 11170, DSN: 448, SUR: 0.0401\n"
     ]
    },
    {
     "name": "stdout",
     "output_type": "stream",
     "text": [
      "\n",
      "Final Results:\n"
     ]
    },
    {
     "name": "stderr",
     "output_type": "stream",
     "text": [
      "INFO:aequitas:\n",
      "Final Results:\n"
     ]
    },
    {
     "name": "stdout",
     "output_type": "stream",
     "text": [
      "Total inputs tested: 40003\n"
     ]
    },
    {
     "name": "stderr",
     "output_type": "stream",
     "text": [
      "INFO:aequitas:Total inputs tested: 40003\n"
     ]
    },
    {
     "name": "stdout",
     "output_type": "stream",
     "text": [
      "Total discriminatory pairs: 1939\n"
     ]
    },
    {
     "name": "stderr",
     "output_type": "stream",
     "text": [
      "INFO:aequitas:Total discriminatory pairs: 1939\n"
     ]
    },
    {
     "name": "stdout",
     "output_type": "stream",
     "text": [
      "Success rate (SUR): 0.0485\n"
     ]
    },
    {
     "name": "stderr",
     "output_type": "stream",
     "text": [
      "INFO:aequitas:Success rate (SUR): 0.0485\n"
     ]
    },
    {
     "name": "stdout",
     "output_type": "stream",
     "text": [
      "Avg. search time per discriminatory sample (DSS): 0.8882 seconds\n"
     ]
    },
    {
     "name": "stderr",
     "output_type": "stream",
     "text": [
      "INFO:aequitas:Avg. search time per discriminatory sample (DSS): 0.8882 seconds\n"
     ]
    },
    {
     "name": "stdout",
     "output_type": "stream",
     "text": [
      "Discrimination by attribute value: {'Attr8_T': {'TSN': 583880, 'DSN': 1599, 'SUR': 0.0027385764198122903, 'DSS': 0.8882173910283624}, 'Attr9_T': {'TSN': 583880, 'DSN': 1587, 'SUR': 0.0027180242515585395, 'DSS': 0.8882173910283624}, 'total': 3186}\n"
     ]
    },
    {
     "name": "stderr",
     "output_type": "stream",
     "text": [
      "INFO:aequitas:Discrimination by attribute value: {'Attr8_T': {'TSN': 583880, 'DSN': 1599, 'SUR': 0.0027385764198122903, 'DSS': 0.8882173910283624}, 'Attr9_T': {'TSN': 583880, 'DSN': 1587, 'SUR': 0.0027180242515585395, 'DSS': 0.8882173910283624}, 'total': 3186}\n"
     ]
    },
    {
     "name": "stdout",
     "output_type": "stream",
     "text": [
      "Total time: 1722.25 seconds\n"
     ]
    },
    {
     "name": "stderr",
     "output_type": "stream",
     "text": [
      "INFO:aequitas:Total time: 1722.25 seconds\n"
     ]
    }
   ],
   "execution_count": 2
  },
  {
   "metadata": {
    "ExecuteTime": {
     "end_time": "2025-05-17T17:26:28.324002Z",
     "start_time": "2025-05-17T17:26:26.822311Z"
    }
   },
   "cell_type": "code",
   "source": [
    "# %%\n",
    "non_float_df = convert_to_non_float_rows(results_df_origin, schema)\n",
    "predefined_groups_origin = reformat_discrimination_results(non_float_df, data_obj.dataframe)\n",
    "nb_elements = sum([el.group_size for el in predefined_groups_origin])\n"
   ],
   "id": "ea4504815433ddb5",
   "outputs": [
    {
     "name": "stdout",
     "output_type": "stream",
     "text": [
      "Pre-computing attribute combinations...\n"
     ]
    },
    {
     "name": "stderr",
     "output_type": "stream",
     "text": [
      "Attribute combinations: 10it [00:00, 416.70it/s]\n"
     ]
    },
    {
     "name": "stdout",
     "output_type": "stream",
     "text": [
      "Processing valid cases...\n"
     ]
    },
    {
     "name": "stderr",
     "output_type": "stream",
     "text": [
      "Processing case pairs: 100%|██████████| 2037/2037 [00:01<00:00, 1450.99it/s]\n"
     ]
    }
   ],
   "execution_count": 4
  },
  {
   "metadata": {},
   "cell_type": "code",
   "outputs": [],
   "execution_count": null,
   "source": [
    "# %%\n",
    "data_obj_synth, schema = generate_from_real_data('adult',\n",
    "                                                 predefined_groups=predefined_groups_origin)"
   ],
   "id": "6f66258c85838ee3"
  },
  {
   "metadata": {},
   "cell_type": "code",
   "outputs": [],
   "execution_count": null,
   "source": [
    "# %%\n",
    "fig = plot_distribution_comparison(schema, data_obj_synth)\n",
    "plt.show()"
   ],
   "id": "53315073db429f84"
  },
  {
   "metadata": {},
   "cell_type": "code",
   "outputs": [],
   "execution_count": null,
   "source": [
    "# %% Run fairness testing\n",
    "results_df_synth, metrics_synth = run_aequitas(data=data_obj_synth, model_type='rf', max_global=100, max_local=1000,\n",
    "                                               step_size=1.0, random_seed=42, max_tsn=4000, one_attr_at_a_time=True)"
   ],
   "id": "3d5ee77d52d0f56c"
  },
  {
   "metadata": {},
   "cell_type": "code",
   "outputs": [],
   "execution_count": null,
   "source": [
    "# %%\n",
    "predefined_groups_synth = reformat_discrimination_results(convert_to_non_float_rows(results_df_synth, schema),\n",
    "                                                          data_obj.dataframe)"
   ],
   "id": "9c1bd098fe0a2dc9"
  },
  {
   "metadata": {},
   "cell_type": "code",
   "outputs": [],
   "execution_count": null,
   "source": [
    "# %%\n",
    "comparison_results = compare_discriminatory_groups(predefined_groups_origin, predefined_groups_synth)"
   ],
   "id": "6068b5bed9fa1be5"
  },
  {
   "metadata": {},
   "cell_type": "code",
   "outputs": [],
   "execution_count": null,
   "source": "",
   "id": "a0f6901e0538d4d6"
  }
 ],
 "metadata": {
  "kernelspec": {
   "display_name": "Python 3",
   "language": "python",
   "name": "python3"
  },
  "language_info": {
   "codemirror_mode": {
    "name": "ipython",
    "version": 2
   },
   "file_extension": ".py",
   "mimetype": "text/x-python",
   "name": "python",
   "nbconvert_exporter": "python",
   "pygments_lexer": "ipython2",
   "version": "2.7.6"
  }
 },
 "nbformat": 4,
 "nbformat_minor": 5
}
